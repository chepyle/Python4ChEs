{
 "cells": [
  {
   "cell_type": "markdown",
   "metadata": {},
   "source": [
    "# Reversible, Exothermic, Gas-Phase Reaction in a Catalytic Reactor\n",
    "This is the ninth problem of the famous set of [Ten Problems in Chemical Engineering](https://www.polymath-software.com/ASEE/Tenprobs.pdf).  Here, the goal is to solve simultaneous ordinary differential equations with known initial conditions.\n"
   ]
  },
  {
   "cell_type": "markdown",
   "metadata": {},
   "source": [
    "# Problem Setup\n"
   ]
  },
  {
   "cell_type": "markdown",
   "metadata": {},
   "source": [
    "# Problem Tasks\n",
    "\n",
    "a) Plot  the  conversion  (X),  reduced  pressure  (y)  and  temperature  (T  ×10-3)  along  the  reactorfrom  W = 0 kg up to W = 20 kg.\n",
    "\n",
    "b)Around 16 kg of catalyst you will observe a “knee” in the conversion profile. Explain why thisknee occurs and what parameters affect the knee.\n",
    "\n",
    "c)Plot the concentration profiles for reactant A and product C from W = 0 kg up to W = 20 kg."
   ]
  },
  {
   "cell_type": "markdown",
   "metadata": {},
   "source": [
    "# Solutions"
   ]
  },
  {
   "cell_type": "code",
   "execution_count": null,
   "metadata": {},
   "outputs": [],
   "source": []
  }
 ],
 "metadata": {
  "kernelspec": {
   "display_name": "Python 3",
   "language": "python",
   "name": "python3"
  },
  "language_info": {
   "codemirror_mode": {
    "name": "ipython",
    "version": 3
   },
   "file_extension": ".py",
   "mimetype": "text/x-python",
   "name": "python",
   "nbconvert_exporter": "python",
   "pygments_lexer": "ipython3",
   "version": "3.7.3"
  }
 },
 "nbformat": 4,
 "nbformat_minor": 4
}
