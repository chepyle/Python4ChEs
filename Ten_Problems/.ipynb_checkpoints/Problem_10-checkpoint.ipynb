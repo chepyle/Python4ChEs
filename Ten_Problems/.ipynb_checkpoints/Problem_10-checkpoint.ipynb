{
 "cells": [
  {
   "cell_type": "markdown",
   "metadata": {},
   "source": [
    "# Dynamics of a Heated Tank with PI Temperature Control\n",
    "This is the tenth problem of the famous set of [Ten Problems in Chemical Engineering](https://www.polymath-software.com/ASEE/Tenprobs.pdf).  Here, the goal is to solve ordinary differential equations, generation of step functions, simulation of a proportionalintegral controller.\n"
   ]
  },
  {
   "cell_type": "markdown",
   "metadata": {},
   "source": [
    "# Problem Setup\n"
   ]
  },
  {
   "cell_type": "markdown",
   "metadata": {},
   "source": [
    "# Problem Tasks\n",
    "\n",
    "(a)    Demonstrate the open loop performance (set Kc = 0) of this system when the system is ini-tially operating at design steady state at a temperature of 80°C, and inlet temperature Ti is sud-denly changed to 40°C at time t = 10 min. Plot the temperatures T, T0, and Tm to steady state,and  verify  that  Padé  approximation  for  1  min  of  dead  time  given  in  Equation  (42)  is  workingproperly.\n",
    "\n",
    "b)    Demonstrate the closed loop performance of the system for the conditions of part (a) and thebaseline parameters from Table (4). Plot temperatures T, T0, and Tm to steady state.\n",
    "\n",
    "c)Repeat part (b) with Kc = 500 kJ/min⋅°C.\n",
    "\n",
    "d)Repeat part (c) for proportional only control action by setting the term Kc/τI = 0.\n",
    "\n",
    "e)Implement limits on q (as per Equation (47)) so that the maximum is 2.6 times the baselinesteady  state  value  and  the  minimum  is  zero.  Demonstrate  the  system  response  from  baselinesteady state for a proportional only controller when the set point is changed from 80°C to 90°C att = 10 min. Kc = 5000 kJ/min⋅°C. Plot q and qlim versus time to steady state to demonstrate the lim-its. Also plot the temperatures T, T0, and Tm to steady state to indicate controller performance "
   ]
  },
  {
   "cell_type": "markdown",
   "metadata": {},
   "source": [
    "# Solutions"
   ]
  },
  {
   "cell_type": "code",
   "execution_count": null,
   "metadata": {},
   "outputs": [],
   "source": []
  }
 ],
 "metadata": {
  "kernelspec": {
   "display_name": "Python 3",
   "language": "python",
   "name": "python3"
  },
  "language_info": {
   "codemirror_mode": {
    "name": "ipython",
    "version": 3
   },
   "file_extension": ".py",
   "mimetype": "text/x-python",
   "name": "python",
   "nbconvert_exporter": "python",
   "pygments_lexer": "ipython3",
   "version": "3.7.3"
  }
 },
 "nbformat": 4,
 "nbformat_minor": 4
}
