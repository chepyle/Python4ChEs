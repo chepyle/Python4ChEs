{
 "cells": [
  {
   "cell_type": "markdown",
   "metadata": {},
   "source": [
    "# REACTION EQUILIBRIUMFOR MULTIPLE GAS PHASE REACTIONS\n",
    "This is the fourth problem of the famous set of [Ten Problems in Chemical Engineering](https://www.polymath-software.com/ASEE/Tenprobs.pdf).  Here, the goal is to solve systems of nonlinear algebraic equations\n"
   ]
  },
  {
   "cell_type": "markdown",
   "metadata": {},
   "source": [
    "# Problem Setup\n"
   ]
  },
  {
   "cell_type": "markdown",
   "metadata": {},
   "source": [
    "# Problem Tasks\n",
    "Solve this system of equations when $C_{A0} = C_{B0}  =  1.5$, $K_{C1} = 1.06$ , $K_{C2} = 2.63$, $K_{C3}=5$    and  starting from four sets of initial estimates\n",
    "\n",
    "a) $C_D = C_X = C_Z = 0$\n",
    "\n",
    "b) $C_D = C_X = C_Z = 1$\n",
    "\n",
    "c) $C_D = C_X = C_Z = 10$\n"
   ]
  },
  {
   "cell_type": "markdown",
   "metadata": {},
   "source": [
    "# Solutions"
   ]
  },
  {
   "cell_type": "code",
   "execution_count": null,
   "metadata": {},
   "outputs": [],
   "source": []
  }
 ],
 "metadata": {
  "kernelspec": {
   "display_name": "Python 3",
   "language": "python",
   "name": "python3"
  },
  "language_info": {
   "codemirror_mode": {
    "name": "ipython",
    "version": 3
   },
   "file_extension": ".py",
   "mimetype": "text/x-python",
   "name": "python",
   "nbconvert_exporter": "python",
   "pygments_lexer": "ipython3",
   "version": "3.7.3"
  }
 },
 "nbformat": 4,
 "nbformat_minor": 4
}
