{
 "cells": [
  {
   "cell_type": "markdown",
   "metadata": {},
   "source": [
    "# Terminal Velocity of Falling Particles\n",
    "This is the fifth problem of the famous set of [Ten Problems in Chemical Engineering](https://www.polymath-software.com/ASEE/Tenprobs.pdf).  Here, the goal is to solve a single nonlinear algebraic equation\n"
   ]
  },
  {
   "cell_type": "markdown",
   "metadata": {},
   "source": [
    "# Problem Setup\n",
    "\n",
    "Using a model for the terminal velocity of a spherical particle:\n",
    "\n",
    "$$v_t = \\sqrt{\\frac{4g\\left(\\rho_p-\\rho\\right)D_p}{3C_D\\rho}}$$\n",
    "\n",
    "In the equation $v_t$ is the terminal velocity, $g$ is the gravitational constant, $\\rho_p$ is the particle density, $\\rho$ is the fluid density, $D_p$ is the particle diameter, and $C_D$ is the dimensionless drag coefficient that is a function of the Reynolds number:\n",
    "\n",
    "$$C_D(Re)=\\begin{cases}\n",
    "               \\frac{24}{Re},  & \\text{for $Re < 0.1$} \\\\\\\\\n",
    "               \\frac{24}{Re}\\left(1+0.14Re^{0.7}\\right), & \\text{for $0.1 \\le Re \\le 1000$} \\\\\\\\\n",
    "               0.44, & \\text{for $1000 < Re \\le 350000 $} \\\\\\\\\n",
    "               0.19 - 80000/Re, & \\text{for $350000 < Re$}\n",
    "               \\end{cases}\\!$$\n",
    "               \n",
    "where $Re = D_pv_t\\rho/\\mu$"
   ]
  },
  {
   "cell_type": "markdown",
   "metadata": {},
   "source": [
    "# Problem Tasks\n",
    "a) Calculate  the  terminal  velocity  for  particles  of  coal  with  $\\rho_p$  =  1800  kg/m3 and   $D_p $ =0.208×10-3 m falling in water at T = 298.15 K where  $\\rho$ = 994.6 kg/m3 and $\\mu$ = 8.931×10−4 kg/m⋅s\n",
    "\n",
    "(b)Estimate the terminal velocity of the coal particles in water within a centrifugal separatorwhere the acceleration is 30.0 g"
   ]
  },
  {
   "cell_type": "markdown",
   "metadata": {},
   "source": [
    "# Solutions"
   ]
  },
  {
   "cell_type": "markdown",
   "metadata": {},
   "source": [
    "## Solution to part a)"
   ]
  },
  {
   "cell_type": "code",
   "execution_count": 1,
   "metadata": {},
   "outputs": [],
   "source": [
    "import numpy as np\n",
    "from scipy.optimize import fsolve"
   ]
  },
  {
   "cell_type": "code",
   "execution_count": 2,
   "metadata": {},
   "outputs": [],
   "source": [
    "def obj(v):\n",
    "    Re = Dp*v*rho/mu\n",
    "    if Re < 0.1:\n",
    "        Cd = 24/(Re)\n",
    "    elif 0.1 <= Re <= 1000:\n",
    "        Cd = 24/(Re)*(1+0.14*Re**0.7)\n",
    "    elif 1000 < Re <= 350000:\n",
    "        Cd = 0.44\n",
    "    else:\n",
    "        Cd = 0.19 - 80000/Re\n",
    "    eq = v - np.sqrt((4*g*(rhop - rho)*Dp)/(3*Cd*rho))\n",
    "    return(eq)"
   ]
  },
  {
   "cell_type": "markdown",
   "metadata": {},
   "source": [
    "Define some of the constants in the problem statement:"
   ]
  },
  {
   "cell_type": "code",
   "execution_count": 3,
   "metadata": {},
   "outputs": [],
   "source": [
    "g = 9.80665 # gravitation\n",
    "rho = 994.6 # fluid density\n",
    "mu = 8.931e-4 # viscosity\n",
    "Dp = 0.208e-3 # diameter\n",
    "rhop = 1800 # particle density"
   ]
  },
  {
   "cell_type": "code",
   "execution_count": 4,
   "metadata": {},
   "outputs": [
    {
     "name": "stdout",
     "output_type": "stream",
     "text": [
      "The solution converged.\n",
      "Terminal velocity: 0.0158 m/s\n",
      "Reynolds number: 3.66\n"
     ]
    }
   ],
   "source": [
    "v, infodict, flag, mesg = fsolve(obj, 1, full_output=True)\n",
    "print(mesg)\n",
    "print('Terminal velocity: {:.3} m/s'.format(v[0]))\n",
    "print('Reynolds number: {:.3}'.format(Dp*rho/mu*v[0]))"
   ]
  },
  {
   "cell_type": "markdown",
   "metadata": {},
   "source": [
    "## Solution to part b)\n",
    "Because python does lazy evaluation, the variables are only checked at the time the function is evaluated.  We can change one of the constants, then rerun the same optimization to get the new result."
   ]
  },
  {
   "cell_type": "code",
   "execution_count": 5,
   "metadata": {},
   "outputs": [],
   "source": [
    "g *= 30 # in python this is the same as \"g = g*30\""
   ]
  },
  {
   "cell_type": "code",
   "execution_count": 6,
   "metadata": {},
   "outputs": [
    {
     "name": "stdout",
     "output_type": "stream",
     "text": [
      "The solution converged.\n",
      "Terminal velocity: 0.206 m/s\n",
      "Reynolds number: 47.7\n"
     ]
    }
   ],
   "source": [
    "v, infodict, flag, mesg = fsolve(obj, 1, full_output=True)\n",
    "print(mesg)\n",
    "print('Terminal velocity: {:.4} m/s'.format(v[0]))\n",
    "print('Reynolds number: {:.3}'.format(Dp*rho/mu*v[0]))"
   ]
  },
  {
   "cell_type": "markdown",
   "metadata": {},
   "source": [
    "# Reference\n",
    "“The Use of Mathematical Software packages in Chemical Engineering”, Michael B. Cutlip, John J. Hwalek, Eric H.\n",
    "Nuttal, Mordechai Shacham, Workshop Material from Session 12, Chemical Engineering Summer School, Snowbird,\n",
    "Utah, Aug., 1997."
   ]
  },
  {
   "cell_type": "code",
   "execution_count": null,
   "metadata": {},
   "outputs": [],
   "source": []
  }
 ],
 "metadata": {
  "kernelspec": {
   "display_name": "Python 3",
   "language": "python",
   "name": "python3"
  },
  "language_info": {
   "codemirror_mode": {
    "name": "ipython",
    "version": 3
   },
   "file_extension": ".py",
   "mimetype": "text/x-python",
   "name": "python",
   "nbconvert_exporter": "python",
   "pygments_lexer": "ipython3",
   "version": "3.7.3"
  }
 },
 "nbformat": 4,
 "nbformat_minor": 4
}
