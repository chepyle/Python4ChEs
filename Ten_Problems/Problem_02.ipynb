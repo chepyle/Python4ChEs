{
 "cells": [
  {
   "cell_type": "markdown",
   "metadata": {},
   "source": [
    "# Steady State Material Balances On a Separation Train\n",
    "This is the second problem of the famous set of [Ten Problems in Chemical Engineering](https://www.polymath-software.com/ASEE/Tenprobs.pdf).  Here, the goal is to solve a set of simultaneous linear equations.\n",
    "\n",
    "Jacob Albrecht, 2019"
   ]
  },
  {
   "cell_type": "markdown",
   "metadata": {},
   "source": [
    "# Problem Setup\n",
    "\n",
    "A distillation train fractionates a feed $F$ containing Xylene, Styrene, Toluene, and Benzene.  The distillate  $D$ and bottoms $B$  from the first column are each distilled again, with stream $D$ yielding $D_1$ and $B_1$ and stream $B$ yielding $D_2$ and $B_2$.  The overall material balance for the system is:\n",
    "\n",
    "Xylene: $0.07D_1+0.18B_1+0.15D_2+0.24B_2 = 0.15F$\n",
    "\n",
    "Styrene: $0.04D_1+0.24B_1+0.10D_2+0.65B_2 = 0.25F$\n",
    "\n",
    "Toluene: $0.54D_1+0.42B_1+0.54D_2+0.10B_2 = 0.40F$\n",
    "\n",
    "Benzene: $0.35D_1+0.16B_1+0.21D_2+0.01B_2 = 0.20F$\n"
   ]
  },
  {
   "cell_type": "markdown",
   "metadata": {},
   "source": [
    "# Problem Tasks\n",
    "a) Calculate the molar flow rates of streams $D_1$, $D_2$, $B_1$ and $B_2$.              \n",
    "\n",
    "b) Determine the molar flow rates and compositions of streams $B$ and $D$\n"
   ]
  },
  {
   "cell_type": "markdown",
   "metadata": {},
   "source": [
    "# Solutions\n",
    "## Solution to part a)\n",
    "Solving the system of linear equations is very straightforward using the `numpy` package.  First, define a matrix of the species concentrations and flowrates:"
   ]
  },
  {
   "cell_type": "code",
   "execution_count": 1,
   "metadata": {},
   "outputs": [
    {
     "name": "stdout",
     "output_type": "stream",
     "text": [
      "Molar flow of D1 is 26.25, B1 is 17.5,D2 is 8.75, and B2 is 17.5\n"
     ]
    }
   ],
   "source": [
    "import numpy as np\n",
    "F = 70\n",
    "A = np.array([[0.07,0.18,0.15,0.24],\n",
    "               [0.04,0.24,0.10,0.65],\n",
    "               [0.54,0.42,0.54,0.10],\n",
    "               [0.35,0.16,0.21,0.01]])\n",
    "b = np.array([0.15,0.25,0.40,0.2])*F\n",
    "\n",
    "X = np.linalg.solve(A,b)\n",
    "\n",
    "# print the results, the line can be split using \"\\\"\n",
    "print('Molar flow of D1 is {:0.4}, B1 is {:0.4},\\\n",
    "D2 is {:0.4}, and B2 is {:0.4}'.format(*X))"
   ]
  },
  {
   "cell_type": "markdown",
   "metadata": {},
   "source": [
    "## Solution to part b)\n",
    "To find the flow rates of streams B and D , we can selectively sum parts of the solution from a).  Multiplying the flow rates in part a) by the corresponding composition gives molar flow rates for the species that can be summed and divided by the flow rates to give molar fractions."
   ]
  },
  {
   "cell_type": "code",
   "execution_count": 2,
   "metadata": {},
   "outputs": [
    {
     "name": "stdout",
     "output_type": "stream",
     "text": [
      "Molar flow of D is 43.75\n",
      "Mole fraction in D of Xylene is 0.114,Styrene is 0.12, Toluene is 0.492, and Benzene is 0.274\n"
     ]
    }
   ],
   "source": [
    "D = X[0:2].sum()\n",
    "print('Molar flow of D is {:0.4}'.format(D))\n",
    "D_comps = (A[:,0:2]*X[0:2]).sum(axis=1)/D\n",
    "\n",
    "print('Mole fraction in D of Xylene is {:0.4},\\\n",
    "Styrene is {:0.4}, Toluene is {:0.4}, and Benzene \\\n",
    "is {:0.4}'.format(*D_comps))"
   ]
  },
  {
   "cell_type": "code",
   "execution_count": 3,
   "metadata": {},
   "outputs": [
    {
     "name": "stdout",
     "output_type": "stream",
     "text": [
      "Molar flow of B is 26.25\n",
      "Molar fraction in B of Xylene is 0.21,Styrene is 0.4667, Toluene is 0.2467, and Benzene is 0.07667\n"
     ]
    }
   ],
   "source": [
    "B = X[2:4].sum()\n",
    "print('Molar flow of B is {:0.4}'.format(B))\n",
    "B_comps = (A[:,2:4]*X[2:4]).sum(axis=1)/B\n",
    "\n",
    "print('Molar fraction in B of Xylene is {:0.4},\\\n",
    "Styrene is {:0.4}, Toluene is {:0.4}, and Benzene \\\n",
    "is {:0.4}'.format(*B_comps))"
   ]
  },
  {
   "cell_type": "markdown",
   "metadata": {},
   "source": [
    "# Reference\n",
    "“The Use of Mathematical Software packages in Chemical Engineering”, Michael B. Cutlip, John J. Hwalek, Eric H.\n",
    "Nuttal, Mordechai Shacham, Workshop Material from Session 12, Chemical Engineering Summer School, Snowbird,\n",
    "Utah, Aug., 1997."
   ]
  },
  {
   "cell_type": "code",
   "execution_count": 4,
   "metadata": {},
   "outputs": [
    {
     "name": "stdout",
     "output_type": "stream",
     "text": [
      "CPython 3.7.3\n",
      "IPython 7.6.1\n",
      "\n",
      "numpy 1.16.4\n"
     ]
    }
   ],
   "source": [
    "%load_ext watermark\n",
    "%watermark -v -p numpy"
   ]
  }
 ],
 "metadata": {
  "kernelspec": {
   "display_name": "Python 3",
   "language": "python",
   "name": "python3"
  },
  "language_info": {
   "codemirror_mode": {
    "name": "ipython",
    "version": 3
   },
   "file_extension": ".py",
   "mimetype": "text/x-python",
   "name": "python",
   "nbconvert_exporter": "python",
   "pygments_lexer": "ipython3",
   "version": "3.7.3"
  }
 },
 "nbformat": 4,
 "nbformat_minor": 4
}
