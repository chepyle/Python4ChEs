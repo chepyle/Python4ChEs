{
 "cells": [
  {
   "cell_type": "markdown",
   "metadata": {},
   "source": [
    "# Steady State Material Balances On a Separation Train\n",
    "This is the second problem of the famous set of [Ten Problems in Chemical Engineering](https://www.polymath-software.com/ASEE/Tenprobs.pdf).  Here, the goal is to solve a set of simultaneous linear equations.\n",
    "\n",
    "Jacob Albrecht, 2019"
   ]
  },
  {
   "cell_type": "markdown",
   "metadata": {},
   "source": [
    "# Problem Setup\n"
   ]
  },
  {
   "cell_type": "markdown",
   "metadata": {},
   "source": [
    "# Problem Tasks\n",
    "a) Calculate the molar flow rates of streams D1, D2, B1 and B2.              \n",
    "\n",
    "b) Determine the molar flow rates and compositions of streams B and D\n"
   ]
  },
  {
   "cell_type": "markdown",
   "metadata": {},
   "source": [
    "# Solutions\n",
    "## Solution to part a)\n",
    "Solving the system of linear equations is very straightforward using the `numpy` package.  First, define a matrix of the species concentrations and flowrates:"
   ]
  },
  {
   "cell_type": "code",
   "execution_count": 1,
   "metadata": {},
   "outputs": [
    {
     "name": "stdout",
     "output_type": "stream",
     "text": [
      "Molar flow of D1 is 26.25, B1 is 17.5, D2 is 8.75, and B2 is 17.5\n"
     ]
    }
   ],
   "source": [
    "import numpy as np\n",
    "A = np.array([[0.07,0.18,0.15,0.24],\n",
    "               [0.04,0.24,0.10,0.65],\n",
    "               [0.54,0.42,0.54,0.10],\n",
    "               [0.35,0.16,0.21,0.01]])\n",
    "b = np.array([0.15,0.25,0.40,0.2])*70\n",
    "\n",
    "X = np.linalg.solve(A,b)\n",
    "\n",
    "print('Molar flow of D1 is {:0.4}, B1 is {:0.4}, D2 is {:0.4}, and B2 is {:0.4}'.format(*X))"
   ]
  },
  {
   "cell_type": "markdown",
   "metadata": {},
   "source": [
    "## Solution to part b)\n",
    "To find the flow rates of streams B and D , we can selectively sum parts of the solution from a).  Multiplying the flow rates in part a) by the corresponding composition gives molar flow rates for the species that can be summed and divided by the flow rates to give molar fractions."
   ]
  },
  {
   "cell_type": "code",
   "execution_count": 2,
   "metadata": {},
   "outputs": [
    {
     "name": "stdout",
     "output_type": "stream",
     "text": [
      "Molar flow of D is 43.75\n",
      "Mole fraction in D of Xylene is 0.114, Syrene is 0.12, Toluene is 0.492, and Benzene is 0.274\n"
     ]
    }
   ],
   "source": [
    "D = X[0:2].sum()\n",
    "print('Molar flow of D is {:0.4}'.format(D))\n",
    "D_comps = (A[:,0:2]*X[0:2]).sum(axis=1)/D\n",
    "print('Mole fraction in D of Xylene is {:0.4}, Syrene is {:0.4}, Toluene is {:0.4}, and Benzene is {:0.4}'.format(*D_comps))"
   ]
  },
  {
   "cell_type": "code",
   "execution_count": 3,
   "metadata": {},
   "outputs": [
    {
     "name": "stdout",
     "output_type": "stream",
     "text": [
      "Molar flow of B is 26.25\n",
      "Molar fraction in B of Xylene is 0.21, Syrene is 0.4667, Toluene is 0.2467, and Benzene is 0.07667\n"
     ]
    }
   ],
   "source": [
    "B = X[2:4].sum()\n",
    "print('Molar flow of B is {:0.4}'.format(B))\n",
    "B_comps = (A[:,2:4]*X[2:4]).sum(axis=1)/B\n",
    "print('Molar fraction in B of Xylene is {:0.4}, Syrene is {:0.4}, Toluene is {:0.4}, and Benzene is {:0.4}'.format(*B_comps))"
   ]
  },
  {
   "cell_type": "markdown",
   "metadata": {},
   "source": [
    "# Reference\n",
    "“The Use of Mathematical Software packages in Chemical Engineering”, Michael B. Cutlip, John J. Hwalek, Eric H.\n",
    "Nuttal, Mordechai Shacham, Workshop Material from Session 12, Chemical Engineering Summer School, Snowbird,\n",
    "Utah, Aug., 1997."
   ]
  },
  {
   "cell_type": "code",
   "execution_count": null,
   "metadata": {},
   "outputs": [],
   "source": []
  }
 ],
 "metadata": {
  "kernelspec": {
   "display_name": "Python 3",
   "language": "python",
   "name": "python3"
  },
  "language_info": {
   "codemirror_mode": {
    "name": "ipython",
    "version": 3
   },
   "file_extension": ".py",
   "mimetype": "text/x-python",
   "name": "python",
   "nbconvert_exporter": "python",
   "pygments_lexer": "ipython3",
   "version": "3.7.3"
  }
 },
 "nbformat": 4,
 "nbformat_minor": 4
}
