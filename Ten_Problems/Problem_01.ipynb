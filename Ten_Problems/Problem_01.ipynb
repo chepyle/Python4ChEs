{
 "cells": [
  {
   "cell_type": "markdown",
   "metadata": {},
   "source": [
    "# Molar Volume and Compressibility Factor from Van Der Waals Equation\n",
    "This is the first problem of the famous set of [Ten Problems in Chemical Engineering](https://www.polymath-software.com/ASEE/Tenprobs.pdf).  Here, the goal is to solve a single nonlinear algabraic equation.\n",
    "\n",
    "Jacob Albrecht, 2019"
   ]
  },
  {
   "cell_type": "markdown",
   "metadata": {},
   "source": [
    "# Problem Setup\n",
    "Use the van der Waals equation of state, given by: \n",
    "\n",
    "$$\\left(P+\\frac{a}{V^2}\\right)\\left(V-b\\right)=RT$$\n",
    "\n",
    "where \n",
    "\n",
    "$$a=\\frac{27}{64}\\left(\\frac{R^2T^2_c}{P_c}\\right)$$\n",
    "\n",
    "$$b=\\frac{RT_c}{8P_c}$$\n",
    "\n",
    "- $P$ is the pressure in atm\n",
    "- $V$ is the molar volume in liter/g-mol\n",
    "- $T$ is temperature in Kelvin\n",
    "- $R$ is the ideal gas constant (R = 0.08206 atm.liter/g-mol.K)\n",
    "- $T_c$ is the critical temperature (405.5 K for ammonia)\n",
    "- $P_c$ is the critical pressure (111.3 atm for ammonia)\n",
    "\n",
    "Reduced pressure is:\n",
    "\n",
    "$$P_r=\\frac{P}{P_c}$$\n",
    "\n",
    "And compressibility is:\n",
    "\n",
    "$$Z=\\frac{PV}{RT}$$"
   ]
  },
  {
   "cell_type": "markdown",
   "metadata": {},
   "source": [
    "# Problem Tasks\n",
    "a) Calculate the molar volume and compressibility factor for gaseous ammonia at 56 atm and 450 K by using the van der Waals equation of state.\n",
    "\n",
    "b) Repeat the calculations for the following reduced pressures: $P_r$ = 1, 2, 4, 10, and 20. \n",
    "\n",
    "c. How does the compressibility factor vary as a function of $P_r$?"
   ]
  },
  {
   "cell_type": "markdown",
   "metadata": {},
   "source": [
    "# Solutions\n",
    "\n",
    "Because we need to rearrange the equation, we can use the `sympy` package to do the algebra for us:"
   ]
  },
  {
   "cell_type": "code",
   "execution_count": 1,
   "metadata": {},
   "outputs": [],
   "source": [
    " import sympy"
   ]
  },
  {
   "cell_type": "code",
   "execution_count": 2,
   "metadata": {},
   "outputs": [],
   "source": [
    "P,V,N,R,T,a,b,Pc,Pr,Tc,Z = sympy.symbols('P V N R T a b Pc Pr Tc Z')"
   ]
  },
  {
   "cell_type": "code",
   "execution_count": 3,
   "metadata": {},
   "outputs": [],
   "source": [
    "eq1 = sympy.Eq((P+a/V**2)*(V-b),R*T)\n",
    "a_def = sympy.Eq(27/64*(R**2*Tc**2/Pc),a)\n",
    "b_def = sympy.Eq(R*Tc/(8*Pc),b)"
   ]
  },
  {
   "cell_type": "markdown",
   "metadata": {},
   "source": [
    "Lets confirm we've entered in the equations"
   ]
  },
  {
   "cell_type": "code",
   "execution_count": 4,
   "metadata": {},
   "outputs": [
    {
     "data": {
      "text/latex": [
       "$\\displaystyle \\left(P + \\frac{a}{V^{2}}\\right) \\left(V - b\\right) = R T$"
      ],
      "text/plain": [
       "Eq((P + a/V**2)*(V - b), R*T)"
      ]
     },
     "execution_count": 4,
     "metadata": {},
     "output_type": "execute_result"
    }
   ],
   "source": [
    "eq1"
   ]
  },
  {
   "cell_type": "code",
   "execution_count": null,
   "metadata": {},
   "outputs": [],
   "source": []
  },
  {
   "cell_type": "code",
   "execution_count": 5,
   "metadata": {},
   "outputs": [
    {
     "data": {
      "text/latex": [
       "$\\displaystyle \\frac{0.421875 R^{2} Tc^{2}}{Pc} = a$"
      ],
      "text/plain": [
       "Eq(0.421875*R**2*Tc**2/Pc, a)"
      ]
     },
     "execution_count": 5,
     "metadata": {},
     "output_type": "execute_result"
    }
   ],
   "source": [
    "a_def"
   ]
  },
  {
   "cell_type": "code",
   "execution_count": 6,
   "metadata": {},
   "outputs": [
    {
     "data": {
      "text/latex": [
       "$\\displaystyle \\frac{R Tc}{8 Pc} = b$"
      ],
      "text/plain": [
       "Eq(R*Tc/(8*Pc), b)"
      ]
     },
     "execution_count": 6,
     "metadata": {},
     "output_type": "execute_result"
    }
   ],
   "source": [
    "b_def"
   ]
  },
  {
   "cell_type": "markdown",
   "metadata": {},
   "source": [
    "We can refresh the values for $a$ and $b$ with subsitution:"
   ]
  },
  {
   "cell_type": "code",
   "execution_count": 7,
   "metadata": {},
   "outputs": [
    {
     "data": {
      "text/latex": [
       "$\\displaystyle \\left(P + \\frac{0.421875 R^{2} Tc^{2}}{Pc V^{2}}\\right) \\left(V - \\frac{R Tc}{8 Pc}\\right) = R T$"
      ],
      "text/plain": [
       "Eq((P + 0.421875*R**2*Tc**2/(Pc*V**2))*(V - R*Tc/(8*Pc)), R*T)"
      ]
     },
     "execution_count": 7,
     "metadata": {},
     "output_type": "execute_result"
    }
   ],
   "source": [
    "eq1_subs = eq1.subs({a:27/64*(R**2*Tc**2/Pc),b:R*Tc/(8*Pc)})\n",
    "eq1_subs"
   ]
  },
  {
   "cell_type": "markdown",
   "metadata": {},
   "source": [
    "## Solution to part a)\n",
    "Subsitute the Pressure and Temperature given for part a:"
   ]
  },
  {
   "cell_type": "code",
   "execution_count": 8,
   "metadata": {},
   "outputs": [],
   "source": [
    "eq1_subs_part_a = eq1_subs.subs({P:56,R:0.08206,T:450,Pc:111.3,Tc:405.5})"
   ]
  },
  {
   "cell_type": "markdown",
   "metadata": {},
   "source": [
    "Next, we can substitute the other values, and solve for $V$"
   ]
  },
  {
   "cell_type": "code",
   "execution_count": 9,
   "metadata": {},
   "outputs": [
    {
     "data": {
      "text/latex": [
       "$\\displaystyle 0.574891913557151$"
      ],
      "text/plain": [
       "0.574891913557151"
      ]
     },
     "execution_count": 9,
     "metadata": {},
     "output_type": "execute_result"
    }
   ],
   "source": [
    "root = sympy.solveset(eq1_subs_part_a,symbol = V, domain=sympy.S.Reals)\n",
    "root.args[0]"
   ]
  },
  {
   "cell_type": "markdown",
   "metadata": {},
   "source": [
    "Solve for $Z$"
   ]
  },
  {
   "cell_type": "code",
   "execution_count": 10,
   "metadata": {},
   "outputs": [
    {
     "data": {
      "text/latex": [
       "$\\displaystyle 0.871826770633966$"
      ],
      "text/plain": [
       "0.871826770633966"
      ]
     },
     "execution_count": 10,
     "metadata": {},
     "output_type": "execute_result"
    }
   ],
   "source": [
    "(P*V/(R*T)).subs({P:56,R:0.08206,T:450,V:root.args[0]})"
   ]
  },
  {
   "cell_type": "markdown",
   "metadata": {},
   "source": [
    "## Solution to part b)\n",
    "\n",
    "Loop through the different reduced pressures, and make a table of the results:"
   ]
  },
  {
   "cell_type": "code",
   "execution_count": 11,
   "metadata": {},
   "outputs": [],
   "source": [
    "Vs = []\n",
    "Zs = []\n",
    "Prs = [1,2,4,10,20]\n",
    "for Pr in Prs:\n",
    "    eq1_subs_part_b = eq1_subs.subs({P:Pr*111.3,R:0.08206,T:450,Pc:111.3,Tc:405.5})\n",
    "    root = sympy.solveset(eq1_subs_part_b,symbol = V, domain=sympy.S.Reals)\n",
    "    Vs.append(root.args[0])\n",
    "    Zs.append((P*V/(R*T)).subs({P:Pr*111.3,R:0.08206,T:450,V:root.args[0]}))"
   ]
  },
  {
   "cell_type": "code",
   "execution_count": 12,
   "metadata": {},
   "outputs": [
    {
     "data": {
      "text/html": [
       "<div>\n",
       "<style scoped>\n",
       "    .dataframe tbody tr th:only-of-type {\n",
       "        vertical-align: middle;\n",
       "    }\n",
       "\n",
       "    .dataframe tbody tr th {\n",
       "        vertical-align: top;\n",
       "    }\n",
       "\n",
       "    .dataframe thead th {\n",
       "        text-align: right;\n",
       "    }\n",
       "</style>\n",
       "<table border=\"1\" class=\"dataframe\">\n",
       "  <thead>\n",
       "    <tr style=\"text-align: right;\">\n",
       "      <th></th>\n",
       "      <th>Reduced Pressure</th>\n",
       "      <th>Molar Volume</th>\n",
       "      <th>Compressibility factor</th>\n",
       "    </tr>\n",
       "  </thead>\n",
       "  <tbody>\n",
       "    <tr>\n",
       "      <td>0</td>\n",
       "      <td>1.0</td>\n",
       "      <td>0.233509</td>\n",
       "      <td>0.703808</td>\n",
       "    </tr>\n",
       "    <tr>\n",
       "      <td>1</td>\n",
       "      <td>2.0</td>\n",
       "      <td>0.077268</td>\n",
       "      <td>0.465777</td>\n",
       "    </tr>\n",
       "    <tr>\n",
       "      <td>2</td>\n",
       "      <td>4.0</td>\n",
       "      <td>0.060654</td>\n",
       "      <td>0.731261</td>\n",
       "    </tr>\n",
       "    <tr>\n",
       "      <td>3</td>\n",
       "      <td>10.0</td>\n",
       "      <td>0.050875</td>\n",
       "      <td>1.533409</td>\n",
       "    </tr>\n",
       "    <tr>\n",
       "      <td>4</td>\n",
       "      <td>20.0</td>\n",
       "      <td>0.046175</td>\n",
       "      <td>2.783482</td>\n",
       "    </tr>\n",
       "  </tbody>\n",
       "</table>\n",
       "</div>"
      ],
      "text/plain": [
       "   Reduced Pressure  Molar Volume  Compressibility factor\n",
       "0               1.0      0.233509                0.703808\n",
       "1               2.0      0.077268                0.465777\n",
       "2               4.0      0.060654                0.731261\n",
       "3              10.0      0.050875                1.533409\n",
       "4              20.0      0.046175                2.783482"
      ]
     },
     "execution_count": 12,
     "metadata": {},
     "output_type": "execute_result"
    }
   ],
   "source": [
    "import pandas as pd\n",
    "part_b = pd.DataFrame({'Reduced Pressure':Prs,'Molar Volume':Vs,'Compressibility factor':Zs},dtype='float')\n",
    "part_b"
   ]
  },
  {
   "cell_type": "markdown",
   "metadata": {},
   "source": [
    "## Solution to part c)\n",
    "Plot the Compressibility factor vs. Reduced pressure"
   ]
  },
  {
   "cell_type": "code",
   "execution_count": 13,
   "metadata": {},
   "outputs": [
    {
     "data": {
      "text/plain": [
       "<matplotlib.axes._subplots.AxesSubplot at 0x7efdf4c68b70>"
      ]
     },
     "execution_count": 13,
     "metadata": {},
     "output_type": "execute_result"
    }
   ],
   "source": [
    "part_b.plot('Reduced Pressure','Compressibility factor')"
   ]
  },
  {
   "cell_type": "markdown",
   "metadata": {},
   "source": [
    "# Reference\n",
    "“The Use of Mathematical Software packages in Chemical Engineering”, Michael B. Cutlip, John J. Hwalek, Eric H.\n",
    "Nuttal, Mordechai Shacham, Workshop Material from Session 12, Chemical Engineering Summer School, Snowbird,\n",
    "Utah, Aug., 1997."
   ]
  },
  {
   "cell_type": "code",
   "execution_count": 14,
   "metadata": {},
   "outputs": [
    {
     "name": "stdout",
     "output_type": "stream",
     "text": [
      "CPython 3.7.3\n",
      "IPython 7.6.1\n",
      "\n",
      "sympy 1.4\n",
      "pandas 0.25.1\n"
     ]
    }
   ],
   "source": [
    "%load_ext watermark\n",
    "%watermark -v -p sympy,pandas"
   ]
  },
  {
   "cell_type": "code",
   "execution_count": null,
   "metadata": {},
   "outputs": [],
   "source": []
  }
 ],
 "metadata": {
  "kernelspec": {
   "display_name": "Python 3",
   "language": "python",
   "name": "python3"
  },
  "language_info": {
   "codemirror_mode": {
    "name": "ipython",
    "version": 3
   },
   "file_extension": ".py",
   "mimetype": "text/x-python",
   "name": "python",
   "nbconvert_exporter": "python",
   "pygments_lexer": "ipython3",
   "version": "3.7.3"
  }
 },
 "nbformat": 4,
 "nbformat_minor": 4
}
