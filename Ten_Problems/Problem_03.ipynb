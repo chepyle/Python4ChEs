{
 "cells": [
  {
   "cell_type": "markdown",
   "metadata": {},
   "source": [
    "# Vapor Pressure Data Representation by Polynomials and Equations\n",
    "This is the third problem of the famous set of [Ten Problems in Chemical Engineering](https://www.polymath-software.com/ASEE/Tenprobs.pdf).  Here, the goal is to perform Nonlinear regression.\n",
    "\n",
    "Jacob Albrecht, 2019"
   ]
  },
  {
   "cell_type": "markdown",
   "metadata": {},
   "source": [
    "# Problem Setup\n",
    "Given the data for benzene from Perry's, regress the data to a polynomial:\n",
    "\n",
    "$$P=\\beta_0+\\beta_1T+\\beta_2T^2+...+\\beta_nT^n$$\n",
    "\n",
    "or the Clausius-Clapeyron equation;\n",
    "\n",
    "$$log(P) = A - \\frac{B}{T+273.15}$$\n",
    "\n",
    "or the Antoine equation:\n",
    "\n",
    "$$log(P) = A - \\frac{B}{T+C}$$\n"
   ]
  },
  {
   "cell_type": "code",
   "execution_count": 1,
   "metadata": {},
   "outputs": [
    {
     "data": {
      "text/html": [
       "<div>\n",
       "<style scoped>\n",
       "    .dataframe tbody tr th:only-of-type {\n",
       "        vertical-align: middle;\n",
       "    }\n",
       "\n",
       "    .dataframe tbody tr th {\n",
       "        vertical-align: top;\n",
       "    }\n",
       "\n",
       "    .dataframe thead th {\n",
       "        text-align: right;\n",
       "    }\n",
       "</style>\n",
       "<table border=\"1\" class=\"dataframe\">\n",
       "  <thead>\n",
       "    <tr style=\"text-align: right;\">\n",
       "      <th></th>\n",
       "      <th>T</th>\n",
       "      <th>P</th>\n",
       "    </tr>\n",
       "  </thead>\n",
       "  <tbody>\n",
       "    <tr>\n",
       "      <td>0</td>\n",
       "      <td>-36.7</td>\n",
       "      <td>1</td>\n",
       "    </tr>\n",
       "    <tr>\n",
       "      <td>1</td>\n",
       "      <td>-19.6</td>\n",
       "      <td>5</td>\n",
       "    </tr>\n",
       "    <tr>\n",
       "      <td>2</td>\n",
       "      <td>-11.5</td>\n",
       "      <td>10</td>\n",
       "    </tr>\n",
       "    <tr>\n",
       "      <td>3</td>\n",
       "      <td>-2.6</td>\n",
       "      <td>20</td>\n",
       "    </tr>\n",
       "    <tr>\n",
       "      <td>4</td>\n",
       "      <td>7.6</td>\n",
       "      <td>40</td>\n",
       "    </tr>\n",
       "    <tr>\n",
       "      <td>5</td>\n",
       "      <td>15.4</td>\n",
       "      <td>60</td>\n",
       "    </tr>\n",
       "    <tr>\n",
       "      <td>6</td>\n",
       "      <td>26.1</td>\n",
       "      <td>100</td>\n",
       "    </tr>\n",
       "    <tr>\n",
       "      <td>7</td>\n",
       "      <td>42.2</td>\n",
       "      <td>200</td>\n",
       "    </tr>\n",
       "    <tr>\n",
       "      <td>8</td>\n",
       "      <td>60.6</td>\n",
       "      <td>400</td>\n",
       "    </tr>\n",
       "    <tr>\n",
       "      <td>9</td>\n",
       "      <td>80.1</td>\n",
       "      <td>760</td>\n",
       "    </tr>\n",
       "  </tbody>\n",
       "</table>\n",
       "</div>"
      ],
      "text/plain": [
       "      T    P\n",
       "0 -36.7    1\n",
       "1 -19.6    5\n",
       "2 -11.5   10\n",
       "3  -2.6   20\n",
       "4   7.6   40\n",
       "5  15.4   60\n",
       "6  26.1  100\n",
       "7  42.2  200\n",
       "8  60.6  400\n",
       "9  80.1  760"
      ]
     },
     "execution_count": 1,
     "metadata": {},
     "output_type": "execute_result"
    }
   ],
   "source": [
    "import pandas as pd\n",
    "df = pd.DataFrame([[-36.7,1],\n",
    "                   [-19.6,5],\n",
    "                   [-11.5,10],\n",
    "                   [-2.6,20],\n",
    "                   [7.6,40],\n",
    "                   [15.4,60],\n",
    "                   [26.1,100],\n",
    "                   [42.2,200],\n",
    "                   [60.6,400],\n",
    "                   [80.1,760]],columns=['T','P'])\n",
    "df"
   ]
  },
  {
   "cell_type": "markdown",
   "metadata": {},
   "source": [
    "# Problem Tasks\n",
    "a) Regress the data with polynomials. Determine the degree ofpolynomial which best represents the data.\n",
    "\n",
    "b) Regress the data using linear regression on the Clausius-Clapeyron equation.\n",
    "\n",
    "c) Regress the data using nonlinear regression on the Antoine equation.\n"
   ]
  },
  {
   "cell_type": "markdown",
   "metadata": {},
   "source": [
    "# Solutions\n",
    "\n",
    "## Solution to part a)\n",
    "Fit the data to different order polynomials.  This is done by looping over a few polynomial orders and using the `numpy` `polyfit` function to do the fit, and return the polynomial coefficients and sum of the squared errors for the prediction.  The plots of the predictions are created using the `matplotlib` library."
   ]
  },
  {
   "cell_type": "code",
   "execution_count": 2,
   "metadata": {},
   "outputs": [],
   "source": [
    "import numpy as np\n",
    "import matplotlib.pyplot as plt"
   ]
  },
  {
   "cell_type": "code",
   "execution_count": 3,
   "metadata": {},
   "outputs": [
    {
     "name": "stdout",
     "output_type": "stream",
     "text": [
      "Poly order 1, SSQ: [118590.55617491]\n",
      "Poly order 2, SSQ: [8517.49512142]\n",
      "Poly order 3, SSQ: [204.73336714]\n",
      "Poly order 4, SSQ: [1.98960128]\n",
      "Poly order 5, SSQ: [1.94361278]\n"
     ]
    },
    {
     "data": {
      "text/plain": [
       "Text(0, 0.5, 'P, mm Hg')"
      ]
     },
     "execution_count": 3,
     "metadata": {},
     "output_type": "execute_result"
    },
    {
     "data": {
      "image/png": "[encoded data removed]",
      "text/plain": [
       "<Figure size 432x288 with 1 Axes>"
      ]
     },
     "metadata": {
      "needs_background": "light"
     },
     "output_type": "display_data"
    }
   ],
   "source": [
    "x=np.linspace(-50,90,num=100)\n",
    "plt.scatter(df['T'],df['P'])\n",
    "for p in np.arange(1,6):\n",
    "    betas, residuals, rank, singular_values, rcond = np.polyfit(df['T'],df['P'],p,full=True)\n",
    "    plt.plot(x,np.polyval(betas,x),label = '{} Degree'.format(p))\n",
    "    print('Poly order {}, SSQ: {}'.format(p,residuals))\n",
    "plt.legend()\n",
    "plt.xlabel('T,$\\degree C$')\n",
    "plt.ylabel('P, mm Hg')"
   ]
  },
  {
   "cell_type": "markdown",
   "metadata": {},
   "source": [
    "With higher degrees of polynomials, the sum of the squared error will eventually go to zero as the polynomial goes to greater lengths to pass through each of the points.  There is less benefit to lower SSQ for polynomial orders over 4, though the 3rd order polynomial appears to be satisfactory."
   ]
  },
  {
   "cell_type": "markdown",
   "metadata": {},
   "source": [
    "## Solution to part b)\n",
    "\n",
    "For the fit to the Clausius-Clapeyron equation, the original data should be transformed.  Adding new columns to pandas dataframe is as easy as assigning values to a new column:"
   ]
  },
  {
   "cell_type": "code",
   "execution_count": 4,
   "metadata": {},
   "outputs": [],
   "source": [
    "df['logP'] = np.log10(df['P'])\n",
    "df['T,K'] = df['T']+273.15\n",
    "df['1/(T,K)'] = 1/df['T,K']"
   ]
  },
  {
   "cell_type": "code",
   "execution_count": 5,
   "metadata": {},
   "outputs": [
    {
     "name": "stdout",
     "output_type": "stream",
     "text": [
      "[-2035.33102614     8.75200997]\n",
      "SSQ for logP: 0.061\n"
     ]
    }
   ],
   "source": [
    "betas, residuals, rank, singular_values, rcond  = np.polyfit(df['1/(T,K)'],df['logP'],1,full=True)\n",
    "print(betas)\n",
    "print('SSQ for logP: {:.2}'.format(residuals[0]))"
   ]
  },
  {
   "cell_type": "code",
   "execution_count": 6,
   "metadata": {},
   "outputs": [
    {
     "data": {
      "text/plain": [
       "Text(0.5, 0, '1/T, $K^{-1}$')"
      ]
     },
     "execution_count": 6,
     "metadata": {},
     "output_type": "execute_result"
    },
    {
     "data": {
      "image/png": "[encoded data removed]",
      "text/plain": [
       "<Figure size 432x288 with 1 Axes>"
      ]
     },
     "metadata": {
      "needs_background": "light"
     },
     "output_type": "display_data"
    }
   ],
   "source": [
    "plt.scatter(df['1/(T,K)'],df['logP'])\n",
    "plt.plot(1/(x+273.15),np.polyval(betas,1/(x+273.15)))\n",
    "plt.xlim([0.0025,0.0045])\n",
    "plt.ylabel('log P')\n",
    "plt.xlabel('1/T, $K^{-1}$')\n",
    "\n"
   ]
  },
  {
   "cell_type": "markdown",
   "metadata": {},
   "source": [
    "## Solution to part c)\n",
    "\n",
    "Fit the values to the Antoine equation.  For the nonlinear regression, we can use `scipy`'s `curve_fit` function, available in the optimize subpackage.  Lets try two types of regression, one minimizing the sum of squared errors for the vapor pressure, and the other minimizing the sum of squared errors for the log of the vapor pressure.  It makes a difference what metric we use.  To start, evaluate regressing the \n"
   ]
  },
  {
   "cell_type": "code",
   "execution_count": 7,
   "metadata": {},
   "outputs": [
    {
     "name": "stdout",
     "output_type": "stream",
     "text": [
      "Antoine parameters A: 6.6, B: 1.054e+03, C: 202.0\n",
      "SSQ for logP: 0.085\n",
      "SSQ for P: 15.96\n"
     ]
    },
    {
     "data": {
      "text/plain": [
       "Text(0, 0.5, 'P, mm Hg')"
      ]
     },
     "execution_count": 7,
     "metadata": {},
     "output_type": "execute_result"
    },
    {
     "data": {
      "image/png": "[encoded data removed]",
      "text/plain": [
       "<Figure size 720x288 with 2 Axes>"
      ]
     },
     "metadata": {
      "needs_background": "light"
     },
     "output_type": "display_data"
    }
   ],
   "source": [
    "from scipy.optimize import curve_fit\n",
    "\n",
    "def antoine_P(T,A,B,C):\n",
    "    return(10**(A-B/(T+C)))\n",
    "\n",
    "popt, pcov = curve_fit(antoine_P,df['T'],df['P'],p0=[10,2000,100])\n",
    "preds = antoine_P(df['T'],*popt)\n",
    "print('Antoine parameters A: {:.2}, B: {:.4}, C: {:.4}'.format(*popt))\n",
    "print('SSQ for logP: {:.2}'.format(np.sum((df['logP'] - np.log10(preds))**2)))\n",
    "print('SSQ for P: {:.4}'.format(np.sum((df['P'] - preds)**2)))\n",
    "\n",
    "plt.figure(figsize = (10,4)) # make figure width at least twice the height\n",
    "\n",
    "plt.subplot(1,2,1) # subplot 1\n",
    "plt.scatter(df['T'],df['logP'])\n",
    "plt.plot(x,np.log10(antoine_P(x,*popt)))\n",
    "plt.xlabel('T, $\\degree$C')\n",
    "plt.ylabel('log(P)')\n",
    "\n",
    "plt.subplot(1,2,2) # subplot 2\n",
    "plt.scatter(df['T'],df['P'])\n",
    "plt.plot(x,antoine_P(x,*popt))  \n",
    "plt.xlabel('T, $\\degree$C')\n",
    "plt.ylabel('P, mm Hg')\n",
    "\n"
   ]
  },
  {
   "cell_type": "markdown",
   "metadata": {},
   "source": [
    "Next regress the log-transformed vapor pressure, the previous code cell can be copied with some very slight changes:"
   ]
  },
  {
   "cell_type": "code",
   "execution_count": 8,
   "metadata": {},
   "outputs": [
    {
     "name": "stdout",
     "output_type": "stream",
     "text": [
      "Antoine parameters A: 5.8, B: 677.1, C: 153.9\n",
      "SSQ for logP: 0.0022\n",
      "SSQ for P: 267.0\n"
     ]
    },
    {
     "data": {
      "text/plain": [
       "Text(0, 0.5, 'P, mm Hg')"
      ]
     },
     "execution_count": 8,
     "metadata": {},
     "output_type": "execute_result"
    },
    {
     "data": {
      "image/png": "[encoded data removed]",
      "text/plain": [
       "<Figure size 720x288 with 2 Axes>"
      ]
     },
     "metadata": {
      "needs_background": "light"
     },
     "output_type": "display_data"
    }
   ],
   "source": [
    "\n",
    "def antoine_logP(T,A,B,C):\n",
    "    return((A-B/(T+C)))\n",
    "\n",
    "popt, pcov = curve_fit(antoine_logP,df['T'],df['logP'],p0=[10,2000,100])\n",
    "logpreds = antoine_logP(df['T'],*popt)\n",
    "print('Antoine parameters A: {:.2}, B: {:.4}, C: {:.4}'.format(*popt))\n",
    "\n",
    "print('SSQ for logP: {:.2}'.format(np.sum((df['logP'] - logpreds)**2)))\n",
    "print('SSQ for P: {:.4}'.format(np.sum((df['P'] - 10**logpreds)**2)))\n",
    "\n",
    "plt.figure(figsize = (10,4)) # make figure width at least twice the height\n",
    "\n",
    "plt.subplot(1,2,1) # subplot 1\n",
    "plt.scatter(df['T'],df['logP'])\n",
    "plt.plot(x,antoine_logP(x,*popt))  # the * is a trick to expand 'popt' it is the same as 'antoine_logP(x,popt[0],popt[1],popt[2])'\n",
    "plt.xlabel('T, $\\degree$C')\n",
    "plt.ylabel('log(P)')\n",
    "\n",
    "plt.subplot(1,2,2) # subplot 2\n",
    "plt.scatter(df['T'],df['P'])\n",
    "plt.plot(x,10**antoine_logP(x,*popt))  # the * is a trick to expand 'popt' it is the same as 'antoine_logP(x,popt[0],popt[1],popt[2])'\n",
    "plt.xlabel('T, $\\degree$C')\n",
    "plt.ylabel('P, mm Hg')\n"
   ]
  },
  {
   "cell_type": "markdown",
   "metadata": {},
   "source": [
    "Depending on the metric used, the regressed values for A, B, and C are different, and the SSQ metrics can change by an order of magitude.  The log transform put more weight on fitting the low pressure data points, this is important to keep in mind."
   ]
  },
  {
   "cell_type": "markdown",
   "metadata": {},
   "source": [
    "# Reference\n",
    "“The Use of Mathematical Software packages in Chemical Engineering”, Michael B. Cutlip, John J. Hwalek, Eric H.\n",
    "Nuttal, Mordechai Shacham, Workshop Material from Session 12, Chemical Engineering Summer School, Snowbird,\n",
    "Utah, Aug., 1997.\n",
    "\n",
    "Perry,  R.H.,  Green,  D.W.,  and  Malorey,  J.D.,  Eds.  Perry’s  Chemical  Engineers  Handbook.  New  York:McGraw-Hill, 1984.\n"
   ]
  },
  {
   "cell_type": "code",
   "execution_count": null,
   "metadata": {},
   "outputs": [],
   "source": []
  }
 ],
 "metadata": {
  "kernelspec": {
   "display_name": "Python 3",
   "language": "python",
   "name": "python3"
  },
  "language_info": {
   "codemirror_mode": {
    "name": "ipython",
    "version": 3
   },
   "file_extension": ".py",
   "mimetype": "text/x-python",
   "name": "python",
   "nbconvert_exporter": "python",
   "pygments_lexer": "ipython3",
   "version": "3.7.3"
  }
 },
 "nbformat": 4,
 "nbformat_minor": 4
}
