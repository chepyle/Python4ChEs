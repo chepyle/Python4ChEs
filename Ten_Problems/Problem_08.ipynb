{
 "cells": [
  {
   "cell_type": "markdown",
   "metadata": {},
   "source": [
    "# Binary Batch Distillation\n",
    "This is the eighth problem of the famous set of [Ten Problems in Chemical Engineering](https://www.polymath-software.com/ASEE/Tenprobs.pdf).  Here, the goal is to solve a system of equations comprised of ordinary differential equations and nonlinear algebraic equations.\n",
    "\n",
    "Jacob Albrecht, 2019"
   ]
  },
  {
   "cell_type": "markdown",
   "metadata": {},
   "source": [
    "# Problem Setup\n",
    "\n",
    "For binary distillation, the moles of liquid remaining change as a function of mole fraction of species 2 (toluene)\n",
    "\n",
    "$$\\frac{dL}{dx_2} = \\frac{L}{x_2\\left(k_2-1\\right)}$$\n",
    "\n",
    "Antoine equation for species $i$:\n",
    "\n",
    "$$P_{vap,i} = 10^{A-\\frac{B}{T+C}}$$\n",
    "\n",
    "The vapor liquid equilibrium ratio for each species:\n",
    "$$k_i = P_{vap,i}/P$$\n",
    "\n",
    "The constraint to enforce is to ensure the overall pressure does not change: \n",
    "$$x_1P_{vap,1}+x_2P_{vap,2} = P$$\n",
    "or\n",
    "$$k_1x_1+k_2x_2=1$$"
   ]
  },
  {
   "cell_type": "markdown",
   "metadata": {},
   "source": [
    "# Problem Tasks\n",
    "\n",
    "The batch distillation of benzene (component 1) and toluene (component 2) mixture is being carried out at a pressure of 1.2 atm. Initially, there are 100 moles of liquid in the still, comprised of 60% benzene and 40% toluene (mole fraction basis). Calculate the amount of liquid remaining in the still when concentration of toluene reaches 80%."
   ]
  },
  {
   "cell_type": "markdown",
   "metadata": {},
   "source": [
    "# Solutions"
   ]
  },
  {
   "cell_type": "code",
   "execution_count": 1,
   "metadata": {},
   "outputs": [],
   "source": [
    "import numpy as np\n",
    "from scipy.integrate import solve_ivp\n",
    "from scipy.optimize import root\n",
    "import matplotlib.pyplot as plt\n",
    "%matplotlib inline\n",
    "\n",
    "A = np.array([6.90565,6.95464])\n",
    "B = np.array([1211.033,1344.8])\n",
    "C = np.array([220.79,219.482])\n",
    "P = 1.2*760\n",
    "L0 = [100]\n",
    "x_start = 0.40\n",
    "x_final = 0.80\n",
    "T_guess = (80.1+110.6)/2\n",
    "xspan = [x_start, x_final]\n",
    "\n",
    "def Pvap_constraint(T,x2):\n",
    "    x = np.array([1-x2,x2])\n",
    "    P_i = 10**(A-B/(T+C))\n",
    "    k = P_i/P\n",
    "    obj = 1 - np.dot(k,x) # make sure partial pressures sum to system pressure\n",
    "    return(obj)\n",
    "\n",
    "def distill(x2,L):\n",
    "    Topt = root(Pvap_constraint,T_guess,args=(x2))\n",
    "    P_i = 10**(A-B/(Topt.x+C))\n",
    "    k = P_i/P\n",
    "    dL_dx = L/(x2*(k[1]-1))\n",
    "    return(dL_dx)\n",
    "\n",
    "sol=solve_ivp(distill,xspan,L0,method='LSODA') # LSODA is an implicit ODE solver \n",
    "\n"
   ]
  },
  {
   "cell_type": "code",
   "execution_count": 2,
   "metadata": {},
   "outputs": [
    {
     "data": {
      "image/png": "[encoded data removed]",
      "text/plain": [
       "<Figure size 432x288 with 1 Axes>"
      ]
     },
     "metadata": {
      "needs_background": "light"
     },
     "output_type": "display_data"
    }
   ],
   "source": [
    "plt.plot(sol.t,sol.y[0,:])\n",
    "plt.xlabel('Mole Fraction Toluene')\n",
    "plt.ylabel('Moles of Liquid')\n",
    "plt.show()"
   ]
  },
  {
   "cell_type": "code",
   "execution_count": 3,
   "metadata": {},
   "outputs": [
    {
     "name": "stdout",
     "output_type": "stream",
     "text": [
      "At 80% Toluene, there are 14.1 moles of liquid\n"
     ]
    }
   ],
   "source": [
    "print('At 80% Toluene, there are {:.3} moles of liquid'.format(sol.y[0,-1]))"
   ]
  },
  {
   "cell_type": "markdown",
   "metadata": {},
   "source": [
    "# Reference\n",
    "“The Use of Mathematical Software packages in Chemical Engineering”, Michael B. Cutlip, John J. Hwalek, Eric H.\n",
    "Nuttal, Mordechai Shacham, Workshop Material from Session 12, Chemical Engineering Summer School, Snowbird,\n",
    "Utah, Aug., 1997."
   ]
  },
  {
   "cell_type": "code",
   "execution_count": 4,
   "metadata": {},
   "outputs": [
    {
     "name": "stdout",
     "output_type": "stream",
     "text": [
      "CPython 3.7.3\n",
      "IPython 7.6.1\n",
      "\n",
      "scipy 1.3.0\n",
      "matplotlib 3.1.0\n",
      "numpy 1.16.4\n"
     ]
    }
   ],
   "source": [
    "%load_ext watermark\n",
    "%watermark -v -p scipy,matplotlib,numpy"
   ]
  }
 ],
 "metadata": {
  "kernelspec": {
   "display_name": "Python 3",
   "language": "python",
   "name": "python3"
  },
  "language_info": {
   "codemirror_mode": {
    "name": "ipython",
    "version": 3
   },
   "file_extension": ".py",
   "mimetype": "text/x-python",
   "name": "python",
   "nbconvert_exporter": "python",
   "pygments_lexer": "ipython3",
   "version": "3.7.3"
  }
 },
 "nbformat": 4,
 "nbformat_minor": 4
}
