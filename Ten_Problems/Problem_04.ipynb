{
 "cells": [
  {
   "cell_type": "markdown",
   "metadata": {},
   "source": [
    "# Reaction Equilibrium for Multiple Gas Phase Reactions\n",
    "This is the fourth problem of the famous set of [Ten Problems in Chemical Engineering](https://www.polymath-software.com/ASEE/Tenprobs.pdf).  Here, the goal is to solve systems of nonlinear algebraic equations\n",
    "\n",
    "Jacob Albrecht, 2019"
   ]
  },
  {
   "cell_type": "markdown",
   "metadata": {},
   "source": [
    "# Problem Setup\n",
    "\n",
    "A series of equilibrium reactions are occuring in a reactor:\n",
    "\n",
    "$$ A + B \\leftrightarrow C + D$$\n",
    "\n",
    "$$ B + C \\leftrightarrow X + Y $$\n",
    "\n",
    "$$ A + X \\leftrightarrow Z $$\n",
    "\n",
    "The system of equations for the concentrations of the species are:\n",
    "\n",
    "$K_{C1} = \\frac{C_CC_D}{C_AC_B}$  $K_{C2} = \\frac{C_XC_Y}{C_BC_C}$ $K_{C3} = \\frac{C_Z}{C_AC_X}$\n",
    "\n",
    "$C_A = C_{A0}-C_D-C_Z$\n",
    "\n",
    "$C_B = C_{B0}-C_D-C_Y$\n",
    "\n",
    "$C_C = C_D-C_Y$\n",
    "\n",
    "$C_Y = C_X+C_Z$"
   ]
  },
  {
   "cell_type": "markdown",
   "metadata": {},
   "source": [
    "# Problem Tasks\n",
    "Solve this system of equations when $C_{A0} = C_{B0}  =  1.5$, $K_{C1} = 1.06$ , $K_{C2} = 2.63$, $K_{C3}=5$    and  starting from four sets of initial estimates\n",
    "\n",
    "a) $C_D = C_X = C_Z = 0$\n",
    "\n",
    "b) $C_D = C_X = C_Z = 1$\n",
    "\n",
    "c) $C_D = C_X = C_Z = 10$\n"
   ]
  },
  {
   "cell_type": "markdown",
   "metadata": {},
   "source": [
    "# Solutions"
   ]
  },
  {
   "cell_type": "markdown",
   "metadata": {},
   "source": [
    "To find the solution to the system of equations given some initial guesses, create a function to use with `scipy.optimize`.  Only the equilibrium equation need be considered using the species balance and concentrations of D, X, and Z:"
   ]
  },
  {
   "cell_type": "code",
   "execution_count": 1,
   "metadata": {},
   "outputs": [],
   "source": [
    "from scipy.optimize import root\n",
    "\n",
    "def all_C(Cdxz):  # this function will be used after optimization too\n",
    "    Cd,Cx,Cz = Cdxz \n",
    "    Ca0 = Cb0 = 1.5 # this is a valid way to do multiple assignments\n",
    "    Ca = Ca0-Cd-Cz\n",
    "    Cy = Cx+Cz\n",
    "    Cb = Cb0-Cd-Cy\n",
    "    Cc = Cd-Cy\n",
    "    return(Ca,Cb,Cc,Cd,Cx,Cy,Cz)\n",
    "\n",
    "def obj(Cdxz): # objective function\n",
    "    Ca,Cb,Cc,Cd,Cx,Cy,Cz = all_C(Cdxz)\n",
    "    K1 = 1.06\n",
    "    K2 = 2.63\n",
    "    K3 = 5\n",
    "    eq1 = Cc*Cd-K1*(Ca*Cb) # rearranged to avoid divide by zero\n",
    "    eq2 = Cx*Cy-K2*(Cb*Cc)\n",
    "    eq3 = Cz - K3*(Ca*Cx)\n",
    "    return((eq1, eq2, eq3))\n",
    "    "
   ]
  },
  {
   "cell_type": "markdown",
   "metadata": {},
   "source": [
    "solve each part and make a table of all of the results:"
   ]
  },
  {
   "cell_type": "code",
   "execution_count": 2,
   "metadata": {},
   "outputs": [
    {
     "name": "stdout",
     "output_type": "stream",
     "text": [
      "Part A The solution converged.\n",
      "Part B The solution converged.\n",
      "Part C The solution converged.\n"
     ]
    }
   ],
   "source": [
    "\n",
    "parta = root(obj, [0,0,0], method = 'hybr')\n",
    "print('Part A '+parta.message)\n",
    "partb = root(obj, [1,1,1], method = 'hybr')\n",
    "print('Part B '+partb.message)\n",
    "partc = root(obj, [10,10,10], method = 'hybr')\n",
    "print('Part C '+partc.message)"
   ]
  },
  {
   "cell_type": "code",
   "execution_count": 3,
   "metadata": {},
   "outputs": [
    {
     "data": {
      "text/html": [
       "<div>\n",
       "<style scoped>\n",
       "    .dataframe tbody tr th:only-of-type {\n",
       "        vertical-align: middle;\n",
       "    }\n",
       "\n",
       "    .dataframe tbody tr th {\n",
       "        vertical-align: top;\n",
       "    }\n",
       "\n",
       "    .dataframe thead th {\n",
       "        text-align: right;\n",
       "    }\n",
       "</style>\n",
       "<table border=\"1\" class=\"dataframe\">\n",
       "  <thead>\n",
       "    <tr style=\"text-align: right;\">\n",
       "      <th></th>\n",
       "      <th>C_A</th>\n",
       "      <th>C_B</th>\n",
       "      <th>C_C</th>\n",
       "      <th>C_D</th>\n",
       "      <th>C_X</th>\n",
       "      <th>C_Y</th>\n",
       "      <th>C_Z</th>\n",
       "    </tr>\n",
       "  </thead>\n",
       "  <tbody>\n",
       "    <tr>\n",
       "      <td>Part a</td>\n",
       "      <td>0.420689</td>\n",
       "      <td>0.242897</td>\n",
       "      <td>0.153565</td>\n",
       "      <td>0.705334</td>\n",
       "      <td>0.177792</td>\n",
       "      <td>0.551769</td>\n",
       "      <td>0.373977</td>\n",
       "    </tr>\n",
       "    <tr>\n",
       "      <td>Part b</td>\n",
       "      <td>0.362370</td>\n",
       "      <td>-0.234849</td>\n",
       "      <td>-1.623737</td>\n",
       "      <td>0.055556</td>\n",
       "      <td>0.597220</td>\n",
       "      <td>1.679293</td>\n",
       "      <td>1.082073</td>\n",
       "    </tr>\n",
       "    <tr>\n",
       "      <td>Part c</td>\n",
       "      <td>-0.700638</td>\n",
       "      <td>-0.377922</td>\n",
       "      <td>0.262286</td>\n",
       "      <td>1.070104</td>\n",
       "      <td>-0.322716</td>\n",
       "      <td>0.807818</td>\n",
       "      <td>1.130534</td>\n",
       "    </tr>\n",
       "  </tbody>\n",
       "</table>\n",
       "</div>"
      ],
      "text/plain": [
       "             C_A       C_B       C_C       C_D       C_X       C_Y       C_Z\n",
       "Part a  0.420689  0.242897  0.153565  0.705334  0.177792  0.551769  0.373977\n",
       "Part b  0.362370 -0.234849 -1.623737  0.055556  0.597220  1.679293  1.082073\n",
       "Part c -0.700638 -0.377922  0.262286  1.070104 -0.322716  0.807818  1.130534"
      ]
     },
     "execution_count": 3,
     "metadata": {},
     "output_type": "execute_result"
    }
   ],
   "source": [
    "import pandas as pd\n",
    "df= pd.DataFrame([all_C(parta.x),all_C(partb.x),all_C(partc.x)],\n",
    "                 columns=['C_A','C_B','C_C','C_D','C_X','C_Y','C_Z'],\n",
    "                index=['Part a','Part b','Part c'])\n",
    "df"
   ]
  },
  {
   "cell_type": "markdown",
   "metadata": {},
   "source": [
    "Because of the constraints, the infeasible initial conditions in parts b) and c) push some of the concentrations into negative values."
   ]
  },
  {
   "cell_type": "markdown",
   "metadata": {},
   "source": [
    "# Reference\n",
    "“The Use of Mathematical Software packages in Chemical Engineering”, Michael B. Cutlip, John J. Hwalek, Eric H.\n",
    "Nuttal, Mordechai Shacham, Workshop Material from Session 12, Chemical Engineering Summer School, Snowbird,\n",
    "Utah, Aug., 1997."
   ]
  },
  {
   "cell_type": "code",
   "execution_count": 4,
   "metadata": {},
   "outputs": [
    {
     "name": "stdout",
     "output_type": "stream",
     "text": [
      "CPython 3.7.3\n",
      "IPython 7.6.1\n",
      "\n",
      "scipy 1.3.0\n",
      "pandas 0.25.1\n",
      "numpy 1.16.4\n"
     ]
    }
   ],
   "source": [
    "%load_ext watermark\n",
    "%watermark -v -p scipy,pandas,numpy"
   ]
  }
 ],
 "metadata": {
  "kernelspec": {
   "display_name": "Python 3",
   "language": "python",
   "name": "python3"
  },
  "language_info": {
   "codemirror_mode": {
    "name": "ipython",
    "version": 3
   },
   "file_extension": ".py",
   "mimetype": "text/x-python",
   "name": "python",
   "nbconvert_exporter": "python",
   "pygments_lexer": "ipython3",
   "version": "3.7.3"
  }
 },
 "nbformat": 4,
 "nbformat_minor": 4
}
