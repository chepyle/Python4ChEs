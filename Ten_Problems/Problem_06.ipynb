{
 "cells": [
  {
   "cell_type": "markdown",
   "metadata": {},
   "source": [
    "# Heat Exchange in a Series of Tanks\n",
    "This is the sixth problem of the famous set of [Ten Problems in Chemical Engineering](https://www.polymath-software.com/ASEE/Tenprobs.pdf).  Here, the goal is to solve simultaneous first order ordinary differential equations.\n"
   ]
  },
  {
   "cell_type": "markdown",
   "metadata": {},
   "source": [
    "# Problem Setup\n",
    "\n",
    "There are three tanks in series \n",
    "\n",
    "$$\\frac{dT_1}{dt} = [WC_p(T_0-T_1)+UA(T_{steam}-T_1)]/(MC_p)$$\n",
    "\n",
    "$$\\frac{dT_2}{dt} = [WC_p(T_1-T_2)+UA(T_{steam}-T_2)]/(MC_p)$$\n",
    "\n",
    "$$\\frac{dT_3}{dt} = [WC_p(T_2-T_3)+UA(T_{steam}-T_3)]/(MC_p)$$"
   ]
  },
  {
   "cell_type": "markdown",
   "metadata": {},
   "source": [
    "# Problem Tasks\n",
    "Determine the steady state temperatures in all three tanks. What time interval will be required for T3 to reach 99% of this steady state value during startup?"
   ]
  },
  {
   "cell_type": "markdown",
   "metadata": {},
   "source": [
    "# Solutions\n",
    "To solve ODEs, `scipy.integrate` is useful package.  To integrate the odes, first write a function that returns the derivatives as a functions of temperature.  The constants can be defined outside the function or passed into the function as extra arguments.  Here we will define the values outside the function."
   ]
  },
  {
   "cell_type": "code",
   "execution_count": 1,
   "metadata": {},
   "outputs": [],
   "source": [
    "import numpy as np\n",
    "from scipy.integrate import solve_ivp\n",
    "import matplotlib.pyplot as plt\n",
    "\n",
    "def dTdt(t,T):\n",
    "    dT1 = (W*Cp*(T0-T[0]) + UA*(Tsteam-T[0]))/(M*Cp)\n",
    "    dT2 = (W*Cp*(T[0]-T[1]) + UA*(Tsteam-T[1]))/(M*Cp)\n",
    "    dT3 = (W*Cp*(T[1]-T[2]) + UA*(Tsteam-T[2]))/(M*Cp)\n",
    "    return(dT1,dT2,dT3)\n",
    "\n",
    "W = 100\n",
    "UA = 10\n",
    "Tsteam = 250\n",
    "T0 = 20\n",
    "M = 1000\n",
    "Cp = 2.0\n",
    "\n",
    "t_span = [0, 90]\n",
    "t_eval = np.linspace(0,90,num =100) # use a finer grid for output\n",
    "sol = solve_ivp(dTdt,t_span,[T0,T0,T0],t_eval=t_eval)"
   ]
  },
  {
   "cell_type": "code",
   "execution_count": 2,
   "metadata": {},
   "outputs": [
    {
     "data": {
      "text/plain": [
       "<matplotlib.legend.Legend at 0x7f72f392bcc0>"
      ]
     },
     "execution_count": 2,
     "metadata": {},
     "output_type": "execute_result"
    },
    {
     "data": {
      "image/png": "[encoded data removed]",
      "text/plain": [
       "<Figure size 432x288 with 1 Axes>"
      ]
     },
     "metadata": {
      "needs_background": "light"
     },
     "output_type": "display_data"
    }
   ],
   "source": [
    "\n",
    "plt.plot(sol.t,sol.y.T)\n",
    "plt.xlabel('Time, min')\n",
    "plt.ylabel('Temperature, $\\degree$C')\n",
    "plt.legend(['T1','T2','T3'])"
   ]
  },
  {
   "cell_type": "markdown",
   "metadata": {},
   "source": [
    "To interpolate the time to reach 99% use `scipy.interpolate.interp1d` "
   ]
  },
  {
   "cell_type": "code",
   "execution_count": 3,
   "metadata": {},
   "outputs": [
    {
     "name": "stdout",
     "output_type": "stream",
     "text": [
      "Time to reach 99% of steady state: 61.54 min\n"
     ]
    }
   ],
   "source": [
    "from scipy.interpolate import interp1d\n",
    "T3 = sol.y[2,:] # extract the third temperature\n",
    "time = sol.t\n",
    "time_to_99 = interp1d(T3,time)(0.99*np.max(T3)) # interp1d returns a function, that is called right away with our point of interest\n",
    "print('Time to reach 99% of steady state: {:.4} min'.format(time_to_99))"
   ]
  },
  {
   "cell_type": "code",
   "execution_count": null,
   "metadata": {},
   "outputs": [],
   "source": []
  },
  {
   "cell_type": "markdown",
   "metadata": {},
   "source": [
    "# Reference\n",
    "“The Use of Mathematical Software packages in Chemical Engineering”, Michael B. Cutlip, John J. Hwalek, Eric H.\n",
    "Nuttal, Mordechai Shacham, Workshop Material from Session 12, Chemical Engineering Summer School, Snowbird,\n",
    "Utah, Aug., 1997."
   ]
  },
  {
   "cell_type": "code",
   "execution_count": null,
   "metadata": {},
   "outputs": [],
   "source": []
  }
 ],
 "metadata": {
  "kernelspec": {
   "display_name": "Python 3",
   "language": "python",
   "name": "python3"
  },
  "language_info": {
   "codemirror_mode": {
    "name": "ipython",
    "version": 3
   },
   "file_extension": ".py",
   "mimetype": "text/x-python",
   "name": "python",
   "nbconvert_exporter": "python",
   "pygments_lexer": "ipython3",
   "version": "3.7.3"
  }
 },
 "nbformat": 4,
 "nbformat_minor": 4
}
