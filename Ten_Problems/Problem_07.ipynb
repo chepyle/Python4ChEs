{
 "cells": [
  {
   "cell_type": "markdown",
   "metadata": {},
   "source": [
    "# Diffusion with Chemical Reaction in a One-Dimensional Slab\n",
    "This is the seventh problem of the famous set of [Ten Problems in Chemical Engineering](https://www.polymath-software.com/ASEE/Tenprobs.pdf).  Here, the goal is to solve second order ordinary differential equations with two point boundary conditions\n"
   ]
  },
  {
   "cell_type": "markdown",
   "metadata": {},
   "source": [
    "# Problem Setup\n"
   ]
  },
  {
   "cell_type": "markdown",
   "metadata": {},
   "source": [
    "# Problem Tasks\n",
    "\n",
    "a)Numerically solve Equation (23) with the boundary conditions of (24) and (25) for the casewhere CA0 = 0.2 kg mol/m3, k = 10-3 s-1, DAB = 1.2 10-9 m2/s, and L = 10-3 m. This solutionshould  utilized  an  ODE  solver  with  a  shooting  technique  and  employ  Newton’s  method  orsome other technique for converging on the boundary condition given by Equation (25).\n",
    "\n",
    "b)Compare the concentration profiles over the thickness as predicted by the numerical solution of (a) with the analytical solution of Equation (26)."
   ]
  },
  {
   "cell_type": "markdown",
   "metadata": {},
   "source": [
    "# Solutions"
   ]
  },
  {
   "cell_type": "code",
   "execution_count": null,
   "metadata": {},
   "outputs": [],
   "source": []
  }
 ],
 "metadata": {
  "kernelspec": {
   "display_name": "Python 3",
   "language": "python",
   "name": "python3"
  },
  "language_info": {
   "codemirror_mode": {
    "name": "ipython",
    "version": 3
   },
   "file_extension": ".py",
   "mimetype": "text/x-python",
   "name": "python",
   "nbconvert_exporter": "python",
   "pygments_lexer": "ipython3",
   "version": "3.7.3"
  }
 },
 "nbformat": 4,
 "nbformat_minor": 4
}
