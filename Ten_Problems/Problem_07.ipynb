{
 "cells": [
  {
   "cell_type": "markdown",
   "metadata": {},
   "source": [
    "# Diffusion with Chemical Reaction in a One-Dimensional Slab\n",
    "This is the seventh problem of the famous set of [Ten Problems in Chemical Engineering](https://www.polymath-software.com/ASEE/Tenprobs.pdf).  Here, the goal is to solve second order ordinary differential equations with two point boundary conditions\n",
    "\n",
    "Jacob Albrecht, 2019"
   ]
  },
  {
   "cell_type": "markdown",
   "metadata": {},
   "source": [
    "# Problem Setup\n",
    "\n",
    "For a first order irreversible reaction ($A \\rightarrow B$) occuring in a 1D domain, the concentration of species $A$ is governed by the differential equation:\n",
    "\n",
    "$$\\frac{d^2C_A}{dz^2} = \\frac{k}{D_{AB}}C_A$$\n",
    "\n",
    "at location $z = 0$, the boundary condition is:\n",
    "\n",
    "$$C_A = C_{A0}$$\n",
    "\n",
    "at the other edge of the domain, $z = L$, the condition is:\n",
    "\n",
    "$$\\frac{dC_A}{dz} = 0$$"
   ]
  },
  {
   "cell_type": "markdown",
   "metadata": {},
   "source": [
    "# Problem Tasks\n",
    "\n",
    "a)Numerically solve the differential equation with the boundary conditions with \n",
    "\n",
    "$C_{A0} = 0.2 kg\\cdot mol/m^3$\n",
    "\n",
    "$k = 10^{-3} s^{-1}$\n",
    "\n",
    "$D_{AB} = 1.2\\cdot10^{-9} m^2/s$ \n",
    "\n",
    "$L = 10^{-3} m$ \n",
    "\n",
    "This solution should  utilize an  ODE  solver  with  a  shooting  technique  and  employ  Newton’s  method  or some other technique for converging on the boundary condition.\n",
    "\n",
    "b) Compare the concentration profiles over the thickness as predicted by the numerical solution of (a) with the analytical solution of the differential equation."
   ]
  },
  {
   "cell_type": "markdown",
   "metadata": {},
   "source": [
    "# Solutions\n",
    "## Solution to part a)\n",
    "\n",
    "Rewriting the second-order differential equation and boundary conditions as a set of first-order equations will allow for the use of the scipy integration functions, following [the approach here](https://polymath-software.com/ASEE/Matlab/Matlab.pdf).\n",
    "\n",
    "$$y_2 = \\frac{dC_A}{dz}$$\n",
    "\n",
    "At $z = 0$, $y_2$ will have an unknown value $\\alpha$.  Define new quantities $y_3$ and $y_4$ to incorporate the boundary conditions and to solve for $\\alpha$ by the shooting technique\n",
    "\n",
    "$$y_3 = \\frac{\\partial C_A}{\\partial \\alpha}$$\n",
    "\n",
    "$$y_4 = \\frac{dy_3}{dz}$$\n",
    "\n",
    "$$\\frac{dy_4}{dz} = \\frac{ky_3}{D_{AB}}$$\n",
    "\n",
    "The initial conditions for $C_A$, $y_2$, $y_3$, and $y_4$ are $C_{A0}$, $\\alpha$, $0$, and $1$, respectively"
   ]
  },
  {
   "cell_type": "code",
   "execution_count": 1,
   "metadata": {},
   "outputs": [],
   "source": [
    "import numpy as np\n",
    "from scipy.optimize import newton\n",
    "from scipy.integrate import solve_ivp\n",
    "import matplotlib.pyplot as plt\n",
    "%matplotlib inline"
   ]
  },
  {
   "cell_type": "code",
   "execution_count": 2,
   "metadata": {},
   "outputs": [
    {
     "name": "stdout",
     "output_type": "stream",
     "text": [
      "Optimal α: -571.3\n",
      "Final error: 5e-14\n"
     ]
    }
   ],
   "source": [
    "# define function for solving the expanded ode:\n",
    "def odefun(t,y):\n",
    "    dy = np.zeros(4)\n",
    "    dy[0] = y[1]\n",
    "    dy[1] = k*y[0]/Dab\n",
    "    dy[2] = y[3]\n",
    "    dy[3] = k*y[2]/Dab\n",
    "    return(dy)\n",
    "\n",
    "# define function for optimizing α\n",
    "def objfun(alpha):\n",
    "    y0 = np.array([CA0,alpha,0,1])    \n",
    "    sol = solve_ivp(odefun,tspan,y0)\n",
    "    err = sol.y[1,-1]/sol.y[3,-1]\n",
    "    return(err)\n",
    "\n",
    "# define constants:\n",
    "L=1e-3\n",
    "CA0 = 0.2\n",
    "k = 1e-2\n",
    "Dab = 1.210e-9\n",
    "alpha=0\n",
    "\n",
    "# set integration range:\n",
    "tspan = [0,L]\n",
    "\n",
    "# run optimization\n",
    "opt_α = newton(objfun,alpha)\n",
    "\n",
    "# use optimal α to calculate profile:\n",
    "y0 = np.array([CA0,opt_α,0,1])\n",
    "t_eval = np.linspace(0,L,num=25)\n",
    "numerical_sol = solve_ivp(odefun,tspan,y0,t_eval=t_eval)\n",
    "err = numerical_sol.y[1,-1]/numerical_sol.y[3,-1]\n",
    "\n",
    "print('Optimal \\u03B1: {:.4}'.format(opt_α)) # unicode is ok with python\n",
    "print('Final error: {:.2}'.format(err))"
   ]
  },
  {
   "cell_type": "code",
   "execution_count": 3,
   "metadata": {},
   "outputs": [
    {
     "data": {
      "image/png": "[encoded data removed]",
      "text/plain": [
       "<Figure size 432x288 with 1 Axes>"
      ]
     },
     "metadata": {
      "needs_background": "light"
     },
     "output_type": "display_data"
    }
   ],
   "source": [
    "plt.plot(numerical_sol.t,numerical_sol.y[0,:],'o')\n",
    "plt.xlabel('z')\n",
    "plt.ylabel('$C_A$');"
   ]
  },
  {
   "cell_type": "markdown",
   "metadata": {},
   "source": [
    "## Solution to part b)\n",
    "Instead of using the analytical expression given in the problem statement, we will use `sympy` to calculate the analytical solution from the differential equation and boundary conditions."
   ]
  },
  {
   "cell_type": "code",
   "execution_count": 4,
   "metadata": {},
   "outputs": [],
   "source": [
    "from sympy import symbols, Function, Eq, dsolve, Derivative, lambdify\n",
    "\n",
    "k, D_AB, z, L, C_A0 = symbols('k D_AB z L C_A0')\n",
    "\n",
    "C = Function('C')\n",
    "\n",
    "deq = Eq(Derivative(C(z),(z,2))-k/D_AB*C(z))"
   ]
  },
  {
   "cell_type": "markdown",
   "metadata": {},
   "source": [
    "Inspect the differential equation from sympy:"
   ]
  },
  {
   "cell_type": "code",
   "execution_count": 5,
   "metadata": {},
   "outputs": [
    {
     "data": {
      "text/latex": [
       "$\\displaystyle \\frac{d^{2}}{d z^{2}} C{\\left(z \\right)} - \\frac{k C{\\left(z \\right)}}{D_{AB}} = 0$"
      ],
      "text/plain": [
       "Eq(Derivative(C(z), (z, 2)) - k*C(z)/D_AB, 0)"
      ]
     },
     "execution_count": 5,
     "metadata": {},
     "output_type": "execute_result"
    }
   ],
   "source": [
    "deq"
   ]
  },
  {
   "cell_type": "markdown",
   "metadata": {},
   "source": [
    "Solve the differential equation with the boundary conditions and view the output:"
   ]
  },
  {
   "cell_type": "code",
   "execution_count": 6,
   "metadata": {},
   "outputs": [],
   "source": [
    "analytical_sol = dsolve(deq,ics={C(0):C_A0,\n",
    "                      Derivative(C(L),L):0})"
   ]
  },
  {
   "cell_type": "code",
   "execution_count": 7,
   "metadata": {},
   "outputs": [
    {
     "data": {
      "text/latex": [
       "$\\displaystyle C{\\left(z \\right)} = \\frac{C_{A0} e^{2 L \\sqrt{\\frac{k}{D_{AB}}}} e^{- z \\sqrt{\\frac{k}{D_{AB}}}}}{e^{2 L \\sqrt{\\frac{k}{D_{AB}}}} + 1} + \\frac{C_{A0} e^{z \\sqrt{\\frac{k}{D_{AB}}}}}{e^{2 L \\sqrt{\\frac{k}{D_{AB}}}} + 1}$"
      ],
      "text/plain": [
       "Eq(C(z), C_A0*exp(2*L*sqrt(k/D_AB))*exp(-z*sqrt(k/D_AB))/(exp(2*L*sqrt(k/D_AB)) + 1) + C_A0*exp(z*sqrt(k/D_AB))/(exp(2*L*sqrt(k/D_AB)) + 1))"
      ]
     },
     "execution_count": 7,
     "metadata": {},
     "output_type": "execute_result"
    }
   ],
   "source": [
    "analytical_sol"
   ]
  },
  {
   "cell_type": "markdown",
   "metadata": {},
   "source": [
    "Substitute in the constant values from the problem statement:"
   ]
  },
  {
   "cell_type": "code",
   "execution_count": 8,
   "metadata": {},
   "outputs": [
    {
     "data": {
      "text/latex": [
       "$\\displaystyle C{\\left(z \\right)} = 0.00063479232011981 e^{2874.79787288035 z} + 0.19936520767988 e^{- 2874.79787288035 z}$"
      ],
      "text/plain": [
       "Eq(C(z), 0.00063479232011981*exp(2874.79787288035*z) + 0.19936520767988*exp(-2874.79787288035*z))"
      ]
     },
     "execution_count": 8,
     "metadata": {},
     "output_type": "execute_result"
    }
   ],
   "source": [
    "C = analytical_sol.subs({C_A0:0.2,L:1e-3,D_AB:1.210e-9,k:1e-2})\n",
    "C"
   ]
  },
  {
   "cell_type": "code",
   "execution_count": 9,
   "metadata": {},
   "outputs": [],
   "source": [
    "# convert the sympy expression to numpy for plotting\n",
    "lam_C = lambdify(z,C.rhs, 'numpy')\n",
    "lam_z = np.linspace(0,1e-3,num=100)"
   ]
  },
  {
   "cell_type": "code",
   "execution_count": 10,
   "metadata": {},
   "outputs": [
    {
     "data": {
      "image/png": "[encoded data removed]",
      "text/plain": [
       "<Figure size 432x288 with 1 Axes>"
      ]
     },
     "metadata": {
      "needs_background": "light"
     },
     "output_type": "display_data"
    }
   ],
   "source": [
    "plt.plot(lam_z,lam_C(lam_z),label= 'Analytical')\n",
    "plt.scatter(numerical_sol.t,numerical_sol.y[0,:],facecolors='none',edgecolors='b',label='Numeric')\n",
    "plt.xlabel('z')\n",
    "plt.ylabel('$C_A$')\n",
    "plt.legend()\n",
    "plt.show()\n"
   ]
  },
  {
   "cell_type": "markdown",
   "metadata": {},
   "source": [
    "The analytical and numeric solutions match perfectly.  Calculus FTW."
   ]
  },
  {
   "cell_type": "markdown",
   "metadata": {},
   "source": [
    "# Reference\n",
    "“The Use of Mathematical Software packages in Chemical Engineering”, Michael B. Cutlip, John J. Hwalek, Eric H.\n",
    "Nuttal, Mordechai Shacham, Workshop Material from Session 12, Chemical Engineering Summer School, Snowbird,\n",
    "Utah, Aug., 1997."
   ]
  },
  {
   "cell_type": "code",
   "execution_count": 11,
   "metadata": {},
   "outputs": [
    {
     "name": "stdout",
     "output_type": "stream",
     "text": [
      "CPython 3.7.3\n",
      "IPython 7.6.1\n",
      "\n",
      "scipy 1.3.0\n",
      "matplotlib 3.1.0\n",
      "numpy 1.16.4\n",
      "sympy 1.4\n"
     ]
    }
   ],
   "source": [
    "%load_ext watermark\n",
    "%watermark -v -p scipy,matplotlib,numpy,sympy"
   ]
  },
  {
   "cell_type": "code",
   "execution_count": null,
   "metadata": {},
   "outputs": [],
   "source": []
  }
 ],
 "metadata": {
  "kernelspec": {
   "display_name": "Python 3",
   "language": "python",
   "name": "python3"
  },
  "language_info": {
   "codemirror_mode": {
    "name": "ipython",
    "version": 3
   },
   "file_extension": ".py",
   "mimetype": "text/x-python",
   "name": "python",
   "nbconvert_exporter": "python",
   "pygments_lexer": "ipython3",
   "version": "3.7.3"
  }
 },
 "nbformat": 4,
 "nbformat_minor": 4
}
