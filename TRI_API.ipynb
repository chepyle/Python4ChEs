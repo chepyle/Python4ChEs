{
 "cells": [
  {
   "cell_type": "markdown",
   "metadata": {},
   "source": [
    "# Extract data using an API\n",
    "Use a public application program interface (API) to download some data.  Many web sites have data available through APIs, though to prevent abuse, you many need to register or pay a fee.  The US government is far less restrictive and has many sets of data freely available through https://data.gov \n",
    "\n",
    "In this notebook, lets download some data from the [EPA's Toxics Release Inventory (TRI)](https://www.epa.gov/enviro/tri-overview), a useful source of data on reporting how toxic chemicals are managed.  Like a lot of things, there are many resources available by searching the internet.  I'm drawing on inspiration (and code) from [this project](https://github.com/kperry2215/pull_data_from_EPA_Envirofacts_API)\n",
    "\n",
    "As with any exploratory data analysis, you should get familiar with the data.  [This link is a good resource](https://www.epa.gov/toxics-release-inventory-tri-program/factors-consider-when-using-toxics-release-inventory-data)\n",
    "\n",
    "It helps to start with some questions that come to mind.  Here, let's ask the data:  \n",
    "\n",
    " - What are the major ways chemicals are disposed?  \n",
    " - What are the top chemicals burned for energy recovery? Are there trends over time?"
   ]
  },
  {
   "cell_type": "code",
   "execution_count": null,
   "metadata": {},
   "outputs": [],
   "source": [
    "import holoviews as hv\n",
    "import hvplot.pandas\n",
    "import pandas as pd\n",
    "import io\n",
    "import requests\n",
    "from bs4 import BeautifulSoup # parse some xml returned "
   ]
  },
  {
   "cell_type": "markdown",
   "metadata": {},
   "source": [
    "Define a function to take in the names of tables and other filters, and return a pandas dataframe.  The call to the API is constructed according to the rules described here: https://www.epa.gov/enviro/envirofacts-data-service-api\n"
   ]
  },
  {
   "cell_type": "markdown",
   "metadata": {},
   "source": [
    "\n"
   ]
  },
  {
   "cell_type": "code",
   "execution_count": 11,
   "metadata": {},
   "outputs": [],
   "source": [
    "def TRI_Query(table_name1,table_name2,table_name3,state=None, county=None,\n",
    "                        area_code=None, year=None,chunk_size=100000):\n",
    "    base_url='https://data.epa.gov/efservice/'\n",
    "    output_format='CSV'\n",
    "    query = base_url\n",
    "    query+=table_name1+'/'\n",
    "    #Add in the state qualifier, if the desired_state variable is named\n",
    "    if state:\n",
    "        query+='state_abbr/=/'+state+'/'\n",
    "    #Add in the county qualifier, if the desired_county variable is named\n",
    "    if county:\n",
    "        query+='county_name/'+county+'/'\n",
    "    #Add in the area code qualifier, if the desired_area_code variable is named\n",
    "    if area_code:\n",
    "        query+='zip_code/'+str(area_code)+'/'\n",
    "    #Add in the next table name and year qualifier, if the desired_year variable is named\n",
    "    query += table_name2+'/'\n",
    "    if year:\n",
    "        if type(year) is list:\n",
    "            query+='reporting_year/'+str(year[0])+'/'+str(year[1])+'/'\n",
    "        else:        \n",
    "            query+='reporting_year/'+str(year)+'/'\n",
    "    #add the third table\n",
    "    query += table_name3+'/'\n",
    "    count_query = query+'count/'\n",
    "    \n",
    "    count_xml = requests.get(count_query).content\n",
    "    \n",
    "    nrows= int(BeautifulSoup(count_xml).find('requestrecordcount').contents[0])\n",
    "    \n",
    "    #Add in the desired output format to the query\n",
    "    csv_query = query+ output_format\n",
    "\n",
    "    \n",
    "    #Return the completed query\n",
    "    print('Start download of {} rows'.format(nrows))\n",
    "    s=requests.get(csv_query).content\n",
    "    dataframe=pd.read_csv(io.StringIO(s.decode('utf-8')), engine='python',\n",
    "                      encoding='utf-8', error_bad_lines=False)\n",
    "    print('Downloaded data {} of {} rows'.format(dataframe.shape[0],nrows))\n",
    "    while dataframe.shape[0] < nrows:\n",
    "        new_query = query + 'rows/'+str(dataframe.shape[0])+':'+str(dataframe.shape[0]+chunk_size)+'/'\n",
    "        csv_query = new_query+ output_format\n",
    "        s=requests.get(csv_query).content\n",
    "        dataframe = dataframe.append(pd.read_csv(io.StringIO(s.decode('utf-8')), engine='python',\n",
    "                      encoding='utf-8', error_bad_lines=False))\n",
    "        print('Downloaded data {} of {} rows'.format(dataframe.shape[0],nrows))\n",
    "        \n",
    "    return dataframe\n",
    "\n",
    "\n"
   ]
  },
  {
   "cell_type": "markdown",
   "metadata": {},
   "source": [
    "We will join three tables from Envirofacts: *TRI_REPORTING_FORM* contains the data from the Toxic Chemical Release Inventory Reporting Form submitted each year, *TRI_FACILITY* contains the name and location of the facility producing the waste, *TRI_TRANSFER_QTY* contains the data on the quantities of the chemical (in pounds) moved from the reporting facility.  Some more information on the TRI form codes can be found here: https://www.epa.gov/sites/production/files/documents/ry2012rfi.pdf\n",
    "\n",
    "\n",
    "Lets read in the data using the function defined above, and, due to the sheer size, limit the data to the past 10 years:"
   ]
  },
  {
   "cell_type": "code",
   "execution_count": 42,
   "metadata": {},
   "outputs": [
    {
     "name": "stdout",
     "output_type": "stream",
     "text": [
      "Start download of 1834391 rows\n",
      "Downloaded data 100001 of 1834391 rows\n",
      "Downloaded data 200002 of 1834391 rows\n",
      "Downloaded data 300003 of 1834391 rows\n",
      "Downloaded data 400004 of 1834391 rows\n",
      "Downloaded data 500005 of 1834391 rows\n",
      "Downloaded data 600006 of 1834391 rows\n",
      "Downloaded data 700007 of 1834391 rows\n",
      "Downloaded data 800008 of 1834391 rows\n",
      "Downloaded data 900009 of 1834391 rows\n",
      "Downloaded data 1000010 of 1834391 rows\n",
      "Downloaded data 1100011 of 1834391 rows\n",
      "Downloaded data 1200012 of 1834391 rows\n",
      "Downloaded data 1300013 of 1834391 rows\n",
      "Downloaded data 1400014 of 1834391 rows\n",
      "Downloaded data 1500015 of 1834391 rows\n",
      "Downloaded data 1600016 of 1834391 rows\n",
      "Downloaded data 1700017 of 1834391 rows\n",
      "Downloaded data 1800018 of 1834391 rows\n",
      "Downloaded data 1834391 of 1834391 rows\n"
     ]
    }
   ],
   "source": [
    "#Declare the names of the tables that we want to pull\n",
    "table_name2='TRI_REPORTING_FORM'\n",
    "table_name1='TRI_FACILITY'\n",
    "table_name3 = 'TRI_TRANSFER_QTY'\n",
    "\n",
    "# call the function with the table names and filter criteria\n",
    "tri_df =TRI_Query(table_name1,table_name2,table_name3,year=['>',2008])\n"
   ]
  },
  {
   "cell_type": "code",
   "execution_count": null,
   "metadata": {},
   "outputs": [],
   "source": []
  },
  {
   "cell_type": "code",
   "execution_count": 43,
   "metadata": {},
   "outputs": [
    {
     "data": {
      "text/plain": [
       "(1834391, 114)"
      ]
     },
     "execution_count": 43,
     "metadata": {},
     "output_type": "execute_result"
    }
   ],
   "source": [
    "tri_df.shape"
   ]
  },
  {
   "cell_type": "markdown",
   "metadata": {},
   "source": [
    "Inspect a random sample of the data to make sure it is what we expect"
   ]
  },
  {
   "cell_type": "code",
   "execution_count": 44,
   "metadata": {},
   "outputs": [
    {
     "data": {
      "text/plain": [
       "TRI_REPORTING_FORM.CAS_CHEM_NAME  TRI_FACILITY.STANDARDIZED_PARENT_COMPANY  TRI_TRANSFER_QTY.TYPE_OF_WASTE_MANAGEMENT\n",
       "ZINC COMPOUNDS                    HUBBELL HOLDING CORP                      M41                                             433.00\n",
       "BENZENE                           HOLCIM (US) INC                           M92                                            1022.70\n",
       "NICKEL                            ARCONIC INC                               M94                                          100526.28\n",
       "DIISOCYANATES                     THE SHERWIN-WILLIAMS CO                   M69                                          181066.00\n",
       "POLYCYCLIC AROMATIC COMPOUNDS     EXPERA SPECIALTY SOLUTIONS LLC            M64                                               8.70\n",
       "Name: TRI_TRANSFER_QTY.TOTAL_TRANSFER, dtype: float64"
      ]
     },
     "execution_count": 44,
     "metadata": {},
     "output_type": "execute_result"
    }
   ],
   "source": [
    "tri_df.groupby(['TRI_REPORTING_FORM.CAS_CHEM_NAME',\n",
    "                 'TRI_FACILITY.STANDARDIZED_PARENT_COMPANY',\n",
    "                 'TRI_TRANSFER_QTY.TYPE_OF_WASTE_MANAGEMENT'])['TRI_TRANSFER_QTY.TOTAL_TRANSFER'].sum().sample(5)"
   ]
  },
  {
   "cell_type": "markdown",
   "metadata": {},
   "source": [
    "Save the downloaded data to explore offline as a plain text file"
   ]
  },
  {
   "cell_type": "code",
   "execution_count": 45,
   "metadata": {},
   "outputs": [],
   "source": [
    "tri_df.to_csv('TRI_DATA.tsv',sep='\\t') #there are commas in the text so use tab delimiters"
   ]
  },
  {
   "cell_type": "code",
   "execution_count": null,
   "metadata": {},
   "outputs": [],
   "source": []
  },
  {
   "cell_type": "code",
   "execution_count": null,
   "metadata": {},
   "outputs": [],
   "source": []
  },
  {
   "cell_type": "code",
   "execution_count": null,
   "metadata": {},
   "outputs": [],
   "source": []
  },
  {
   "cell_type": "markdown",
   "metadata": {},
   "source": [
    "Create a lookup dictionary to replace values for the codes"
   ]
  },
  {
   "cell_type": "code",
   "execution_count": 46,
   "metadata": {},
   "outputs": [],
   "source": [
    "wm_dict = {'P91':'Waste water treatment',\n",
    "           'M56':'Energy Recovery',\n",
    "           'M50':'Incineration/Thermal Treatment',\n",
    "           'M64':'Other Landfills',\n",
    "           'M24':'Metals Recovery',\n",
    "           'M26':'Other Reuse or Recovery',\n",
    "           'M41':'Solidification/Stabilization - Metals and Metal Category Compounds only',\n",
    "           'M90':'Other Off-Site Management',\n",
    "           'M61':'Wastewater Treatment (Excluding POTW)',\n",
    "           'M93':'Transfer to Waste Broker - Recycling ',\n",
    "           'M92':'Transfer to Waste Broker - Energy Recovery',\n",
    "           'M94':'Transfer to Waste Broker - Disposal',\n",
    "           'M20':'Solvents/Organics Recovery',\n",
    "           'M99':'Unknown',\n",
    "           'M54':'Incineration/Insignificant Fuel Value ',\n",
    "           'M95':'Transfer to Waste Broker - Waste Treatment',\n",
    "           'M62':'Wastewater Treatment (Excluding POTW) - Metals and Metal Category Compounds only',\n",
    "           'M79':'Other Land Disposal',\n",
    "           'M65':'RCRA Subtitle C Landfills',\n",
    "           'M69':'Other Waste Treatment',\n",
    "           'M40':'Solidification/Stabilization',\n",
    "           'M73':'Land Treatment',\n",
    "           'M10':'Storage Only',\n",
    "           'M81':'Underground Injection to Class I Wells',\n",
    "           'M66':'Subtitle C Surface Impoundment',\n",
    "           'M67':'Other Surface Impoundments',\n",
    "           'M28':'Acid Regeneration',\n",
    "           'M82':'Underground Injection to Class II- V Wells',\n",
    "           'M72':'Landfill/Disposal Surface Impoundment'\n",
    "          }"
   ]
  },
  {
   "cell_type": "code",
   "execution_count": 47,
   "metadata": {},
   "outputs": [],
   "source": [
    "# do the replacement:\n",
    "tri_df.replace({'TRI_TRANSFER_QTY.TYPE_OF_WASTE_MANAGEMENT':wm_dict},inplace=True)"
   ]
  },
  {
   "cell_type": "code",
   "execution_count": 69,
   "metadata": {},
   "outputs": [
    {
     "data": {
      "text/html": [
       "<div>\n",
       "<style scoped>\n",
       "    .dataframe tbody tr th:only-of-type {\n",
       "        vertical-align: middle;\n",
       "    }\n",
       "\n",
       "    .dataframe tbody tr th {\n",
       "        vertical-align: top;\n",
       "    }\n",
       "\n",
       "    .dataframe thead th {\n",
       "        text-align: right;\n",
       "    }\n",
       "</style>\n",
       "<table border=\"1\" class=\"dataframe\">\n",
       "  <thead>\n",
       "    <tr style=\"text-align: right;\">\n",
       "      <th></th>\n",
       "      <th>TRI_TRANSFER_QTY.TOTAL_TRANSFER</th>\n",
       "      <th>% of total</th>\n",
       "    </tr>\n",
       "    <tr>\n",
       "      <th>TRI_TRANSFER_QTY.TYPE_OF_WASTE_MANAGEMENT</th>\n",
       "      <th></th>\n",
       "      <th></th>\n",
       "    </tr>\n",
       "  </thead>\n",
       "  <tbody>\n",
       "    <tr>\n",
       "      <th>Metals Recovery</th>\n",
       "      <td>1.455281e+10</td>\n",
       "      <td>39.551655</td>\n",
       "    </tr>\n",
       "    <tr>\n",
       "      <th>Transfer to Waste Broker - Recycling</th>\n",
       "      <td>4.026914e+09</td>\n",
       "      <td>10.944356</td>\n",
       "    </tr>\n",
       "    <tr>\n",
       "      <th>Energy Recovery</th>\n",
       "      <td>3.516161e+09</td>\n",
       "      <td>9.556230</td>\n",
       "    </tr>\n",
       "    <tr>\n",
       "      <th>Other Reuse or Recovery</th>\n",
       "      <td>2.526311e+09</td>\n",
       "      <td>6.866014</td>\n",
       "    </tr>\n",
       "    <tr>\n",
       "      <th>Waste water treatment</th>\n",
       "      <td>2.439617e+09</td>\n",
       "      <td>6.630397</td>\n",
       "    </tr>\n",
       "  </tbody>\n",
       "</table>\n",
       "</div>"
      ],
      "text/plain": [
       "                                           TRI_TRANSFER_QTY.TOTAL_TRANSFER  \\\n",
       "TRI_TRANSFER_QTY.TYPE_OF_WASTE_MANAGEMENT                                    \n",
       "Metals Recovery                                               1.455281e+10   \n",
       "Transfer to Waste Broker - Recycling                          4.026914e+09   \n",
       "Energy Recovery                                               3.516161e+09   \n",
       "Other Reuse or Recovery                                       2.526311e+09   \n",
       "Waste water treatment                                         2.439617e+09   \n",
       "\n",
       "                                           % of total  \n",
       "TRI_TRANSFER_QTY.TYPE_OF_WASTE_MANAGEMENT              \n",
       "Metals Recovery                             39.551655  \n",
       "Transfer to Waste Broker - Recycling        10.944356  \n",
       "Energy Recovery                              9.556230  \n",
       "Other Reuse or Recovery                      6.866014  \n",
       "Waste water treatment                        6.630397  "
      ]
     },
     "execution_count": 69,
     "metadata": {},
     "output_type": "execute_result"
    }
   ],
   "source": [
    "type_df = tri_df[['TRI_TRANSFER_QTY.TOTAL_TRANSFER',\n",
    "                  'TRI_TRANSFER_QTY.TYPE_OF_WASTE_MANAGEMENT']].groupby('TRI_TRANSFER_QTY.TYPE_OF_WASTE_MANAGEMENT').sum()\n",
    "type_df['% of total'] = type_df['TRI_TRANSFER_QTY.TOTAL_TRANSFER']/type_df['TRI_TRANSFER_QTY.TOTAL_TRANSFER'].sum()*100\n",
    "type_df.sort_values('% of total',ascending=False).head(5)"
   ]
  },
  {
   "cell_type": "code",
   "execution_count": 49,
   "metadata": {},
   "outputs": [],
   "source": [
    "subset = tri_df.loc[tri_df['TRI_TRANSFER_QTY.TYPE_OF_WASTE_MANAGEMENT'].isin(['Energy Recovery',\n",
    "                                                                                'Transfer to Waste Broker - Energy Recovery'])]\n",
    "df = pd.pivot_table(subset,values='TRI_TRANSFER_QTY.TOTAL_TRANSFER',\n",
    "                    index=['TRI_REPORTING_FORM.REPORTING_YEAR'],\n",
    "                    columns=['TRI_REPORTING_FORM.CAS_CHEM_NAME'], aggfunc=sum, fill_value=0)"
   ]
  },
  {
   "cell_type": "code",
   "execution_count": null,
   "metadata": {},
   "outputs": [],
   "source": []
  },
  {
   "cell_type": "code",
   "execution_count": 51,
   "metadata": {},
   "outputs": [
    {
     "data": {
      "text/plain": [
       "TRI_REPORTING_FORM.CAS_CHEM_NAME\n",
       "METHANOL                  9.244396e+08\n",
       "TOLUENE                   7.382267e+08\n",
       "XYLENE (MIXED ISOMERS)    5.263581e+08\n",
       "CERTAIN GLYCOL ETHERS     1.224165e+08\n",
       "STYRENE                   1.214858e+08\n",
       "ETHYLENE                  1.124619e+08\n",
       "ETHYLBENZENE              1.058655e+08\n",
       "N-BUTYL ALCOHOL           9.846949e+07\n",
       "METHYL ISOBUTYL KETONE    8.626281e+07\n",
       "ACETONITRILE              7.949454e+07\n",
       "dtype: float64"
      ]
     },
     "execution_count": 51,
     "metadata": {},
     "output_type": "execute_result"
    }
   ],
   "source": [
    "top_chems = df.sum(axis='rows').sort_values(ascending=False).head(10)\n",
    "top_chems"
   ]
  },
  {
   "cell_type": "code",
   "execution_count": 52,
   "metadata": {},
   "outputs": [
    {
     "data": {
      "application/vnd.holoviews_exec.v0+json": "",
      "text/html": [
       "<div id='165575' style='display: table; margin: 0 auto;'>\n",
       "\n",
       "\n",
       "\n",
       "\n",
       "\n",
       "  <div class=\"bk-root\" id=\"e5bf075c-4d81-4d7b-a5cd-60f9b83b5499\" data-root-id=\"165575\"></div>\n",
       "</div>\n",
       "<script type=\"application/javascript\">(function(root) {\n",
       "  function embed_document(root) {\n",
       "    \n",
       "  var docs_json = {\"4da05150-c771-4b94-8158-b0ab2acb95b4\":{\"roots\":{\"references\":[{\"attributes\":{\"below\":[{\"id\":\"165584\",\"type\":\"LinearAxis\"}],\"center\":[{\"id\":\"165588\",\"type\":\"Grid\"},{\"id\":\"165593\",\"type\":\"Grid\"},{\"id\":\"165624\",\"type\":\"Legend\"}],\"left\":[{\"id\":\"165589\",\"type\":\"LogAxis\"}],\"margin\":null,\"min_border_bottom\":10,\"min_border_left\":10,\"min_border_right\":10,\"min_border_top\":10,\"plot_height\":400,\"plot_width\":800,\"renderers\":[{\"id\":\"165616\",\"type\":\"GlyphRenderer\"},{\"id\":\"165632\",\"type\":\"GlyphRenderer\"},{\"id\":\"165649\",\"type\":\"GlyphRenderer\"},{\"id\":\"165668\",\"type\":\"GlyphRenderer\"},{\"id\":\"165689\",\"type\":\"GlyphRenderer\"},{\"id\":\"165712\",\"type\":\"GlyphRenderer\"},{\"id\":\"165737\",\"type\":\"GlyphRenderer\"},{\"id\":\"165764\",\"type\":\"GlyphRenderer\"},{\"id\":\"165793\",\"type\":\"GlyphRenderer\"},{\"id\":\"165824\",\"type\":\"GlyphRenderer\"}],\"right\":[{\"id\":\"165624\",\"type\":\"Legend\"}],\"sizing_mode\":\"fixed\",\"title\":{\"id\":\"165576\",\"type\":\"Title\"},\"toolbar\":{\"id\":\"165599\",\"type\":\"Toolbar\"},\"x_range\":{\"id\":\"165563\",\"type\":\"Range1d\"},\"x_scale\":{\"id\":\"165580\",\"type\":\"LinearScale\"},\"y_range\":{\"id\":\"165564\",\"type\":\"Range1d\"},\"y_scale\":{\"id\":\"165582\",\"type\":\"LogScale\"}},\"id\":\"165575\",\"subtype\":\"Figure\",\"type\":\"Plot\"},{\"attributes\":{\"line_alpha\":0.1,\"line_color\":\"#e377c2\",\"line_width\":2,\"x\":{\"field\":\"TRI_REPORTING_FORM.REPORTING_YEAR\"},\"y\":{\"field\":\"value\"}},\"id\":\"165735\",\"type\":\"Line\"},{\"attributes\":{\"axis_label\":\"TRI_REPORTING_FORM.REPORTING_YEAR\",\"bounds\":\"auto\",\"formatter\":{\"id\":\"165606\",\"type\":\"BasicTickFormatter\"},\"major_label_orientation\":\"horizontal\",\"ticker\":{\"id\":\"165585\",\"type\":\"BasicTicker\"}},\"id\":\"165584\",\"type\":\"LinearAxis\"},{\"attributes\":{\"data_source\":{\"id\":\"165643\",\"type\":\"ColumnDataSource\"},\"glyph\":{\"id\":\"165646\",\"type\":\"Line\"},\"hover_glyph\":null,\"muted_glyph\":{\"id\":\"165648\",\"type\":\"Line\"},\"nonselection_glyph\":{\"id\":\"165647\",\"type\":\"Line\"},\"selection_glyph\":null,\"view\":{\"id\":\"165650\",\"type\":\"CDSView\"}},\"id\":\"165649\",\"type\":\"GlyphRenderer\"},{\"attributes\":{},\"id\":\"165707\",\"type\":\"Selection\"},{\"attributes\":{\"callback\":null,\"data\":{\"TRI_REPORTING_FORM.REPORTING_YEAR\":[2009,2010,2011,2012,2013,2014,2015,2016,2017,2018],\"TRI_REPORTING_FORM_full_stop_REPORTING_YEAR\":[2009,2010,2011,2012,2013,2014,2015,2016,2017,2018],\"Variable\":[\"N-BUTYL ALCOHOL\",\"N-BUTYL ALCOHOL\",\"N-BUTYL ALCOHOL\",\"N-BUTYL ALCOHOL\",\"N-BUTYL ALCOHOL\",\"N-BUTYL ALCOHOL\",\"N-BUTYL ALCOHOL\",\"N-BUTYL ALCOHOL\",\"N-BUTYL ALCOHOL\",\"N-BUTYL ALCOHOL\"],\"value\":{\"__ndarray__\":\"qzXNx3tXVEGpecexIJhbQY+zsLFevVxBOM07ptpCVkGDEftclVFbQXS1FdPHfWFBEse6Eg7ocEFgw9PjDXhlQVGWIfydlmpBI7n8XYlTaUE=\",\"dtype\":\"float64\",\"shape\":[10]}},\"selected\":{\"id\":\"165759\",\"type\":\"Selection\"},\"selection_policy\":{\"id\":\"165815\",\"type\":\"UnionRenderers\"}},\"id\":\"165758\",\"type\":\"ColumnDataSource\"},{\"attributes\":{\"line_alpha\":0.2,\"line_color\":\"#2ca02c\",\"line_width\":2,\"x\":{\"field\":\"TRI_REPORTING_FORM.REPORTING_YEAR\"},\"y\":{\"field\":\"value\"}},\"id\":\"165648\",\"type\":\"Line\"},{\"attributes\":{},\"id\":\"165684\",\"type\":\"Selection\"},{\"attributes\":{\"label\":{\"value\":\"CERTAIN GLYCOL ETHERS\"},\"renderers\":[{\"id\":\"165668\",\"type\":\"GlyphRenderer\"}]},\"id\":\"165682\",\"type\":\"LegendItem\"},{\"attributes\":{},\"id\":\"165663\",\"type\":\"Selection\"},{\"attributes\":{\"data_source\":{\"id\":\"165662\",\"type\":\"ColumnDataSource\"},\"glyph\":{\"id\":\"165665\",\"type\":\"Line\"},\"hover_glyph\":null,\"muted_glyph\":{\"id\":\"165667\",\"type\":\"Line\"},\"nonselection_glyph\":{\"id\":\"165666\",\"type\":\"Line\"},\"selection_glyph\":null,\"view\":{\"id\":\"165669\",\"type\":\"CDSView\"}},\"id\":\"165668\",\"type\":\"GlyphRenderer\"},{\"attributes\":{\"line_alpha\":0.1,\"line_color\":\"#2ca02c\",\"line_width\":2,\"x\":{\"field\":\"TRI_REPORTING_FORM.REPORTING_YEAR\"},\"y\":{\"field\":\"value\"}},\"id\":\"165647\",\"type\":\"Line\"},{\"attributes\":{},\"id\":\"165680\",\"type\":\"UnionRenderers\"},{\"attributes\":{\"line_alpha\":0.2,\"line_color\":\"#9467bd\",\"line_width\":2,\"x\":{\"field\":\"TRI_REPORTING_FORM.REPORTING_YEAR\"},\"y\":{\"field\":\"value\"}},\"id\":\"165688\",\"type\":\"Line\"},{\"attributes\":{\"data_source\":{\"id\":\"165706\",\"type\":\"ColumnDataSource\"},\"glyph\":{\"id\":\"165709\",\"type\":\"Line\"},\"hover_glyph\":null,\"muted_glyph\":{\"id\":\"165711\",\"type\":\"Line\"},\"nonselection_glyph\":{\"id\":\"165710\",\"type\":\"Line\"},\"selection_glyph\":null,\"view\":{\"id\":\"165713\",\"type\":\"CDSView\"}},\"id\":\"165712\",\"type\":\"GlyphRenderer\"},{\"attributes\":{\"callback\":null,\"data\":{\"TRI_REPORTING_FORM.REPORTING_YEAR\":[2009,2010,2011,2012,2013,2014,2015,2016,2017,2018],\"TRI_REPORTING_FORM_full_stop_REPORTING_YEAR\":[2009,2010,2011,2012,2013,2014,2015,2016,2017,2018],\"Variable\":[\"TOLUENE\",\"TOLUENE\",\"TOLUENE\",\"TOLUENE\",\"TOLUENE\",\"TOLUENE\",\"TOLUENE\",\"TOLUENE\",\"TOLUENE\",\"TOLUENE\"],\"value\":{\"__ndarray__\":\"qcYLko0BkEHYgfM2bGWVQQUO2ARSmpFBnigl2w5yk0Fma53PQSSRQQdh0Z8KTZNBrpb2BgyCkEFcMp73bRSRQV2+NQmZaZFBzZi7/hw6jEE=\",\"dtype\":\"float64\",\"shape\":[10]}},\"selected\":{\"id\":\"165627\",\"type\":\"Selection\"},\"selection_policy\":{\"id\":\"165659\",\"type\":\"UnionRenderers\"}},\"id\":\"165626\",\"type\":\"ColumnDataSource\"},{\"attributes\":{\"data_source\":{\"id\":\"165683\",\"type\":\"ColumnDataSource\"},\"glyph\":{\"id\":\"165686\",\"type\":\"Line\"},\"hover_glyph\":null,\"muted_glyph\":{\"id\":\"165688\",\"type\":\"Line\"},\"nonselection_glyph\":{\"id\":\"165687\",\"type\":\"Line\"},\"selection_glyph\":null,\"view\":{\"id\":\"165690\",\"type\":\"CDSView\"}},\"id\":\"165689\",\"type\":\"GlyphRenderer\"},{\"attributes\":{\"line_color\":\"#8c564b\",\"line_width\":2,\"x\":{\"field\":\"TRI_REPORTING_FORM.REPORTING_YEAR\"},\"y\":{\"field\":\"value\"}},\"id\":\"165709\",\"type\":\"Line\"},{\"attributes\":{},\"id\":\"165732\",\"type\":\"Selection\"},{\"attributes\":{\"label\":{\"value\":\"XYLENE (MIXED ISOMERS)\"},\"renderers\":[{\"id\":\"165649\",\"type\":\"GlyphRenderer\"}]},\"id\":\"165661\",\"type\":\"LegendItem\"},{\"attributes\":{\"ticker\":null},\"id\":\"165608\",\"type\":\"LogTickFormatter\"},{\"attributes\":{\"data_source\":{\"id\":\"165818\",\"type\":\"ColumnDataSource\"},\"glyph\":{\"id\":\"165821\",\"type\":\"Line\"},\"hover_glyph\":null,\"muted_glyph\":{\"id\":\"165823\",\"type\":\"Line\"},\"nonselection_glyph\":{\"id\":\"165822\",\"type\":\"Line\"},\"selection_glyph\":null,\"view\":{\"id\":\"165825\",\"type\":\"CDSView\"}},\"id\":\"165824\",\"type\":\"GlyphRenderer\"},{\"attributes\":{\"label\":{\"value\":\"TOLUENE\"},\"renderers\":[{\"id\":\"165632\",\"type\":\"GlyphRenderer\"}]},\"id\":\"165642\",\"type\":\"LegendItem\"},{\"attributes\":{\"line_alpha\":0.1,\"line_color\":\"#8c564b\",\"line_width\":2,\"x\":{\"field\":\"TRI_REPORTING_FORM.REPORTING_YEAR\"},\"y\":{\"field\":\"value\"}},\"id\":\"165710\",\"type\":\"Line\"},{\"attributes\":{},\"id\":\"165582\",\"type\":\"LogScale\"},{\"attributes\":{\"line_alpha\":0.1,\"line_color\":\"#d62728\",\"line_width\":2,\"x\":{\"field\":\"TRI_REPORTING_FORM.REPORTING_YEAR\"},\"y\":{\"field\":\"value\"}},\"id\":\"165666\",\"type\":\"Line\"},{\"attributes\":{},\"id\":\"165759\",\"type\":\"Selection\"},{\"attributes\":{\"callback\":null,\"data\":{\"TRI_REPORTING_FORM.REPORTING_YEAR\":[2009,2010,2011,2012,2013,2014,2015,2016,2017,2018],\"TRI_REPORTING_FORM_full_stop_REPORTING_YEAR\":[2009,2010,2011,2012,2013,2014,2015,2016,2017,2018],\"Variable\":[\"ETHYLBENZENE\",\"ETHYLBENZENE\",\"ETHYLBENZENE\",\"ETHYLBENZENE\",\"ETHYLBENZENE\",\"ETHYLBENZENE\",\"ETHYLBENZENE\",\"ETHYLBENZENE\",\"ETHYLBENZENE\",\"ETHYLBENZENE\"],\"value\":{\"__ndarray__\":\"GnPXPE4xYEH4wmTy3chfQTuNtKU/wGBB8LW4Tpe9YUFHdM+Gp1RoQeTHmJEyhmlBIo3KIMgzZ0Evbf9FDUVlQdCqz/qwnmVBietRXDBmY0E=\",\"dtype\":\"float64\",\"shape\":[10]}},\"selected\":{\"id\":\"165732\",\"type\":\"Selection\"},\"selection_policy\":{\"id\":\"165784\",\"type\":\"UnionRenderers\"}},\"id\":\"165731\",\"type\":\"ColumnDataSource\"},{\"attributes\":{},\"id\":\"165580\",\"type\":\"LinearScale\"},{\"attributes\":{},\"id\":\"165611\",\"type\":\"Selection\"},{\"attributes\":{},\"id\":\"165848\",\"type\":\"UnionRenderers\"},{\"attributes\":{\"line_color\":\"#2ca02c\",\"line_width\":2,\"x\":{\"field\":\"TRI_REPORTING_FORM.REPORTING_YEAR\"},\"y\":{\"field\":\"value\"}},\"id\":\"165646\",\"type\":\"Line\"},{\"attributes\":{\"num_minor_ticks\":10},\"id\":\"165590\",\"type\":\"LogTicker\"},{\"attributes\":{\"axis_label\":\"\",\"bounds\":\"auto\",\"formatter\":{\"id\":\"165608\",\"type\":\"LogTickFormatter\"},\"major_label_orientation\":\"horizontal\",\"ticker\":{\"id\":\"165590\",\"type\":\"LogTicker\"}},\"id\":\"165589\",\"type\":\"LogAxis\"},{\"attributes\":{},\"id\":\"165585\",\"type\":\"BasicTicker\"},{\"attributes\":{\"label\":{\"value\":\"STYRENE\"},\"renderers\":[{\"id\":\"165689\",\"type\":\"GlyphRenderer\"}]},\"id\":\"165705\",\"type\":\"LegendItem\"},{\"attributes\":{\"line_alpha\":0.1,\"line_color\":\"#1f77b4\",\"line_width\":2,\"x\":{\"field\":\"TRI_REPORTING_FORM.REPORTING_YEAR\"},\"y\":{\"field\":\"value\"}},\"id\":\"165614\",\"type\":\"Line\"},{\"attributes\":{\"text\":\"\",\"text_color\":{\"value\":\"black\"},\"text_font_size\":{\"value\":\"12pt\"}},\"id\":\"165576\",\"type\":\"Title\"},{\"attributes\":{\"line_color\":\"#1f77b4\",\"line_width\":2,\"x\":{\"field\":\"TRI_REPORTING_FORM.REPORTING_YEAR\"},\"y\":{\"field\":\"value\"}},\"id\":\"165613\",\"type\":\"Line\"},{\"attributes\":{\"line_alpha\":0.2,\"line_color\":\"#d62728\",\"line_width\":2,\"x\":{\"field\":\"TRI_REPORTING_FORM.REPORTING_YEAR\"},\"y\":{\"field\":\"value\"}},\"id\":\"165667\",\"type\":\"Line\"},{\"attributes\":{\"source\":{\"id\":\"165787\",\"type\":\"ColumnDataSource\"}},\"id\":\"165794\",\"type\":\"CDSView\"},{\"attributes\":{\"grid_line_color\":null,\"ticker\":{\"id\":\"165585\",\"type\":\"BasicTicker\"}},\"id\":\"165588\",\"type\":\"Grid\"},{\"attributes\":{\"source\":{\"id\":\"165818\",\"type\":\"ColumnDataSource\"}},\"id\":\"165825\",\"type\":\"CDSView\"},{\"attributes\":{\"label\":{\"value\":\"ETHYLENE\"},\"renderers\":[{\"id\":\"165712\",\"type\":\"GlyphRenderer\"}]},\"id\":\"165730\",\"type\":\"LegendItem\"},{\"attributes\":{\"bottom_units\":\"screen\",\"fill_alpha\":{\"value\":0.5},\"fill_color\":{\"value\":\"lightgrey\"},\"left_units\":\"screen\",\"level\":\"overlay\",\"line_alpha\":{\"value\":1.0},\"line_color\":{\"value\":\"black\"},\"line_dash\":[4,4],\"line_width\":{\"value\":2},\"render_mode\":\"css\",\"right_units\":\"screen\",\"top_units\":\"screen\"},\"id\":\"165623\",\"type\":\"BoxAnnotation\"},{\"attributes\":{},\"id\":\"165815\",\"type\":\"UnionRenderers\"},{\"attributes\":{\"callback\":null,\"data\":{\"TRI_REPORTING_FORM.REPORTING_YEAR\":[2009,2010,2011,2012,2013,2014,2015,2016,2017,2018],\"TRI_REPORTING_FORM_full_stop_REPORTING_YEAR\":[2009,2010,2011,2012,2013,2014,2015,2016,2017,2018],\"Variable\":[\"CERTAIN GLYCOL ETHERS\",\"CERTAIN GLYCOL ETHERS\",\"CERTAIN GLYCOL ETHERS\",\"CERTAIN GLYCOL ETHERS\",\"CERTAIN GLYCOL ETHERS\",\"CERTAIN GLYCOL ETHERS\",\"CERTAIN GLYCOL ETHERS\",\"CERTAIN GLYCOL ETHERS\",\"CERTAIN GLYCOL ETHERS\",\"CERTAIN GLYCOL ETHERS\"],\"value\":{\"__ndarray__\":\"uB6FG06tZUHaEU5rcqFmQcLlseBg0mlBSxWM+sJdaUF1kxiMqWhqQdfFbawMLGZBzBDHLBORZEHSs1mt6iRkQWNd3BY5xWVBofgxgN3uakE=\",\"dtype\":\"float64\",\"shape\":[10]}},\"selected\":{\"id\":\"165663\",\"type\":\"Selection\"},\"selection_policy\":{\"id\":\"165703\",\"type\":\"UnionRenderers\"}},\"id\":\"165662\",\"type\":\"ColumnDataSource\"},{\"attributes\":{\"line_alpha\":0.2,\"line_color\":\"#8c564b\",\"line_width\":2,\"x\":{\"field\":\"TRI_REPORTING_FORM.REPORTING_YEAR\"},\"y\":{\"field\":\"value\"}},\"id\":\"165711\",\"type\":\"Line\"},{\"attributes\":{\"callback\":null,\"data\":{\"TRI_REPORTING_FORM.REPORTING_YEAR\":[2009,2010,2011,2012,2013,2014,2015,2016,2017,2018],\"TRI_REPORTING_FORM_full_stop_REPORTING_YEAR\":[2009,2010,2011,2012,2013,2014,2015,2016,2017,2018],\"Variable\":[\"METHANOL\",\"METHANOL\",\"METHANOL\",\"METHANOL\",\"METHANOL\",\"METHANOL\",\"METHANOL\",\"METHANOL\",\"METHANOL\",\"METHANOL\"],\"value\":{\"__ndarray__\":\"HvSsVaq0lUEIPZvpe0eUQRIQ00kJPJNBbaaiimFIlUGIi3NN6KyYQUudgKf68pdB4xQ9t61Gl0FwJ90cvdmVQS3xgAmpdJVBpb1BPMmxlkE=\",\"dtype\":\"float64\",\"shape\":[10]}},\"selected\":{\"id\":\"165611\",\"type\":\"Selection\"},\"selection_policy\":{\"id\":\"165640\",\"type\":\"UnionRenderers\"}},\"id\":\"165610\",\"type\":\"ColumnDataSource\"},{\"attributes\":{\"label\":{\"value\":\"N-BUTYL ALCOHOL\"},\"renderers\":[{\"id\":\"165764\",\"type\":\"GlyphRenderer\"}]},\"id\":\"165786\",\"type\":\"LegendItem\"},{\"attributes\":{\"line_alpha\":0.2,\"line_color\":\"#1f77b4\",\"line_width\":2,\"x\":{\"field\":\"TRI_REPORTING_FORM.REPORTING_YEAR\"},\"y\":{\"field\":\"value\"}},\"id\":\"165615\",\"type\":\"Line\"},{\"attributes\":{\"line_alpha\":0.1,\"line_color\":\"#9467bd\",\"line_width\":2,\"x\":{\"field\":\"TRI_REPORTING_FORM.REPORTING_YEAR\"},\"y\":{\"field\":\"value\"}},\"id\":\"165687\",\"type\":\"Line\"},{\"attributes\":{\"source\":{\"id\":\"165706\",\"type\":\"ColumnDataSource\"}},\"id\":\"165713\",\"type\":\"CDSView\"},{\"attributes\":{\"line_alpha\":0.2,\"line_color\":\"#e377c2\",\"line_width\":2,\"x\":{\"field\":\"TRI_REPORTING_FORM.REPORTING_YEAR\"},\"y\":{\"field\":\"value\"}},\"id\":\"165736\",\"type\":\"Line\"},{\"attributes\":{\"line_alpha\":0.2,\"line_color\":\"#17becf\",\"line_width\":2,\"x\":{\"field\":\"TRI_REPORTING_FORM.REPORTING_YEAR\"},\"y\":{\"field\":\"value\"}},\"id\":\"165823\",\"type\":\"Line\"},{\"attributes\":{\"source\":{\"id\":\"165643\",\"type\":\"ColumnDataSource\"}},\"id\":\"165650\",\"type\":\"CDSView\"},{\"attributes\":{\"line_color\":\"#bcbd22\",\"line_width\":2,\"x\":{\"field\":\"TRI_REPORTING_FORM.REPORTING_YEAR\"},\"y\":{\"field\":\"value\"}},\"id\":\"165790\",\"type\":\"Line\"},{\"attributes\":{},\"id\":\"165788\",\"type\":\"Selection\"},{\"attributes\":{\"callback\":null,\"data\":{\"TRI_REPORTING_FORM.REPORTING_YEAR\":[2009,2010,2011,2012,2013,2014,2015,2016,2017,2018],\"TRI_REPORTING_FORM_full_stop_REPORTING_YEAR\":[2009,2010,2011,2012,2013,2014,2015,2016,2017,2018],\"Variable\":[\"STYRENE\",\"STYRENE\",\"STYRENE\",\"STYRENE\",\"STYRENE\",\"STYRENE\",\"STYRENE\",\"STYRENE\",\"STYRENE\",\"STYRENE\"],\"value\":{\"__ndarray__\":\"hMDKfyhjY0F46SZVIwRlQVHaG/QQMmFBWvW5htTVYEHSK2V5GV9mQe1RuII3dGpBNBE2xnrCZEGVsgzRTy9vQUA6dbmX0m1Bg5As+1OwakE=\",\"dtype\":\"float64\",\"shape\":[10]}},\"selected\":{\"id\":\"165684\",\"type\":\"Selection\"},\"selection_policy\":{\"id\":\"165728\",\"type\":\"UnionRenderers\"}},\"id\":\"165683\",\"type\":\"ColumnDataSource\"},{\"attributes\":{\"source\":{\"id\":\"165683\",\"type\":\"ColumnDataSource\"}},\"id\":\"165690\",\"type\":\"CDSView\"},{\"attributes\":{\"data_source\":{\"id\":\"165610\",\"type\":\"ColumnDataSource\"},\"glyph\":{\"id\":\"165613\",\"type\":\"Line\"},\"hover_glyph\":null,\"muted_glyph\":{\"id\":\"165615\",\"type\":\"Line\"},\"nonselection_glyph\":{\"id\":\"165614\",\"type\":\"Line\"},\"selection_glyph\":null,\"view\":{\"id\":\"165617\",\"type\":\"CDSView\"}},\"id\":\"165616\",\"type\":\"GlyphRenderer\"},{\"attributes\":{},\"id\":\"165703\",\"type\":\"UnionRenderers\"},{\"attributes\":{\"line_color\":\"#9467bd\",\"line_width\":2,\"x\":{\"field\":\"TRI_REPORTING_FORM.REPORTING_YEAR\"},\"y\":{\"field\":\"value\"}},\"id\":\"165686\",\"type\":\"Line\"},{\"attributes\":{\"source\":{\"id\":\"165662\",\"type\":\"ColumnDataSource\"}},\"id\":\"165669\",\"type\":\"CDSView\"},{\"attributes\":{\"label\":{\"value\":\"ETHYLBENZENE\"},\"renderers\":[{\"id\":\"165737\",\"type\":\"GlyphRenderer\"}]},\"id\":\"165757\",\"type\":\"LegendItem\"},{\"attributes\":{\"line_color\":\"#7f7f7f\",\"line_width\":2,\"x\":{\"field\":\"TRI_REPORTING_FORM.REPORTING_YEAR\"},\"y\":{\"field\":\"value\"}},\"id\":\"165761\",\"type\":\"Line\"},{\"attributes\":{\"line_alpha\":0.1,\"line_color\":\"#bcbd22\",\"line_width\":2,\"x\":{\"field\":\"TRI_REPORTING_FORM.REPORTING_YEAR\"},\"y\":{\"field\":\"value\"}},\"id\":\"165791\",\"type\":\"Line\"},{\"attributes\":{},\"id\":\"165819\",\"type\":\"Selection\"},{\"attributes\":{\"line_color\":\"#e377c2\",\"line_width\":2,\"x\":{\"field\":\"TRI_REPORTING_FORM.REPORTING_YEAR\"},\"y\":{\"field\":\"value\"}},\"id\":\"165734\",\"type\":\"Line\"},{\"attributes\":{\"dimension\":1,\"grid_line_color\":null,\"ticker\":{\"id\":\"165590\",\"type\":\"LogTicker\"}},\"id\":\"165593\",\"type\":\"Grid\"},{\"attributes\":{\"data_source\":{\"id\":\"165731\",\"type\":\"ColumnDataSource\"},\"glyph\":{\"id\":\"165734\",\"type\":\"Line\"},\"hover_glyph\":null,\"muted_glyph\":{\"id\":\"165736\",\"type\":\"Line\"},\"nonselection_glyph\":{\"id\":\"165735\",\"type\":\"Line\"},\"selection_glyph\":null,\"view\":{\"id\":\"165738\",\"type\":\"CDSView\"}},\"id\":\"165737\",\"type\":\"GlyphRenderer\"},{\"attributes\":{},\"id\":\"165728\",\"type\":\"UnionRenderers\"},{\"attributes\":{\"callback\":null,\"data\":{\"TRI_REPORTING_FORM.REPORTING_YEAR\":[2009,2010,2011,2012,2013,2014,2015,2016,2017,2018],\"TRI_REPORTING_FORM_full_stop_REPORTING_YEAR\":[2009,2010,2011,2012,2013,2014,2015,2016,2017,2018],\"Variable\":[\"XYLENE (MIXED ISOMERS)\",\"XYLENE (MIXED ISOMERS)\",\"XYLENE (MIXED ISOMERS)\",\"XYLENE (MIXED ISOMERS)\",\"XYLENE (MIXED ISOMERS)\",\"XYLENE (MIXED ISOMERS)\",\"XYLENE (MIXED ISOMERS)\",\"XYLENE (MIXED ISOMERS)\",\"XYLENE (MIXED ISOMERS)\",\"XYLENE (MIXED ISOMERS)\"],\"value\":{\"__ndarray__\":\"M+aui3gBiUEmoAnzMkmJQZ1SnsgMLIhB96QzTtWSjkFeCLLZWYCIQQLnDKzfw4pBAu0i4/pAh0EqFOJYwFqHQYQ0YzELZYhBe+mm6iWuh0E=\",\"dtype\":\"float64\",\"shape\":[10]}},\"selected\":{\"id\":\"165644\",\"type\":\"Selection\"},\"selection_policy\":{\"id\":\"165680\",\"type\":\"UnionRenderers\"}},\"id\":\"165643\",\"type\":\"ColumnDataSource\"},{\"attributes\":{},\"id\":\"165640\",\"type\":\"UnionRenderers\"},{\"attributes\":{\"source\":{\"id\":\"165610\",\"type\":\"ColumnDataSource\"}},\"id\":\"165617\",\"type\":\"CDSView\"},{\"attributes\":{\"line_color\":\"#d62728\",\"line_width\":2,\"x\":{\"field\":\"TRI_REPORTING_FORM.REPORTING_YEAR\"},\"y\":{\"field\":\"value\"}},\"id\":\"165665\",\"type\":\"Line\"},{\"attributes\":{\"line_color\":\"#17becf\",\"line_width\":2,\"x\":{\"field\":\"TRI_REPORTING_FORM.REPORTING_YEAR\"},\"y\":{\"field\":\"value\"}},\"id\":\"165821\",\"type\":\"Line\"},{\"attributes\":{\"line_alpha\":0.1,\"line_color\":\"#17becf\",\"line_width\":2,\"x\":{\"field\":\"TRI_REPORTING_FORM.REPORTING_YEAR\"},\"y\":{\"field\":\"value\"}},\"id\":\"165822\",\"type\":\"Line\"},{\"attributes\":{},\"id\":\"165659\",\"type\":\"UnionRenderers\"},{\"attributes\":{\"line_alpha\":0.2,\"line_color\":\"#7f7f7f\",\"line_width\":2,\"x\":{\"field\":\"TRI_REPORTING_FORM.REPORTING_YEAR\"},\"y\":{\"field\":\"value\"}},\"id\":\"165763\",\"type\":\"Line\"},{\"attributes\":{\"line_alpha\":0.2,\"line_color\":\"#ff7f0e\",\"line_width\":2,\"x\":{\"field\":\"TRI_REPORTING_FORM.REPORTING_YEAR\"},\"y\":{\"field\":\"value\"}},\"id\":\"165631\",\"type\":\"Line\"},{\"attributes\":{\"label\":{\"value\":\"METHYL ISOBUTYL KETONE\"},\"renderers\":[{\"id\":\"165793\",\"type\":\"GlyphRenderer\"}]},\"id\":\"165817\",\"type\":\"LegendItem\"},{\"attributes\":{\"callback\":null,\"renderers\":[{\"id\":\"165616\",\"type\":\"GlyphRenderer\"},{\"id\":\"165632\",\"type\":\"GlyphRenderer\"},{\"id\":\"165649\",\"type\":\"GlyphRenderer\"},{\"id\":\"165668\",\"type\":\"GlyphRenderer\"},{\"id\":\"165689\",\"type\":\"GlyphRenderer\"},{\"id\":\"165712\",\"type\":\"GlyphRenderer\"},{\"id\":\"165737\",\"type\":\"GlyphRenderer\"},{\"id\":\"165764\",\"type\":\"GlyphRenderer\"},{\"id\":\"165793\",\"type\":\"GlyphRenderer\"},{\"id\":\"165824\",\"type\":\"GlyphRenderer\"}],\"tags\":[\"hv_created\"],\"tooltips\":[[\"Variable\",\"@{Variable}\"],[\"TRI_REPORTING_FORM.REPORTING_YEAR\",\"@{TRI_REPORTING_FORM_full_stop_REPORTING_YEAR}\"],[\"value\",\"@{value}\"]]},\"id\":\"165565\",\"type\":\"HoverTool\"},{\"attributes\":{},\"id\":\"165627\",\"type\":\"Selection\"},{\"attributes\":{},\"id\":\"165644\",\"type\":\"Selection\"},{\"attributes\":{\"source\":{\"id\":\"165731\",\"type\":\"ColumnDataSource\"}},\"id\":\"165738\",\"type\":\"CDSView\"},{\"attributes\":{},\"id\":\"165875\",\"type\":\"UnionRenderers\"},{\"attributes\":{},\"id\":\"165606\",\"type\":\"BasicTickFormatter\"},{\"attributes\":{\"click_policy\":\"mute\",\"items\":[{\"id\":\"165625\",\"type\":\"LegendItem\"},{\"id\":\"165642\",\"type\":\"LegendItem\"},{\"id\":\"165661\",\"type\":\"LegendItem\"},{\"id\":\"165682\",\"type\":\"LegendItem\"},{\"id\":\"165705\",\"type\":\"LegendItem\"},{\"id\":\"165730\",\"type\":\"LegendItem\"},{\"id\":\"165757\",\"type\":\"LegendItem\"},{\"id\":\"165786\",\"type\":\"LegendItem\"},{\"id\":\"165817\",\"type\":\"LegendItem\"},{\"id\":\"165850\",\"type\":\"LegendItem\"}],\"location\":[0,0]},\"id\":\"165624\",\"type\":\"Legend\"},{\"attributes\":{\"callback\":null,\"data\":{\"TRI_REPORTING_FORM.REPORTING_YEAR\":[2009,2010,2011,2012,2013,2014,2015,2016,2017,2018],\"TRI_REPORTING_FORM_full_stop_REPORTING_YEAR\":[2009,2010,2011,2012,2013,2014,2015,2016,2017,2018],\"Variable\":[\"ACETONITRILE\",\"ACETONITRILE\",\"ACETONITRILE\",\"ACETONITRILE\",\"ACETONITRILE\",\"ACETONITRILE\",\"ACETONITRILE\",\"ACETONITRILE\",\"ACETONITRILE\",\"ACETONITRILE\"],\"value\":{\"__ndarray__\":\"SOF6BAcXUkFcj8JVsXZbQR+F6/H0/WJBm+Yd40K7W0EVrkcxOqRcQY7C9Rh/71pBdr6fShAZXEGtR+ESQZ9cQc3MzKSyVFtBfT814N8sakE=\",\"dtype\":\"float64\",\"shape\":[10]}},\"selected\":{\"id\":\"165819\",\"type\":\"Selection\"},\"selection_policy\":{\"id\":\"165875\",\"type\":\"UnionRenderers\"}},\"id\":\"165818\",\"type\":\"ColumnDataSource\"},{\"attributes\":{\"source\":{\"id\":\"165758\",\"type\":\"ColumnDataSource\"}},\"id\":\"165765\",\"type\":\"CDSView\"},{\"attributes\":{},\"id\":\"165594\",\"type\":\"SaveTool\"},{\"attributes\":{\"data_source\":{\"id\":\"165758\",\"type\":\"ColumnDataSource\"},\"glyph\":{\"id\":\"165761\",\"type\":\"Line\"},\"hover_glyph\":null,\"muted_glyph\":{\"id\":\"165763\",\"type\":\"Line\"},\"nonselection_glyph\":{\"id\":\"165762\",\"type\":\"Line\"},\"selection_glyph\":null,\"view\":{\"id\":\"165765\",\"type\":\"CDSView\"}},\"id\":\"165764\",\"type\":\"GlyphRenderer\"},{\"attributes\":{},\"id\":\"165596\",\"type\":\"WheelZoomTool\"},{\"attributes\":{},\"id\":\"165784\",\"type\":\"UnionRenderers\"},{\"attributes\":{\"data_source\":{\"id\":\"165787\",\"type\":\"ColumnDataSource\"},\"glyph\":{\"id\":\"165790\",\"type\":\"Line\"},\"hover_glyph\":null,\"muted_glyph\":{\"id\":\"165792\",\"type\":\"Line\"},\"nonselection_glyph\":{\"id\":\"165791\",\"type\":\"Line\"},\"selection_glyph\":null,\"view\":{\"id\":\"165794\",\"type\":\"CDSView\"}},\"id\":\"165793\",\"type\":\"GlyphRenderer\"},{\"attributes\":{\"line_alpha\":0.1,\"line_color\":\"#7f7f7f\",\"line_width\":2,\"x\":{\"field\":\"TRI_REPORTING_FORM.REPORTING_YEAR\"},\"y\":{\"field\":\"value\"}},\"id\":\"165762\",\"type\":\"Line\"},{\"attributes\":{\"label\":{\"value\":\"ACETONITRILE\"},\"renderers\":[{\"id\":\"165824\",\"type\":\"GlyphRenderer\"}]},\"id\":\"165850\",\"type\":\"LegendItem\"},{\"attributes\":{\"overlay\":{\"id\":\"165623\",\"type\":\"BoxAnnotation\"}},\"id\":\"165597\",\"type\":\"BoxZoomTool\"},{\"attributes\":{\"label\":{\"value\":\"METHANOL\"},\"renderers\":[{\"id\":\"165616\",\"type\":\"GlyphRenderer\"}]},\"id\":\"165625\",\"type\":\"LegendItem\"},{\"attributes\":{\"line_alpha\":0.2,\"line_color\":\"#bcbd22\",\"line_width\":2,\"x\":{\"field\":\"TRI_REPORTING_FORM.REPORTING_YEAR\"},\"y\":{\"field\":\"value\"}},\"id\":\"165792\",\"type\":\"Line\"},{\"attributes\":{\"callback\":null,\"data\":{\"TRI_REPORTING_FORM.REPORTING_YEAR\":[2009,2010,2011,2012,2013,2014,2015,2016,2017,2018],\"TRI_REPORTING_FORM_full_stop_REPORTING_YEAR\":[2009,2010,2011,2012,2013,2014,2015,2016,2017,2018],\"Variable\":[\"ETHYLENE\",\"ETHYLENE\",\"ETHYLENE\",\"ETHYLENE\",\"ETHYLENE\",\"ETHYLENE\",\"ETHYLENE\",\"ETHYLENE\",\"ETHYLENE\",\"ETHYLENE\"],\"value\":{\"__ndarray__\":\"zczMLKuBaEHsUbjuSpdmQbgehQuGpVJBFK5H4S+SWEEAAAAADlhdQQAAAACjFmBBAAAAgNk6aUEAAABgc+ZtQQAAAIDLLmpBAAAA4LrccEE=\",\"dtype\":\"float64\",\"shape\":[10]}},\"selected\":{\"id\":\"165707\",\"type\":\"Selection\"},\"selection_policy\":{\"id\":\"165755\",\"type\":\"UnionRenderers\"}},\"id\":\"165706\",\"type\":\"ColumnDataSource\"},{\"attributes\":{\"callback\":null,\"end\":2018.0,\"reset_end\":2018.0,\"reset_start\":2009.0,\"start\":2009.0,\"tags\":[[[\"TRI_REPORTING_FORM.REPORTING_YEAR\",\"TRI_REPORTING_FORM.REPORTING_YEAR\",null]]]},\"id\":\"165563\",\"type\":\"Range1d\"},{\"attributes\":{\"active_drag\":\"auto\",\"active_inspect\":\"auto\",\"active_multi\":null,\"active_scroll\":\"auto\",\"active_tap\":\"auto\",\"tools\":[{\"id\":\"165565\",\"type\":\"HoverTool\"},{\"id\":\"165594\",\"type\":\"SaveTool\"},{\"id\":\"165595\",\"type\":\"PanTool\"},{\"id\":\"165596\",\"type\":\"WheelZoomTool\"},{\"id\":\"165597\",\"type\":\"BoxZoomTool\"},{\"id\":\"165598\",\"type\":\"ResetTool\"}]},\"id\":\"165599\",\"type\":\"Toolbar\"},{\"attributes\":{\"callback\":null,\"data\":{\"TRI_REPORTING_FORM.REPORTING_YEAR\":[2009,2010,2011,2012,2013,2014,2015,2016,2017,2018],\"TRI_REPORTING_FORM_full_stop_REPORTING_YEAR\":[2009,2010,2011,2012,2013,2014,2015,2016,2017,2018],\"Variable\":[\"METHYL ISOBUTYL KETONE\",\"METHYL ISOBUTYL KETONE\",\"METHYL ISOBUTYL KETONE\",\"METHYL ISOBUTYL KETONE\",\"METHYL ISOBUTYL KETONE\",\"METHYL ISOBUTYL KETONE\",\"METHYL ISOBUTYL KETONE\",\"METHYL ISOBUTYL KETONE\",\"METHYL ISOBUTYL KETONE\",\"METHYL ISOBUTYL KETONE\"],\"value\":{\"__ndarray__\":\"yAc9U15GVUGDL0zGk05XQX1hMtEGllxBDky1ggR5W0HVmuYJW2xjQRkEVrJ7CmJByEs3J19TY0E8m1VbIIRiQcOGp29M/mJBfvs6cuHpY0E=\",\"dtype\":\"float64\",\"shape\":[10]}},\"selected\":{\"id\":\"165788\",\"type\":\"Selection\"},\"selection_policy\":{\"id\":\"165848\",\"type\":\"UnionRenderers\"}},\"id\":\"165787\",\"type\":\"ColumnDataSource\"},{\"attributes\":{\"line_color\":\"#ff7f0e\",\"line_width\":2,\"x\":{\"field\":\"TRI_REPORTING_FORM.REPORTING_YEAR\"},\"y\":{\"field\":\"value\"}},\"id\":\"165629\",\"type\":\"Line\"},{\"attributes\":{\"source\":{\"id\":\"165626\",\"type\":\"ColumnDataSource\"}},\"id\":\"165633\",\"type\":\"CDSView\"},{\"attributes\":{},\"id\":\"165755\",\"type\":\"UnionRenderers\"},{\"attributes\":{\"callback\":null,\"end\":103496211.36283675,\"reset_end\":103496211.36283675,\"reset_start\":4742172.06999998,\"start\":4742172.06999998,\"tags\":[[[\"value\",\"value\",null]]]},\"id\":\"165564\",\"type\":\"Range1d\"},{\"attributes\":{\"data_source\":{\"id\":\"165626\",\"type\":\"ColumnDataSource\"},\"glyph\":{\"id\":\"165629\",\"type\":\"Line\"},\"hover_glyph\":null,\"muted_glyph\":{\"id\":\"165631\",\"type\":\"Line\"},\"nonselection_glyph\":{\"id\":\"165630\",\"type\":\"Line\"},\"selection_glyph\":null,\"view\":{\"id\":\"165633\",\"type\":\"CDSView\"}},\"id\":\"165632\",\"type\":\"GlyphRenderer\"},{\"attributes\":{},\"id\":\"165595\",\"type\":\"PanTool\"},{\"attributes\":{\"line_alpha\":0.1,\"line_color\":\"#ff7f0e\",\"line_width\":2,\"x\":{\"field\":\"TRI_REPORTING_FORM.REPORTING_YEAR\"},\"y\":{\"field\":\"value\"}},\"id\":\"165630\",\"type\":\"Line\"},{\"attributes\":{},\"id\":\"165598\",\"type\":\"ResetTool\"}],\"root_ids\":[\"165575\"]},\"title\":\"Bokeh Application\",\"version\":\"1.2.0\"}};\n",
       "  var render_items = [{\"docid\":\"4da05150-c771-4b94-8158-b0ab2acb95b4\",\"roots\":{\"165575\":\"e5bf075c-4d81-4d7b-a5cd-60f9b83b5499\"}}];\n",
       "  root.Bokeh.embed.embed_items_notebook(docs_json, render_items);\n",
       "\n",
       "  }\n",
       "  if (root.Bokeh !== undefined) {\n",
       "    embed_document(root);\n",
       "  } else {\n",
       "    var attempts = 0;\n",
       "    var timer = setInterval(function(root) {\n",
       "      if (root.Bokeh !== undefined) {\n",
       "        embed_document(root);\n",
       "        clearInterval(timer);\n",
       "      }\n",
       "      attempts++;\n",
       "      if (attempts > 100) {\n",
       "        console.log(\"Bokeh: ERROR: Unable to run BokehJS code because BokehJS library is missing\");\n",
       "        clearInterval(timer);\n",
       "      }\n",
       "    }, 10, root)\n",
       "  }\n",
       "})(window);</script>"
      ],
      "text/plain": [
       ":NdOverlay   [Variable]\n",
       "   :Curve   [TRI_REPORTING_FORM.REPORTING_YEAR]   (value)"
      ]
     },
     "execution_count": 52,
     "metadata": {
      "application/vnd.holoviews_exec.v0+json": {
       "id": "165575"
      }
     },
     "output_type": "execute_result"
    }
   ],
   "source": [
    "df.loc[:,top_chems.index].hvplot(width=800,height=400,logy=True)"
   ]
  },
  {
   "cell_type": "code",
   "execution_count": null,
   "metadata": {},
   "outputs": [],
   "source": []
  },
  {
   "cell_type": "code",
   "execution_count": null,
   "metadata": {},
   "outputs": [],
   "source": []
  }
 ],
 "metadata": {
  "kernelspec": {
   "display_name": "Python 3",
   "language": "python",
   "name": "python3"
  },
  "language_info": {
   "codemirror_mode": {
    "name": "ipython",
    "version": 3
   },
   "file_extension": ".py",
   "mimetype": "text/x-python",
   "name": "python",
   "nbconvert_exporter": "python",
   "pygments_lexer": "ipython3",
   "version": "3.7.3"
  }
 },
 "nbformat": 4,
 "nbformat_minor": 4
}
