{
 "cells": [
  {
   "cell_type": "markdown",
   "metadata": {},
   "source": [
    "## Import packages and data"
   ]
  },
  {
   "cell_type": "code",
   "execution_count": 1,
   "metadata": {},
   "outputs": [],
   "source": [
    "import glob, re # imports glob and regex libraries\n",
    "import pandas as pd\n",
    "import seaborn as sns\n",
    "file_list = glob.glob('./ExampleData/experiment *.xlsx') # gets file list\n",
    "expt_info  = pd.read_excel('./ExampleData/experiment info.xlsx')"
   ]
  },
  {
   "cell_type": "markdown",
   "metadata": {},
   "source": [
    "## Merge files"
   ]
  },
  {
   "cell_type": "code",
   "execution_count": 2,
   "metadata": {},
   "outputs": [],
   "source": [
    "dfs = []\n",
    "for each_file in file_list:\n",
    "    file_num = re.search('([0-9])',each_file) # extract  experiment number\n",
    "    if file_num:                \n",
    "        df = pd.read_excel(each_file)  # reads each file as a Data Frame\n",
    "        df['Expt'] = int(file_num[0]) \n",
    "        dfs.append(df) \n",
    "\n",
    "df_cat = pd.concat(dfs)  # concatenate results table\n",
    "df_all = df_cat.merge(expt_info,on='Expt')  # merge with conditions table"
   ]
  },
  {
   "cell_type": "markdown",
   "metadata": {},
   "source": [
    "## Plot merged data"
   ]
  },
  {
   "cell_type": "code",
   "execution_count": 3,
   "metadata": {},
   "outputs": [
    {
     "data": {
      "image/png": "[encoded data removed]",
      "text/plain": [
       "<Figure size 502.875x216 with 2 Axes>"
      ]
     },
     "metadata": {
      "needs_background": "light"
     },
     "output_type": "display_data"
    }
   ],
   "source": [
    "g = sns.FacetGrid(df_all, row=\"Pressure\", col=\"Concentration\",\n",
    "                  hue='Temperature', margin_titles=True)\n",
    "g.map(sns.scatterplot,'Time','Response')\n",
    "g.add_legend();\n"
   ]
  },
  {
   "cell_type": "code",
   "execution_count": null,
   "metadata": {},
   "outputs": [],
   "source": []
  }
 ],
 "metadata": {
  "interpreter": {
   "hash": "55279b158142f5aff440b757c06ca3a7b099fe4e6e34fad08536e327f49855a6"
  },
  "kernelspec": {
   "display_name": "Python 3",
   "language": "python",
   "name": "python3"
  },
  "language_info": {
   "codemirror_mode": {
    "name": "ipython",
    "version": 3
   },
   "file_extension": ".py",
   "mimetype": "text/x-python",
   "name": "python",
   "nbconvert_exporter": "python",
   "pygments_lexer": "ipython3",
   "version": "3.8.10"
  }
 },
 "nbformat": 4,
 "nbformat_minor": 4
}
