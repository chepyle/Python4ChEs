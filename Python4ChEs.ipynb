{
 "cells": [
  {
   "cell_type": "markdown",
   "metadata": {
    "slideshow": {
     "slide_type": "slide"
    }
   },
   "source": [
    "# Introduction to Python for Chemical Engineers"
   ]
  },
  {
   "cell_type": "markdown",
   "metadata": {},
   "source": [
    "Jacob Albrecht, Bristol-Myers Squibb\n",
    "\n",
    "Andy Young, NREL"
   ]
  },
  {
   "cell_type": "markdown",
   "metadata": {
    "slideshow": {
     "slide_type": "slide"
    }
   },
   "source": [
    "# The Challenges ChEs face\n",
    "- Calculations\n",
    "- Repetitive data manipulation"
   ]
  },
  {
   "cell_type": "markdown",
   "metadata": {
    "slideshow": {
     "slide_type": "slide"
    }
   },
   "source": [
    "# The Technology Gap\n",
    "- We use measured and simulated data to make decisions that ultimately improve quality-of-life \n",
    "- The quantity of data is becoming larger, and is being stored out of arm's reach\n",
    "- Work is more collaborative, and results must be transparent and reproducible"
   ]
  },
  {
   "cell_type": "markdown",
   "metadata": {
    "slideshow": {
     "slide_type": "slide"
    }
   },
   "source": [
    "# Software Fills the Gap\n",
    "- Spreadsheets and other third party tools cant extend to all situations\n",
    "- Programming languages fill the gap to solve our unique problems\n",
    "- This webinar sprung from AIChE Engage discussion forum on computational tools"
   ]
  },
  {
   "cell_type": "markdown",
   "metadata": {
    "slideshow": {
     "slide_type": "slide"
    }
   },
   "source": [
    "# Python is a valuable tool in your toolbox\n",
    "- Great option for self-development\n",
    "- Links into rapidly advancing tools"
   ]
  },
  {
   "cell_type": "markdown",
   "metadata": {
    "slideshow": {
     "slide_type": "slide"
    }
   },
   "source": [
    "# Our request: consider using python\n",
    "- Can be applied to any ChE problem\n",
    "- Free or cheap learning resources are available\n",
    "- Data superpowers await you..."
   ]
  },
  {
   "cell_type": "markdown",
   "metadata": {
    "slideshow": {
     "slide_type": "slide"
    }
   },
   "source": [
    "# About Python\n",
    "Its here: https://python.org\n",
    "## Fun Facts\n",
    "- Released 1991 by Guido van Rossum\n",
    "- Named after Monty Python's Flying Circus\n",
    "\n",
    "## Popular with:\n",
    "- Web startups \n",
    "- Machine Learning\n",
    "- Blender computer graphics\n",
    "- Astronomers\n",
    "\n",
    "  <img src=\"https://eventhorizontelescope.org/files/eht/files/20190410-78m-4000x2330.jpg\" width = \"200\"/>\n",
    "- Interacting with High Performance Computing code\n"
   ]
  },
  {
   "cell_type": "markdown",
   "metadata": {
    "slideshow": {
     "slide_type": "slide"
    }
   },
   "source": [
    "# Why Python, now? \n",
    "- Great language for self-paced learning\n",
    "- Being taught to the next generation of engineers\n",
    "- Already used by top researchers\n",
    "- Rapidly maturing capabilities"
   ]
  },
  {
   "cell_type": "markdown",
   "metadata": {
    "slideshow": {
     "slide_type": "subslide"
    }
   },
   "source": [
    "- DANGER ZONE\n",
    "(respecting that some of the audience may be satisfied with their current toolset)"
   ]
  },
  {
   "cell_type": "markdown",
   "metadata": {
    "slideshow": {
     "slide_type": "slide"
    }
   },
   "source": [
    "# How to get started in 2019\n",
    "- downloading Anaconda or working on the cloud (Colab/Azure/mybinder/etc.)\n",
    "- use Jupyter notebooks http://jupyter.org"
   ]
  },
  {
   "cell_type": "markdown",
   "metadata": {
    "slideshow": {
     "slide_type": "slide"
    }
   },
   "source": [
    "## Alone, Python is too basic .. packages add functionality\n",
    "\n",
    "Lets do some math:"
   ]
  },
  {
   "cell_type": "code",
   "execution_count": 9,
   "metadata": {},
   "outputs": [
    {
     "ename": "NameError",
     "evalue": "name 'sqrt' is not defined",
     "output_type": "error",
     "traceback": [
      "\u001b[0;31m---------------------------------------------------------------------------\u001b[0m",
      "\u001b[0;31mNameError\u001b[0m                                 Traceback (most recent call last)",
      "\u001b[0;32m<ipython-input-9-317e033d29d5>\u001b[0m in \u001b[0;36m<module>\u001b[0;34m\u001b[0m\n\u001b[0;32m----> 1\u001b[0;31m \u001b[0msqrt\u001b[0m\u001b[0;34m(\u001b[0m\u001b[0;36m4\u001b[0m\u001b[0;34m)\u001b[0m\u001b[0;34m\u001b[0m\u001b[0;34m\u001b[0m\u001b[0m\n\u001b[0m",
      "\u001b[0;31mNameError\u001b[0m: name 'sqrt' is not defined"
     ]
    }
   ],
   "source": [
    "sqrt(4)"
   ]
  },
  {
   "cell_type": "markdown",
   "metadata": {},
   "source": [
    "Wait, no square root?"
   ]
  },
  {
   "cell_type": "markdown",
   "metadata": {
    "slideshow": {
     "slide_type": "subslide"
    }
   },
   "source": [
    "# Python is extended with imported packages\n",
    "- Key packages\n",
    "    - numpy\n",
    "    - scipy, and scikits\n",
    "    - pandas\n",
    "    - matplotlib\n",
    "    - sympy\n"
   ]
  },
  {
   "cell_type": "code",
   "execution_count": 10,
   "metadata": {},
   "outputs": [
    {
     "data": {
      "text/plain": [
       "2.0"
      ]
     },
     "execution_count": 10,
     "metadata": {},
     "output_type": "execute_result"
    }
   ],
   "source": [
    "import numpy as np\n",
    "np.sqrt(4)"
   ]
  },
  {
   "cell_type": "markdown",
   "metadata": {
    "slideshow": {
     "slide_type": "slide"
    }
   },
   "source": [
    "# Jupyter notebooks can help documenting and running Python code\n"
   ]
  },
  {
   "cell_type": "markdown",
   "metadata": {},
   "source": [
    "Cells can contain code or markdown text, allows for easy formatting:\n",
    " \n",
    " - For bulleted lists, just type ` - `\n",
    " - For heading formats use `#`, `##`, etc.\n",
    " - Can write math expressions: `$y=\\sqrt{x_0}$ ` becomes $y=\\sqrt{x_0}$\n",
    " "
   ]
  },
  {
   "cell_type": "markdown",
   "metadata": {
    "slideshow": {
     "slide_type": "slide"
    }
   },
   "source": [
    "# Solving ChE problems with python\n",
    "\n",
    "-          Regression\n",
    "\n",
    "-          Integrating ODEs\n",
    "\n",
    "-          Merging files\n",
    "\n",
    "-          Pulling data through APIs"
   ]
  },
  {
   "cell_type": "code",
   "execution_count": 11,
   "metadata": {},
   "outputs": [],
   "source": [
    "import pandas as pd"
   ]
  },
  {
   "cell_type": "code",
   "execution_count": 12,
   "metadata": {},
   "outputs": [],
   "source": [
    "import scipy"
   ]
  },
  {
   "cell_type": "markdown",
   "metadata": {
    "slideshow": {
     "slide_type": "slide"
    }
   },
   "source": [
    "# How to learn more & get help – online resources\n",
    "- Try:\n",
    "    - Install on your computer: http://anaconda.com\n",
    "    - Online notebooks:\n",
    "        - CoCalc https://cocalc.com/\n",
    "        - Binder https://mybinder.org/\n",
    "        - Colab: https://colab.research.google.com\n",
    "        - Azure Notebooks: https://notebooks.azure.com/\n",
    "\n",
    "\n",
    "- Learn:\n",
    "    - Search \"Python MOOC\" for online courses\n",
    "    - LinkedIn Learning: https://www.linkedin.com/learning/\n",
    "\n",
    "\n",
    "- Ask Questions, Share Problems:\n",
    "    - StackOverflow.com\n",
    "    - AIChE Engage"
   ]
  },
  {
   "cell_type": "markdown",
   "metadata": {
    "slideshow": {
     "slide_type": "slide"
    }
   },
   "source": [
    "# Appendix: Version Info\n",
    "Versions used here:"
   ]
  },
  {
   "cell_type": "code",
   "execution_count": 13,
   "metadata": {},
   "outputs": [
    {
     "name": "stdout",
     "output_type": "stream",
     "text": [
      "Python version: 3.7.3\n"
     ]
    },
    {
     "data": {
      "text/plain": [
       "['numpy = 1.16.4', 'pandas = 0.24.2', 'scipy = 1.3.0']"
      ]
     },
     "execution_count": 13,
     "metadata": {},
     "output_type": "execute_result"
    }
   ],
   "source": [
    "import platform\n",
    "print('Python version: '+platform.python_version())\n",
    "[(x.__name__ +\" = \"+ x.__version__) for x in [np, pd,scipy]]"
   ]
  },
  {
   "cell_type": "code",
   "execution_count": null,
   "metadata": {},
   "outputs": [],
   "source": []
  },
  {
   "cell_type": "code",
   "execution_count": null,
   "metadata": {},
   "outputs": [],
   "source": []
  }
 ],
 "metadata": {
  "kernelspec": {
   "display_name": "Python 3",
   "language": "python",
   "name": "python3"
  },
  "language_info": {
   "codemirror_mode": {
    "name": "ipython",
    "version": 3
   },
   "file_extension": ".py",
   "mimetype": "text/x-python",
   "name": "python",
   "nbconvert_exporter": "python",
   "pygments_lexer": "ipython3",
   "version": "3.7.3"
  }
 },
 "nbformat": 4,
 "nbformat_minor": 4
}
