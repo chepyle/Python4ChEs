{
 "cells": [
  {
   "cell_type": "markdown",
   "metadata": {
    "slideshow": {
     "slide_type": "slide"
    }
   },
   "source": [
    "# Introduction to Python for Chemical Engineers"
   ]
  },
  {
   "cell_type": "markdown",
   "metadata": {},
   "source": [
    "## Jacob Albrecht\n",
    "#### Principal Scientist, Bristol-Myers Squibb\n",
    "#### October 2, 2019"
   ]
  },
  {
   "cell_type": "markdown",
   "metadata": {
    "slideshow": {
     "slide_type": "subslide"
    }
   },
   "source": [
    "# The Challenges ChEs face\n",
    "- Calculations to apply fundamental concepts \n",
    "- Repetitive data manipulation\n",
    "- Retrieving the work of others and sharing the results we produce "
   ]
  },
  {
   "cell_type": "markdown",
   "metadata": {
    "slideshow": {
     "slide_type": "subslide"
    }
   },
   "source": [
    "# The Technology Gap\n",
    "- We use measured and simulated data to make decisions that ultimately improve quality-of-life \n",
    "- With technology, the quantity of data is becoming larger, and is being stored out of arm's reach\n",
    "- Manual processing of data is becoming more time consuming\n",
    "- Work is more collaborative, and results must be transparent and reproducible"
   ]
  },
  {
   "cell_type": "markdown",
   "metadata": {
    "slideshow": {
     "slide_type": "subslide"
    }
   },
   "source": [
    "# Software Fills the Gap, Many Disparate Tools Exist\n",
    "- Spreadsheets and other third party tools cant extend to all situations\n",
    "- Programming languages fill the gap to solve our unique problems\n",
    "- This webinar sprung from an [AIChE Engage](https://engage.aiche.org/) discussion forum on computational tools"
   ]
  },
  {
   "cell_type": "markdown",
   "metadata": {
    "slideshow": {
     "slide_type": "subslide"
    }
   },
   "source": [
    "# Python may be a valuable tool in your toolbox\n",
    "- Very versatile, pretty good for most needs\n",
    "- Links into some fields of research with rapidly advancing technology\n",
    "- Easy language to start learning - has been described as fun\n",
    "- Great option for self-development"
   ]
  },
  {
   "cell_type": "markdown",
   "metadata": {
    "slideshow": {
     "slide_type": "subslide"
    }
   },
   "source": [
    "# Consider Python\n",
    "- Can be applied to any ChE problem, technical or not\n",
    "- Free or low-cost learning resources are available\n",
    "- A world of potential applications ... "
   ]
  },
  {
   "cell_type": "code",
   "execution_count": 9,
   "metadata": {},
   "outputs": [
    {
     "name": "stdout",
     "output_type": "stream",
     "text": [
      "Hello ChEs\n"
     ]
    }
   ],
   "source": [
    "print('Hello ChEs')"
   ]
  },
  {
   "cell_type": "markdown",
   "metadata": {
    "slideshow": {
     "slide_type": "slide"
    }
   },
   "source": [
    "<img src=\"https://www.python.org/static/community_logos/python-logo-master-v3-TM.png\" width = \"400\"/>\n",
    "\n",
    "# About the Python Programming Language\n",
    "- https://python.org\n",
    "- Open source & managed by the nonprofit Python Software Foundation\n",
    "\n",
    "## Fun Facts\n",
    "- Released 1991 by Guido van Rossum\n",
    "- Named after the Monty Python comedy troupe \n",
    "<img src = \"https://upload.wikimedia.org/wikipedia/commons/a/ab/Monty_python_foot.png\" width = \"60\"/>"
   ]
  },
  {
   "cell_type": "markdown",
   "metadata": {
    "slideshow": {
     "slide_type": "subslide"
    }
   },
   "source": [
    "## Popular with:\n",
    "- Students (e.g. https://codewizardshq.com/)\n",
    "\n",
    "<img src=\"https://codewizardshq.com/wp-content/uploads/2018/02/python-banner.jpg\" width = \"150\" align=\"right\"/>\n",
    "\n",
    "- Web developers\n",
    "- Science and Engineering:\n",
    "    - Data Scientists\n",
    "    - High Performance Computing\n",
    "    - Astronomers (https://eventhorizontelescope.org/)\n",
    "\n",
    "  <img src=\"https://eventhorizontelescope.org/files/eht/files/20190410-78m-4000x2330.jpg\" width = \"200\" align=\"right\"/>"
   ]
  },
  {
   "cell_type": "markdown",
   "metadata": {
    "slideshow": {
     "slide_type": "slide"
    }
   },
   "source": [
    "# Why Python, now? \n",
    "- Great language for self-paced learning\n",
    "- Being taught to the next generation of engineers\n",
    "- Rapidly maturing capabilities around Python 3\n",
    "- Already widely shared *by ChEs* through repositories on GitHub.com:"
   ]
  },
  {
   "cell_type": "code",
   "execution_count": 10,
   "metadata": {
    "slideshow": {
     "slide_type": "skip"
    }
   },
   "outputs": [],
   "source": [
    "from IPython.display import HTML"
   ]
  },
  {
   "cell_type": "code",
   "execution_count": 11,
   "metadata": {
    "hideCode": "true"
   },
   "outputs": [
    {
     "data": {
      "text/html": [
       "\n",
       "<script src=\"https://cdn.pydata.org/bokeh/release/bokeh-1.2.0.min.js\" type=\"text/javascript\"></script>\n",
       "<script src=\"https://cdn.pydata.org/bokeh/release/bokeh-widgets-1.2.0.min.js\" type=\"text/javascript\"></script>\n",
       "<script src=\"https://cdn.pydata.org/bokeh/release/bokeh-tables-1.2.0.min.js\" type=\"text/javascript\"></script>\n",
       "<script src=\"https://cdn.pydata.org/bokeh/release/bokeh-gl-1.2.0.min.js\" type=\"text/javascript\"></script>\n",
       "<script src=\"https://code.jquery.com/jquery-2.1.4.min.js\" type=\"text/javascript\"></script>\n",
       "<script src=\"https://code.jquery.com/ui/1.10.4/jquery-ui.min.js\" type=\"text/javascript\"></script>\n",
       "<script src=\"https://cdnjs.cloudflare.com/ajax/libs/require.js/2.1.20/require.min.js\" type=\"text/javascript\"></script>\n",
       "<script src=\"https://cdnjs.cloudflare.com/ajax/libs/underscore.js/1.8.3/underscore-min.js\" type=\"text/javascript\"></script>\n",
       "<script type=\"text/javascript\">function HoloViewsWidget() {\n",
       "}\n",
       "\n",
       "HoloViewsWidget.prototype.init_slider = function(init_val){\n",
       "  if(this.load_json) {\n",
       "    this.from_json()\n",
       "  } else {\n",
       "    this.update_cache();\n",
       "  }\n",
       "}\n",
       "\n",
       "HoloViewsWidget.prototype.populate_cache = function(idx){\n",
       "  this.cache[idx].innerHTML = this.frames[idx];\n",
       "  if (this.embed) {\n",
       "    delete this.frames[idx];\n",
       "  }\n",
       "}\n",
       "\n",
       "HoloViewsWidget.prototype.process_error = function(msg){\n",
       "}\n",
       "\n",
       "HoloViewsWidget.prototype.from_json = function() {\n",
       "  var data_url = this.json_path + this.id + '.json';\n",
       "  $.getJSON(data_url, $.proxy(function(json_data) {\n",
       "    this.frames = json_data;\n",
       "    this.update_cache();\n",
       "    this.update(0);\n",
       "  }, this));\n",
       "}\n",
       "\n",
       "HoloViewsWidget.prototype.dynamic_update = function(current){\n",
       "  if (current === undefined) {\n",
       "    return\n",
       "  }\n",
       "  this.current = current;\n",
       "  if (this.comm) {\n",
       "    var msg = {comm_id: this.id+'_client', content: current}\n",
       "    this.comm.send(msg);\n",
       "  }\n",
       "}\n",
       "\n",
       "HoloViewsWidget.prototype.update_cache = function(force){\n",
       "  var frame_len = Object.keys(this.frames).length;\n",
       "  for (var i=0; i<frame_len; i++) {\n",
       "    if(!this.load_json || this.dynamic)  {\n",
       "      var frame = Object.keys(this.frames)[i];\n",
       "    } else {\n",
       "      var frame = i;\n",
       "    }\n",
       "    if(!(frame in this.cache) || force) {\n",
       "      if ((frame in this.cache) && force) { this.cache[frame].remove() }\n",
       "      var div = document.createElement(\"div\");\n",
       "      var parent = document.getElementById(\"_anim_img\"+this.id);\n",
       "      div.style.display = \"none\";\n",
       "      parent.appendChild(div)\n",
       "      this.cache[frame] = div;\n",
       "      var cache_id = \"_anim_img\"+this.id+\"_\"+frame;\n",
       "      this.populate_cache(frame);\n",
       "    }\n",
       "  }\n",
       "}\n",
       "\n",
       "HoloViewsWidget.prototype.update = function(current){\n",
       "  if(current in this.cache) {\n",
       "    for (var index in this.cache) {\n",
       "      this.cache[index].style.display = \"none\";\n",
       "    }\n",
       "    this.cache[current].style.display = \"\";\n",
       "    this.wait = false;\n",
       "  }\n",
       "}\n",
       "\n",
       "HoloViewsWidget.prototype.init_comms = function() {\n",
       "  var that = this\n",
       "  HoloViews.comm_manager.register_target(this.plot_id, this.id, function (msg) { that.msg_handler(msg) })\n",
       "  if (!this.cached || this.dynamic) {\n",
       "    function ack_callback(msg) {\n",
       "      var msg = msg.metadata;\n",
       "      var comm_id = msg.comm_id;\n",
       "      var comm_status = HoloViews.comm_status[comm_id];\n",
       "      if (that.queue.length > 0) {\n",
       "        that.time = Date.now();\n",
       "        that.dynamic_update(that.queue[that.queue.length-1]);\n",
       "        that.queue = [];\n",
       "      } else {\n",
       "        that.wait = false;\n",
       "      }\n",
       "      if ((msg.msg_type == \"Ready\") && msg.content) {\n",
       "        console.log(\"Python callback returned following output:\", msg.content);\n",
       "      } else if (msg.msg_type == \"Error\") {\n",
       "        console.log(\"Python failed with the following traceback:\", msg.traceback)\n",
       "      }\n",
       "    }\n",
       "    var comm = HoloViews.comm_manager.get_client_comm(this.plot_id, this.id+'_client', ack_callback);\n",
       "    return comm\n",
       "  }\n",
       "}\n",
       "\n",
       "HoloViewsWidget.prototype.msg_handler = function(msg) {\n",
       "  var metadata = msg.metadata;\n",
       "  if ((metadata.msg_type == \"Ready\")) {\n",
       "    if (metadata.content) {\n",
       "      console.log(\"Python callback returned following output:\", metadata.content);\n",
       "    }\n",
       "\treturn;\n",
       "  } else if (metadata.msg_type == \"Error\") {\n",
       "    console.log(\"Python failed with the following traceback:\", metadata.traceback)\n",
       "    return\n",
       "  }\n",
       "  this.process_msg(msg)\n",
       "}\n",
       "\n",
       "HoloViewsWidget.prototype.process_msg = function(msg) {\n",
       "}\n",
       "\n",
       "function SelectionWidget(frames, id, slider_ids, keyMap, dim_vals, notFound, load_json, mode, cached, json_path, dynamic, plot_id){\n",
       "  this.frames = frames;\n",
       "  this.id = id;\n",
       "  this.plot_id = plot_id;\n",
       "  this.slider_ids = slider_ids;\n",
       "  this.keyMap = keyMap\n",
       "  this.current_frame = 0;\n",
       "  this.current_vals = dim_vals;\n",
       "  this.load_json = load_json;\n",
       "  this.mode = mode;\n",
       "  this.notFound = notFound;\n",
       "  this.cached = cached;\n",
       "  this.dynamic = dynamic;\n",
       "  this.cache = {};\n",
       "  this.json_path = json_path;\n",
       "  this.init_slider(this.current_vals[0]);\n",
       "  this.queue = [];\n",
       "  this.wait = false;\n",
       "  if (!this.cached || this.dynamic) {\n",
       "    this.comm = this.init_comms();\n",
       "  }\n",
       "}\n",
       "\n",
       "SelectionWidget.prototype = new HoloViewsWidget;\n",
       "\n",
       "\n",
       "SelectionWidget.prototype.get_key = function(current_vals) {\n",
       "  var key = \"(\";\n",
       "  for (var i=0; i<this.slider_ids.length; i++)\n",
       "  {\n",
       "    var val = this.current_vals[i];\n",
       "    if (!(typeof val === 'string')) {\n",
       "      if (val % 1 === 0) { val = val.toFixed(1); }\n",
       "      else { val = val.toFixed(10); val = val.slice(0, val.length-1);}\n",
       "    }\n",
       "    key += \"'\" + val + \"'\";\n",
       "    if(i != this.slider_ids.length-1) { key += ', ';}\n",
       "    else if(this.slider_ids.length == 1) { key += ',';}\n",
       "  }\n",
       "  key += \")\";\n",
       "  return this.keyMap[key];\n",
       "}\n",
       "\n",
       "SelectionWidget.prototype.set_frame = function(dim_val, dim_idx){\n",
       "  this.current_vals[dim_idx] = dim_val;\n",
       "  var key = this.current_vals;\n",
       "  if (!this.dynamic) {\n",
       "    key = this.get_key(key)\n",
       "  }\n",
       "  if (this.dynamic || !this.cached) {\n",
       "    if ((this.time !== undefined) && ((this.wait) && ((this.time + 10000) > Date.now()))) {\n",
       "      this.queue.push(key);\n",
       "      return\n",
       "    }\n",
       "    this.queue = [];\n",
       "    this.time = Date.now();\n",
       "    this.current_frame = key;\n",
       "    this.wait = true;\n",
       "    this.dynamic_update(key)\n",
       "  } else if (key !== undefined) {\n",
       "    this.update(key)\n",
       "  }\n",
       "}\n",
       "\n",
       "\n",
       "/* Define the ScrubberWidget class */\n",
       "function ScrubberWidget(frames, num_frames, id, interval, load_json, mode, cached, json_path, dynamic, plot_id){\n",
       "  this.slider_id = \"_anim_slider\" + id;\n",
       "  this.loop_select_id = \"_anim_loop_select\" + id;\n",
       "  this.id = id;\n",
       "  this.plot_id = plot_id;\n",
       "  this.interval = interval;\n",
       "  this.current_frame = 0;\n",
       "  this.direction = 0;\n",
       "  this.dynamic = dynamic;\n",
       "  this.timer = null;\n",
       "  this.load_json = load_json;\n",
       "  this.mode = mode;\n",
       "  this.cached = cached;\n",
       "  this.frames = frames;\n",
       "  this.cache = {};\n",
       "  this.length = num_frames;\n",
       "  this.json_path = json_path;\n",
       "  document.getElementById(this.slider_id).max = this.length - 1;\n",
       "  this.init_slider(0);\n",
       "  this.wait = false;\n",
       "  this.queue = [];\n",
       "  if (!this.cached || this.dynamic) {\n",
       "    this.comm = this.init_comms()\n",
       "  }\n",
       "}\n",
       "\n",
       "ScrubberWidget.prototype = new HoloViewsWidget;\n",
       "\n",
       "ScrubberWidget.prototype.set_frame = function(frame){\n",
       "  this.current_frame = frame;\n",
       "  var widget = document.getElementById(this.slider_id);\n",
       "  if (widget === null) {\n",
       "    this.pause_animation();\n",
       "    return\n",
       "  }\n",
       "  widget.value = this.current_frame;\n",
       "  if (this.dynamic || !this.cached) {\n",
       "    if ((this.time !== undefined) && ((this.wait) && ((this.time + 10000) > Date.now()))) {\n",
       "      this.queue.push(frame);\n",
       "      return\n",
       "    }\n",
       "    this.queue = [];\n",
       "    this.time = Date.now();\n",
       "    this.wait = true;\n",
       "    this.dynamic_update(frame)\n",
       "  } else {\n",
       "    this.update(frame)\n",
       "  }\n",
       "}\n",
       "\n",
       "ScrubberWidget.prototype.get_loop_state = function(){\n",
       "  var button_group = document[this.loop_select_id].state;\n",
       "  for (var i = 0; i < button_group.length; i++) {\n",
       "    var button = button_group[i];\n",
       "    if (button.checked) {\n",
       "      return button.value;\n",
       "    }\n",
       "  }\n",
       "  return undefined;\n",
       "}\n",
       "\n",
       "\n",
       "ScrubberWidget.prototype.next_frame = function() {\n",
       "  this.set_frame(Math.min(this.length - 1, this.current_frame + 1));\n",
       "}\n",
       "\n",
       "ScrubberWidget.prototype.previous_frame = function() {\n",
       "  this.set_frame(Math.max(0, this.current_frame - 1));\n",
       "}\n",
       "\n",
       "ScrubberWidget.prototype.first_frame = function() {\n",
       "  this.set_frame(0);\n",
       "}\n",
       "\n",
       "ScrubberWidget.prototype.last_frame = function() {\n",
       "  this.set_frame(this.length - 1);\n",
       "}\n",
       "\n",
       "ScrubberWidget.prototype.slower = function() {\n",
       "  this.interval /= 0.7;\n",
       "  if(this.direction > 0){this.play_animation();}\n",
       "  else if(this.direction < 0){this.reverse_animation();}\n",
       "}\n",
       "\n",
       "ScrubberWidget.prototype.faster = function() {\n",
       "  this.interval *= 0.7;\n",
       "  if(this.direction > 0){this.play_animation();}\n",
       "  else if(this.direction < 0){this.reverse_animation();}\n",
       "}\n",
       "\n",
       "ScrubberWidget.prototype.anim_step_forward = function() {\n",
       "  if(this.current_frame < this.length - 1){\n",
       "    this.next_frame();\n",
       "  }else{\n",
       "    var loop_state = this.get_loop_state();\n",
       "    if(loop_state == \"loop\"){\n",
       "      this.first_frame();\n",
       "    }else if(loop_state == \"reflect\"){\n",
       "      this.last_frame();\n",
       "      this.reverse_animation();\n",
       "    }else{\n",
       "      this.pause_animation();\n",
       "      this.last_frame();\n",
       "    }\n",
       "  }\n",
       "}\n",
       "\n",
       "ScrubberWidget.prototype.anim_step_reverse = function() {\n",
       "  if(this.current_frame > 0){\n",
       "    this.previous_frame();\n",
       "  } else {\n",
       "    var loop_state = this.get_loop_state();\n",
       "    if(loop_state == \"loop\"){\n",
       "      this.last_frame();\n",
       "    }else if(loop_state == \"reflect\"){\n",
       "      this.first_frame();\n",
       "      this.play_animation();\n",
       "    }else{\n",
       "      this.pause_animation();\n",
       "      this.first_frame();\n",
       "    }\n",
       "  }\n",
       "}\n",
       "\n",
       "ScrubberWidget.prototype.pause_animation = function() {\n",
       "  this.direction = 0;\n",
       "  if (this.timer){\n",
       "    clearInterval(this.timer);\n",
       "    this.timer = null;\n",
       "  }\n",
       "}\n",
       "\n",
       "ScrubberWidget.prototype.play_animation = function() {\n",
       "  this.pause_animation();\n",
       "  this.direction = 1;\n",
       "  var t = this;\n",
       "  if (!this.timer) this.timer = setInterval(function(){t.anim_step_forward();}, this.interval);\n",
       "}\n",
       "\n",
       "ScrubberWidget.prototype.reverse_animation = function() {\n",
       "  this.pause_animation();\n",
       "  this.direction = -1;\n",
       "  var t = this;\n",
       "  if (!this.timer) this.timer = setInterval(function(){t.anim_step_reverse();}, this.interval);\n",
       "}\n",
       "\n",
       "function extend(destination, source) {\n",
       "  for (var k in source) {\n",
       "    if (source.hasOwnProperty(k)) {\n",
       "      destination[k] = source[k];\n",
       "    }\n",
       "  }\n",
       "  return destination;\n",
       "}\n",
       "\n",
       "function update_widget(widget, values) {\n",
       "  if (widget.hasClass(\"ui-slider\")) {\n",
       "    widget.slider('option', {\n",
       "      min: 0,\n",
       "      max: values.length-1,\n",
       "      dim_vals: values,\n",
       "      value: 0,\n",
       "      dim_labels: values\n",
       "    })\n",
       "    widget.slider('option', 'slide').call(widget, event, {value: 0})\n",
       "  } else {\n",
       "    widget.empty();\n",
       "    for (var i=0; i<values.length; i++){\n",
       "      widget.append($(\"<option>\", {\n",
       "        value: i,\n",
       "        text: values[i]\n",
       "      }))\n",
       "    };\n",
       "    widget.data('values', values);\n",
       "    widget.data('value', 0);\n",
       "    widget.trigger(\"change\");\n",
       "  };\n",
       "}\n",
       "\n",
       "function init_slider(id, plot_id, dim, values, next_vals, labels, dynamic, step, value, next_dim,\n",
       "                     dim_idx, delay, jQueryUI_CDN, UNDERSCORE_CDN) {\n",
       "  // Slider JS Block START\n",
       "  function loadcssfile(filename){\n",
       "    var fileref=document.createElement(\"link\")\n",
       "    fileref.setAttribute(\"rel\", \"stylesheet\")\n",
       "    fileref.setAttribute(\"type\", \"text/css\")\n",
       "    fileref.setAttribute(\"href\", filename)\n",
       "    document.getElementsByTagName(\"head\")[0].appendChild(fileref)\n",
       "  }\n",
       "  loadcssfile(\"https://code.jquery.com/ui/1.10.4/themes/smoothness/jquery-ui.css\");\n",
       "  /* Check if jQuery and jQueryUI have been loaded\n",
       "     otherwise load with require.js */\n",
       "  var jQuery = window.jQuery,\n",
       "    // check for old versions of jQuery\n",
       "    oldjQuery = jQuery && !!jQuery.fn.jquery.match(/^1\\.[0-4](\\.|$)/),\n",
       "    jquery_path = '',\n",
       "    paths = {},\n",
       "    noConflict;\n",
       "  var jQueryUI = jQuery.ui;\n",
       "  // check for jQuery\n",
       "  if (!jQuery || oldjQuery) {\n",
       "    // load if it's not available or doesn't meet min standards\n",
       "    paths.jQuery = jQuery;\n",
       "    noConflict = !!oldjQuery;\n",
       "  } else {\n",
       "    // register the current jQuery\n",
       "    define('jquery', [], function() { return jQuery; });\n",
       "  }\n",
       "  if (!jQueryUI) {\n",
       "    paths.jQueryUI = jQueryUI_CDN.slice(null, -3);\n",
       "  } else {\n",
       "    define('jQueryUI', [], function() { return jQuery.ui; });\n",
       "  }\n",
       "  paths.underscore = UNDERSCORE_CDN.slice(null, -3);\n",
       "  var jquery_require = {\n",
       "    paths: paths,\n",
       "    shim: {\n",
       "      \"jQueryUI\": {\n",
       "        exports:\"$\",\n",
       "        deps: ['jquery']\n",
       "      },\n",
       "      \"underscore\": {\n",
       "        exports: '_'\n",
       "      }\n",
       "    }\n",
       "  }\n",
       "  require.config(jquery_require);\n",
       "  require([\"jQueryUI\", \"underscore\"], function(jUI, _){\n",
       "    if (noConflict) $.noConflict(true);\n",
       "    var vals = values;\n",
       "    if (dynamic && vals.constructor === Array) {\n",
       "      var default_value = parseFloat(value);\n",
       "      var min = parseFloat(vals[0]);\n",
       "      var max = parseFloat(vals[vals.length-1]);\n",
       "      var wstep = step;\n",
       "      var wlabels = [default_value];\n",
       "      var init_label = default_value;\n",
       "    } else {\n",
       "      var min = 0;\n",
       "      if (dynamic) {\n",
       "        var max = Object.keys(vals).length - 1;\n",
       "        var init_label = labels[value];\n",
       "        var default_value = values[value];\n",
       "      } else {\n",
       "        var max = vals.length - 1;\n",
       "        var init_label = labels[value];\n",
       "        var default_value = value;\n",
       "      }\n",
       "      var wstep = 1;\n",
       "      var wlabels = labels;\n",
       "    }\n",
       "    function adjustFontSize(text) {\n",
       "      var width_ratio = (text.parent().width()/8)/text.val().length;\n",
       "      var size = Math.min(0.9, Math.max(0.6, width_ratio))+'em';\n",
       "      text.css('font-size', size);\n",
       "    }\n",
       "    var slider = $('#_anim_widget'+id+'_'+dim);\n",
       "    slider.slider({\n",
       "      animate: \"fast\",\n",
       "      min: min,\n",
       "      max: max,\n",
       "      step: wstep,\n",
       "      value: default_value,\n",
       "      dim_vals: vals,\n",
       "      dim_labels: wlabels,\n",
       "      next_vals: next_vals,\n",
       "      slide: function(event, ui) {\n",
       "        var vals = slider.slider(\"option\", \"dim_vals\");\n",
       "        var next_vals = slider.slider(\"option\", \"next_vals\");\n",
       "        var dlabels = slider.slider(\"option\", \"dim_labels\");\n",
       "        if (dynamic) {\n",
       "          var dim_val = ui.value;\n",
       "          if (vals.constructor === Array) {\n",
       "            var label = ui.value;\n",
       "          } else {\n",
       "            var label = dlabels[ui.value];\n",
       "          }\n",
       "        } else {\n",
       "          var dim_val = vals[ui.value];\n",
       "          var label = dlabels[ui.value];\n",
       "        }\n",
       "        var text = $('#textInput'+id+'_'+dim);\n",
       "        text.val(label);\n",
       "        adjustFontSize(text);\n",
       "        HoloViews.index[plot_id].set_frame(dim_val, dim_idx);\n",
       "        if (Object.keys(next_vals).length > 0) {\n",
       "          var new_vals = next_vals[dim_val];\n",
       "          var next_widget = $('#_anim_widget'+id+'_'+next_dim);\n",
       "          update_widget(next_widget, new_vals);\n",
       "        }\n",
       "      }\n",
       "    });\n",
       "    slider.keypress(function(event) {\n",
       "      if (event.which == 80 || event.which == 112) {\n",
       "        var start = slider.slider(\"option\", \"value\");\n",
       "        var stop =  slider.slider(\"option\", \"max\");\n",
       "        for (var i=start; i<=stop; i++) {\n",
       "          var delay = i*delay;\n",
       "          $.proxy(function doSetTimeout(i) { setTimeout($.proxy(function() {\n",
       "            var val = {value:i};\n",
       "            slider.slider('value',i);\n",
       "            slider.slider(\"option\", \"slide\")(null, val);\n",
       "          }, slider), delay);}, slider)(i);\n",
       "        }\n",
       "      }\n",
       "      if (event.which == 82 || event.which == 114) {\n",
       "        var start = slider.slider(\"option\", \"value\");\n",
       "        var stop =  slider.slider(\"option\", \"min\");\n",
       "        var count = 0;\n",
       "        for (var i=start; i>=stop; i--) {\n",
       "          var delay = count*delay;\n",
       "          count = count + 1;\n",
       "          $.proxy(function doSetTimeout(i) { setTimeout($.proxy(function() {\n",
       "            var val = {value:i};\n",
       "            slider.slider('value',i);\n",
       "            slider.slider(\"option\", \"slide\")(null, val);\n",
       "          }, slider), delay);}, slider)(i);\n",
       "        }\n",
       "      }\n",
       "    });\n",
       "    var textInput = $('#textInput'+id+'_'+dim)\n",
       "    textInput.val(init_label);\n",
       "    adjustFontSize(textInput);\n",
       "  });\n",
       "}\n",
       "\n",
       "function init_dropdown(id, plot_id, dim, vals, value, next_vals, labels, next_dim, dim_idx, dynamic) {\n",
       "  var widget = $(\"#_anim_widget\"+id+'_'+dim);\n",
       "  widget.data('values', vals)\n",
       "  for (var i=0; i<vals.length; i++){\n",
       "    if (dynamic) {\n",
       "      var val = vals[i];\n",
       "    } else {\n",
       "      var val = i;\n",
       "    }\n",
       "    widget.append($(\"<option>\", {\n",
       "      value: val,\n",
       "      text: labels[i]\n",
       "    }));\n",
       "  };\n",
       "  widget.data(\"next_vals\", next_vals);\n",
       "  widget.val(value);\n",
       "  widget.on('change', function(event, ui) {\n",
       "    if (dynamic) {\n",
       "      var dim_val = parseInt(this.value);\n",
       "    } else {\n",
       "      var dim_val = $.data(this, 'values')[this.value];\n",
       "    }\n",
       "    var next_vals = $.data(this, \"next_vals\");\n",
       "    if (Object.keys(next_vals).length > 0) {\n",
       "      var new_vals = next_vals[dim_val];\n",
       "      var next_widget = $('#_anim_widget'+id+'_'+next_dim);\n",
       "      update_widget(next_widget, new_vals);\n",
       "    }\n",
       "    var widgets = HoloViews.index[plot_id]\n",
       "    if (widgets) {\n",
       "      widgets.set_frame(dim_val, dim_idx);\n",
       "    }\n",
       "  });\n",
       "}\n",
       "\n",
       "\n",
       "if (window.HoloViews === undefined) {\n",
       "  window.HoloViews = {}\n",
       "  window.PyViz = window.HoloViews\n",
       "} else if (window.PyViz === undefined) {\n",
       "  window.PyViz = window.HoloViews\n",
       "}\n",
       "\n",
       "\n",
       "var _namespace = {\n",
       "  init_slider: init_slider,\n",
       "  init_dropdown: init_dropdown,\n",
       "  comms: {},\n",
       "  comm_status: {},\n",
       "  index: {},\n",
       "  plot_index: {},\n",
       "  kernels: {},\n",
       "  receivers: {}\n",
       "}\n",
       "\n",
       "for (var k in _namespace) {\n",
       "  if (!(k in window.HoloViews)) {\n",
       "    window.HoloViews[k] = _namespace[k];\n",
       "  }\n",
       "}\n",
       "\n",
       "// Define Bokeh specific subclasses\n",
       "function BokehSelectionWidget() {\n",
       "  SelectionWidget.apply(this, arguments);\n",
       "}\n",
       "\n",
       "function BokehScrubberWidget() {\n",
       "  ScrubberWidget.apply(this, arguments);\n",
       "}\n",
       "\n",
       "// Let them inherit from the baseclasses\n",
       "BokehSelectionWidget.prototype = Object.create(SelectionWidget.prototype);\n",
       "BokehScrubberWidget.prototype = Object.create(ScrubberWidget.prototype);\n",
       "\n",
       "// Define methods to override on widgets\n",
       "var BokehMethods = {\n",
       "  update_cache : function(){\n",
       "    for (var index in this.frames) {\n",
       "      this.frames[index] = JSON.parse(this.frames[index]);\n",
       "    }\n",
       "  },\n",
       "  update : function(current){\n",
       "    if (current === undefined) {\n",
       "      return;\n",
       "    }\n",
       "    var data = this.frames[current];\n",
       "    if (data !== undefined) {\n",
       "      if (data.root in HoloViews.plot_index) {\n",
       "        var doc = HoloViews.plot_index[data.root].model.document;\n",
       "      } else {\n",
       "        var doc = Bokeh.index[data.root].model.document;\n",
       "      }\n",
       "      doc.apply_json_patch(data.content);\n",
       "    }\n",
       "  },\n",
       "  init_comms: function() {\n",
       "    if (Bokeh.protocol !== undefined) {\n",
       "      this.receiver = new Bokeh.protocol.Receiver()\n",
       "    } else {\n",
       "      this.receiver = null;\n",
       "    }\n",
       "    return HoloViewsWidget.prototype.init_comms.call(this);\n",
       "  },\n",
       "  process_msg : function(msg) {\n",
       "    if (this.plot_id in HoloViews.plot_index) {\n",
       "      var doc = HoloViews.plot_index[this.plot_id].model.document;\n",
       "    } else {\n",
       "      var doc = Bokeh.index[this.plot_id].model.document;\n",
       "    }\n",
       "    if (this.receiver === null) { return }\n",
       "    var receiver = this.receiver;\n",
       "    if (msg.buffers.length > 0) {\n",
       "      receiver.consume(msg.buffers[0].buffer)\n",
       "    } else {\n",
       "      receiver.consume(msg.content.data)\n",
       "    }\n",
       "    const comm_msg = receiver.message;\n",
       "    if ((comm_msg != null) && (doc != null)) {\n",
       "      doc.apply_json_patch(comm_msg.content, comm_msg.buffers)\n",
       "    }\n",
       "  }\n",
       "}\n",
       "\n",
       "// Extend Bokeh widgets with backend specific methods\n",
       "extend(BokehSelectionWidget.prototype, BokehMethods);\n",
       "extend(BokehScrubberWidget.prototype, BokehMethods);\n",
       "\n",
       "window.HoloViews.BokehSelectionWidget = BokehSelectionWidget\n",
       "window.HoloViews.BokehScrubberWidget = BokehScrubberWidget\n",
       "</script>\n",
       "<script type=\"text/javascript\">\n",
       "    function JupyterCommManager() {\n",
       "    }\n",
       "\n",
       "    JupyterCommManager.prototype.register_target = function(plot_id, comm_id, msg_handler) {\n",
       "      if (window.comm_manager || ((window.Jupyter !== undefined) && (Jupyter.notebook.kernel != null))) {\n",
       "        var comm_manager = window.comm_manager || Jupyter.notebook.kernel.comm_manager;\n",
       "        comm_manager.register_target(comm_id, function(comm) {\n",
       "          comm.on_msg(msg_handler);\n",
       "        });\n",
       "      } else if ((plot_id in window.PyViz.kernels) && (window.PyViz.kernels[plot_id])) {\n",
       "        window.PyViz.kernels[plot_id].registerCommTarget(comm_id, function(comm) {\n",
       "          comm.onMsg = msg_handler;\n",
       "        });\n",
       "      }\n",
       "    }\n",
       "\n",
       "    JupyterCommManager.prototype.get_client_comm = function(plot_id, comm_id, msg_handler) {\n",
       "      if (comm_id in window.PyViz.comms) {\n",
       "        return window.PyViz.comms[comm_id];\n",
       "      } else if (window.comm_manager || ((window.Jupyter !== undefined) && (Jupyter.notebook.kernel != null))) {\n",
       "        var comm_manager = window.comm_manager || Jupyter.notebook.kernel.comm_manager;\n",
       "        var comm = comm_manager.new_comm(comm_id, {}, {}, {}, comm_id);\n",
       "        if (msg_handler) {\n",
       "          comm.on_msg(msg_handler);\n",
       "        }\n",
       "      } else if ((plot_id in window.PyViz.kernels) && (window.PyViz.kernels[plot_id])) {\n",
       "        var comm = window.PyViz.kernels[plot_id].connectToComm(comm_id);\n",
       "        comm.open();\n",
       "        if (msg_handler) {\n",
       "          comm.onMsg = msg_handler;\n",
       "        }\n",
       "      }\n",
       "\n",
       "      window.PyViz.comms[comm_id] = comm;\n",
       "      return comm;\n",
       "    }\n",
       "\n",
       "    window.PyViz.comm_manager = new JupyterCommManager();\n",
       "    </script>\n",
       "\n",
       "<link rel=\"stylesheet\" href=\"https://cdn.pydata.org/bokeh/release/bokeh-1.2.0.min.css\">\n",
       "<link rel=\"stylesheet\" href=\"https://cdn.pydata.org/bokeh/release/bokeh-widgets-1.2.0.min.css\">\n",
       "<link rel=\"stylesheet\" href=\"https://cdn.pydata.org/bokeh/release/bokeh-tables-1.2.0.min.css\">\n",
       "<link rel=\"stylesheet\" href=\"https://maxcdn.bootstrapcdn.com/bootstrap/3.3.6/css/bootstrap.min.css\">\n",
       "<link rel=\"stylesheet\" href=\"https://code.jquery.com/ui/1.10.4/themes/smoothness/jquery-ui.css\">\n",
       "<style>div.bk-hbox {\n",
       "    display: flex;\n",
       "    justify-content: center;\n",
       "}\n",
       "\n",
       "div.bk-hbox div.bk-plot {\n",
       "    padding: 8px;\n",
       "}\n",
       "\n",
       "div.bk-hbox div.bk-data-table {\n",
       "    padding: 20px;\n",
       "}\n",
       "\n",
       "div.hololayout {\n",
       "  display: flex;\n",
       "  align-items: center;\n",
       "  margin: 0;\n",
       "}\n",
       "\n",
       "div.holoframe {\n",
       "  width: 75%;\n",
       "}\n",
       "\n",
       "div.holowell {\n",
       "  display: flex;\n",
       "  align-items: center;\n",
       "}\n",
       "\n",
       "form.holoform {\n",
       "  background-color: #fafafa;\n",
       "  border-radius: 5px;\n",
       "  overflow: hidden;\n",
       "  padding-left: 0.8em;\n",
       "  padding-right: 0.8em;\n",
       "  padding-top: 0.4em;\n",
       "  padding-bottom: 0.4em;\n",
       "  box-shadow: inset 0 1px 1px rgba(0, 0, 0, 0.05);\n",
       "  margin-bottom: 20px;\n",
       "  border: 1px solid #e3e3e3;\n",
       "}\n",
       "\n",
       "div.holowidgets {\n",
       "  padding-right: 0;\n",
       "  width: 25%;\n",
       "}\n",
       "\n",
       "div.holoslider {\n",
       "  min-height: 0 !important;\n",
       "  height: 0.8em;\n",
       "  width: 100%;\n",
       "}\n",
       "\n",
       "div.holoformgroup {\n",
       "  padding-top: 0.5em;\n",
       "  margin-bottom: 0.5em;\n",
       "}\n",
       "\n",
       "div.hologroup {\n",
       "  padding-left: 0;\n",
       "  padding-right: 0.8em;\n",
       "  width: 100%;\n",
       "}\n",
       "\n",
       ".holoselect {\n",
       "  width: 92%;\n",
       "  margin-left: 0;\n",
       "  margin-right: 0;\n",
       "}\n",
       "\n",
       ".holotext {\n",
       "  padding-left:  0.5em;\n",
       "  padding-right: 0;\n",
       "  width: 100%;\n",
       "}\n",
       "\n",
       ".holowidgets .ui-resizable-se {\n",
       "  visibility: hidden\n",
       "}\n",
       "\n",
       ".holoframe > .ui-resizable-se {\n",
       "  visibility: hidden\n",
       "}\n",
       "\n",
       ".holowidgets .ui-resizable-s {\n",
       "  visibility: hidden\n",
       "}\n",
       "\n",
       "\n",
       "/* CSS rules for noUISlider based slider used by JupyterLab extension  */\n",
       "\n",
       ".noUi-handle {\n",
       "  width: 20px !important;\n",
       "  height: 20px !important;\n",
       "  left: -5px !important;\n",
       "  top: -5px !important;\n",
       "}\n",
       "\n",
       ".noUi-handle:before, .noUi-handle:after {\n",
       "  visibility: hidden;\n",
       "  height: 0px;\n",
       "}\n",
       "\n",
       ".noUi-target {\n",
       "  margin-left: 0.5em;\n",
       "  margin-right: 0.5em;\n",
       "}\n",
       "</style><div style='display: table; margin: 0 auto;'>\n",
       "\n",
       "\n",
       "\n",
       "\n",
       "\n",
       "\n",
       "  <div class=\"bk-root\" id=\"945403c4-bd5d-4a22-9296-5b6b33f7842a\" data-root-id=\"1113\"></div>\n",
       "\n",
       "<script type=\"text/javascript\">\n",
       "  (function(root) {\n",
       "  function embed_document(root) {\n",
       "    \n",
       "  var docs_json = {\"478af98d-1ab3-442f-9f84-c885924708b3\":{\"roots\":{\"references\":[{\"attributes\":{\"below\":[{\"id\":\"1122\",\"type\":\"CategoricalAxis\"}],\"center\":[{\"id\":\"1125\",\"type\":\"Grid\"},{\"id\":\"1130\",\"type\":\"Grid\"}],\"left\":[{\"id\":\"1126\",\"type\":\"LinearAxis\"}],\"margin\":null,\"min_border_bottom\":10,\"min_border_left\":10,\"min_border_right\":10,\"min_border_top\":10,\"plot_height\":300,\"plot_width\":700,\"renderers\":[{\"id\":\"1149\",\"type\":\"GlyphRenderer\"}],\"sizing_mode\":\"fixed\",\"title\":{\"id\":\"1114\",\"type\":\"Title\"},\"toolbar\":{\"id\":\"1136\",\"type\":\"Toolbar\"},\"x_range\":{\"id\":\"1110\",\"type\":\"FactorRange\"},\"x_scale\":{\"id\":\"1118\",\"type\":\"CategoricalScale\"},\"y_range\":{\"id\":\"1111\",\"type\":\"Range1d\"},\"y_scale\":{\"id\":\"1120\",\"type\":\"LinearScale\"}},\"id\":\"1113\",\"subtype\":\"Figure\",\"type\":\"Plot\"},{\"attributes\":{\"fill_color\":{\"value\":\"#1f77b4\"},\"top\":{\"field\":\"ChE_GitHub_Projects\"},\"width\":{\"value\":0.8},\"x\":{\"field\":\"Language\"}},\"id\":\"1146\",\"type\":\"VBar\"},{\"attributes\":{\"text\":\"\",\"text_color\":{\"value\":\"black\"},\"text_font_size\":{\"value\":\"12pt\"}},\"id\":\"1114\",\"type\":\"Title\"},{\"attributes\":{},\"id\":\"1118\",\"type\":\"CategoricalScale\"},{\"attributes\":{},\"id\":\"1154\",\"type\":\"BasicTickFormatter\"},{\"attributes\":{\"active_drag\":\"auto\",\"active_inspect\":\"auto\",\"active_multi\":null,\"active_scroll\":\"auto\",\"active_tap\":\"auto\",\"tools\":[{\"id\":\"1112\",\"type\":\"HoverTool\"},{\"id\":\"1131\",\"type\":\"SaveTool\"},{\"id\":\"1132\",\"type\":\"PanTool\"},{\"id\":\"1133\",\"type\":\"WheelZoomTool\"},{\"id\":\"1134\",\"type\":\"BoxZoomTool\"},{\"id\":\"1135\",\"type\":\"ResetTool\"}]},\"id\":\"1136\",\"type\":\"Toolbar\"},{\"attributes\":{},\"id\":\"1120\",\"type\":\"LinearScale\"},{\"attributes\":{},\"id\":\"1135\",\"type\":\"ResetTool\"},{\"attributes\":{\"axis_label\":\"Language\",\"bounds\":\"auto\",\"formatter\":{\"id\":\"1152\",\"type\":\"CategoricalTickFormatter\"},\"major_label_orientation\":0.7853981633974483,\"ticker\":{\"id\":\"1123\",\"type\":\"CategoricalTicker\"}},\"id\":\"1122\",\"type\":\"CategoricalAxis\"},{\"attributes\":{\"bottom_units\":\"screen\",\"fill_alpha\":{\"value\":0.5},\"fill_color\":{\"value\":\"lightgrey\"},\"left_units\":\"screen\",\"level\":\"overlay\",\"line_alpha\":{\"value\":1.0},\"line_color\":{\"value\":\"black\"},\"line_dash\":[4,4],\"line_width\":{\"value\":2},\"render_mode\":\"css\",\"right_units\":\"screen\",\"top_units\":\"screen\"},\"id\":\"1162\",\"type\":\"BoxAnnotation\"},{\"attributes\":{},\"id\":\"1133\",\"type\":\"WheelZoomTool\"},{\"attributes\":{},\"id\":\"1123\",\"type\":\"CategoricalTicker\"},{\"attributes\":{\"overlay\":{\"id\":\"1162\",\"type\":\"BoxAnnotation\"}},\"id\":\"1134\",\"type\":\"BoxZoomTool\"},{\"attributes\":{\"grid_line_color\":null,\"ticker\":{\"id\":\"1123\",\"type\":\"CategoricalTicker\"}},\"id\":\"1125\",\"type\":\"Grid\"},{\"attributes\":{},\"id\":\"1152\",\"type\":\"CategoricalTickFormatter\"},{\"attributes\":{},\"id\":\"1132\",\"type\":\"PanTool\"},{\"attributes\":{},\"id\":\"1131\",\"type\":\"SaveTool\"},{\"attributes\":{\"callback\":null,\"factors\":[\"Python\",\"HTML\",\"JavaScript\",\"CSS\",\"Shell\",\"Jupyter Notebook\",\"Ruby\",\"Makefile\",\"C++\",\"C\",\"Java\",\"TeX\",\"R\",\"Batchfile\",\"MATLAB\"],\"tags\":[[[\"Language\",\"Language\",null]]]},\"id\":\"1110\",\"type\":\"FactorRange\"},{\"attributes\":{\"callback\":null,\"end\":2548.0,\"reset_end\":2548.0,\"reset_start\":0,\"tags\":[[[\"ChE GitHub Projects\",\"ChE GitHub Projects\",null]]]},\"id\":\"1111\",\"type\":\"Range1d\"},{\"attributes\":{\"callback\":null,\"renderers\":[{\"id\":\"1149\",\"type\":\"GlyphRenderer\"}],\"tags\":[\"hv_created\"],\"tooltips\":[[\"Language\",\"@{Language}\"],[\"ChE GitHub Projects\",\"@{ChE_GitHub_Projects}\"]]},\"id\":\"1112\",\"type\":\"HoverTool\"},{\"attributes\":{\"source\":{\"id\":\"1143\",\"type\":\"ColumnDataSource\"}},\"id\":\"1150\",\"type\":\"CDSView\"},{\"attributes\":{},\"id\":\"1144\",\"type\":\"Selection\"},{\"attributes\":{},\"id\":\"1161\",\"type\":\"UnionRenderers\"},{\"attributes\":{\"callback\":null,\"data\":{\"ChE_GitHub_Projects\":{\"__ndarray__\":\"AAAAAADoo0AAAAAAAL6jQAAAAAAAyJ9AAAAAAACcnEAAAAAAANCSQAAAAAAA+I5AAAAAAABwhEAAAAAAADiDQAAAAAAAqIJAAAAAAACwgUAAAAAAAJB+QAAAAAAAsHBAAAAAAAAwcEAAAAAAAOBuQAAAAAAAQG5A\",\"dtype\":\"float64\",\"shape\":[15]},\"Language\":[\"Python\",\"HTML\",\"JavaScript\",\"CSS\",\"Shell\",\"Jupyter Notebook\",\"Ruby\",\"Makefile\",\"C++\",\"C\",\"Java\",\"TeX\",\"R\",\"Batchfile\",\"MATLAB\"]},\"selected\":{\"id\":\"1144\",\"type\":\"Selection\"},\"selection_policy\":{\"id\":\"1161\",\"type\":\"UnionRenderers\"}},\"id\":\"1143\",\"type\":\"ColumnDataSource\"},{\"attributes\":{\"fill_alpha\":{\"value\":0.1},\"fill_color\":{\"value\":\"#1f77b4\"},\"line_alpha\":{\"value\":0.1},\"line_color\":{\"value\":\"black\"},\"top\":{\"field\":\"ChE_GitHub_Projects\"},\"width\":{\"value\":0.8},\"x\":{\"field\":\"Language\"}},\"id\":\"1147\",\"type\":\"VBar\"},{\"attributes\":{\"dimension\":1,\"grid_line_color\":null,\"ticker\":{\"id\":\"1127\",\"type\":\"BasicTicker\"}},\"id\":\"1130\",\"type\":\"Grid\"},{\"attributes\":{\"fill_alpha\":{\"value\":0.2},\"fill_color\":{\"value\":\"#1f77b4\"},\"line_alpha\":{\"value\":0.2},\"line_color\":{\"value\":\"black\"},\"top\":{\"field\":\"ChE_GitHub_Projects\"},\"width\":{\"value\":0.8},\"x\":{\"field\":\"Language\"}},\"id\":\"1148\",\"type\":\"VBar\"},{\"attributes\":{\"data_source\":{\"id\":\"1143\",\"type\":\"ColumnDataSource\"},\"glyph\":{\"id\":\"1146\",\"type\":\"VBar\"},\"hover_glyph\":null,\"muted_glyph\":{\"id\":\"1148\",\"type\":\"VBar\"},\"nonselection_glyph\":{\"id\":\"1147\",\"type\":\"VBar\"},\"selection_glyph\":null,\"view\":{\"id\":\"1150\",\"type\":\"CDSView\"}},\"id\":\"1149\",\"type\":\"GlyphRenderer\"},{\"attributes\":{\"axis_label\":\"ChE GitHub Projects\",\"bounds\":\"auto\",\"formatter\":{\"id\":\"1154\",\"type\":\"BasicTickFormatter\"},\"major_label_orientation\":\"horizontal\",\"ticker\":{\"id\":\"1127\",\"type\":\"BasicTicker\"}},\"id\":\"1126\",\"type\":\"LinearAxis\"},{\"attributes\":{},\"id\":\"1127\",\"type\":\"BasicTicker\"}],\"root_ids\":[\"1113\"]},\"title\":\"Bokeh Application\",\"version\":\"1.2.0\"}};\n",
       "  var render_items = [{\"docid\":\"478af98d-1ab3-442f-9f84-c885924708b3\",\"roots\":{\"1113\":\"945403c4-bd5d-4a22-9296-5b6b33f7842a\"}}];\n",
       "  root.Bokeh.embed.embed_items_notebook(docs_json, render_items);\n",
       "\n",
       "  }\n",
       "  if (root.Bokeh !== undefined) {\n",
       "    embed_document(root);\n",
       "  } else {\n",
       "    var attempts = 0;\n",
       "    var timer = setInterval(function(root) {\n",
       "      if (root.Bokeh !== undefined) {\n",
       "        embed_document(root);\n",
       "        clearInterval(timer);\n",
       "      }\n",
       "      attempts++;\n",
       "      if (attempts > 100) {\n",
       "        console.log(\"Bokeh: ERROR: Unable to run BokehJS code because BokehJS library is missing\");\n",
       "        clearInterval(timer);\n",
       "      }\n",
       "    }, 10, root)\n",
       "  }\n",
       "})(window);\n",
       "</script>\n",
       "</div>"
      ],
      "text/plain": [
       "<IPython.core.display.HTML object>"
      ]
     },
     "execution_count": 11,
     "metadata": {},
     "output_type": "execute_result"
    }
   ],
   "source": [
    "HTML(filename=\"Top_Languages.html\")"
   ]
  },
  {
   "cell_type": "markdown",
   "metadata": {
    "slideshow": {
     "slide_type": "subslide"
    }
   },
   "source": [
    "### DANGER ZONE\n",
    "\n",
    "* \"Are you saying Python is 'better' than another (my) approach?\" *"
   ]
  },
  {
   "cell_type": "markdown",
   "metadata": {
    "slideshow": {
     "slide_type": "fragment"
    }
   },
   "source": [
    "The best programming language depends on the task !\n",
    "- Does the desired result created from the program or is it the program itself ?\n",
    "- Is it the optimial use of constrainted resources (*i.e.* your time)?\n",
    "- Does it work with your computer hardware & OS ?\n",
    "- Is it appropriate for Customer/ Colaborators/ Stakeholders ?\n",
    "- Can it be maintained and supported ?"
   ]
  },
  {
   "cell_type": "markdown",
   "metadata": {
    "slideshow": {
     "slide_type": "subslide"
    }
   },
   "source": [
    "# Why not to Python?\n",
    "- Despite that it is relatively easy to learn, it's still a programming language\n",
    "- Open source: \n",
    "  - Only some capabilities are well maintained\n",
    "  - Most support is from a volunteer community\n",
    "- Pure Python not suited for HPC applications\n"
   ]
  },
  {
   "cell_type": "markdown",
   "metadata": {
    "slideshow": {
     "slide_type": "slide"
    }
   },
   "source": [
    "# How to get started in 2019\n",
    "- Use Python 3.7   \n",
    "- Download from Anaconda: https://www.anaconda.com/distribution/\n",
    "\n",
    "- Or working on the cloud, through Jupyter notebooks https://jupyter.org/\n",
    "    - Binder : https://mybinder.org/\n",
    "    - CoCalc : https://cocalc.com/        \n",
    "    - Domino Data Lab : https://dominodatalab.com/\n",
    "    - Amazon Sagemaker : https://aws.amazon.com/sagemaker/\n",
    "    - Google Colaboratory : https://colab.research.google.com/\n",
    "    - Microsoft Azure Notebooks : https://notebooks.azure.com/\n",
    "    - Many others!\n",
    "    \n",
    "- Find and read resources online\n",
    "    - The files used in this presentation are on GitHub: https://github.com/chepyle/Python4ChEs\n",
    "  "
   ]
  },
  {
   "cell_type": "markdown",
   "metadata": {
    "slideshow": {
     "slide_type": "slide"
    }
   },
   "source": [
    "# Python Basics\n",
    "- Pure Python code is plain text saved as `.py` files\n",
    "- Text file with commands that are read by a Python interpreter program and convterted into computer instructions\n",
    "- Python supports Unicode; symbols can be used (but are hard to type)"
   ]
  },
  {
   "cell_type": "code",
   "execution_count": 12,
   "metadata": {},
   "outputs": [
    {
     "data": {
      "text/plain": [
       "6.28"
      ]
     },
     "execution_count": 12,
     "metadata": {},
     "output_type": "execute_result"
    }
   ],
   "source": [
    "π = 3.14\n",
    "\n",
    "2*π "
   ]
  },
  {
   "cell_type": "markdown",
   "metadata": {
    "slideshow": {
     "slide_type": "subslide"
    }
   },
   "source": [
    "# Jupyter notebooks can help documenting and running Python code\n"
   ]
  },
  {
   "cell_type": "markdown",
   "metadata": {},
   "source": [
    "A Jupyter notebook is a document (`.ipynb` file) you edit with a web browser.  It consists of a single column of 'cells' that can contain either code or markdown text.  Markdown adds formatting to plain text fields:\n",
    " \n",
    " - Enclosing words with asterisks like `**bold**` and `*italic*` make **bold** and *italic*\n",
    " - Wrapping text with backticks (\\`) like \\`code statements\\` will appear to look like `code`\n",
    " - For bulleted (or numbered) lists, just type ` - ` (or ` 1.`) before each line\n",
    " - For heading formats use `#`, `##`, etc. at the start of each line\n",
    " - Can write math expressions: `$y_i=\\sqrt{x_i{^2}}$ ` becomes $y_i=\\sqrt{x_i{^2}}$\n",
    " - Extra settings and features (plotting, reporting run time) controlled by \"magic commands\" starting with `%`\n",
    " \n",
    "The notebook and the kernel (the computing engine that runs the code) can be served from your local computer or a remote sever."
   ]
  },
  {
   "cell_type": "markdown",
   "metadata": {
    "slideshow": {
     "slide_type": "subslide"
    }
   },
   "source": [
    "# Python is extended with imported packages\n",
    "- Python doesn't come with built-in capabilities for technical problems\n",
    "- Key packages for scientific or engineering tasks:\n",
    "    - `numpy` matricies, linear algebra, some math functions\n",
    "    - `scipy`, scientific and engineering functions\n",
    "      -  other scikits e.g `scikit-image`, `scikit-learn`\n",
    "    - `pandas` best for working with tables of data (data frames)\n",
    "    - `matplotlib` standard plotting library, `seaborn` is another that adds functionality for data visualization\n",
    "    - `sympy` symbolic math\n",
    "    - Many others!\n"
   ]
  },
  {
   "cell_type": "code",
   "execution_count": 13,
   "metadata": {},
   "outputs": [
    {
     "data": {
      "text/plain": [
       "2.0"
      ]
     },
     "execution_count": 13,
     "metadata": {},
     "output_type": "execute_result"
    }
   ],
   "source": [
    "import numpy as np\n",
    "np.sqrt(4)"
   ]
  },
  {
   "cell_type": "markdown",
   "metadata": {
    "slideshow": {
     "slide_type": "subslide"
    }
   },
   "source": [
    "# Packages are installed with package managers\n",
    "\n",
    "Conda package manager\n",
    "- best for managing multiple environments\n",
    "- connects to packages housed on [Anaconda.org](https://anaconda.org)\n",
    "- installs non-python package dependencies too\n",
    "\n",
    "`$> conda install numpy`"
   ]
  },
  {
   "cell_type": "markdown",
   "metadata": {
    "slideshow": {
     "slide_type": "fragment"
    }
   },
   "source": [
    "Pip package manager\n",
    "- standard package manager\n",
    "- connects to python packages housed on [pypi.org](https://pypi.org)\n",
    "\n",
    "`$> pip install numpy`"
   ]
  },
  {
   "cell_type": "markdown",
   "metadata": {
    "slideshow": {
     "slide_type": "subslide"
    }
   },
   "source": [
    "# Python syntax\n",
    "- Anything after a ` # ` is considered to be a comment and is ignored by the computer, triple quotes `'''` will create a block of comments\n",
    "- Index counts start at `[0]`\n",
    "- Spaces and indentation matter!  Where other languages use `{ }`,Python uses indentation to group statements\n",
    "- To exponentiate use `**` not `^`\n",
    "- To get help for a function, type `?` followed by the function name, e.g. `?np.sqrt`\n",
    "- Single ' or double quotes \" can both be used to denote text values"
   ]
  },
  {
   "cell_type": "markdown",
   "metadata": {
    "slideshow": {
     "slide_type": "subslide"
    }
   },
   "source": [
    "# Python Data Types (`dtype`s)\n",
    "There are some basic data types\n",
    "\n",
    " - `int` integer (-1,42)\n",
    " - `float` real (floating-point) number (3.141)\n",
    " - `bool` boolean: (`True` or `False`)\n",
    " - `str` text string (`'asdf'`)\n",
    "\n",
    "Some special types of data:\n",
    "\n",
    " - `None` in Python this is a placeholder for an empty space\n",
    " - `numpy.nan` a placeholder for something that is not-a-number \n",
    " - `numpy.inf` a placeholder for infinity\n",
    "\n",
    "Working with types:\n",
    " - the data type of a variable is usually inferred by Python\n",
    " - the data type can be determined with the `type` command\n",
    " - data types can be interconverted\n"
   ]
  },
  {
   "cell_type": "markdown",
   "metadata": {
    "slideshow": {
     "slide_type": "subslide"
    }
   },
   "source": [
    "# Simple Syntax Examples"
   ]
  },
  {
   "cell_type": "code",
   "execution_count": 14,
   "metadata": {},
   "outputs": [
    {
     "name": "stdout",
     "output_type": "stream",
     "text": [
      "2*Pi is: 6.28, type <class 'float'>\n",
      "As int, 2*pi is: 6, type <class 'int'>\n",
      "As str, 2*pi is: 3.143.14, type <class 'str'>\n"
     ]
    }
   ],
   "source": [
    "pi = 3.14\n",
    "print('2*Pi is: {}, type {}'.format(2*pi,type(2*pi)))\n",
    "print('As int, 2*pi is: {}, type {}'.format(2*int(pi),type(2*int(pi))))\n",
    "print('As str, 2*pi is: {}, type {}'.format(2*str(pi),type(2*str(pi))))"
   ]
  },
  {
   "cell_type": "markdown",
   "metadata": {
    "slideshow": {
     "slide_type": "fragment"
    }
   },
   "source": [
    "## Chain assignment"
   ]
  },
  {
   "cell_type": "code",
   "execution_count": 15,
   "metadata": {},
   "outputs": [],
   "source": [
    "pi = π = 3.14"
   ]
  },
  {
   "cell_type": "markdown",
   "metadata": {},
   "source": [
    "## Unpacking values"
   ]
  },
  {
   "cell_type": "code",
   "execution_count": 16,
   "metadata": {},
   "outputs": [],
   "source": [
    "pi, e = [3.14,2.72]  # assignment"
   ]
  },
  {
   "cell_type": "markdown",
   "metadata": {
    "slideshow": {
     "slide_type": "subslide"
    }
   },
   "source": [
    "## Logic statements\n"
   ]
  },
  {
   "cell_type": "code",
   "execution_count": 17,
   "metadata": {},
   "outputs": [
    {
     "data": {
      "text/plain": [
       "True"
      ]
     },
     "execution_count": 17,
     "metadata": {},
     "output_type": "execute_result"
    }
   ],
   "source": [
    "type(pi) is float"
   ]
  },
  {
   "cell_type": "code",
   "execution_count": 18,
   "metadata": {
    "slideshow": {
     "slide_type": "fragment"
    }
   },
   "outputs": [
    {
     "data": {
      "text/plain": [
       "True"
      ]
     },
     "execution_count": 18,
     "metadata": {},
     "output_type": "execute_result"
    }
   ],
   "source": [
    "(pi > 3) and (pi < 6)"
   ]
  },
  {
   "cell_type": "code",
   "execution_count": 19,
   "metadata": {
    "slideshow": {
     "slide_type": "fragment"
    }
   },
   "outputs": [
    {
     "data": {
      "text/plain": [
       "True"
      ]
     },
     "execution_count": 19,
     "metadata": {},
     "output_type": "execute_result"
    }
   ],
   "source": [
    "pi == π"
   ]
  },
  {
   "cell_type": "code",
   "execution_count": 20,
   "metadata": {
    "slideshow": {
     "slide_type": "fragment"
    }
   },
   "outputs": [
    {
     "data": {
      "text/plain": [
       "False"
      ]
     },
     "execution_count": 20,
     "metadata": {},
     "output_type": "execute_result"
    }
   ],
   "source": [
    "pi != π"
   ]
  },
  {
   "cell_type": "markdown",
   "metadata": {
    "slideshow": {
     "slide_type": "subslide"
    }
   },
   "source": [
    "## Loops "
   ]
  },
  {
   "cell_type": "code",
   "execution_count": 21,
   "metadata": {},
   "outputs": [
    {
     "name": "stdout",
     "output_type": "stream",
     "text": [
      "<class 'NoneType'>\n",
      "Numbers add: 2\n",
      "Numbers add: 4.0\n",
      "strings concatenate: 33\n",
      "strings concatenate: fourfour\n"
     ]
    }
   ],
   "source": [
    "# a python list object containing a NoneType, integer, floating point, and two strings\n",
    "x = [None,1,2.0,'3','four'] \n",
    "\n",
    "for item in x:  # python for loop\n",
    "    if type(item) is str:  # if statement\n",
    "        print('strings concatenate: {}'.format(item+item))  # print function\n",
    "    elif type(item) is int or type(item) is float:\n",
    "        print('Numbers add: {}'.format(item+item))\n",
    "    else:\n",
    "        print(type(item))\n",
    "    "
   ]
  },
  {
   "cell_type": "markdown",
   "metadata": {
    "slideshow": {
     "slide_type": "subslide"
    }
   },
   "source": [
    "## Defining functions"
   ]
  },
  {
   "cell_type": "code",
   "execution_count": 22,
   "metadata": {},
   "outputs": [
    {
     "name": "stdout",
     "output_type": "stream",
     "text": [
      "4\n",
      "8\n"
     ]
    }
   ],
   "source": [
    "def my_exp(x,power=2): #function definition with optional keyword arguments (aka kwargs)\n",
    "    return(x**power) # return power\n",
    "\n",
    "print(my_exp(2))\n",
    "\n",
    "print(my_exp(2,power=3))\n"
   ]
  },
  {
   "cell_type": "markdown",
   "metadata": {
    "slideshow": {
     "slide_type": "subslide"
    }
   },
   "source": [
    "## Python Data Structures\n",
    "The data types can be collected into different structures.  Most common are:\n",
    "\n",
    " - `list`: a list of items, one-dimensional uses square brackets: `[]`\n",
    " - `dict`: a collection of named (keyed) values, uses curly brackets: `{}`\n",
    " - `numpy.array` aka `np.array`:  a multi-dimensional matrix \n",
    " - `pandas.DataFrame` aka `pd.DataFrame`: a 2-d table with row and column names\n",
    " \n",
    "Very flexible: structures can contain other structures"
   ]
  },
  {
   "cell_type": "markdown",
   "metadata": {
    "slideshow": {
     "slide_type": "subslide"
    }
   },
   "source": [
    "### `numpy` arrays\n",
    "The `numpy` package is a powerful package for working with matricies.  An `array` is most common.  One way to define an array is using a list of lists:"
   ]
  },
  {
   "cell_type": "code",
   "execution_count": 23,
   "metadata": {},
   "outputs": [
    {
     "data": {
      "text/plain": [
       "array([[1, 2, 3],\n",
       "       [4, 5, 6]])"
      ]
     },
     "execution_count": 23,
     "metadata": {},
     "output_type": "execute_result"
    }
   ],
   "source": [
    "import numpy as np\n",
    "m = np.array([[1,2,3],[4,5,6]])\n",
    "m"
   ]
  },
  {
   "cell_type": "markdown",
   "metadata": {},
   "source": [
    "Indexing can be done with square brackets: `[row,column]`.  Indexes start at zero!"
   ]
  },
  {
   "cell_type": "code",
   "execution_count": 24,
   "metadata": {},
   "outputs": [
    {
     "data": {
      "text/plain": [
       "2"
      ]
     },
     "execution_count": 24,
     "metadata": {},
     "output_type": "execute_result"
    }
   ],
   "source": [
    "m[0,1]"
   ]
  },
  {
   "cell_type": "markdown",
   "metadata": {},
   "source": [
    "Select the second row, all columns with the slice `:` operator"
   ]
  },
  {
   "cell_type": "code",
   "execution_count": 25,
   "metadata": {},
   "outputs": [
    {
     "data": {
      "text/plain": [
       "array([4, 5, 6])"
      ]
     },
     "execution_count": 25,
     "metadata": {},
     "output_type": "execute_result"
    }
   ],
   "source": [
    "m[1,:]"
   ]
  },
  {
   "cell_type": "markdown",
   "metadata": {},
   "source": [
    "### `pandas` DataFrames\n",
    "For data in a table format, with rows and columns, it can be useful to use for working with observational data. One way to make a data frame is to start from a `dict` structure:"
   ]
  },
  {
   "cell_type": "code",
   "execution_count": 26,
   "metadata": {},
   "outputs": [
    {
     "data": {
      "text/html": [
       "<div>\n",
       "<style scoped>\n",
       "    .dataframe tbody tr th:only-of-type {\n",
       "        vertical-align: middle;\n",
       "    }\n",
       "\n",
       "    .dataframe tbody tr th {\n",
       "        vertical-align: top;\n",
       "    }\n",
       "\n",
       "    .dataframe thead th {\n",
       "        text-align: right;\n",
       "    }\n",
       "</style>\n",
       "<table border=\"1\" class=\"dataframe\">\n",
       "  <thead>\n",
       "    <tr style=\"text-align: right;\">\n",
       "      <th></th>\n",
       "      <th>Time</th>\n",
       "      <th>Temperature</th>\n",
       "      <th>Pressure</th>\n",
       "    </tr>\n",
       "  </thead>\n",
       "  <tbody>\n",
       "    <tr>\n",
       "      <td>0</td>\n",
       "      <td>0</td>\n",
       "      <td>0</td>\n",
       "      <td>5.0</td>\n",
       "    </tr>\n",
       "    <tr>\n",
       "      <td>1</td>\n",
       "      <td>12</td>\n",
       "      <td>100</td>\n",
       "      <td>760.0</td>\n",
       "    </tr>\n",
       "    <tr>\n",
       "      <td>2</td>\n",
       "      <td>24</td>\n",
       "      <td>200</td>\n",
       "      <td>1200.0</td>\n",
       "    </tr>\n",
       "  </tbody>\n",
       "</table>\n",
       "</div>"
      ],
      "text/plain": [
       "   Time  Temperature  Pressure\n",
       "0     0            0       5.0\n",
       "1    12          100     760.0\n",
       "2    24          200    1200.0"
      ]
     },
     "execution_count": 26,
     "metadata": {},
     "output_type": "execute_result"
    }
   ],
   "source": [
    "import pandas as pd\n",
    "df = pd.DataFrame({'Time':[0,12,24],\n",
    "                   'Temperature':[0, 100, 200],\n",
    "                   'Pressure':[5, 760, 1200.]})\n",
    "df"
   ]
  },
  {
   "cell_type": "code",
   "execution_count": 27,
   "metadata": {},
   "outputs": [
    {
     "data": {
      "text/plain": [
       "0       5.0\n",
       "1     760.0\n",
       "2    1200.0\n",
       "Name: Pressure, dtype: float64"
      ]
     },
     "execution_count": 27,
     "metadata": {},
     "output_type": "execute_result"
    }
   ],
   "source": [
    "df['Pressure']"
   ]
  },
  {
   "cell_type": "code",
   "execution_count": 28,
   "metadata": {},
   "outputs": [
    {
     "data": {
      "text/html": [
       "<div>\n",
       "<style scoped>\n",
       "    .dataframe tbody tr th:only-of-type {\n",
       "        vertical-align: middle;\n",
       "    }\n",
       "\n",
       "    .dataframe tbody tr th {\n",
       "        vertical-align: top;\n",
       "    }\n",
       "\n",
       "    .dataframe thead th {\n",
       "        text-align: right;\n",
       "    }\n",
       "</style>\n",
       "<table border=\"1\" class=\"dataframe\">\n",
       "  <thead>\n",
       "    <tr style=\"text-align: right;\">\n",
       "      <th></th>\n",
       "      <th>Time</th>\n",
       "      <th>Temperature</th>\n",
       "      <th>Pressure</th>\n",
       "    </tr>\n",
       "  </thead>\n",
       "  <tbody>\n",
       "    <tr>\n",
       "      <td>2</td>\n",
       "      <td>24</td>\n",
       "      <td>200</td>\n",
       "      <td>1200.0</td>\n",
       "    </tr>\n",
       "  </tbody>\n",
       "</table>\n",
       "</div>"
      ],
      "text/plain": [
       "   Time  Temperature  Pressure\n",
       "2    24          200    1200.0"
      ]
     },
     "execution_count": 28,
     "metadata": {},
     "output_type": "execute_result"
    }
   ],
   "source": [
    "df.loc[df['Pressure']>1000,:]"
   ]
  },
  {
   "cell_type": "markdown",
   "metadata": {
    "slideshow": {
     "slide_type": "subslide"
    }
   },
   "source": [
    "## Plotting Data"
   ]
  },
  {
   "cell_type": "code",
   "execution_count": 29,
   "metadata": {},
   "outputs": [
    {
     "data": {
      "text/plain": [
       "<matplotlib.legend.Legend at 0x7f63f3d0add8>"
      ]
     },
     "execution_count": 29,
     "metadata": {},
     "output_type": "execute_result"
    },
    {
     "data": {
      "image/png": "[encoded data removed]",
      "text/plain": [
       "<Figure size 432x288 with 1 Axes>"
      ]
     },
     "metadata": {
      "needs_background": "light"
     },
     "output_type": "display_data"
    }
   ],
   "source": [
    "import matplotlib.pyplot as plt  # a common plotting library\n",
    "# so plots show up in the notebook:\n",
    "%matplotlib inline \n",
    "x = np.linspace(0,5,num = 100)\n",
    "ysin = np.sin(x*np.pi)\n",
    "plt.plot(x,ysin,'-o',label = 'sin')\n",
    "# add second line\n",
    "ycos = np.cos(x*np.pi)\n",
    "plt.plot(x,ycos,'.',label = 'cos')\n",
    "\n",
    "# turn on legend\n",
    "plt.legend()"
   ]
  },
  {
   "cell_type": "markdown",
   "metadata": {
    "slideshow": {
     "slide_type": "subslide"
    }
   },
   "source": [
    "### Errors and Debugging\n",
    "\n",
    "Code errors are a part of programming.  The last line has an error type and message, this is an important clue to fixing the error.  Some common errors encountered are:\n",
    "\n",
    "- `NameError` : Python cant find the name of the variable.  Might be a typo, forgetting to import a package, or forgetting to define a variable\n",
    "- `SyntaxError` : Missing colon for `def` or `if` statement.  Also, mismatched parentheses or brackets\n",
    "- `IndentationError` : Lines should be indented equally, be consistent when using tabs or spaces\n",
    "- `AttributeError`: Calling a method on a that is not available for an object, e.g. list or dict\n",
    "- `TypeError` : An operator is not available for an object. Trying to use an index that is not an integer.  Wrong number of arguments passed to function.\n"
   ]
  },
  {
   "cell_type": "code",
   "execution_count": null,
   "metadata": {},
   "outputs": [],
   "source": []
  },
  {
   "cell_type": "markdown",
   "metadata": {
    "slideshow": {
     "slide_type": "slide"
    }
   },
   "source": [
    "# Solving ChE problems with Python\n",
    "\n",
    "Numerical Methods\n",
    "- Regression\n",
    "\n",
    "- Integrating systems of differential equations (ODEs, PDEs, DAEs)\n",
    "\n",
    "General tasks\n",
    "- Merging and analyzing multiple files\n",
    "\n",
    "- Pulling data through APIs\n",
    "\n",
    "- Automating other programs"
   ]
  },
  {
   "cell_type": "markdown",
   "metadata": {
    "slideshow": {
     "slide_type": "slide"
    }
   },
   "source": [
    "## Python has powerful numerical methods tools\n",
    "\n",
    "Well-established and cutting edge algorithms are available.  \n",
    "\n",
    "The `scipy` package includes many capabilities for basic optimization and integration tasks.  \n",
    "\n",
    "To generate empirical models from data, `scikit-learn` has a wide range of models available."
   ]
  },
  {
   "cell_type": "markdown",
   "metadata": {
    "slideshow": {
     "slide_type": "subslide"
    }
   },
   "source": [
    "### Curve fitting in Python\n",
    "Fitting the sine-wave data "
   ]
  },
  {
   "cell_type": "code",
   "execution_count": 30,
   "metadata": {},
   "outputs": [
    {
     "name": "stdout",
     "output_type": "stream",
     "text": [
      "Best fit: [3.14159265], covariance: [[0.]]\n"
     ]
    }
   ],
   "source": [
    "from scipy.optimize import curve_fit\n",
    "def my_sine(x,a):\n",
    "    return(np.sin(x*a))\n",
    "\n",
    "fit = curve_fit(my_sine,x,ysin,p0=3)\n",
    "print('Best fit: {}, covariance: {}'.format(fit[0],fit[1]))"
   ]
  },
  {
   "cell_type": "markdown",
   "metadata": {
    "slideshow": {
     "slide_type": "subslide"
    }
   },
   "source": [
    "### Integration in Python\n",
    "For example, to integrate a differential equation for a second order reaction:  $\\frac{dC}{dt} = -r$ where $r = kC^2$, define a function that returns the derivative at a time and concentration, and use the `solve_ivp` function:"
   ]
  },
  {
   "cell_type": "code",
   "execution_count": 31,
   "metadata": {},
   "outputs": [
    {
     "data": {
      "image/png": "[encoded data removed]",
      "text/plain": [
       "<Figure size 432x288 with 1 Axes>"
      ]
     },
     "metadata": {
      "needs_background": "light"
     },
     "output_type": "display_data"
    }
   ],
   "source": [
    "from scipy.integrate import solve_ivp\n",
    "def dc_dt(t,y):\n",
    "    r = k*y[0]**2\n",
    "    return(-r)\n",
    "k = 0.1\n",
    "t_span = [0,100]  # range of time to use\n",
    "soln = solve_ivp(dc_dt,t_span,[1])\n",
    "plt.plot(soln.t,soln.y[0,:]);"
   ]
  },
  {
   "cell_type": "markdown",
   "metadata": {
    "slideshow": {
     "slide_type": "subslide"
    }
   },
   "source": [
    "### Python can do symbolic math\n",
    "Symbolic manipulations are also possible with the `sympy` library.  For example, to integrate a differential equation for a second order reaction:  $\\frac{dC}{dt} = -r$ where $r = kC^2$, symbolic expressions can be created."
   ]
  },
  {
   "cell_type": "code",
   "execution_count": 32,
   "metadata": {},
   "outputs": [
    {
     "data": {
      "text/latex": [
       "$\\displaystyle \\frac{d}{d t} C{\\left(t \\right)} = - k C^{2}{\\left(t \\right)}$"
      ],
      "text/plain": [
       "Eq(Derivative(C(t), t), -k*C(t)**2)"
      ]
     },
     "execution_count": 32,
     "metadata": {},
     "output_type": "execute_result"
    }
   ],
   "source": [
    "from sympy import symbols, Function, Eq, dsolve, Derivative\n",
    "t, k, C0 = symbols('t k C0')\n",
    "C = Function('C')\n",
    "D = Function('D')\n",
    "r = k*C(t)**2\n",
    "deq = Eq(Derivative(C(t),t),-r)\n",
    "deq"
   ]
  },
  {
   "cell_type": "code",
   "execution_count": 33,
   "metadata": {},
   "outputs": [
    {
     "data": {
      "text/latex": [
       "$\\displaystyle C{\\left(t \\right)} = \\frac{1}{k t + \\frac{1}{C_{0}}}$"
      ],
      "text/plain": [
       "Eq(C(t), 1/(k*t + 1/C0))"
      ]
     },
     "execution_count": 33,
     "metadata": {},
     "output_type": "execute_result"
    }
   ],
   "source": [
    "dsolve(deq,ics={C(0):C0})"
   ]
  },
  {
   "cell_type": "markdown",
   "metadata": {
    "slideshow": {
     "slide_type": "subslide"
    }
   },
   "source": [
    "### *Ten Problems*, solved with Python \n",
    "\n",
    "The well-known set of [ten problems](https://www.polymath-software.com/ASEE/Tenprobs.pdf) from a wide range of applications have been solved using Python's technical computing capabilities.\n",
    "\n",
    "Interactive notebooks for the solutions are available in the Ten_Problems folder here: \n",
    "\n",
    "https://mybinder.org/v2/gh/chepyle/Python4ChEs/master?urlpath=lab \n",
    "\n",
    "Reference: “The Use of Mathematical Software packages in Chemical Engineering”, Michael B. Cutlip, John J. Hwalek, Eric H. Nuttal, Mordechai Shacham, *Workshop Material from Session 12, Chemical Engineering Summer School*, Snowbird, Utah, Aug., 1997."
   ]
  },
  {
   "cell_type": "markdown",
   "metadata": {
    "slideshow": {
     "slide_type": "slide"
    }
   },
   "source": [
    "## Data Aggregation Example\n",
    "Merging multiple files collected over time or from different people is a common practice.  Another task is merging information in two tables that share a common reference ID.  This example will go through managing the results of a hypothetical experiment.\n",
    "\n",
    "In this example, a 3 factor full factorial design of experiments was conducted.  Eight experimental conditions were tested, and the results were collected in eight files.  The only way to link the results to the conditions is from the experiment number referenced in the file name.  We need to:\n",
    " 1. Collect all of the results into one table\n",
    " 2. Merge the results with the input conditions\n",
    " 3. Plot the response versus the three factors\n",
    " \n"
   ]
  },
  {
   "cell_type": "markdown",
   "metadata": {
    "slideshow": {
     "slide_type": "subslide"
    }
   },
   "source": [
    "To get a list of file names available in a folder, the `glob` package is useful"
   ]
  },
  {
   "cell_type": "code",
   "execution_count": 34,
   "metadata": {},
   "outputs": [
    {
     "data": {
      "text/plain": [
       "['./ExampleData/condition 1.xlsx',\n",
       " './ExampleData/condition 2.xlsx',\n",
       " './ExampleData/condition 3.xlsx',\n",
       " './ExampleData/condition 4.xlsx',\n",
       " './ExampleData/condition 5.xlsx',\n",
       " './ExampleData/condition 6.xlsx',\n",
       " './ExampleData/condition 7.xlsx',\n",
       " './ExampleData/condition 8.xlsx',\n",
       " './ExampleData/condition info.xlsx']"
      ]
     },
     "execution_count": 34,
     "metadata": {},
     "output_type": "execute_result"
    }
   ],
   "source": [
    "import glob\n",
    "file_list = glob.glob('./ExampleData/*.xlsx')\n",
    "file_list"
   ]
  },
  {
   "cell_type": "markdown",
   "metadata": {
    "slideshow": {
     "slide_type": "subslide"
    }
   },
   "source": [
    "Excel files can be read into Python using `pandas.read_excel` function"
   ]
  },
  {
   "cell_type": "code",
   "execution_count": 35,
   "metadata": {},
   "outputs": [],
   "source": [
    "import pandas as pd\n",
    "expt_info  = pd.read_excel('./ExampleData/condition info.xlsx')"
   ]
  },
  {
   "cell_type": "markdown",
   "metadata": {},
   "source": [
    "Inspect the sheet with experiment info:"
   ]
  },
  {
   "cell_type": "code",
   "execution_count": 36,
   "metadata": {},
   "outputs": [
    {
     "data": {
      "text/html": [
       "<div>\n",
       "<style scoped>\n",
       "    .dataframe tbody tr th:only-of-type {\n",
       "        vertical-align: middle;\n",
       "    }\n",
       "\n",
       "    .dataframe tbody tr th {\n",
       "        vertical-align: top;\n",
       "    }\n",
       "\n",
       "    .dataframe thead th {\n",
       "        text-align: right;\n",
       "    }\n",
       "</style>\n",
       "<table border=\"1\" class=\"dataframe\">\n",
       "  <thead>\n",
       "    <tr style=\"text-align: right;\">\n",
       "      <th></th>\n",
       "      <th>Expt</th>\n",
       "      <th>Temperature</th>\n",
       "      <th>Pressure</th>\n",
       "      <th>Concentration</th>\n",
       "    </tr>\n",
       "  </thead>\n",
       "  <tbody>\n",
       "    <tr>\n",
       "      <td>0</td>\n",
       "      <td>1</td>\n",
       "      <td>20</td>\n",
       "      <td>1</td>\n",
       "      <td>50</td>\n",
       "    </tr>\n",
       "    <tr>\n",
       "      <td>1</td>\n",
       "      <td>2</td>\n",
       "      <td>30</td>\n",
       "      <td>1</td>\n",
       "      <td>50</td>\n",
       "    </tr>\n",
       "    <tr>\n",
       "      <td>2</td>\n",
       "      <td>3</td>\n",
       "      <td>20</td>\n",
       "      <td>2</td>\n",
       "      <td>50</td>\n",
       "    </tr>\n",
       "    <tr>\n",
       "      <td>3</td>\n",
       "      <td>4</td>\n",
       "      <td>30</td>\n",
       "      <td>2</td>\n",
       "      <td>50</td>\n",
       "    </tr>\n",
       "    <tr>\n",
       "      <td>4</td>\n",
       "      <td>5</td>\n",
       "      <td>20</td>\n",
       "      <td>1</td>\n",
       "      <td>100</td>\n",
       "    </tr>\n",
       "    <tr>\n",
       "      <td>5</td>\n",
       "      <td>6</td>\n",
       "      <td>30</td>\n",
       "      <td>1</td>\n",
       "      <td>100</td>\n",
       "    </tr>\n",
       "    <tr>\n",
       "      <td>6</td>\n",
       "      <td>7</td>\n",
       "      <td>20</td>\n",
       "      <td>2</td>\n",
       "      <td>100</td>\n",
       "    </tr>\n",
       "    <tr>\n",
       "      <td>7</td>\n",
       "      <td>8</td>\n",
       "      <td>30</td>\n",
       "      <td>2</td>\n",
       "      <td>100</td>\n",
       "    </tr>\n",
       "  </tbody>\n",
       "</table>\n",
       "</div>"
      ],
      "text/plain": [
       "   Expt  Temperature  Pressure  Concentration\n",
       "0     1           20         1             50\n",
       "1     2           30         1             50\n",
       "2     3           20         2             50\n",
       "3     4           30         2             50\n",
       "4     5           20         1            100\n",
       "5     6           30         1            100\n",
       "6     7           20         2            100\n",
       "7     8           30         2            100"
      ]
     },
     "execution_count": 36,
     "metadata": {},
     "output_type": "execute_result"
    }
   ],
   "source": [
    "expt_info"
   ]
  },
  {
   "cell_type": "markdown",
   "metadata": {
    "slideshow": {
     "slide_type": "subslide"
    }
   },
   "source": [
    "Inspect one of the data files for the first condition"
   ]
  },
  {
   "cell_type": "code",
   "execution_count": 37,
   "metadata": {},
   "outputs": [
    {
     "data": {
      "text/html": [
       "<div>\n",
       "<style scoped>\n",
       "    .dataframe tbody tr th:only-of-type {\n",
       "        vertical-align: middle;\n",
       "    }\n",
       "\n",
       "    .dataframe tbody tr th {\n",
       "        vertical-align: top;\n",
       "    }\n",
       "\n",
       "    .dataframe thead th {\n",
       "        text-align: right;\n",
       "    }\n",
       "</style>\n",
       "<table border=\"1\" class=\"dataframe\">\n",
       "  <thead>\n",
       "    <tr style=\"text-align: right;\">\n",
       "      <th></th>\n",
       "      <th>Time</th>\n",
       "      <th>Response</th>\n",
       "    </tr>\n",
       "  </thead>\n",
       "  <tbody>\n",
       "    <tr>\n",
       "      <td>0</td>\n",
       "      <td>0</td>\n",
       "      <td>0.0</td>\n",
       "    </tr>\n",
       "    <tr>\n",
       "      <td>1</td>\n",
       "      <td>5</td>\n",
       "      <td>1.7</td>\n",
       "    </tr>\n",
       "    <tr>\n",
       "      <td>2</td>\n",
       "      <td>10</td>\n",
       "      <td>2.6</td>\n",
       "    </tr>\n",
       "    <tr>\n",
       "      <td>3</td>\n",
       "      <td>15</td>\n",
       "      <td>3.3</td>\n",
       "    </tr>\n",
       "    <tr>\n",
       "      <td>4</td>\n",
       "      <td>20</td>\n",
       "      <td>4.0</td>\n",
       "    </tr>\n",
       "    <tr>\n",
       "      <td>5</td>\n",
       "      <td>25</td>\n",
       "      <td>4.1</td>\n",
       "    </tr>\n",
       "  </tbody>\n",
       "</table>\n",
       "</div>"
      ],
      "text/plain": [
       "   Time  Response\n",
       "0     0       0.0\n",
       "1     5       1.7\n",
       "2    10       2.6\n",
       "3    15       3.3\n",
       "4    20       4.0\n",
       "5    25       4.1"
      ]
     },
     "execution_count": 37,
     "metadata": {},
     "output_type": "execute_result"
    }
   ],
   "source": [
    "pd.read_excel('./ExampleData/condition 1.xlsx') "
   ]
  },
  {
   "cell_type": "markdown",
   "metadata": {
    "slideshow": {
     "slide_type": "subslide"
    }
   },
   "source": [
    "Now loop through all of the files, and if there is a number in the file name: \n",
    "1. Store the experiment info in a new column of the result DataFrame\n",
    "2. Collect each of the DataFrames in a list to merge later\n",
    "\n",
    "The `re` (regular expression) package, standard in Python, is an *extremely* powerful tool to find and extract key parts of text fields."
   ]
  },
  {
   "cell_type": "code",
   "execution_count": 38,
   "metadata": {},
   "outputs": [],
   "source": [
    "import re\n",
    "dfs = []\n",
    "for each_file in file_list:\n",
    "    file_num = re.search('([0-9])',each_file) \n",
    "    if file_num:                \n",
    "        df = pd.read_excel(each_file)  \n",
    "        df['Expt'] = int(file_num[0]) \n",
    "        dfs.append(df)      "
   ]
  },
  {
   "cell_type": "markdown",
   "metadata": {
    "slideshow": {
     "slide_type": "subslide"
    }
   },
   "source": [
    "Inspect the last DataFrame that was read:\n"
   ]
  },
  {
   "cell_type": "code",
   "execution_count": 39,
   "metadata": {},
   "outputs": [
    {
     "data": {
      "text/html": [
       "<div>\n",
       "<style scoped>\n",
       "    .dataframe tbody tr th:only-of-type {\n",
       "        vertical-align: middle;\n",
       "    }\n",
       "\n",
       "    .dataframe tbody tr th {\n",
       "        vertical-align: top;\n",
       "    }\n",
       "\n",
       "    .dataframe thead th {\n",
       "        text-align: right;\n",
       "    }\n",
       "</style>\n",
       "<table border=\"1\" class=\"dataframe\">\n",
       "  <thead>\n",
       "    <tr style=\"text-align: right;\">\n",
       "      <th></th>\n",
       "      <th>Time</th>\n",
       "      <th>Response</th>\n",
       "      <th>Expt</th>\n",
       "    </tr>\n",
       "  </thead>\n",
       "  <tbody>\n",
       "    <tr>\n",
       "      <td>0</td>\n",
       "      <td>0</td>\n",
       "      <td>0.0</td>\n",
       "      <td>8</td>\n",
       "    </tr>\n",
       "    <tr>\n",
       "      <td>1</td>\n",
       "      <td>5</td>\n",
       "      <td>7.0</td>\n",
       "      <td>8</td>\n",
       "    </tr>\n",
       "    <tr>\n",
       "      <td>2</td>\n",
       "      <td>10</td>\n",
       "      <td>10.1</td>\n",
       "      <td>8</td>\n",
       "    </tr>\n",
       "    <tr>\n",
       "      <td>3</td>\n",
       "      <td>15</td>\n",
       "      <td>10.0</td>\n",
       "      <td>8</td>\n",
       "    </tr>\n",
       "    <tr>\n",
       "      <td>4</td>\n",
       "      <td>20</td>\n",
       "      <td>11.2</td>\n",
       "      <td>8</td>\n",
       "    </tr>\n",
       "    <tr>\n",
       "      <td>5</td>\n",
       "      <td>25</td>\n",
       "      <td>11.6</td>\n",
       "      <td>8</td>\n",
       "    </tr>\n",
       "  </tbody>\n",
       "</table>\n",
       "</div>"
      ],
      "text/plain": [
       "   Time  Response  Expt\n",
       "0     0       0.0     8\n",
       "1     5       7.0     8\n",
       "2    10      10.1     8\n",
       "3    15      10.0     8\n",
       "4    20      11.2     8\n",
       "5    25      11.6     8"
      ]
     },
     "execution_count": 39,
     "metadata": {},
     "output_type": "execute_result"
    }
   ],
   "source": [
    "df"
   ]
  },
  {
   "cell_type": "markdown",
   "metadata": {
    "slideshow": {
     "slide_type": "subslide"
    }
   },
   "source": [
    "Concatenate each of the result tables, and look at a random sample of some of the rows:"
   ]
  },
  {
   "cell_type": "code",
   "execution_count": 40,
   "metadata": {},
   "outputs": [
    {
     "name": "stdout",
     "output_type": "stream",
     "text": [
      "There are 48 Rows and 3 Columns\n"
     ]
    },
    {
     "data": {
      "text/html": [
       "<div>\n",
       "<style scoped>\n",
       "    .dataframe tbody tr th:only-of-type {\n",
       "        vertical-align: middle;\n",
       "    }\n",
       "\n",
       "    .dataframe tbody tr th {\n",
       "        vertical-align: top;\n",
       "    }\n",
       "\n",
       "    .dataframe thead th {\n",
       "        text-align: right;\n",
       "    }\n",
       "</style>\n",
       "<table border=\"1\" class=\"dataframe\">\n",
       "  <thead>\n",
       "    <tr style=\"text-align: right;\">\n",
       "      <th></th>\n",
       "      <th>Time</th>\n",
       "      <th>Response</th>\n",
       "      <th>Expt</th>\n",
       "    </tr>\n",
       "  </thead>\n",
       "  <tbody>\n",
       "    <tr>\n",
       "      <td>5</td>\n",
       "      <td>25</td>\n",
       "      <td>5.6</td>\n",
       "      <td>3</td>\n",
       "    </tr>\n",
       "    <tr>\n",
       "      <td>3</td>\n",
       "      <td>15</td>\n",
       "      <td>7.5</td>\n",
       "      <td>5</td>\n",
       "    </tr>\n",
       "    <tr>\n",
       "      <td>5</td>\n",
       "      <td>25</td>\n",
       "      <td>5.6</td>\n",
       "      <td>2</td>\n",
       "    </tr>\n",
       "    <tr>\n",
       "      <td>0</td>\n",
       "      <td>0</td>\n",
       "      <td>0.0</td>\n",
       "      <td>3</td>\n",
       "    </tr>\n",
       "    <tr>\n",
       "      <td>2</td>\n",
       "      <td>10</td>\n",
       "      <td>4.6</td>\n",
       "      <td>4</td>\n",
       "    </tr>\n",
       "  </tbody>\n",
       "</table>\n",
       "</div>"
      ],
      "text/plain": [
       "   Time  Response  Expt\n",
       "5    25       5.6     3\n",
       "3    15       7.5     5\n",
       "5    25       5.6     2\n",
       "0     0       0.0     3\n",
       "2    10       4.6     4"
      ]
     },
     "execution_count": 40,
     "metadata": {},
     "output_type": "execute_result"
    }
   ],
   "source": [
    "df_cat = pd.concat(dfs)\n",
    "print('There are {} Rows and {} Columns'.format(*df_cat.shape))\n",
    "df_cat.sample(5)"
   ]
  },
  {
   "cell_type": "markdown",
   "metadata": {
    "slideshow": {
     "slide_type": "subslide"
    }
   },
   "source": [
    "Merge the collected results with the Experiment info, joining the tables on the value in the 'Expt' column:"
   ]
  },
  {
   "cell_type": "code",
   "execution_count": 41,
   "metadata": {},
   "outputs": [
    {
     "name": "stdout",
     "output_type": "stream",
     "text": [
      "There are 48 Rows and 6 Columns\n"
     ]
    },
    {
     "data": {
      "text/html": [
       "<div>\n",
       "<style scoped>\n",
       "    .dataframe tbody tr th:only-of-type {\n",
       "        vertical-align: middle;\n",
       "    }\n",
       "\n",
       "    .dataframe tbody tr th {\n",
       "        vertical-align: top;\n",
       "    }\n",
       "\n",
       "    .dataframe thead th {\n",
       "        text-align: right;\n",
       "    }\n",
       "</style>\n",
       "<table border=\"1\" class=\"dataframe\">\n",
       "  <thead>\n",
       "    <tr style=\"text-align: right;\">\n",
       "      <th></th>\n",
       "      <th>Time</th>\n",
       "      <th>Response</th>\n",
       "      <th>Expt</th>\n",
       "      <th>Temperature</th>\n",
       "      <th>Pressure</th>\n",
       "      <th>Concentration</th>\n",
       "    </tr>\n",
       "  </thead>\n",
       "  <tbody>\n",
       "    <tr>\n",
       "      <td>10</td>\n",
       "      <td>20</td>\n",
       "      <td>5.1</td>\n",
       "      <td>2</td>\n",
       "      <td>30</td>\n",
       "      <td>1</td>\n",
       "      <td>50</td>\n",
       "    </tr>\n",
       "    <tr>\n",
       "      <td>9</td>\n",
       "      <td>15</td>\n",
       "      <td>4.7</td>\n",
       "      <td>2</td>\n",
       "      <td>30</td>\n",
       "      <td>1</td>\n",
       "      <td>50</td>\n",
       "    </tr>\n",
       "    <tr>\n",
       "      <td>47</td>\n",
       "      <td>25</td>\n",
       "      <td>11.6</td>\n",
       "      <td>8</td>\n",
       "      <td>30</td>\n",
       "      <td>2</td>\n",
       "      <td>100</td>\n",
       "    </tr>\n",
       "    <tr>\n",
       "      <td>28</td>\n",
       "      <td>20</td>\n",
       "      <td>7.5</td>\n",
       "      <td>5</td>\n",
       "      <td>20</td>\n",
       "      <td>1</td>\n",
       "      <td>100</td>\n",
       "    </tr>\n",
       "    <tr>\n",
       "      <td>4</td>\n",
       "      <td>20</td>\n",
       "      <td>4.0</td>\n",
       "      <td>1</td>\n",
       "      <td>20</td>\n",
       "      <td>1</td>\n",
       "      <td>50</td>\n",
       "    </tr>\n",
       "  </tbody>\n",
       "</table>\n",
       "</div>"
      ],
      "text/plain": [
       "    Time  Response  Expt  Temperature  Pressure  Concentration\n",
       "10    20       5.1     2           30         1             50\n",
       "9     15       4.7     2           30         1             50\n",
       "47    25      11.6     8           30         2            100\n",
       "28    20       7.5     5           20         1            100\n",
       "4     20       4.0     1           20         1             50"
      ]
     },
     "execution_count": 41,
     "metadata": {},
     "output_type": "execute_result"
    }
   ],
   "source": [
    "df_all = df_cat.merge(expt_info,on='Expt')\n",
    "print('There are {} Rows and {} Columns'.format(*df_all.shape))\n",
    "df_all.sample(5)"
   ]
  },
  {
   "cell_type": "markdown",
   "metadata": {
    "slideshow": {
     "slide_type": "subslide"
    }
   },
   "source": [
    "Use the `seaborn` library, it has some nice functions for plotting tablular data"
   ]
  },
  {
   "cell_type": "code",
   "execution_count": 42,
   "metadata": {},
   "outputs": [
    {
     "data": {
      "image/png": "[encoded data removed]",
      "text/plain": [
       "<Figure size 504.859x432 with 4 Axes>"
      ]
     },
     "metadata": {
      "needs_background": "light"
     },
     "output_type": "display_data"
    }
   ],
   "source": [
    "import seaborn as sns\n",
    "g = sns.FacetGrid(df_all, row=\"Pressure\", col=\"Concentration\",\n",
    "                  hue='Temperature', margin_titles=True)\n",
    "g.map(sns.scatterplot,'Time','Response')\n",
    "g.add_legend();"
   ]
  },
  {
   "cell_type": "markdown",
   "metadata": {},
   "source": [
    "With a few lines of Python, we were able to merge 9 files and create a plot that we can use to draw conclusions.  Best of all we have the code, meaning:\n",
    " - Any new data can be added with minimal effort\n",
    " - The process can be repeated by anyone in the future to follow the workflow and reproduce the results"
   ]
  },
  {
   "cell_type": "markdown",
   "metadata": {
    "slideshow": {
     "slide_type": "slide"
    }
   },
   "source": [
    "## Python is great for pulling in remote data\n",
    "To access data stored remotely, some websites offer application programing interfaces to allow people to access the service with a program. \n",
    "In this example, a custom function is used to access the Enviromental Protection Agency's Toxic Release Inventory database.  The full workflow is in `TRI_API.ipynb`.  As with any exploratory data analysis, you should get familiar with the data before you make conclusions.  [This link is a good resource](https://www.epa.gov/toxics-release-inventory-tri-program/factors-consider-when-using-toxics-release-inventory-data)"
   ]
  },
  {
   "cell_type": "code",
   "execution_count": 43,
   "metadata": {},
   "outputs": [
    {
     "name": "stderr",
     "output_type": "stream",
     "text": [
      "\u001b[KDownloading Records: |################################| 11295/11295 100.0% - 0s\n",
      "\u001b[?25h"
     ]
    }
   ],
   "source": [
    "import hvplot.pandas\n",
    "import pandas as pd\n",
    "from EPA_TRI import TRI_Query\n",
    "df = TRI_Query(year=['>',2014],state='NJ')"
   ]
  },
  {
   "cell_type": "code",
   "execution_count": 44,
   "metadata": {
    "slideshow": {
     "slide_type": "subslide"
    }
   },
   "outputs": [
    {
     "data": {
      "text/plain": [
       "(11295, 114)"
      ]
     },
     "execution_count": 44,
     "metadata": {},
     "output_type": "execute_result"
    }
   ],
   "source": [
    "df.shape"
   ]
  },
  {
   "cell_type": "code",
   "execution_count": 45,
   "metadata": {
    "slideshow": {
     "slide_type": "subslide"
    }
   },
   "outputs": [],
   "source": [
    "wm_type = 'TRI_TRANSFER_QTY.TYPE_OF_WASTE_MANAGEMENT'\n",
    "qty = 'TRI_TRANSFER_QTY.TOTAL_TRANSFER'\n",
    "yr = 'TRI_REPORTING_FORM.REPORTING_YEAR'\n",
    "chem_name = 'TRI_REPORTING_FORM.CAS_CHEM_NAME'\n",
    "\n",
    "subset = df.loc[df[wm_type].isin(['Energy Recovery',\n",
    "                                  'Transfer to Waste Broker - Energy Recovery'])]\n",
    "\n",
    "pivoted = pd.pivot_table(subset,values=qty,\n",
    "                    index=[yr],\n",
    "                    columns=[chem_name], aggfunc=sum, fill_value=0)"
   ]
  },
  {
   "cell_type": "markdown",
   "metadata": {},
   "source": [
    "Find the largest quantities used in energy recovery and plot the quantities over time:"
   ]
  },
  {
   "cell_type": "code",
   "execution_count": 46,
   "metadata": {},
   "outputs": [
    {
     "data": {
      "application/vnd.holoviews_exec.v0+json": "",
      "text/html": [
       "<div id='2064' style='display: table; margin: 0 auto;'>\n",
       "\n",
       "\n",
       "\n",
       "\n",
       "\n",
       "  <div class=\"bk-root\" id=\"18f8cb24-76d3-4201-ae8e-cb201f3a2c30\" data-root-id=\"2064\"></div>\n",
       "</div>\n",
       "<script type=\"application/javascript\">(function(root) {\n",
       "  function embed_document(root) {\n",
       "    \n",
       "  var docs_json = {\"2a5e17bc-d686-4b16-9d12-2ceb4ab1e44f\":{\"roots\":{\"references\":[{\"attributes\":{\"below\":[{\"id\":\"2073\",\"type\":\"LinearAxis\"}],\"center\":[{\"id\":\"2077\",\"type\":\"Grid\"},{\"id\":\"2082\",\"type\":\"Grid\"},{\"id\":\"2113\",\"type\":\"Legend\"}],\"left\":[{\"id\":\"2078\",\"type\":\"LogAxis\"}],\"margin\":null,\"min_border_bottom\":10,\"min_border_left\":10,\"min_border_right\":10,\"min_border_top\":10,\"plot_height\":400,\"plot_width\":800,\"renderers\":[{\"id\":\"2105\",\"type\":\"GlyphRenderer\"},{\"id\":\"2121\",\"type\":\"GlyphRenderer\"},{\"id\":\"2138\",\"type\":\"GlyphRenderer\"},{\"id\":\"2157\",\"type\":\"GlyphRenderer\"},{\"id\":\"2178\",\"type\":\"GlyphRenderer\"}],\"right\":[{\"id\":\"2113\",\"type\":\"Legend\"}],\"sizing_mode\":\"fixed\",\"title\":{\"id\":\"2065\",\"type\":\"Title\"},\"toolbar\":{\"id\":\"2088\",\"type\":\"Toolbar\"},\"x_range\":{\"id\":\"2057\",\"type\":\"Range1d\"},\"x_scale\":{\"id\":\"2069\",\"type\":\"LinearScale\"},\"y_range\":{\"id\":\"2058\",\"type\":\"Range1d\"},\"y_scale\":{\"id\":\"2071\",\"type\":\"LogScale\"}},\"id\":\"2064\",\"subtype\":\"Figure\",\"type\":\"Plot\"},{\"attributes\":{},\"id\":\"2116\",\"type\":\"Selection\"},{\"attributes\":{\"line_alpha\":0.2,\"line_color\":\"#1f77b4\",\"line_width\":2,\"x\":{\"field\":\"TRI_REPORTING_FORM.REPORTING_YEAR\"},\"y\":{\"field\":\"value\"}},\"id\":\"2104\",\"type\":\"Line\"},{\"attributes\":{\"line_alpha\":0.2,\"line_color\":\"#9467bd\",\"line_width\":2,\"x\":{\"field\":\"TRI_REPORTING_FORM.REPORTING_YEAR\"},\"y\":{\"field\":\"value\"}},\"id\":\"2177\",\"type\":\"Line\"},{\"attributes\":{},\"id\":\"2085\",\"type\":\"WheelZoomTool\"},{\"attributes\":{\"text\":\"\",\"text_color\":{\"value\":\"black\"},\"text_font_size\":{\"value\":\"12pt\"}},\"id\":\"2065\",\"type\":\"Title\"},{\"attributes\":{},\"id\":\"2148\",\"type\":\"UnionRenderers\"},{\"attributes\":{\"source\":{\"id\":\"2115\",\"type\":\"ColumnDataSource\"}},\"id\":\"2122\",\"type\":\"CDSView\"},{\"attributes\":{\"source\":{\"id\":\"2172\",\"type\":\"ColumnDataSource\"}},\"id\":\"2179\",\"type\":\"CDSView\"},{\"attributes\":{\"label\":{\"value\":\"ACETONITRILE\"},\"renderers\":[{\"id\":\"2178\",\"type\":\"GlyphRenderer\"}]},\"id\":\"2194\",\"type\":\"LegendItem\"},{\"attributes\":{\"line_color\":\"#2ca02c\",\"line_width\":2,\"x\":{\"field\":\"TRI_REPORTING_FORM.REPORTING_YEAR\"},\"y\":{\"field\":\"value\"}},\"id\":\"2135\",\"type\":\"Line\"},{\"attributes\":{},\"id\":\"2169\",\"type\":\"UnionRenderers\"},{\"attributes\":{\"data_source\":{\"id\":\"2132\",\"type\":\"ColumnDataSource\"},\"glyph\":{\"id\":\"2135\",\"type\":\"Line\"},\"hover_glyph\":null,\"muted_glyph\":{\"id\":\"2137\",\"type\":\"Line\"},\"nonselection_glyph\":{\"id\":\"2136\",\"type\":\"Line\"},\"selection_glyph\":null,\"view\":{\"id\":\"2139\",\"type\":\"CDSView\"}},\"id\":\"2138\",\"type\":\"GlyphRenderer\"},{\"attributes\":{},\"id\":\"2083\",\"type\":\"SaveTool\"},{\"attributes\":{\"line_color\":\"#1f77b4\",\"line_width\":2,\"x\":{\"field\":\"TRI_REPORTING_FORM.REPORTING_YEAR\"},\"y\":{\"field\":\"value\"}},\"id\":\"2102\",\"type\":\"Line\"},{\"attributes\":{\"label\":{\"value\":\"XYLENE (MIXED ISOMERS)\"},\"renderers\":[{\"id\":\"2157\",\"type\":\"GlyphRenderer\"}]},\"id\":\"2171\",\"type\":\"LegendItem\"},{\"attributes\":{},\"id\":\"2096\",\"type\":\"BasicTickFormatter\"},{\"attributes\":{\"callback\":null,\"data\":{\"TRI_REPORTING_FORM.REPORTING_YEAR\":[2015,2016,2017,2018],\"TRI_REPORTING_FORM_full_stop_REPORTING_YEAR\":[2015,2016,2017,2018],\"Variable\":[\"DICHLOROMETHANE\",\"DICHLOROMETHANE\",\"DICHLOROMETHANE\",\"DICHLOROMETHANE\"],\"value\":{\"__ndarray__\":\"zczMTC0wQEEAAAAA6Qs4QQAAAADieDhBAAAAAAV3OEE=\",\"dtype\":\"float64\",\"shape\":[4]}},\"selected\":{\"id\":\"2133\",\"type\":\"Selection\"},\"selection_policy\":{\"id\":\"2169\",\"type\":\"UnionRenderers\"}},\"id\":\"2132\",\"type\":\"ColumnDataSource\"},{\"attributes\":{},\"id\":\"2069\",\"type\":\"LinearScale\"},{\"attributes\":{},\"id\":\"2173\",\"type\":\"Selection\"},{\"attributes\":{\"axis_label\":\"Pounds\",\"bounds\":\"auto\",\"formatter\":{\"id\":\"2098\",\"type\":\"LogTickFormatter\"},\"major_label_orientation\":\"horizontal\",\"ticker\":{\"id\":\"2079\",\"type\":\"LogTicker\"}},\"id\":\"2078\",\"type\":\"LogAxis\"},{\"attributes\":{\"grid_line_color\":null,\"ticker\":{\"id\":\"2074\",\"type\":\"BasicTicker\"}},\"id\":\"2077\",\"type\":\"Grid\"},{\"attributes\":{},\"id\":\"2133\",\"type\":\"Selection\"},{\"attributes\":{},\"id\":\"2084\",\"type\":\"PanTool\"},{\"attributes\":{\"label\":{\"value\":\"TOLUENE\"},\"renderers\":[{\"id\":\"2121\",\"type\":\"GlyphRenderer\"}]},\"id\":\"2131\",\"type\":\"LegendItem\"},{\"attributes\":{\"callback\":null,\"end\":2018.0,\"reset_end\":2018.0,\"reset_start\":2015.0,\"start\":2015.0,\"tags\":[[[\"TRI_REPORTING_FORM.REPORTING_YEAR\",\"TRI_REPORTING_FORM.REPORTING_YEAR\",null]]]},\"id\":\"2057\",\"type\":\"Range1d\"},{\"attributes\":{\"callback\":null,\"end\":6714843.429999991,\"reset_end\":6714843.429999991,\"reset_start\":807155.0000000013,\"start\":807155.0000000013,\"tags\":[[[\"value\",\"value\",null]]]},\"id\":\"2058\",\"type\":\"Range1d\"},{\"attributes\":{\"callback\":null,\"data\":{\"TRI_REPORTING_FORM.REPORTING_YEAR\":[2015,2016,2017,2018],\"TRI_REPORTING_FORM_full_stop_REPORTING_YEAR\":[2015,2016,2017,2018],\"Variable\":[\"XYLENE (MIXED ISOMERS)\",\"XYLENE (MIXED ISOMERS)\",\"XYLENE (MIXED ISOMERS)\",\"XYLENE (MIXED ISOMERS)\"],\"value\":{\"__ndarray__\":\"W4/C9V9zN0GG61H4XL4yQRSuR+H9zTBBMzMzM05zM0E=\",\"dtype\":\"float64\",\"shape\":[4]}},\"selected\":{\"id\":\"2152\",\"type\":\"Selection\"},\"selection_policy\":{\"id\":\"2192\",\"type\":\"UnionRenderers\"}},\"id\":\"2151\",\"type\":\"ColumnDataSource\"},{\"attributes\":{\"bottom_units\":\"screen\",\"fill_alpha\":{\"value\":0.5},\"fill_color\":{\"value\":\"lightgrey\"},\"left_units\":\"screen\",\"level\":\"overlay\",\"line_alpha\":{\"value\":1.0},\"line_color\":{\"value\":\"black\"},\"line_dash\":[4,4],\"line_width\":{\"value\":2},\"render_mode\":\"css\",\"right_units\":\"screen\",\"top_units\":\"screen\"},\"id\":\"2112\",\"type\":\"BoxAnnotation\"},{\"attributes\":{\"source\":{\"id\":\"2151\",\"type\":\"ColumnDataSource\"}},\"id\":\"2158\",\"type\":\"CDSView\"},{\"attributes\":{\"data_source\":{\"id\":\"2099\",\"type\":\"ColumnDataSource\"},\"glyph\":{\"id\":\"2102\",\"type\":\"Line\"},\"hover_glyph\":null,\"muted_glyph\":{\"id\":\"2104\",\"type\":\"Line\"},\"nonselection_glyph\":{\"id\":\"2103\",\"type\":\"Line\"},\"selection_glyph\":null,\"view\":{\"id\":\"2106\",\"type\":\"CDSView\"}},\"id\":\"2105\",\"type\":\"GlyphRenderer\"},{\"attributes\":{},\"id\":\"2152\",\"type\":\"Selection\"},{\"attributes\":{\"overlay\":{\"id\":\"2112\",\"type\":\"BoxAnnotation\"}},\"id\":\"2086\",\"type\":\"BoxZoomTool\"},{\"attributes\":{\"callback\":null,\"data\":{\"TRI_REPORTING_FORM.REPORTING_YEAR\":[2015,2016,2017,2018],\"TRI_REPORTING_FORM_full_stop_REPORTING_YEAR\":[2015,2016,2017,2018],\"Variable\":[\"ACETONITRILE\",\"ACETONITRILE\",\"ACETONITRILE\",\"ACETONITRILE\"],\"value\":{\"__ndarray__\":\"w/UonOQEOkEAAAAA5qEoQQAAAAA8DSlBAAAAAMcuNEE=\",\"dtype\":\"float64\",\"shape\":[4]}},\"selected\":{\"id\":\"2173\",\"type\":\"Selection\"},\"selection_policy\":{\"id\":\"2209\",\"type\":\"UnionRenderers\"}},\"id\":\"2172\",\"type\":\"ColumnDataSource\"},{\"attributes\":{\"line_color\":\"#ff7f0e\",\"line_width\":2,\"x\":{\"field\":\"TRI_REPORTING_FORM.REPORTING_YEAR\"},\"y\":{\"field\":\"value\"}},\"id\":\"2118\",\"type\":\"Line\"},{\"attributes\":{\"data_source\":{\"id\":\"2151\",\"type\":\"ColumnDataSource\"},\"glyph\":{\"id\":\"2154\",\"type\":\"Line\"},\"hover_glyph\":null,\"muted_glyph\":{\"id\":\"2156\",\"type\":\"Line\"},\"nonselection_glyph\":{\"id\":\"2155\",\"type\":\"Line\"},\"selection_glyph\":null,\"view\":{\"id\":\"2158\",\"type\":\"CDSView\"}},\"id\":\"2157\",\"type\":\"GlyphRenderer\"},{\"attributes\":{\"axis_label\":\"Year\",\"bounds\":\"auto\",\"formatter\":{\"id\":\"2096\",\"type\":\"BasicTickFormatter\"},\"major_label_orientation\":\"horizontal\",\"ticker\":{\"id\":\"2074\",\"type\":\"BasicTicker\"}},\"id\":\"2073\",\"type\":\"LinearAxis\"},{\"attributes\":{\"line_alpha\":0.2,\"line_color\":\"#2ca02c\",\"line_width\":2,\"x\":{\"field\":\"TRI_REPORTING_FORM.REPORTING_YEAR\"},\"y\":{\"field\":\"value\"}},\"id\":\"2137\",\"type\":\"Line\"},{\"attributes\":{},\"id\":\"2209\",\"type\":\"UnionRenderers\"},{\"attributes\":{\"line_color\":\"#d62728\",\"line_width\":2,\"x\":{\"field\":\"TRI_REPORTING_FORM.REPORTING_YEAR\"},\"y\":{\"field\":\"value\"}},\"id\":\"2154\",\"type\":\"Line\"},{\"attributes\":{},\"id\":\"2071\",\"type\":\"LogScale\"},{\"attributes\":{},\"id\":\"2192\",\"type\":\"UnionRenderers\"},{\"attributes\":{\"source\":{\"id\":\"2132\",\"type\":\"ColumnDataSource\"}},\"id\":\"2139\",\"type\":\"CDSView\"},{\"attributes\":{},\"id\":\"2129\",\"type\":\"UnionRenderers\"},{\"attributes\":{\"callback\":null,\"data\":{\"TRI_REPORTING_FORM.REPORTING_YEAR\":[2015,2016,2017,2018],\"TRI_REPORTING_FORM_full_stop_REPORTING_YEAR\":[2015,2016,2017,2018],\"Variable\":[\"TOLUENE\",\"TOLUENE\",\"TOLUENE\",\"TOLUENE\"],\"value\":{\"__ndarray__\":\"XI/CZf1zUEFI4XpUZxBQQbByaPFu0UdBpHA9SmkVQkE=\",\"dtype\":\"float64\",\"shape\":[4]}},\"selected\":{\"id\":\"2116\",\"type\":\"Selection\"},\"selection_policy\":{\"id\":\"2148\",\"type\":\"UnionRenderers\"}},\"id\":\"2115\",\"type\":\"ColumnDataSource\"},{\"attributes\":{\"data_source\":{\"id\":\"2115\",\"type\":\"ColumnDataSource\"},\"glyph\":{\"id\":\"2118\",\"type\":\"Line\"},\"hover_glyph\":null,\"muted_glyph\":{\"id\":\"2120\",\"type\":\"Line\"},\"nonselection_glyph\":{\"id\":\"2119\",\"type\":\"Line\"},\"selection_glyph\":null,\"view\":{\"id\":\"2122\",\"type\":\"CDSView\"}},\"id\":\"2121\",\"type\":\"GlyphRenderer\"},{\"attributes\":{\"label\":{\"value\":\"DICHLOROMETHANE\"},\"renderers\":[{\"id\":\"2138\",\"type\":\"GlyphRenderer\"}]},\"id\":\"2150\",\"type\":\"LegendItem\"},{\"attributes\":{\"line_color\":\"#9467bd\",\"line_width\":2,\"x\":{\"field\":\"TRI_REPORTING_FORM.REPORTING_YEAR\"},\"y\":{\"field\":\"value\"}},\"id\":\"2175\",\"type\":\"Line\"},{\"attributes\":{\"line_alpha\":0.2,\"line_color\":\"#d62728\",\"line_width\":2,\"x\":{\"field\":\"TRI_REPORTING_FORM.REPORTING_YEAR\"},\"y\":{\"field\":\"value\"}},\"id\":\"2156\",\"type\":\"Line\"},{\"attributes\":{\"line_alpha\":0.1,\"line_color\":\"#1f77b4\",\"line_width\":2,\"x\":{\"field\":\"TRI_REPORTING_FORM.REPORTING_YEAR\"},\"y\":{\"field\":\"value\"}},\"id\":\"2103\",\"type\":\"Line\"},{\"attributes\":{\"callback\":null,\"renderers\":[{\"id\":\"2105\",\"type\":\"GlyphRenderer\"},{\"id\":\"2121\",\"type\":\"GlyphRenderer\"},{\"id\":\"2138\",\"type\":\"GlyphRenderer\"},{\"id\":\"2157\",\"type\":\"GlyphRenderer\"},{\"id\":\"2178\",\"type\":\"GlyphRenderer\"}],\"tags\":[\"hv_created\"],\"tooltips\":[[\"Variable\",\"@{Variable}\"],[\"TRI_REPORTING_FORM.REPORTING_YEAR\",\"@{TRI_REPORTING_FORM_full_stop_REPORTING_YEAR}\"],[\"value\",\"@{value}\"]]},\"id\":\"2059\",\"type\":\"HoverTool\"},{\"attributes\":{},\"id\":\"2074\",\"type\":\"BasicTicker\"},{\"attributes\":{\"line_alpha\":0.1,\"line_color\":\"#9467bd\",\"line_width\":2,\"x\":{\"field\":\"TRI_REPORTING_FORM.REPORTING_YEAR\"},\"y\":{\"field\":\"value\"}},\"id\":\"2176\",\"type\":\"Line\"},{\"attributes\":{},\"id\":\"2087\",\"type\":\"ResetTool\"},{\"attributes\":{\"callback\":null,\"data\":{\"TRI_REPORTING_FORM.REPORTING_YEAR\":[2015,2016,2017,2018],\"TRI_REPORTING_FORM_full_stop_REPORTING_YEAR\":[2015,2016,2017,2018],\"Variable\":[\"METHANOL\",\"METHANOL\",\"METHANOL\",\"METHANOL\"],\"value\":{\"__ndarray__\":\"uB6F23adWUEAAAAA6VhWQQAAAAAcg0pBAAAAAB7qSUE=\",\"dtype\":\"float64\",\"shape\":[4]}},\"selected\":{\"id\":\"2100\",\"type\":\"Selection\"},\"selection_policy\":{\"id\":\"2129\",\"type\":\"UnionRenderers\"}},\"id\":\"2099\",\"type\":\"ColumnDataSource\"},{\"attributes\":{\"line_alpha\":0.1,\"line_color\":\"#d62728\",\"line_width\":2,\"x\":{\"field\":\"TRI_REPORTING_FORM.REPORTING_YEAR\"},\"y\":{\"field\":\"value\"}},\"id\":\"2155\",\"type\":\"Line\"},{\"attributes\":{\"data_source\":{\"id\":\"2172\",\"type\":\"ColumnDataSource\"},\"glyph\":{\"id\":\"2175\",\"type\":\"Line\"},\"hover_glyph\":null,\"muted_glyph\":{\"id\":\"2177\",\"type\":\"Line\"},\"nonselection_glyph\":{\"id\":\"2176\",\"type\":\"Line\"},\"selection_glyph\":null,\"view\":{\"id\":\"2179\",\"type\":\"CDSView\"}},\"id\":\"2178\",\"type\":\"GlyphRenderer\"},{\"attributes\":{\"click_policy\":\"mute\",\"items\":[{\"id\":\"2114\",\"type\":\"LegendItem\"},{\"id\":\"2131\",\"type\":\"LegendItem\"},{\"id\":\"2150\",\"type\":\"LegendItem\"},{\"id\":\"2171\",\"type\":\"LegendItem\"},{\"id\":\"2194\",\"type\":\"LegendItem\"}],\"location\":[0,0]},\"id\":\"2113\",\"type\":\"Legend\"},{\"attributes\":{\"line_alpha\":0.2,\"line_color\":\"#ff7f0e\",\"line_width\":2,\"x\":{\"field\":\"TRI_REPORTING_FORM.REPORTING_YEAR\"},\"y\":{\"field\":\"value\"}},\"id\":\"2120\",\"type\":\"Line\"},{\"attributes\":{\"line_alpha\":0.1,\"line_color\":\"#ff7f0e\",\"line_width\":2,\"x\":{\"field\":\"TRI_REPORTING_FORM.REPORTING_YEAR\"},\"y\":{\"field\":\"value\"}},\"id\":\"2119\",\"type\":\"Line\"},{\"attributes\":{\"line_alpha\":0.1,\"line_color\":\"#2ca02c\",\"line_width\":2,\"x\":{\"field\":\"TRI_REPORTING_FORM.REPORTING_YEAR\"},\"y\":{\"field\":\"value\"}},\"id\":\"2136\",\"type\":\"Line\"},{\"attributes\":{\"dimension\":1,\"grid_line_color\":null,\"ticker\":{\"id\":\"2079\",\"type\":\"LogTicker\"}},\"id\":\"2082\",\"type\":\"Grid\"},{\"attributes\":{\"ticker\":null},\"id\":\"2098\",\"type\":\"LogTickFormatter\"},{\"attributes\":{\"source\":{\"id\":\"2099\",\"type\":\"ColumnDataSource\"}},\"id\":\"2106\",\"type\":\"CDSView\"},{\"attributes\":{\"label\":{\"value\":\"METHANOL\"},\"renderers\":[{\"id\":\"2105\",\"type\":\"GlyphRenderer\"}]},\"id\":\"2114\",\"type\":\"LegendItem\"},{\"attributes\":{},\"id\":\"2100\",\"type\":\"Selection\"},{\"attributes\":{\"active_drag\":\"auto\",\"active_inspect\":\"auto\",\"active_multi\":null,\"active_scroll\":\"auto\",\"active_tap\":\"auto\",\"tools\":[{\"id\":\"2059\",\"type\":\"HoverTool\"},{\"id\":\"2083\",\"type\":\"SaveTool\"},{\"id\":\"2084\",\"type\":\"PanTool\"},{\"id\":\"2085\",\"type\":\"WheelZoomTool\"},{\"id\":\"2086\",\"type\":\"BoxZoomTool\"},{\"id\":\"2087\",\"type\":\"ResetTool\"}]},\"id\":\"2088\",\"type\":\"Toolbar\"},{\"attributes\":{\"num_minor_ticks\":10},\"id\":\"2079\",\"type\":\"LogTicker\"}],\"root_ids\":[\"2064\"]},\"title\":\"Bokeh Application\",\"version\":\"1.3.4\"}};\n",
       "  var render_items = [{\"docid\":\"2a5e17bc-d686-4b16-9d12-2ceb4ab1e44f\",\"roots\":{\"2064\":\"18f8cb24-76d3-4201-ae8e-cb201f3a2c30\"}}];\n",
       "  root.Bokeh.embed.embed_items_notebook(docs_json, render_items);\n",
       "\n",
       "  }\n",
       "  if (root.Bokeh !== undefined) {\n",
       "    embed_document(root);\n",
       "  } else {\n",
       "    var attempts = 0;\n",
       "    var timer = setInterval(function(root) {\n",
       "      if (root.Bokeh !== undefined) {\n",
       "        embed_document(root);\n",
       "        clearInterval(timer);\n",
       "      }\n",
       "      attempts++;\n",
       "      if (attempts > 100) {\n",
       "        console.log(\"Bokeh: ERROR: Unable to run BokehJS code because BokehJS library is missing\");\n",
       "        clearInterval(timer);\n",
       "      }\n",
       "    }, 10, root)\n",
       "  }\n",
       "})(window);</script>"
      ],
      "text/plain": [
       ":NdOverlay   [Variable]\n",
       "   :Curve   [TRI_REPORTING_FORM.REPORTING_YEAR]   (value)"
      ]
     },
     "execution_count": 46,
     "metadata": {
      "application/vnd.holoviews_exec.v0+json": {
       "id": "2064"
      }
     },
     "output_type": "execute_result"
    }
   ],
   "source": [
    "top_chems = pivoted.sum(axis='rows').sort_values(ascending=False).head(5)\n",
    "pivoted.loc[:,top_chems.index].hvplot(width=800,height=400,logy=True,ylabel='Pounds',xlabel = 'Year')"
   ]
  },
  {
   "cell_type": "markdown",
   "metadata": {
    "slideshow": {
     "slide_type": "slide"
    }
   },
   "source": [
    "## Python is great for automating other programs\n",
    "\n",
    "Python is already integrated into many commercial software products, search the documentation for an \"Python API\"\n",
    "\n",
    "Web browsers can be automated using the `selenium` library\n",
    "\n",
    "Python can also be used to simulate mouse and keyboard inputs using the `pywinauto` library\n",
    "\n",
    "<img src =\"https://raw.githubusercontent.com/chepyle/Python4ChEs/master/pywinauto_demo2x.gif\" width = \"400\"/>\n"
   ]
  },
  {
   "cell_type": "markdown",
   "metadata": {
    "slideshow": {
     "slide_type": "slide"
    }
   },
   "source": [
    "# How to learn more & get help – online resources\n",
    "Try:\n",
    "- Install Python 3 on your computer: https://www.anaconda.com/distribution/ \n",
    "- OR, use online notebooks:\n",
    "    - Binder : https://mybinder.org/\n",
    "    - CoCalc : https://cocalc.com/        \n",
    "    - Domino Data Lab : https://dominodatalab.com/\n",
    "    - Amazon Sagemaker : https://aws.amazon.com/sagemaker/\n",
    "    - Google Colaboratory : https://colab.research.google.com/\n",
    "    - Microsoft Azure Notebooks : https://notebooks.azure.com/\n",
    "\n",
    "My Advice:\n",
    "- Failures and debugging errors are a necessary part of coding\n",
    "- Motivation is a start, but habit builds skills\n",
    "- Budget the time, and use it to solve something important to you\n"
   ]
  },
  {
   "cell_type": "markdown",
   "metadata": {
    "slideshow": {
     "slide_type": "subslide"
    }
   },
   "source": [
    "## Learning More:\n",
    "- Abundant help online:\n",
    "  - Getting started with SciPy: https://scipy.org/getting-started.html\n",
    "  - Search the Internet: \"Python MOOC\" for online courses, e.g. https://www.edx.org/learn/python\n",
    "- LinkedIn Learning: https://www.linkedin.com/learning/\n",
    "   - Over a hundred courses & thousands of videos\n",
    "- AIChE Virtual Local Section hosted Milan Curcic : https://milancurcic.com/should-i-py-or-should-i-fortran/\n",
    "\n",
    "\n",
    "- Lots of literature, some free e-books for total beginners:\n",
    "   - *Think Python* by Allen B. Downey https://greenteapress.com/wp/think-python-2e/\n",
    "   - *Automate the Boring Stuff with Python* by Al Sweigart https://automatetheboringstuff.com/"
   ]
  },
  {
   "cell_type": "markdown",
   "metadata": {
    "slideshow": {
     "slide_type": "subslide"
    }
   },
   "source": [
    "Ask Questions, Share Problems:\n",
    "- StackOverflow : https://stackoverflow.com/questions\n",
    "- AIChE Engage : https://engage.aiche.org\n",
    "- Assume your question has already been asked and answered online: use search engines!\n",
    "    \n",
    "\n",
    "This presentation\n",
    "- Read only: https://nbviewer.jupyter.org/github/chepyle/Python4ChEs/blob/master/Python4ChEs.ipynb\n",
    "- Interactive Notebook: https://mybinder.org/v2/gh/chepyle/Python4ChEs/master?urlpath=lab\n",
    "- Code: https://github.com/chepyle/Python4ChEs"
   ]
  },
  {
   "cell_type": "markdown",
   "metadata": {
    "slideshow": {
     "slide_type": "subslide"
    }
   },
   "source": [
    "# `import antigravity`"
   ]
  },
  {
   "cell_type": "markdown",
   "metadata": {},
   "source": [
    "<img src=\"https://imgs.xkcd.com/comics/python.png\" width = \"400\"/>"
   ]
  },
  {
   "cell_type": "markdown",
   "metadata": {},
   "source": [
    "## Thank you !"
   ]
  },
  {
   "cell_type": "markdown",
   "metadata": {
    "slideshow": {
     "slide_type": "skip"
    }
   },
   "source": [
    "# Appendix: Version Info\n",
    "Versions used here:"
   ]
  },
  {
   "cell_type": "code",
   "execution_count": 47,
   "metadata": {
    "slideshow": {
     "slide_type": "skip"
    }
   },
   "outputs": [
    {
     "name": "stdout",
     "output_type": "stream",
     "text": [
      "numpy      1.17.2\n",
      "hvplot     0.4.0\n",
      "seaborn    0.9.0\n",
      "matplotlib 3.1.1\n",
      "pandas     0.25.1\n",
      "re         2.2.1\n",
      "CPython 3.6.8\n",
      "IPython 7.8.0\n"
     ]
    }
   ],
   "source": [
    "%load_ext watermark\n",
    "%watermark -v -iv"
   ]
  },
  {
   "cell_type": "code",
   "execution_count": null,
   "metadata": {},
   "outputs": [],
   "source": []
  }
 ],
 "metadata": {
  "kernelspec": {
   "display_name": "Python 3",
   "language": "python",
   "name": "python3"
  },
  "language_info": {
   "codemirror_mode": {
    "name": "ipython",
    "version": 3
   },
   "file_extension": ".py",
   "mimetype": "text/x-python",
   "name": "python",
   "nbconvert_exporter": "python",
   "pygments_lexer": "ipython3",
   "version": "3.6.8"
  },
  "rise": {
   "theme": "simple"
  }
 },
 "nbformat": 4,
 "nbformat_minor": 4
}
