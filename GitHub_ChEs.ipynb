{
 "cells": [
  {
   "cell_type": "markdown",
   "metadata": {},
   "source": [
    "# Chemical engineers and python\n",
    "How many self-identified chemical engineers are on GitHub?  What languages are used in their projects? Lets find out!\n",
    "\n",
    "Jacob Albrecht 2019"
   ]
  },
  {
   "cell_type": "code",
   "execution_count": 28,
   "metadata": {},
   "outputs": [],
   "source": [
    "#https://python.gotrained.com/search-github-api/\n",
    "import os, time\n",
    "import holoviews as hv\n",
    "import hvplot.pandas\n",
    "import pandas as pd\n",
    "from github import Github, GithubException"
   ]
  },
  {
   "cell_type": "markdown",
   "metadata": {},
   "source": [
    "you need your own GitHub token, see: https://python.gotrained.com/search-github-api/\n",
    "\n",
    "one way to use a token you get from your Github account is to save it as an OS environment variable e.g.:\n",
    " \n",
    "    os.environ['GITHUB_TOKEN'] =  '52cf6b57f601a2d081fc362dc4de6f41aa2c9ab0'\n",
    " \n",
    " Python can then get the token from your computer later, whenever you need it to open a github API connection:"
   ]
  },
  {
   "cell_type": "code",
   "execution_count": 29,
   "metadata": {},
   "outputs": [],
   "source": [
    "g = Github(os.environ['GITHUB_TOKEN'])"
   ]
  },
  {
   "cell_type": "markdown",
   "metadata": {},
   "source": [
    "First, search through GitHub users, with key words in their descriptions.  Create a DataFrame with their public project info:"
   ]
  },
  {
   "cell_type": "code",
   "execution_count": 30,
   "metadata": {},
   "outputs": [],
   "source": [
    "def search_user_repo(keywords):\n",
    "    info = []\n",
    "    users = []\n",
    "    for keyword in keywords:\n",
    "        users.extend([user.login for user in g.search_users(keyword, 'followers','desc')])\n",
    "        time.sleep(61)  # to avoid API rate limits\n",
    "    print(len([u for u in set(users)]))\n",
    "    for ix, user in enumerate(set(users)):\n",
    "        repos=g.get_user(user).get_repos()\n",
    "        rate_limit = g.get_rate_limit().core\n",
    "        for r in repos:\n",
    "            while rate_limit.remaining < 500:\n",
    "                time.sleep(1)\n",
    "                rate_limit = g.get_rate_limit().core\n",
    "            try:\n",
    "                info.append({'Created':r.created_at,'User':user,\n",
    "                             'Name':r.full_name,**r.get_languages()})\n",
    "            except GithubException as e:\n",
    "                print(r.full_name) # print name of projects that cant be read\n",
    "    return pd.DataFrame(info)"
   ]
  },
  {
   "cell_type": "code",
   "execution_count": null,
   "metadata": {},
   "outputs": [],
   "source": []
  },
  {
   "cell_type": "code",
   "execution_count": null,
   "metadata": {},
   "outputs": [],
   "source": []
  },
  {
   "cell_type": "code",
   "execution_count": 31,
   "metadata": {},
   "outputs": [
    {
     "name": "stdout",
     "output_type": "stream",
     "text": [
      "1034\n",
      "njustcodingjs/openbilibili\n",
      "njustcodingjs/openbilibili-go-common\n"
     ]
    }
   ],
   "source": [
    "df = search_user_repo(['\"chemical engineer\"','\"chemical engineering\"'])"
   ]
  },
  {
   "cell_type": "code",
   "execution_count": 32,
   "metadata": {},
   "outputs": [
    {
     "data": {
      "text/plain": [
       "(8246, 204)"
      ]
     },
     "execution_count": 32,
     "metadata": {},
     "output_type": "execute_result"
    }
   ],
   "source": [
    "df.shape"
   ]
  },
  {
   "cell_type": "markdown",
   "metadata": {},
   "source": [
    "Ok, 1034 users with 8244 projects, using 204 file types.  Do some plotting of the overall popularity"
   ]
  },
  {
   "cell_type": "code",
   "execution_count": 33,
   "metadata": {},
   "outputs": [],
   "source": [
    "melted = df.melt(id_vars=['User','Created','Name'],var_name='Language',value_name='Bytes')\n",
    "melted['ChE GitHub Projects'] = ~melted.Bytes.isna()\n",
    "top_languages = melted.groupby(['Language']).agg(sum).sort_values('ChE GitHub Projects',ascending=False).head(15)"
   ]
  },
  {
   "cell_type": "code",
   "execution_count": null,
   "metadata": {},
   "outputs": [],
   "source": []
  },
  {
   "cell_type": "code",
   "execution_count": 34,
   "metadata": {},
   "outputs": [
    {
     "data": {
      "application/vnd.holoviews_exec.v0+json": "",
      "text/html": [
       "<div id='7868' style='display: table; margin: 0 auto;'>\n",
       "\n",
       "\n",
       "\n",
       "\n",
       "\n",
       "  <div class=\"bk-root\" id=\"6885b27e-b40a-46af-961e-b490438b3ca8\" data-root-id=\"7868\"></div>\n",
       "</div>\n",
       "<script type=\"application/javascript\">(function(root) {\n",
       "  function embed_document(root) {\n",
       "    \n",
       "  var docs_json = {\"19290578-0f49-46e8-b40d-c43e5bf39b18\":{\"roots\":{\"references\":[{\"attributes\":{\"below\":[{\"id\":\"7877\",\"type\":\"CategoricalAxis\"}],\"center\":[{\"id\":\"7880\",\"type\":\"Grid\"},{\"id\":\"7885\",\"type\":\"Grid\"}],\"left\":[{\"id\":\"7881\",\"type\":\"LinearAxis\"}],\"margin\":null,\"min_border_bottom\":10,\"min_border_left\":10,\"min_border_right\":10,\"min_border_top\":10,\"plot_height\":300,\"plot_width\":700,\"renderers\":[{\"id\":\"7904\",\"type\":\"GlyphRenderer\"}],\"sizing_mode\":\"fixed\",\"title\":{\"id\":\"7869\",\"type\":\"Title\"},\"toolbar\":{\"id\":\"7891\",\"type\":\"Toolbar\"},\"x_range\":{\"id\":\"7865\",\"type\":\"FactorRange\"},\"x_scale\":{\"id\":\"7873\",\"type\":\"CategoricalScale\"},\"y_range\":{\"id\":\"7866\",\"type\":\"Range1d\"},\"y_scale\":{\"id\":\"7875\",\"type\":\"LinearScale\"}},\"id\":\"7868\",\"subtype\":\"Figure\",\"type\":\"Plot\"},{\"attributes\":{},\"id\":\"7878\",\"type\":\"CategoricalTicker\"},{\"attributes\":{},\"id\":\"7915\",\"type\":\"UnionRenderers\"},{\"attributes\":{\"callback\":null,\"end\":2497.0,\"reset_end\":2497.0,\"reset_start\":0,\"tags\":[[[\"ChE GitHub Projects\",\"ChE GitHub Projects\",null]]]},\"id\":\"7866\",\"type\":\"Range1d\"},{\"attributes\":{},\"id\":\"7886\",\"type\":\"SaveTool\"},{\"attributes\":{\"callback\":null,\"factors\":[\"Python\",\"HTML\",\"JavaScript\",\"CSS\",\"Shell\",\"Jupyter Notebook\",\"Ruby\",\"Makefile\",\"C++\",\"C\",\"Java\",\"TeX\",\"R\",\"Batchfile\",\"MATLAB\"],\"tags\":[[[\"Language\",\"Language\",null]]]},\"id\":\"7865\",\"type\":\"FactorRange\"},{\"attributes\":{},\"id\":\"7906\",\"type\":\"CategoricalTickFormatter\"},{\"attributes\":{},\"id\":\"7908\",\"type\":\"BasicTickFormatter\"},{\"attributes\":{},\"id\":\"7888\",\"type\":\"WheelZoomTool\"},{\"attributes\":{\"fill_alpha\":{\"value\":0.1},\"fill_color\":{\"value\":\"#1f77b4\"},\"line_alpha\":{\"value\":0.1},\"line_color\":{\"value\":\"black\"},\"top\":{\"field\":\"ChE_GitHub_Projects\"},\"width\":{\"value\":0.8},\"x\":{\"field\":\"Language\"}},\"id\":\"7902\",\"type\":\"VBar\"},{\"attributes\":{\"data_source\":{\"id\":\"7898\",\"type\":\"ColumnDataSource\"},\"glyph\":{\"id\":\"7901\",\"type\":\"VBar\"},\"hover_glyph\":null,\"muted_glyph\":{\"id\":\"7903\",\"type\":\"VBar\"},\"nonselection_glyph\":{\"id\":\"7902\",\"type\":\"VBar\"},\"selection_glyph\":null,\"view\":{\"id\":\"7905\",\"type\":\"CDSView\"}},\"id\":\"7904\",\"type\":\"GlyphRenderer\"},{\"attributes\":{\"overlay\":{\"id\":\"7917\",\"type\":\"BoxAnnotation\"}},\"id\":\"7889\",\"type\":\"BoxZoomTool\"},{\"attributes\":{\"callback\":null,\"data\":{\"ChE_GitHub_Projects\":{\"__ndarray__\":\"AAAAAACCo0AAAAAAAGSjQAAAAAAAQJ9AAAAAAAAonEAAAAAAAFiSQAAAAAAAGI5AAAAAAAA4hEAAAAAAANCCQAAAAAAAQIJAAAAAAABwgUAAAAAAAMB8QAAAAAAAUHBAAAAAAADgb0AAAAAAAEBuQAAAAAAA4G1A\",\"dtype\":\"float64\",\"shape\":[15]},\"Language\":[\"Python\",\"HTML\",\"JavaScript\",\"CSS\",\"Shell\",\"Jupyter Notebook\",\"Ruby\",\"Makefile\",\"C++\",\"C\",\"Java\",\"TeX\",\"R\",\"Batchfile\",\"MATLAB\"]},\"selected\":{\"id\":\"7899\",\"type\":\"Selection\"},\"selection_policy\":{\"id\":\"7915\",\"type\":\"UnionRenderers\"}},\"id\":\"7898\",\"type\":\"ColumnDataSource\"},{\"attributes\":{},\"id\":\"7875\",\"type\":\"LinearScale\"},{\"attributes\":{},\"id\":\"7887\",\"type\":\"PanTool\"},{\"attributes\":{\"active_drag\":\"auto\",\"active_inspect\":\"auto\",\"active_multi\":null,\"active_scroll\":\"auto\",\"active_tap\":\"auto\",\"tools\":[{\"id\":\"7867\",\"type\":\"HoverTool\"},{\"id\":\"7886\",\"type\":\"SaveTool\"},{\"id\":\"7887\",\"type\":\"PanTool\"},{\"id\":\"7888\",\"type\":\"WheelZoomTool\"},{\"id\":\"7889\",\"type\":\"BoxZoomTool\"},{\"id\":\"7890\",\"type\":\"ResetTool\"}]},\"id\":\"7891\",\"type\":\"Toolbar\"},{\"attributes\":{\"source\":{\"id\":\"7898\",\"type\":\"ColumnDataSource\"}},\"id\":\"7905\",\"type\":\"CDSView\"},{\"attributes\":{},\"id\":\"7890\",\"type\":\"ResetTool\"},{\"attributes\":{\"bottom_units\":\"screen\",\"fill_alpha\":{\"value\":0.5},\"fill_color\":{\"value\":\"lightgrey\"},\"left_units\":\"screen\",\"level\":\"overlay\",\"line_alpha\":{\"value\":1.0},\"line_color\":{\"value\":\"black\"},\"line_dash\":[4,4],\"line_width\":{\"value\":2},\"render_mode\":\"css\",\"right_units\":\"screen\",\"top_units\":\"screen\"},\"id\":\"7917\",\"type\":\"BoxAnnotation\"},{\"attributes\":{\"grid_line_color\":null,\"ticker\":{\"id\":\"7878\",\"type\":\"CategoricalTicker\"}},\"id\":\"7880\",\"type\":\"Grid\"},{\"attributes\":{},\"id\":\"7873\",\"type\":\"CategoricalScale\"},{\"attributes\":{\"axis_label\":\"ChE GitHub Projects\",\"bounds\":\"auto\",\"formatter\":{\"id\":\"7908\",\"type\":\"BasicTickFormatter\"},\"major_label_orientation\":\"horizontal\",\"ticker\":{\"id\":\"7882\",\"type\":\"BasicTicker\"}},\"id\":\"7881\",\"type\":\"LinearAxis\"},{\"attributes\":{\"fill_color\":{\"value\":\"#1f77b4\"},\"top\":{\"field\":\"ChE_GitHub_Projects\"},\"width\":{\"value\":0.8},\"x\":{\"field\":\"Language\"}},\"id\":\"7901\",\"type\":\"VBar\"},{\"attributes\":{},\"id\":\"7899\",\"type\":\"Selection\"},{\"attributes\":{},\"id\":\"7882\",\"type\":\"BasicTicker\"},{\"attributes\":{\"callback\":null,\"renderers\":[{\"id\":\"7904\",\"type\":\"GlyphRenderer\"}],\"tags\":[\"hv_created\"],\"tooltips\":[[\"Language\",\"@{Language}\"],[\"ChE GitHub Projects\",\"@{ChE_GitHub_Projects}\"]]},\"id\":\"7867\",\"type\":\"HoverTool\"},{\"attributes\":{\"fill_alpha\":{\"value\":0.2},\"fill_color\":{\"value\":\"#1f77b4\"},\"line_alpha\":{\"value\":0.2},\"line_color\":{\"value\":\"black\"},\"top\":{\"field\":\"ChE_GitHub_Projects\"},\"width\":{\"value\":0.8},\"x\":{\"field\":\"Language\"}},\"id\":\"7903\",\"type\":\"VBar\"},{\"attributes\":{\"axis_label\":\"Language\",\"bounds\":\"auto\",\"formatter\":{\"id\":\"7906\",\"type\":\"CategoricalTickFormatter\"},\"major_label_orientation\":0.7853981633974483,\"ticker\":{\"id\":\"7878\",\"type\":\"CategoricalTicker\"}},\"id\":\"7877\",\"type\":\"CategoricalAxis\"},{\"attributes\":{\"dimension\":1,\"grid_line_color\":null,\"ticker\":{\"id\":\"7882\",\"type\":\"BasicTicker\"}},\"id\":\"7885\",\"type\":\"Grid\"},{\"attributes\":{\"text\":\"\",\"text_color\":{\"value\":\"black\"},\"text_font_size\":{\"value\":\"12pt\"}},\"id\":\"7869\",\"type\":\"Title\"}],\"root_ids\":[\"7868\"]},\"title\":\"Bokeh Application\",\"version\":\"1.2.0\"}};\n",
       "  var render_items = [{\"docid\":\"19290578-0f49-46e8-b40d-c43e5bf39b18\",\"roots\":{\"7868\":\"6885b27e-b40a-46af-961e-b490438b3ca8\"}}];\n",
       "  root.Bokeh.embed.embed_items_notebook(docs_json, render_items);\n",
       "\n",
       "  }\n",
       "  if (root.Bokeh !== undefined) {\n",
       "    embed_document(root);\n",
       "  } else {\n",
       "    var attempts = 0;\n",
       "    var timer = setInterval(function(root) {\n",
       "      if (root.Bokeh !== undefined) {\n",
       "        embed_document(root);\n",
       "        clearInterval(timer);\n",
       "      }\n",
       "      attempts++;\n",
       "      if (attempts > 100) {\n",
       "        console.log(\"Bokeh: ERROR: Unable to run BokehJS code because BokehJS library is missing\");\n",
       "        clearInterval(timer);\n",
       "      }\n",
       "    }, 10, root)\n",
       "  }\n",
       "})(window);</script>"
      ],
      "text/plain": [
       ":Bars   [Language]   (ChE GitHub Projects)"
      ]
     },
     "execution_count": 34,
     "metadata": {
      "application/vnd.holoviews_exec.v0+json": {
       "id": "7868"
      }
     },
     "output_type": "execute_result"
    }
   ],
   "source": [
    "topplot = top_languages.hvplot('Language','ChE GitHub Projects',kind='bar').opts(xrotation=45)\n",
    "topplot"
   ]
  },
  {
   "cell_type": "code",
   "execution_count": 35,
   "metadata": {},
   "outputs": [],
   "source": [
    "# save the plot\n",
    "\n",
    "hv.save(topplot,'Top_Languages.html')"
   ]
  },
  {
   "cell_type": "markdown",
   "metadata": {},
   "source": [
    "Narrow down list and plot a few languages over time:"
   ]
  },
  {
   "cell_type": "code",
   "execution_count": 36,
   "metadata": {},
   "outputs": [],
   "source": [
    "languages = ['Python','Jupyter Notebook','Fortran','C','C++','Java','Julia','R','MATLAB','Perl','Visual Basic','HTML']"
   ]
  },
  {
   "cell_type": "code",
   "execution_count": 37,
   "metadata": {},
   "outputs": [],
   "source": [
    "top_trends = melted.loc[melted.Language.isin(languages),:].groupby(['Language',melted.Created.dt.year+melted.Created.dt.month/12]).agg(sum)"
   ]
  },
  {
   "cell_type": "code",
   "execution_count": null,
   "metadata": {},
   "outputs": [],
   "source": []
  },
  {
   "cell_type": "code",
   "execution_count": 38,
   "metadata": {},
   "outputs": [
    {
     "data": {
      "application/vnd.holoviews_exec.v0+json": "",
      "text/html": [
       "<div id='8097' style='display: table; margin: 0 auto;'>\n",
       "\n",
       "\n",
       "\n",
       "\n",
       "\n",
       "  <div class=\"bk-root\" id=\"4f71fd33-9172-45cd-99e1-29fb132021f8\" data-root-id=\"8097\"></div>\n",
       "</div>\n",
       "<script type=\"application/javascript\">(function(root) {\n",
       "  function embed_document(root) {\n",
       "    \n",
       "  var docs_json = {\"61f8629c-530a-4537-b3f2-17f3f40febc3\":{\"roots\":{\"references\":[{\"attributes\":{\"below\":[{\"id\":\"8106\",\"type\":\"LinearAxis\"}],\"center\":[{\"id\":\"8110\",\"type\":\"Grid\"},{\"id\":\"8115\",\"type\":\"Grid\"},{\"id\":\"8146\",\"type\":\"Legend\"}],\"left\":[{\"id\":\"8111\",\"type\":\"LogAxis\"}],\"margin\":null,\"min_border_bottom\":10,\"min_border_left\":10,\"min_border_right\":10,\"min_border_top\":10,\"plot_height\":300,\"renderers\":[{\"id\":\"8138\",\"type\":\"GlyphRenderer\"},{\"id\":\"8154\",\"type\":\"GlyphRenderer\"},{\"id\":\"8171\",\"type\":\"GlyphRenderer\"},{\"id\":\"8190\",\"type\":\"GlyphRenderer\"},{\"id\":\"8211\",\"type\":\"GlyphRenderer\"},{\"id\":\"8234\",\"type\":\"GlyphRenderer\"},{\"id\":\"8259\",\"type\":\"GlyphRenderer\"},{\"id\":\"8286\",\"type\":\"GlyphRenderer\"},{\"id\":\"8315\",\"type\":\"GlyphRenderer\"},{\"id\":\"8346\",\"type\":\"GlyphRenderer\"},{\"id\":\"8379\",\"type\":\"GlyphRenderer\"},{\"id\":\"8414\",\"type\":\"GlyphRenderer\"}],\"right\":[{\"id\":\"8146\",\"type\":\"Legend\"}],\"sizing_mode\":\"fixed\",\"title\":{\"id\":\"8098\",\"type\":\"Title\"},\"toolbar\":{\"id\":\"8121\",\"type\":\"Toolbar\"},\"x_range\":{\"id\":\"8083\",\"type\":\"Range1d\"},\"x_scale\":{\"id\":\"8102\",\"type\":\"LinearScale\"},\"y_range\":{\"id\":\"8084\",\"type\":\"Range1d\"},\"y_scale\":{\"id\":\"8104\",\"type\":\"LogScale\"}},\"id\":\"8097\",\"subtype\":\"Figure\",\"type\":\"Plot\"},{\"attributes\":{\"label\":{\"value\":\"Julia\"},\"renderers\":[{\"id\":\"8234\",\"type\":\"GlyphRenderer\"}]},\"id\":\"8252\",\"type\":\"LegendItem\"},{\"attributes\":{\"line_alpha\":0.2,\"line_color\":\"#9467bd\",\"line_width\":2,\"x\":{\"field\":\"Created\"},\"y\":{\"field\":\"value\"}},\"id\":\"8210\",\"type\":\"Line\"},{\"attributes\":{\"line_alpha\":0.1,\"line_color\":\"#9467bd\",\"line_width\":2,\"x\":{\"field\":\"Created\"},\"y\":{\"field\":\"value\"}},\"id\":\"8209\",\"type\":\"Line\"},{\"attributes\":{},\"id\":\"8305\",\"type\":\"UnionRenderers\"},{\"attributes\":{},\"id\":\"8472\",\"type\":\"UnionRenderers\"},{\"attributes\":{\"callback\":null,\"data\":{\"Created\":{\"__ndarray__\":\"AAAAAABmn0BVVVVVVWafQKuqqqqqZp9AAAAAAABnn0CrqqqqqmifQAAAAAAAaZ9AVVVVVVVpn0AAAAAAAGqfQFVVVVVVap9Aq6qqqqpqn0AAAAAAAGufQKuqqqqqa59AVVVVVVVsn0AAAAAAAG2fQAAAAAAAbp9AVVVVVVVxn0CrqqqqqnGfQFVVVVVVcp9Aq6qqqqpyn0AAAAAAAHOfQFVVVVVVc59Aq6qqqqpzn0AAAAAAAHSfQFVVVVVVdJ9Aq6qqqqp0n0AAAAAAAHWfQFVVVVVVdZ9Aq6qqqqp1n0AAAAAAAHafQFVVVVVVdp9Aq6qqqqp2n0AAAAAAAHefQFVVVVVVd59Aq6qqqqp3n0AAAAAAAHifQFVVVVVVeJ9Aq6qqqqp4n0AAAAAAAHmfQFVVVVVVeZ9Aq6qqqqp5n0AAAAAAAHqfQFVVVVVVep9Aq6qqqqp6n0AAAAAAAHufQFVVVVVVe59Aq6qqqqp7n0AAAAAAAHyfQFVVVVVVfJ9Aq6qqqqp8n0AAAAAAAH2fQFVVVVVVfZ9Aq6qqqqp9n0AAAAAAAH6fQFVVVVVVfp9Aq6qqqqp+n0AAAAAAAH+fQFVVVVVVf59Aq6qqqqp/n0AAAAAAAICfQFVVVVVVgJ9Aq6qqqqqAn0AAAAAAAIGfQFVVVVVVgZ9Aq6qqqqqBn0AAAAAAAIKfQFVVVVVVgp9Aq6qqqqqCn0AAAAAAAIOfQFVVVVVVg59Aq6qqqqqDn0AAAAAAAISfQFVVVVVVhJ9Aq6qqqqqEn0AAAAAAAIWfQFVVVVVVhZ9Aq6qqqqqFn0AAAAAAAIafQFVVVVVVhp9Aq6qqqqqGn0AAAAAAAIefQFVVVVVVh59Aq6qqqqqHn0AAAAAAAIifQFVVVVVViJ9Aq6qqqqqIn0AAAAAAAImfQFVVVVVViZ9Aq6qqqqqJn0AAAAAAAIqfQFVVVVVVip9Aq6qqqqqKn0AAAAAAAIufQFVVVVVVi59Aq6qqqqqLn0AAAAAAAIyfQFVVVVVVjJ9Aq6qqqqqMn0AAAAAAAI2fQFVVVVVVjZ9Aq6qqqqqNn0AAAAAAAI6fQFVVVVVVjp9Aq6qqqqqOn0AAAAAAAI+fQA==\",\"dtype\":\"float64\",\"shape\":[104]},\"Variable\":[\"HTML\",\"HTML\",\"HTML\",\"HTML\",\"HTML\",\"HTML\",\"HTML\",\"HTML\",\"HTML\",\"HTML\",\"HTML\",\"HTML\",\"HTML\",\"HTML\",\"HTML\",\"HTML\",\"HTML\",\"HTML\",\"HTML\",\"HTML\",\"HTML\",\"HTML\",\"HTML\",\"HTML\",\"HTML\",\"HTML\",\"HTML\",\"HTML\",\"HTML\",\"HTML\",\"HTML\",\"HTML\",\"HTML\",\"HTML\",\"HTML\",\"HTML\",\"HTML\",\"HTML\",\"HTML\",\"HTML\",\"HTML\",\"HTML\",\"HTML\",\"HTML\",\"HTML\",\"HTML\",\"HTML\",\"HTML\",\"HTML\",\"HTML\",\"HTML\",\"HTML\",\"HTML\",\"HTML\",\"HTML\",\"HTML\",\"HTML\",\"HTML\",\"HTML\",\"HTML\",\"HTML\",\"HTML\",\"HTML\",\"HTML\",\"HTML\",\"HTML\",\"HTML\",\"HTML\",\"HTML\",\"HTML\",\"HTML\",\"HTML\",\"HTML\",\"HTML\",\"HTML\",\"HTML\",\"HTML\",\"HTML\",\"HTML\",\"HTML\",\"HTML\",\"HTML\",\"HTML\",\"HTML\",\"HTML\",\"HTML\",\"HTML\",\"HTML\",\"HTML\",\"HTML\",\"HTML\",\"HTML\",\"HTML\",\"HTML\",\"HTML\",\"HTML\",\"HTML\",\"HTML\",\"HTML\",\"HTML\",\"HTML\",\"HTML\",\"HTML\",\"HTML\"],\"value\":[0,0,0,0,1,1,1,1,1,1,1,1,1,1,2,2,2,2,2,3,4,4,4,4,4,7,7,7,7,7,7,8,8,8,8,9,10,11,11,12,13,13,13,14,16,16,18,23,26,30,34,38,41,54,61,64,71,76,83,90,94,99,105,116,126,160,180,226,265,294,314,352,408,435,456,491,527,564,601,631,668,709,750,818,865,915,1001,1110,1207,1284,1383,1477,1601,1678,1759,1856,1968,2060,2122,2197,2262,2378,2477,2482]},\"selected\":{\"id\":\"8185\",\"type\":\"Selection\"},\"selection_policy\":{\"id\":\"8224\",\"type\":\"UnionRenderers\"}},\"id\":\"8184\",\"type\":\"ColumnDataSource\"},{\"attributes\":{},\"id\":\"8201\",\"type\":\"UnionRenderers\"},{\"attributes\":{\"callback\":null,\"end\":3000,\"reset_end\":3000,\"reset_start\":10,\"start\":10,\"tags\":[[[\"value\",\"value\",null]]]},\"id\":\"8084\",\"type\":\"Range1d\"},{\"attributes\":{},\"id\":\"8310\",\"type\":\"Selection\"},{\"attributes\":{\"source\":{\"id\":\"8253\",\"type\":\"ColumnDataSource\"}},\"id\":\"8260\",\"type\":\"CDSView\"},{\"attributes\":{\"source\":{\"id\":\"8184\",\"type\":\"ColumnDataSource\"}},\"id\":\"8191\",\"type\":\"CDSView\"},{\"attributes\":{\"line_alpha\":0.2,\"line_color\":\"#bcbd22\",\"line_width\":2,\"x\":{\"field\":\"Created\"},\"y\":{\"field\":\"value\"}},\"id\":\"8314\",\"type\":\"Line\"},{\"attributes\":{\"callback\":null,\"data\":{\"Created\":{\"__ndarray__\":\"AAAAAABmn0BVVVVVVWafQKuqqqqqZp9AAAAAAABnn0CrqqqqqmifQAAAAAAAaZ9AVVVVVVVpn0AAAAAAAGqfQFVVVVVVap9Aq6qqqqpqn0AAAAAAAGufQKuqqqqqa59AVVVVVVVsn0AAAAAAAG2fQAAAAAAAbp9AVVVVVVVxn0CrqqqqqnGfQFVVVVVVcp9Aq6qqqqpyn0AAAAAAAHOfQFVVVVVVc59Aq6qqqqpzn0AAAAAAAHSfQFVVVVVVdJ9Aq6qqqqp0n0AAAAAAAHWfQFVVVVVVdZ9Aq6qqqqp1n0AAAAAAAHafQFVVVVVVdp9Aq6qqqqp2n0AAAAAAAHefQFVVVVVVd59Aq6qqqqp3n0AAAAAAAHifQFVVVVVVeJ9Aq6qqqqp4n0AAAAAAAHmfQFVVVVVVeZ9Aq6qqqqp5n0AAAAAAAHqfQFVVVVVVep9Aq6qqqqp6n0AAAAAAAHufQFVVVVVVe59Aq6qqqqp7n0AAAAAAAHyfQFVVVVVVfJ9Aq6qqqqp8n0AAAAAAAH2fQFVVVVVVfZ9Aq6qqqqp9n0AAAAAAAH6fQFVVVVVVfp9Aq6qqqqp+n0AAAAAAAH+fQFVVVVVVf59Aq6qqqqp/n0AAAAAAAICfQFVVVVVVgJ9Aq6qqqqqAn0AAAAAAAIGfQFVVVVVVgZ9Aq6qqqqqBn0AAAAAAAIKfQFVVVVVVgp9Aq6qqqqqCn0AAAAAAAIOfQFVVVVVVg59Aq6qqqqqDn0AAAAAAAISfQFVVVVVVhJ9Aq6qqqqqEn0AAAAAAAIWfQFVVVVVVhZ9Aq6qqqqqFn0AAAAAAAIafQFVVVVVVhp9Aq6qqqqqGn0AAAAAAAIefQFVVVVVVh59Aq6qqqqqHn0AAAAAAAIifQFVVVVVViJ9Aq6qqqqqIn0AAAAAAAImfQFVVVVVViZ9Aq6qqqqqJn0AAAAAAAIqfQFVVVVVVip9Aq6qqqqqKn0AAAAAAAIufQFVVVVVVi59Aq6qqqqqLn0AAAAAAAIyfQFVVVVVVjJ9Aq6qqqqqMn0AAAAAAAI2fQFVVVVVVjZ9Aq6qqqqqNn0AAAAAAAI6fQFVVVVVVjp9Aq6qqqqqOn0AAAAAAAI+fQA==\",\"dtype\":\"float64\",\"shape\":[104]},\"Variable\":[\"Visual Basic\",\"Visual Basic\",\"Visual Basic\",\"Visual Basic\",\"Visual Basic\",\"Visual Basic\",\"Visual Basic\",\"Visual Basic\",\"Visual Basic\",\"Visual Basic\",\"Visual Basic\",\"Visual Basic\",\"Visual Basic\",\"Visual Basic\",\"Visual Basic\",\"Visual Basic\",\"Visual Basic\",\"Visual Basic\",\"Visual Basic\",\"Visual Basic\",\"Visual Basic\",\"Visual Basic\",\"Visual Basic\",\"Visual Basic\",\"Visual Basic\",\"Visual Basic\",\"Visual Basic\",\"Visual Basic\",\"Visual Basic\",\"Visual Basic\",\"Visual Basic\",\"Visual Basic\",\"Visual Basic\",\"Visual Basic\",\"Visual Basic\",\"Visual Basic\",\"Visual Basic\",\"Visual Basic\",\"Visual Basic\",\"Visual Basic\",\"Visual Basic\",\"Visual Basic\",\"Visual Basic\",\"Visual Basic\",\"Visual Basic\",\"Visual Basic\",\"Visual Basic\",\"Visual Basic\",\"Visual Basic\",\"Visual Basic\",\"Visual Basic\",\"Visual Basic\",\"Visual Basic\",\"Visual Basic\",\"Visual Basic\",\"Visual Basic\",\"Visual Basic\",\"Visual Basic\",\"Visual Basic\",\"Visual Basic\",\"Visual Basic\",\"Visual Basic\",\"Visual Basic\",\"Visual Basic\",\"Visual Basic\",\"Visual Basic\",\"Visual Basic\",\"Visual Basic\",\"Visual Basic\",\"Visual Basic\",\"Visual Basic\",\"Visual Basic\",\"Visual Basic\",\"Visual Basic\",\"Visual Basic\",\"Visual Basic\",\"Visual Basic\",\"Visual Basic\",\"Visual Basic\",\"Visual Basic\",\"Visual Basic\",\"Visual Basic\",\"Visual Basic\",\"Visual Basic\",\"Visual Basic\",\"Visual Basic\",\"Visual Basic\",\"Visual Basic\",\"Visual Basic\",\"Visual Basic\",\"Visual Basic\",\"Visual Basic\",\"Visual Basic\",\"Visual Basic\",\"Visual Basic\",\"Visual Basic\",\"Visual Basic\",\"Visual Basic\",\"Visual Basic\",\"Visual Basic\",\"Visual Basic\",\"Visual Basic\",\"Visual Basic\",\"Visual Basic\"],\"value\":[0,0,0,0,0,0,0,0,0,0,0,0,0,0,0,0,0,0,0,0,0,0,0,0,0,0,0,0,0,0,0,0,0,0,0,0,0,0,0,0,0,0,0,0,0,0,0,0,0,0,1,1,1,2,2,2,2,2,3,3,3,3,3,3,3,3,3,3,3,3,3,3,3,5,6,7,7,8,8,8,10,10,10,10,10,10,10,11,11,11,12,13,17,17,21,21,26,28,31,33,33,36,37,37]},\"selected\":{\"id\":\"8409\",\"type\":\"Selection\"},\"selection_policy\":{\"id\":\"8472\",\"type\":\"UnionRenderers\"}},\"id\":\"8408\",\"type\":\"ColumnDataSource\"},{\"attributes\":{\"line_color\":\"#e377c2\",\"line_width\":2,\"x\":{\"field\":\"Created\"},\"y\":{\"field\":\"value\"}},\"id\":\"8256\",\"type\":\"Line\"},{\"attributes\":{},\"id\":\"8206\",\"type\":\"Selection\"},{\"attributes\":{\"label\":{\"value\":\"Java\"},\"renderers\":[{\"id\":\"8211\",\"type\":\"GlyphRenderer\"}]},\"id\":\"8227\",\"type\":\"LegendItem\"},{\"attributes\":{\"line_color\":\"#7f7f7f\",\"line_width\":2,\"x\":{\"field\":\"Created\"},\"y\":{\"field\":\"value\"}},\"id\":\"8283\",\"type\":\"Line\"},{\"attributes\":{},\"id\":\"8224\",\"type\":\"UnionRenderers\"},{\"attributes\":{},\"id\":\"8249\",\"type\":\"UnionRenderers\"},{\"attributes\":{\"line_alpha\":0.2,\"line_color\":\"#8c564b\",\"line_width\":2,\"x\":{\"field\":\"Created\"},\"y\":{\"field\":\"value\"}},\"id\":\"8233\",\"type\":\"Line\"},{\"attributes\":{\"source\":{\"id\":\"8309\",\"type\":\"ColumnDataSource\"}},\"id\":\"8316\",\"type\":\"CDSView\"},{\"attributes\":{\"data_source\":{\"id\":\"8309\",\"type\":\"ColumnDataSource\"},\"glyph\":{\"id\":\"8312\",\"type\":\"Line\"},\"hover_glyph\":null,\"muted_glyph\":{\"id\":\"8314\",\"type\":\"Line\"},\"nonselection_glyph\":{\"id\":\"8313\",\"type\":\"Line\"},\"selection_glyph\":null,\"view\":{\"id\":\"8316\",\"type\":\"CDSView\"}},\"id\":\"8315\",\"type\":\"GlyphRenderer\"},{\"attributes\":{\"label\":{\"value\":\"Perl\"},\"renderers\":[{\"id\":\"8315\",\"type\":\"GlyphRenderer\"}]},\"id\":\"8339\",\"type\":\"LegendItem\"},{\"attributes\":{\"label\":{\"value\":\"HTML\"},\"renderers\":[{\"id\":\"8190\",\"type\":\"GlyphRenderer\"}]},\"id\":\"8204\",\"type\":\"LegendItem\"},{\"attributes\":{\"callback\":null,\"renderers\":[{\"id\":\"8138\",\"type\":\"GlyphRenderer\"},{\"id\":\"8154\",\"type\":\"GlyphRenderer\"},{\"id\":\"8171\",\"type\":\"GlyphRenderer\"},{\"id\":\"8190\",\"type\":\"GlyphRenderer\"},{\"id\":\"8211\",\"type\":\"GlyphRenderer\"},{\"id\":\"8234\",\"type\":\"GlyphRenderer\"},{\"id\":\"8259\",\"type\":\"GlyphRenderer\"},{\"id\":\"8286\",\"type\":\"GlyphRenderer\"},{\"id\":\"8315\",\"type\":\"GlyphRenderer\"},{\"id\":\"8346\",\"type\":\"GlyphRenderer\"},{\"id\":\"8379\",\"type\":\"GlyphRenderer\"},{\"id\":\"8414\",\"type\":\"GlyphRenderer\"}],\"tags\":[\"hv_created\"],\"tooltips\":[[\"Variable\",\"@{Variable}\"],[\"Created\",\"@{Created}\"],[\"value\",\"@{value}\"]]},\"id\":\"8085\",\"type\":\"HoverTool\"},{\"attributes\":{\"label\":{\"value\":\"Jupyter Notebook\"},\"renderers\":[{\"id\":\"8259\",\"type\":\"GlyphRenderer\"}]},\"id\":\"8279\",\"type\":\"LegendItem\"},{\"attributes\":{\"data_source\":{\"id\":\"8184\",\"type\":\"ColumnDataSource\"},\"glyph\":{\"id\":\"8187\",\"type\":\"Line\"},\"hover_glyph\":null,\"muted_glyph\":{\"id\":\"8189\",\"type\":\"Line\"},\"nonselection_glyph\":{\"id\":\"8188\",\"type\":\"Line\"},\"selection_glyph\":null,\"view\":{\"id\":\"8191\",\"type\":\"CDSView\"}},\"id\":\"8190\",\"type\":\"GlyphRenderer\"},{\"attributes\":{\"line_alpha\":0.1,\"line_color\":\"#bcbd22\",\"line_width\":2,\"x\":{\"field\":\"Created\"},\"y\":{\"field\":\"value\"}},\"id\":\"8313\",\"type\":\"Line\"},{\"attributes\":{},\"id\":\"8254\",\"type\":\"Selection\"},{\"attributes\":{\"line_alpha\":0.2,\"line_color\":\"#d62728\",\"line_width\":2,\"x\":{\"field\":\"Created\"},\"y\":{\"field\":\"value\"}},\"id\":\"8189\",\"type\":\"Line\"},{\"attributes\":{\"callback\":null,\"data\":{\"Created\":{\"__ndarray__\":\"AAAAAABmn0BVVVVVVWafQKuqqqqqZp9AAAAAAABnn0CrqqqqqmifQAAAAAAAaZ9AVVVVVVVpn0AAAAAAAGqfQFVVVVVVap9Aq6qqqqpqn0AAAAAAAGufQKuqqqqqa59AVVVVVVVsn0AAAAAAAG2fQAAAAAAAbp9AVVVVVVVxn0CrqqqqqnGfQFVVVVVVcp9Aq6qqqqpyn0AAAAAAAHOfQFVVVVVVc59Aq6qqqqpzn0AAAAAAAHSfQFVVVVVVdJ9Aq6qqqqp0n0AAAAAAAHWfQFVVVVVVdZ9Aq6qqqqp1n0AAAAAAAHafQFVVVVVVdp9Aq6qqqqp2n0AAAAAAAHefQFVVVVVVd59Aq6qqqqp3n0AAAAAAAHifQFVVVVVVeJ9Aq6qqqqp4n0AAAAAAAHmfQFVVVVVVeZ9Aq6qqqqp5n0AAAAAAAHqfQFVVVVVVep9Aq6qqqqp6n0AAAAAAAHufQFVVVVVVe59Aq6qqqqp7n0AAAAAAAHyfQFVVVVVVfJ9Aq6qqqqp8n0AAAAAAAH2fQFVVVVVVfZ9Aq6qqqqp9n0AAAAAAAH6fQFVVVVVVfp9Aq6qqqqp+n0AAAAAAAH+fQFVVVVVVf59Aq6qqqqp/n0AAAAAAAICfQFVVVVVVgJ9Aq6qqqqqAn0AAAAAAAIGfQFVVVVVVgZ9Aq6qqqqqBn0AAAAAAAIKfQFVVVVVVgp9Aq6qqqqqCn0AAAAAAAIOfQFVVVVVVg59Aq6qqqqqDn0AAAAAAAISfQFVVVVVVhJ9Aq6qqqqqEn0AAAAAAAIWfQFVVVVVVhZ9Aq6qqqqqFn0AAAAAAAIafQFVVVVVVhp9Aq6qqqqqGn0AAAAAAAIefQFVVVVVVh59Aq6qqqqqHn0AAAAAAAIifQFVVVVVViJ9Aq6qqqqqIn0AAAAAAAImfQFVVVVVViZ9Aq6qqqqqJn0AAAAAAAIqfQFVVVVVVip9Aq6qqqqqKn0AAAAAAAIufQFVVVVVVi59Aq6qqqqqLn0AAAAAAAIyfQFVVVVVVjJ9Aq6qqqqqMn0AAAAAAAI2fQFVVVVVVjZ9Aq6qqqqqNn0AAAAAAAI6fQFVVVVVVjp9Aq6qqqqqOn0AAAAAAAI+fQA==\",\"dtype\":\"float64\",\"shape\":[104]},\"Variable\":[\"MATLAB\",\"MATLAB\",\"MATLAB\",\"MATLAB\",\"MATLAB\",\"MATLAB\",\"MATLAB\",\"MATLAB\",\"MATLAB\",\"MATLAB\",\"MATLAB\",\"MATLAB\",\"MATLAB\",\"MATLAB\",\"MATLAB\",\"MATLAB\",\"MATLAB\",\"MATLAB\",\"MATLAB\",\"MATLAB\",\"MATLAB\",\"MATLAB\",\"MATLAB\",\"MATLAB\",\"MATLAB\",\"MATLAB\",\"MATLAB\",\"MATLAB\",\"MATLAB\",\"MATLAB\",\"MATLAB\",\"MATLAB\",\"MATLAB\",\"MATLAB\",\"MATLAB\",\"MATLAB\",\"MATLAB\",\"MATLAB\",\"MATLAB\",\"MATLAB\",\"MATLAB\",\"MATLAB\",\"MATLAB\",\"MATLAB\",\"MATLAB\",\"MATLAB\",\"MATLAB\",\"MATLAB\",\"MATLAB\",\"MATLAB\",\"MATLAB\",\"MATLAB\",\"MATLAB\",\"MATLAB\",\"MATLAB\",\"MATLAB\",\"MATLAB\",\"MATLAB\",\"MATLAB\",\"MATLAB\",\"MATLAB\",\"MATLAB\",\"MATLAB\",\"MATLAB\",\"MATLAB\",\"MATLAB\",\"MATLAB\",\"MATLAB\",\"MATLAB\",\"MATLAB\",\"MATLAB\",\"MATLAB\",\"MATLAB\",\"MATLAB\",\"MATLAB\",\"MATLAB\",\"MATLAB\",\"MATLAB\",\"MATLAB\",\"MATLAB\",\"MATLAB\",\"MATLAB\",\"MATLAB\",\"MATLAB\",\"MATLAB\",\"MATLAB\",\"MATLAB\",\"MATLAB\",\"MATLAB\",\"MATLAB\",\"MATLAB\",\"MATLAB\",\"MATLAB\",\"MATLAB\",\"MATLAB\",\"MATLAB\",\"MATLAB\",\"MATLAB\",\"MATLAB\",\"MATLAB\",\"MATLAB\",\"MATLAB\",\"MATLAB\",\"MATLAB\"],\"value\":[0,0,0,0,1,1,1,1,1,1,1,1,1,1,1,1,3,3,3,3,4,4,5,5,5,5,5,6,6,7,7,7,7,7,7,7,7,7,7,8,8,8,8,8,8,8,9,13,14,15,17,18,19,19,19,19,19,20,24,27,29,31,34,37,39,41,43,47,48,50,51,54,57,62,66,68,71,81,83,88,98,109,115,119,124,131,141,146,149,152,158,167,172,179,182,185,194,202,208,219,227,232,238,239]},\"selected\":{\"id\":\"8281\",\"type\":\"Selection\"},\"selection_policy\":{\"id\":\"8336\",\"type\":\"UnionRenderers\"}},\"id\":\"8280\",\"type\":\"ColumnDataSource\"},{\"attributes\":{\"source\":{\"id\":\"8148\",\"type\":\"ColumnDataSource\"}},\"id\":\"8155\",\"type\":\"CDSView\"},{\"attributes\":{\"line_color\":\"#d62728\",\"line_width\":2,\"x\":{\"field\":\"Created\"},\"y\":{\"field\":\"value\"}},\"id\":\"8187\",\"type\":\"Line\"},{\"attributes\":{\"data_source\":{\"id\":\"8228\",\"type\":\"ColumnDataSource\"},\"glyph\":{\"id\":\"8231\",\"type\":\"Line\"},\"hover_glyph\":null,\"muted_glyph\":{\"id\":\"8233\",\"type\":\"Line\"},\"nonselection_glyph\":{\"id\":\"8232\",\"type\":\"Line\"},\"selection_glyph\":null,\"view\":{\"id\":\"8235\",\"type\":\"CDSView\"}},\"id\":\"8234\",\"type\":\"GlyphRenderer\"},{\"attributes\":{\"label\":{\"value\":\"MATLAB\"},\"renderers\":[{\"id\":\"8286\",\"type\":\"GlyphRenderer\"}]},\"id\":\"8308\",\"type\":\"LegendItem\"},{\"attributes\":{\"callback\":null,\"data\":{\"Created\":{\"__ndarray__\":\"AAAAAABmn0BVVVVVVWafQKuqqqqqZp9AAAAAAABnn0CrqqqqqmifQAAAAAAAaZ9AVVVVVVVpn0AAAAAAAGqfQFVVVVVVap9Aq6qqqqpqn0AAAAAAAGufQKuqqqqqa59AVVVVVVVsn0AAAAAAAG2fQAAAAAAAbp9AVVVVVVVxn0CrqqqqqnGfQFVVVVVVcp9Aq6qqqqpyn0AAAAAAAHOfQFVVVVVVc59Aq6qqqqpzn0AAAAAAAHSfQFVVVVVVdJ9Aq6qqqqp0n0AAAAAAAHWfQFVVVVVVdZ9Aq6qqqqp1n0AAAAAAAHafQFVVVVVVdp9Aq6qqqqp2n0AAAAAAAHefQFVVVVVVd59Aq6qqqqp3n0AAAAAAAHifQFVVVVVVeJ9Aq6qqqqp4n0AAAAAAAHmfQFVVVVVVeZ9Aq6qqqqp5n0AAAAAAAHqfQFVVVVVVep9Aq6qqqqp6n0AAAAAAAHufQFVVVVVVe59Aq6qqqqp7n0AAAAAAAHyfQFVVVVVVfJ9Aq6qqqqp8n0AAAAAAAH2fQFVVVVVVfZ9Aq6qqqqp9n0AAAAAAAH6fQFVVVVVVfp9Aq6qqqqp+n0AAAAAAAH+fQFVVVVVVf59Aq6qqqqp/n0AAAAAAAICfQFVVVVVVgJ9Aq6qqqqqAn0AAAAAAAIGfQFVVVVVVgZ9Aq6qqqqqBn0AAAAAAAIKfQFVVVVVVgp9Aq6qqqqqCn0AAAAAAAIOfQFVVVVVVg59Aq6qqqqqDn0AAAAAAAISfQFVVVVVVhJ9Aq6qqqqqEn0AAAAAAAIWfQFVVVVVVhZ9Aq6qqqqqFn0AAAAAAAIafQFVVVVVVhp9Aq6qqqqqGn0AAAAAAAIefQFVVVVVVh59Aq6qqqqqHn0AAAAAAAIifQFVVVVVViJ9Aq6qqqqqIn0AAAAAAAImfQFVVVVVViZ9Aq6qqqqqJn0AAAAAAAIqfQFVVVVVVip9Aq6qqqqqKn0AAAAAAAIufQFVVVVVVi59Aq6qqqqqLn0AAAAAAAIyfQFVVVVVVjJ9Aq6qqqqqMn0AAAAAAAI2fQFVVVVVVjZ9Aq6qqqqqNn0AAAAAAAI6fQFVVVVVVjp9Aq6qqqqqOn0AAAAAAAI+fQA==\",\"dtype\":\"float64\",\"shape\":[104]},\"Variable\":[\"Julia\",\"Julia\",\"Julia\",\"Julia\",\"Julia\",\"Julia\",\"Julia\",\"Julia\",\"Julia\",\"Julia\",\"Julia\",\"Julia\",\"Julia\",\"Julia\",\"Julia\",\"Julia\",\"Julia\",\"Julia\",\"Julia\",\"Julia\",\"Julia\",\"Julia\",\"Julia\",\"Julia\",\"Julia\",\"Julia\",\"Julia\",\"Julia\",\"Julia\",\"Julia\",\"Julia\",\"Julia\",\"Julia\",\"Julia\",\"Julia\",\"Julia\",\"Julia\",\"Julia\",\"Julia\",\"Julia\",\"Julia\",\"Julia\",\"Julia\",\"Julia\",\"Julia\",\"Julia\",\"Julia\",\"Julia\",\"Julia\",\"Julia\",\"Julia\",\"Julia\",\"Julia\",\"Julia\",\"Julia\",\"Julia\",\"Julia\",\"Julia\",\"Julia\",\"Julia\",\"Julia\",\"Julia\",\"Julia\",\"Julia\",\"Julia\",\"Julia\",\"Julia\",\"Julia\",\"Julia\",\"Julia\",\"Julia\",\"Julia\",\"Julia\",\"Julia\",\"Julia\",\"Julia\",\"Julia\",\"Julia\",\"Julia\",\"Julia\",\"Julia\",\"Julia\",\"Julia\",\"Julia\",\"Julia\",\"Julia\",\"Julia\",\"Julia\",\"Julia\",\"Julia\",\"Julia\",\"Julia\",\"Julia\",\"Julia\",\"Julia\",\"Julia\",\"Julia\",\"Julia\",\"Julia\",\"Julia\",\"Julia\",\"Julia\",\"Julia\",\"Julia\"],\"value\":[0,0,0,0,0,0,0,0,0,0,0,0,0,0,0,0,0,0,0,0,0,0,0,0,0,0,0,0,0,0,0,0,0,0,0,0,0,0,0,0,0,0,0,0,0,0,0,0,3,5,7,7,7,7,7,9,9,10,12,16,17,18,20,23,24,24,25,28,28,30,32,32,35,41,42,43,43,45,45,47,48,50,55,55,57,58,58,59,59,60,62,63,66,67,68,72,78,82,83,91,92,94,94,94]},\"selected\":{\"id\":\"8229\",\"type\":\"Selection\"},\"selection_policy\":{\"id\":\"8276\",\"type\":\"UnionRenderers\"}},\"id\":\"8228\",\"type\":\"ColumnDataSource\"},{\"attributes\":{\"line_alpha\":0.1,\"line_color\":\"#e377c2\",\"line_width\":2,\"x\":{\"field\":\"Created\"},\"y\":{\"field\":\"value\"}},\"id\":\"8257\",\"type\":\"Line\"},{\"attributes\":{},\"id\":\"8281\",\"type\":\"Selection\"},{\"attributes\":{\"line_alpha\":0.2,\"line_color\":\"#e377c2\",\"line_width\":2,\"x\":{\"field\":\"Created\"},\"y\":{\"field\":\"value\"}},\"id\":\"8258\",\"type\":\"Line\"},{\"attributes\":{\"line_color\":\"#bcbd22\",\"line_width\":2,\"x\":{\"field\":\"Created\"},\"y\":{\"field\":\"value\"}},\"id\":\"8312\",\"type\":\"Line\"},{\"attributes\":{\"data_source\":{\"id\":\"8253\",\"type\":\"ColumnDataSource\"},\"glyph\":{\"id\":\"8256\",\"type\":\"Line\"},\"hover_glyph\":null,\"muted_glyph\":{\"id\":\"8258\",\"type\":\"Line\"},\"nonselection_glyph\":{\"id\":\"8257\",\"type\":\"Line\"},\"selection_glyph\":null,\"view\":{\"id\":\"8260\",\"type\":\"CDSView\"}},\"id\":\"8259\",\"type\":\"GlyphRenderer\"},{\"attributes\":{},\"id\":\"8229\",\"type\":\"Selection\"},{\"attributes\":{\"data_source\":{\"id\":\"8408\",\"type\":\"ColumnDataSource\"},\"glyph\":{\"id\":\"8411\",\"type\":\"Line\"},\"hover_glyph\":null,\"muted_glyph\":{\"id\":\"8413\",\"type\":\"Line\"},\"nonselection_glyph\":{\"id\":\"8412\",\"type\":\"Line\"},\"selection_glyph\":null,\"view\":{\"id\":\"8415\",\"type\":\"CDSView\"}},\"id\":\"8414\",\"type\":\"GlyphRenderer\"},{\"attributes\":{\"callback\":null,\"end\":2020,\"reset_end\":2020,\"reset_start\":2014,\"start\":2014,\"tags\":[[[\"Created\",\"Created\",null]]]},\"id\":\"8083\",\"type\":\"Range1d\"},{\"attributes\":{},\"id\":\"8336\",\"type\":\"UnionRenderers\"},{\"attributes\":{\"callback\":null,\"data\":{\"Created\":{\"__ndarray__\":\"AAAAAABmn0BVVVVVVWafQKuqqqqqZp9AAAAAAABnn0CrqqqqqmifQAAAAAAAaZ9AVVVVVVVpn0AAAAAAAGqfQFVVVVVVap9Aq6qqqqpqn0AAAAAAAGufQKuqqqqqa59AVVVVVVVsn0AAAAAAAG2fQAAAAAAAbp9AVVVVVVVxn0CrqqqqqnGfQFVVVVVVcp9Aq6qqqqpyn0AAAAAAAHOfQFVVVVVVc59Aq6qqqqpzn0AAAAAAAHSfQFVVVVVVdJ9Aq6qqqqp0n0AAAAAAAHWfQFVVVVVVdZ9Aq6qqqqp1n0AAAAAAAHafQFVVVVVVdp9Aq6qqqqp2n0AAAAAAAHefQFVVVVVVd59Aq6qqqqp3n0AAAAAAAHifQFVVVVVVeJ9Aq6qqqqp4n0AAAAAAAHmfQFVVVVVVeZ9Aq6qqqqp5n0AAAAAAAHqfQFVVVVVVep9Aq6qqqqp6n0AAAAAAAHufQFVVVVVVe59Aq6qqqqp7n0AAAAAAAHyfQFVVVVVVfJ9Aq6qqqqp8n0AAAAAAAH2fQFVVVVVVfZ9Aq6qqqqp9n0AAAAAAAH6fQFVVVVVVfp9Aq6qqqqp+n0AAAAAAAH+fQFVVVVVVf59Aq6qqqqp/n0AAAAAAAICfQFVVVVVVgJ9Aq6qqqqqAn0AAAAAAAIGfQFVVVVVVgZ9Aq6qqqqqBn0AAAAAAAIKfQFVVVVVVgp9Aq6qqqqqCn0AAAAAAAIOfQFVVVVVVg59Aq6qqqqqDn0AAAAAAAISfQFVVVVVVhJ9Aq6qqqqqEn0AAAAAAAIWfQFVVVVVVhZ9Aq6qqqqqFn0AAAAAAAIafQFVVVVVVhp9Aq6qqqqqGn0AAAAAAAIefQFVVVVVVh59Aq6qqqqqHn0AAAAAAAIifQFVVVVVViJ9Aq6qqqqqIn0AAAAAAAImfQFVVVVVViZ9Aq6qqqqqJn0AAAAAAAIqfQFVVVVVVip9Aq6qqqqqKn0AAAAAAAIufQFVVVVVVi59Aq6qqqqqLn0AAAAAAAIyfQFVVVVVVjJ9Aq6qqqqqMn0AAAAAAAI2fQFVVVVVVjZ9Aq6qqqqqNn0AAAAAAAI6fQFVVVVVVjp9Aq6qqqqqOn0AAAAAAAI+fQA==\",\"dtype\":\"float64\",\"shape\":[104]},\"Variable\":[\"Python\",\"Python\",\"Python\",\"Python\",\"Python\",\"Python\",\"Python\",\"Python\",\"Python\",\"Python\",\"Python\",\"Python\",\"Python\",\"Python\",\"Python\",\"Python\",\"Python\",\"Python\",\"Python\",\"Python\",\"Python\",\"Python\",\"Python\",\"Python\",\"Python\",\"Python\",\"Python\",\"Python\",\"Python\",\"Python\",\"Python\",\"Python\",\"Python\",\"Python\",\"Python\",\"Python\",\"Python\",\"Python\",\"Python\",\"Python\",\"Python\",\"Python\",\"Python\",\"Python\",\"Python\",\"Python\",\"Python\",\"Python\",\"Python\",\"Python\",\"Python\",\"Python\",\"Python\",\"Python\",\"Python\",\"Python\",\"Python\",\"Python\",\"Python\",\"Python\",\"Python\",\"Python\",\"Python\",\"Python\",\"Python\",\"Python\",\"Python\",\"Python\",\"Python\",\"Python\",\"Python\",\"Python\",\"Python\",\"Python\",\"Python\",\"Python\",\"Python\",\"Python\",\"Python\",\"Python\",\"Python\",\"Python\",\"Python\",\"Python\",\"Python\",\"Python\",\"Python\",\"Python\",\"Python\",\"Python\",\"Python\",\"Python\",\"Python\",\"Python\",\"Python\",\"Python\",\"Python\",\"Python\",\"Python\",\"Python\",\"Python\",\"Python\",\"Python\",\"Python\"],\"value\":[5,5,9,10,11,13,15,16,17,19,19,20,21,21,23,24,24,25,27,32,34,39,43,44,46,48,48,49,53,53,53,55,55,57,58,61,62,63,66,70,72,75,77,79,81,84,91,99,114,125,145,157,170,174,183,190,200,211,219,230,240,256,271,287,308,338,375,389,414,435,461,491,523,553,587,622,672,719,764,794,842,896,933,973,1023,1084,1139,1207,1261,1324,1396,1457,1540,1616,1690,1772,1855,1983,2069,2169,2271,2414,2489,2497]},\"selected\":{\"id\":\"8341\",\"type\":\"Selection\"},\"selection_policy\":{\"id\":\"8404\",\"type\":\"UnionRenderers\"}},\"id\":\"8340\",\"type\":\"ColumnDataSource\"},{\"attributes\":{\"line_alpha\":0.2,\"line_color\":\"#ff7f0e\",\"line_width\":2,\"x\":{\"field\":\"Created\"},\"y\":{\"field\":\"value\"}},\"id\":\"8413\",\"type\":\"Line\"},{\"attributes\":{\"callback\":null,\"data\":{\"Created\":{\"__ndarray__\":\"AAAAAABmn0BVVVVVVWafQKuqqqqqZp9AAAAAAABnn0CrqqqqqmifQAAAAAAAaZ9AVVVVVVVpn0AAAAAAAGqfQFVVVVVVap9Aq6qqqqpqn0AAAAAAAGufQKuqqqqqa59AVVVVVVVsn0AAAAAAAG2fQAAAAAAAbp9AVVVVVVVxn0CrqqqqqnGfQFVVVVVVcp9Aq6qqqqpyn0AAAAAAAHOfQFVVVVVVc59Aq6qqqqpzn0AAAAAAAHSfQFVVVVVVdJ9Aq6qqqqp0n0AAAAAAAHWfQFVVVVVVdZ9Aq6qqqqp1n0AAAAAAAHafQFVVVVVVdp9Aq6qqqqp2n0AAAAAAAHefQFVVVVVVd59Aq6qqqqp3n0AAAAAAAHifQFVVVVVVeJ9Aq6qqqqp4n0AAAAAAAHmfQFVVVVVVeZ9Aq6qqqqp5n0AAAAAAAHqfQFVVVVVVep9Aq6qqqqp6n0AAAAAAAHufQFVVVVVVe59Aq6qqqqp7n0AAAAAAAHyfQFVVVVVVfJ9Aq6qqqqp8n0AAAAAAAH2fQFVVVVVVfZ9Aq6qqqqp9n0AAAAAAAH6fQFVVVVVVfp9Aq6qqqqp+n0AAAAAAAH+fQFVVVVVVf59Aq6qqqqp/n0AAAAAAAICfQFVVVVVVgJ9Aq6qqqqqAn0AAAAAAAIGfQFVVVVVVgZ9Aq6qqqqqBn0AAAAAAAIKfQFVVVVVVgp9Aq6qqqqqCn0AAAAAAAIOfQFVVVVVVg59Aq6qqqqqDn0AAAAAAAISfQFVVVVVVhJ9Aq6qqqqqEn0AAAAAAAIWfQFVVVVVVhZ9Aq6qqqqqFn0AAAAAAAIafQFVVVVVVhp9Aq6qqqqqGn0AAAAAAAIefQFVVVVVVh59Aq6qqqqqHn0AAAAAAAIifQFVVVVVViJ9Aq6qqqqqIn0AAAAAAAImfQFVVVVVViZ9Aq6qqqqqJn0AAAAAAAIqfQFVVVVVVip9Aq6qqqqqKn0AAAAAAAIufQFVVVVVVi59Aq6qqqqqLn0AAAAAAAIyfQFVVVVVVjJ9Aq6qqqqqMn0AAAAAAAI2fQFVVVVVVjZ9Aq6qqqqqNn0AAAAAAAI6fQFVVVVVVjp9Aq6qqqqqOn0AAAAAAAI+fQA==\",\"dtype\":\"float64\",\"shape\":[104]},\"Variable\":[\"R\",\"R\",\"R\",\"R\",\"R\",\"R\",\"R\",\"R\",\"R\",\"R\",\"R\",\"R\",\"R\",\"R\",\"R\",\"R\",\"R\",\"R\",\"R\",\"R\",\"R\",\"R\",\"R\",\"R\",\"R\",\"R\",\"R\",\"R\",\"R\",\"R\",\"R\",\"R\",\"R\",\"R\",\"R\",\"R\",\"R\",\"R\",\"R\",\"R\",\"R\",\"R\",\"R\",\"R\",\"R\",\"R\",\"R\",\"R\",\"R\",\"R\",\"R\",\"R\",\"R\",\"R\",\"R\",\"R\",\"R\",\"R\",\"R\",\"R\",\"R\",\"R\",\"R\",\"R\",\"R\",\"R\",\"R\",\"R\",\"R\",\"R\",\"R\",\"R\",\"R\",\"R\",\"R\",\"R\",\"R\",\"R\",\"R\",\"R\",\"R\",\"R\",\"R\",\"R\",\"R\",\"R\",\"R\",\"R\",\"R\",\"R\",\"R\",\"R\",\"R\",\"R\",\"R\",\"R\",\"R\",\"R\",\"R\",\"R\",\"R\",\"R\",\"R\",\"R\"],\"value\":[0,0,0,0,0,0,0,0,0,0,0,0,0,0,0,0,0,0,0,0,0,0,0,0,0,0,0,0,0,0,0,1,1,1,1,1,1,1,3,4,5,5,5,6,7,8,8,10,11,11,11,12,12,14,15,16,16,16,16,18,19,20,22,22,26,29,33,35,38,40,42,46,47,56,59,68,78,81,87,88,90,96,98,100,105,110,123,129,137,155,164,173,182,190,196,199,211,219,221,232,239,252,255,255]},\"selected\":{\"id\":\"8374\",\"type\":\"Selection\"},\"selection_policy\":{\"id\":\"8441\",\"type\":\"UnionRenderers\"}},\"id\":\"8373\",\"type\":\"ColumnDataSource\"},{\"attributes\":{\"line_alpha\":0.1,\"line_color\":\"#ff7f0e\",\"line_width\":2,\"x\":{\"field\":\"Created\"},\"y\":{\"field\":\"value\"}},\"id\":\"8412\",\"type\":\"Line\"},{\"attributes\":{},\"id\":\"8128\",\"type\":\"BasicTickFormatter\"},{\"attributes\":{\"ticker\":null},\"id\":\"8130\",\"type\":\"LogTickFormatter\"},{\"attributes\":{\"line_alpha\":0.1,\"line_color\":\"#7f7f7f\",\"line_width\":2,\"x\":{\"field\":\"Created\"},\"y\":{\"field\":\"value\"}},\"id\":\"8284\",\"type\":\"Line\"},{\"attributes\":{\"callback\":null,\"data\":{\"Created\":{\"__ndarray__\":\"AAAAAABmn0BVVVVVVWafQKuqqqqqZp9AAAAAAABnn0CrqqqqqmifQAAAAAAAaZ9AVVVVVVVpn0AAAAAAAGqfQFVVVVVVap9Aq6qqqqpqn0AAAAAAAGufQKuqqqqqa59AVVVVVVVsn0AAAAAAAG2fQAAAAAAAbp9AVVVVVVVxn0CrqqqqqnGfQFVVVVVVcp9Aq6qqqqpyn0AAAAAAAHOfQFVVVVVVc59Aq6qqqqpzn0AAAAAAAHSfQFVVVVVVdJ9Aq6qqqqp0n0AAAAAAAHWfQFVVVVVVdZ9Aq6qqqqp1n0AAAAAAAHafQFVVVVVVdp9Aq6qqqqp2n0AAAAAAAHefQFVVVVVVd59Aq6qqqqp3n0AAAAAAAHifQFVVVVVVeJ9Aq6qqqqp4n0AAAAAAAHmfQFVVVVVVeZ9Aq6qqqqp5n0AAAAAAAHqfQFVVVVVVep9Aq6qqqqp6n0AAAAAAAHufQFVVVVVVe59Aq6qqqqp7n0AAAAAAAHyfQFVVVVVVfJ9Aq6qqqqp8n0AAAAAAAH2fQFVVVVVVfZ9Aq6qqqqp9n0AAAAAAAH6fQFVVVVVVfp9Aq6qqqqp+n0AAAAAAAH+fQFVVVVVVf59Aq6qqqqp/n0AAAAAAAICfQFVVVVVVgJ9Aq6qqqqqAn0AAAAAAAIGfQFVVVVVVgZ9Aq6qqqqqBn0AAAAAAAIKfQFVVVVVVgp9Aq6qqqqqCn0AAAAAAAIOfQFVVVVVVg59Aq6qqqqqDn0AAAAAAAISfQFVVVVVVhJ9Aq6qqqqqEn0AAAAAAAIWfQFVVVVVVhZ9Aq6qqqqqFn0AAAAAAAIafQFVVVVVVhp9Aq6qqqqqGn0AAAAAAAIefQFVVVVVVh59Aq6qqqqqHn0AAAAAAAIifQFVVVVVViJ9Aq6qqqqqIn0AAAAAAAImfQFVVVVVViZ9Aq6qqqqqJn0AAAAAAAIqfQFVVVVVVip9Aq6qqqqqKn0AAAAAAAIufQFVVVVVVi59Aq6qqqqqLn0AAAAAAAIyfQFVVVVVVjJ9Aq6qqqqqMn0AAAAAAAI2fQFVVVVVVjZ9Aq6qqqqqNn0AAAAAAAI6fQFVVVVVVjp9Aq6qqqqqOn0AAAAAAAI+fQA==\",\"dtype\":\"float64\",\"shape\":[104]},\"Variable\":[\"Perl\",\"Perl\",\"Perl\",\"Perl\",\"Perl\",\"Perl\",\"Perl\",\"Perl\",\"Perl\",\"Perl\",\"Perl\",\"Perl\",\"Perl\",\"Perl\",\"Perl\",\"Perl\",\"Perl\",\"Perl\",\"Perl\",\"Perl\",\"Perl\",\"Perl\",\"Perl\",\"Perl\",\"Perl\",\"Perl\",\"Perl\",\"Perl\",\"Perl\",\"Perl\",\"Perl\",\"Perl\",\"Perl\",\"Perl\",\"Perl\",\"Perl\",\"Perl\",\"Perl\",\"Perl\",\"Perl\",\"Perl\",\"Perl\",\"Perl\",\"Perl\",\"Perl\",\"Perl\",\"Perl\",\"Perl\",\"Perl\",\"Perl\",\"Perl\",\"Perl\",\"Perl\",\"Perl\",\"Perl\",\"Perl\",\"Perl\",\"Perl\",\"Perl\",\"Perl\",\"Perl\",\"Perl\",\"Perl\",\"Perl\",\"Perl\",\"Perl\",\"Perl\",\"Perl\",\"Perl\",\"Perl\",\"Perl\",\"Perl\",\"Perl\",\"Perl\",\"Perl\",\"Perl\",\"Perl\",\"Perl\",\"Perl\",\"Perl\",\"Perl\",\"Perl\",\"Perl\",\"Perl\",\"Perl\",\"Perl\",\"Perl\",\"Perl\",\"Perl\",\"Perl\",\"Perl\",\"Perl\",\"Perl\",\"Perl\",\"Perl\",\"Perl\",\"Perl\",\"Perl\",\"Perl\",\"Perl\",\"Perl\",\"Perl\",\"Perl\",\"Perl\"],\"value\":[0,0,1,1,1,1,1,1,1,1,1,1,1,1,1,1,1,1,2,2,3,3,3,3,3,3,4,5,5,5,5,6,6,6,6,6,6,6,6,7,7,7,8,8,9,9,10,11,11,12,14,14,14,14,14,14,14,15,15,15,15,15,15,15,18,21,21,21,23,24,26,27,29,31,38,40,43,46,48,48,50,51,53,55,61,64,68,73,78,81,81,81,84,86,90,91,96,106,109,115,122,129,133,133]},\"selected\":{\"id\":\"8310\",\"type\":\"Selection\"},\"selection_policy\":{\"id\":\"8369\",\"type\":\"UnionRenderers\"}},\"id\":\"8309\",\"type\":\"ColumnDataSource\"},{\"attributes\":{},\"id\":\"8133\",\"type\":\"Selection\"},{\"attributes\":{},\"id\":\"8369\",\"type\":\"UnionRenderers\"},{\"attributes\":{},\"id\":\"8116\",\"type\":\"SaveTool\"},{\"attributes\":{\"line_alpha\":0.1,\"line_color\":\"#1f77b4\",\"line_width\":2,\"x\":{\"field\":\"Created\"},\"y\":{\"field\":\"value\"}},\"id\":\"8136\",\"type\":\"Line\"},{\"attributes\":{},\"id\":\"8441\",\"type\":\"UnionRenderers\"},{\"attributes\":{\"source\":{\"id\":\"8373\",\"type\":\"ColumnDataSource\"}},\"id\":\"8380\",\"type\":\"CDSView\"},{\"attributes\":{\"label\":{\"value\":\"Visual Basic\"},\"renderers\":[{\"id\":\"8414\",\"type\":\"GlyphRenderer\"}]},\"id\":\"8444\",\"type\":\"LegendItem\"},{\"attributes\":{\"grid_line_color\":null,\"ticker\":{\"id\":\"8107\",\"type\":\"BasicTicker\"}},\"id\":\"8110\",\"type\":\"Grid\"},{\"attributes\":{\"active_drag\":\"auto\",\"active_inspect\":\"auto\",\"active_multi\":null,\"active_scroll\":\"auto\",\"active_tap\":\"auto\",\"tools\":[{\"id\":\"8085\",\"type\":\"HoverTool\"},{\"id\":\"8116\",\"type\":\"SaveTool\"},{\"id\":\"8117\",\"type\":\"PanTool\"},{\"id\":\"8118\",\"type\":\"WheelZoomTool\"},{\"id\":\"8119\",\"type\":\"BoxZoomTool\"},{\"id\":\"8120\",\"type\":\"ResetTool\"}]},\"id\":\"8121\",\"type\":\"Toolbar\"},{\"attributes\":{\"callback\":null,\"data\":{\"Created\":{\"__ndarray__\":\"AAAAAABmn0BVVVVVVWafQKuqqqqqZp9AAAAAAABnn0CrqqqqqmifQAAAAAAAaZ9AVVVVVVVpn0AAAAAAAGqfQFVVVVVVap9Aq6qqqqpqn0AAAAAAAGufQKuqqqqqa59AVVVVVVVsn0AAAAAAAG2fQAAAAAAAbp9AVVVVVVVxn0CrqqqqqnGfQFVVVVVVcp9Aq6qqqqpyn0AAAAAAAHOfQFVVVVVVc59Aq6qqqqpzn0AAAAAAAHSfQFVVVVVVdJ9Aq6qqqqp0n0AAAAAAAHWfQFVVVVVVdZ9Aq6qqqqp1n0AAAAAAAHafQFVVVVVVdp9Aq6qqqqp2n0AAAAAAAHefQFVVVVVVd59Aq6qqqqp3n0AAAAAAAHifQFVVVVVVeJ9Aq6qqqqp4n0AAAAAAAHmfQFVVVVVVeZ9Aq6qqqqp5n0AAAAAAAHqfQFVVVVVVep9Aq6qqqqp6n0AAAAAAAHufQFVVVVVVe59Aq6qqqqp7n0AAAAAAAHyfQFVVVVVVfJ9Aq6qqqqp8n0AAAAAAAH2fQFVVVVVVfZ9Aq6qqqqp9n0AAAAAAAH6fQFVVVVVVfp9Aq6qqqqp+n0AAAAAAAH+fQFVVVVVVf59Aq6qqqqp/n0AAAAAAAICfQFVVVVVVgJ9Aq6qqqqqAn0AAAAAAAIGfQFVVVVVVgZ9Aq6qqqqqBn0AAAAAAAIKfQFVVVVVVgp9Aq6qqqqqCn0AAAAAAAIOfQFVVVVVVg59Aq6qqqqqDn0AAAAAAAISfQFVVVVVVhJ9Aq6qqqqqEn0AAAAAAAIWfQFVVVVVVhZ9Aq6qqqqqFn0AAAAAAAIafQFVVVVVVhp9Aq6qqqqqGn0AAAAAAAIefQFVVVVVVh59Aq6qqqqqHn0AAAAAAAIifQFVVVVVViJ9Aq6qqqqqIn0AAAAAAAImfQFVVVVVViZ9Aq6qqqqqJn0AAAAAAAIqfQFVVVVVVip9Aq6qqqqqKn0AAAAAAAIufQFVVVVVVi59Aq6qqqqqLn0AAAAAAAIyfQFVVVVVVjJ9Aq6qqqqqMn0AAAAAAAI2fQFVVVVVVjZ9Aq6qqqqqNn0AAAAAAAI6fQFVVVVVVjp9Aq6qqqqqOn0AAAAAAAI+fQA==\",\"dtype\":\"float64\",\"shape\":[104]},\"Variable\":[\"Java\",\"Java\",\"Java\",\"Java\",\"Java\",\"Java\",\"Java\",\"Java\",\"Java\",\"Java\",\"Java\",\"Java\",\"Java\",\"Java\",\"Java\",\"Java\",\"Java\",\"Java\",\"Java\",\"Java\",\"Java\",\"Java\",\"Java\",\"Java\",\"Java\",\"Java\",\"Java\",\"Java\",\"Java\",\"Java\",\"Java\",\"Java\",\"Java\",\"Java\",\"Java\",\"Java\",\"Java\",\"Java\",\"Java\",\"Java\",\"Java\",\"Java\",\"Java\",\"Java\",\"Java\",\"Java\",\"Java\",\"Java\",\"Java\",\"Java\",\"Java\",\"Java\",\"Java\",\"Java\",\"Java\",\"Java\",\"Java\",\"Java\",\"Java\",\"Java\",\"Java\",\"Java\",\"Java\",\"Java\",\"Java\",\"Java\",\"Java\",\"Java\",\"Java\",\"Java\",\"Java\",\"Java\",\"Java\",\"Java\",\"Java\",\"Java\",\"Java\",\"Java\",\"Java\",\"Java\",\"Java\",\"Java\",\"Java\",\"Java\",\"Java\",\"Java\",\"Java\",\"Java\",\"Java\",\"Java\",\"Java\",\"Java\",\"Java\",\"Java\",\"Java\",\"Java\",\"Java\",\"Java\",\"Java\",\"Java\",\"Java\",\"Java\",\"Java\",\"Java\"],\"value\":[0,0,1,1,2,2,2,2,2,3,3,3,3,3,3,3,3,3,3,3,3,3,3,3,3,3,3,3,4,4,4,5,5,5,5,5,5,5,5,9,9,9,9,9,10,10,10,13,13,13,13,13,14,16,16,16,21,23,24,25,26,28,30,32,36,38,48,54,58,58,64,67,74,85,91,99,103,109,122,130,140,150,160,172,190,208,218,238,245,261,270,286,298,305,321,338,355,372,383,402,427,441,460,460]},\"selected\":{\"id\":\"8206\",\"type\":\"Selection\"},\"selection_policy\":{\"id\":\"8249\",\"type\":\"UnionRenderers\"}},\"id\":\"8205\",\"type\":\"ColumnDataSource\"},{\"attributes\":{\"line_alpha\":0.2,\"line_color\":\"#2ca02c\",\"line_width\":2,\"x\":{\"field\":\"Created\"},\"y\":{\"field\":\"value\"}},\"id\":\"8170\",\"type\":\"Line\"},{\"attributes\":{},\"id\":\"8102\",\"type\":\"LinearScale\"},{\"attributes\":{\"data_source\":{\"id\":\"8132\",\"type\":\"ColumnDataSource\"},\"glyph\":{\"id\":\"8135\",\"type\":\"Line\"},\"hover_glyph\":null,\"muted_glyph\":{\"id\":\"8137\",\"type\":\"Line\"},\"nonselection_glyph\":{\"id\":\"8136\",\"type\":\"Line\"},\"selection_glyph\":null,\"view\":{\"id\":\"8139\",\"type\":\"CDSView\"}},\"id\":\"8138\",\"type\":\"GlyphRenderer\"},{\"attributes\":{\"line_alpha\":0.1,\"line_color\":\"#d62728\",\"line_width\":2,\"x\":{\"field\":\"Created\"},\"y\":{\"field\":\"value\"}},\"id\":\"8188\",\"type\":\"Line\"},{\"attributes\":{\"label\":{\"value\":\"R\"},\"renderers\":[{\"id\":\"8379\",\"type\":\"GlyphRenderer\"}]},\"id\":\"8407\",\"type\":\"LegendItem\"},{\"attributes\":{},\"id\":\"8161\",\"type\":\"UnionRenderers\"},{\"attributes\":{\"line_alpha\":0.2,\"line_color\":\"#7f7f7f\",\"line_width\":2,\"x\":{\"field\":\"Created\"},\"y\":{\"field\":\"value\"}},\"id\":\"8285\",\"type\":\"Line\"},{\"attributes\":{},\"id\":\"8276\",\"type\":\"UnionRenderers\"},{\"attributes\":{\"line_color\":\"#2ca02c\",\"line_width\":2,\"x\":{\"field\":\"Created\"},\"y\":{\"field\":\"value\"}},\"id\":\"8168\",\"type\":\"Line\"},{\"attributes\":{\"line_alpha\":0.2,\"line_color\":\"#17becf\",\"line_width\":2,\"x\":{\"field\":\"Created\"},\"y\":{\"field\":\"value\"}},\"id\":\"8345\",\"type\":\"Line\"},{\"attributes\":{\"callback\":null,\"data\":{\"Created\":{\"__ndarray__\":\"AAAAAABmn0BVVVVVVWafQKuqqqqqZp9AAAAAAABnn0CrqqqqqmifQAAAAAAAaZ9AVVVVVVVpn0AAAAAAAGqfQFVVVVVVap9Aq6qqqqpqn0AAAAAAAGufQKuqqqqqa59AVVVVVVVsn0AAAAAAAG2fQAAAAAAAbp9AVVVVVVVxn0CrqqqqqnGfQFVVVVVVcp9Aq6qqqqpyn0AAAAAAAHOfQFVVVVVVc59Aq6qqqqpzn0AAAAAAAHSfQFVVVVVVdJ9Aq6qqqqp0n0AAAAAAAHWfQFVVVVVVdZ9Aq6qqqqp1n0AAAAAAAHafQFVVVVVVdp9Aq6qqqqp2n0AAAAAAAHefQFVVVVVVd59Aq6qqqqp3n0AAAAAAAHifQFVVVVVVeJ9Aq6qqqqp4n0AAAAAAAHmfQFVVVVVVeZ9Aq6qqqqp5n0AAAAAAAHqfQFVVVVVVep9Aq6qqqqp6n0AAAAAAAHufQFVVVVVVe59Aq6qqqqp7n0AAAAAAAHyfQFVVVVVVfJ9Aq6qqqqp8n0AAAAAAAH2fQFVVVVVVfZ9Aq6qqqqp9n0AAAAAAAH6fQFVVVVVVfp9Aq6qqqqp+n0AAAAAAAH+fQFVVVVVVf59Aq6qqqqp/n0AAAAAAAICfQFVVVVVVgJ9Aq6qqqqqAn0AAAAAAAIGfQFVVVVVVgZ9Aq6qqqqqBn0AAAAAAAIKfQFVVVVVVgp9Aq6qqqqqCn0AAAAAAAIOfQFVVVVVVg59Aq6qqqqqDn0AAAAAAAISfQFVVVVVVhJ9Aq6qqqqqEn0AAAAAAAIWfQFVVVVVVhZ9Aq6qqqqqFn0AAAAAAAIafQFVVVVVVhp9Aq6qqqqqGn0AAAAAAAIefQFVVVVVVh59Aq6qqqqqHn0AAAAAAAIifQFVVVVVViJ9Aq6qqqqqIn0AAAAAAAImfQFVVVVVViZ9Aq6qqqqqJn0AAAAAAAIqfQFVVVVVVip9Aq6qqqqqKn0AAAAAAAIufQFVVVVVVi59Aq6qqqqqLn0AAAAAAAIyfQFVVVVVVjJ9Aq6qqqqqMn0AAAAAAAI2fQFVVVVVVjZ9Aq6qqqqqNn0AAAAAAAI6fQFVVVVVVjp9Aq6qqqqqOn0AAAAAAAI+fQA==\",\"dtype\":\"float64\",\"shape\":[104]},\"Variable\":[\"C\",\"C\",\"C\",\"C\",\"C\",\"C\",\"C\",\"C\",\"C\",\"C\",\"C\",\"C\",\"C\",\"C\",\"C\",\"C\",\"C\",\"C\",\"C\",\"C\",\"C\",\"C\",\"C\",\"C\",\"C\",\"C\",\"C\",\"C\",\"C\",\"C\",\"C\",\"C\",\"C\",\"C\",\"C\",\"C\",\"C\",\"C\",\"C\",\"C\",\"C\",\"C\",\"C\",\"C\",\"C\",\"C\",\"C\",\"C\",\"C\",\"C\",\"C\",\"C\",\"C\",\"C\",\"C\",\"C\",\"C\",\"C\",\"C\",\"C\",\"C\",\"C\",\"C\",\"C\",\"C\",\"C\",\"C\",\"C\",\"C\",\"C\",\"C\",\"C\",\"C\",\"C\",\"C\",\"C\",\"C\",\"C\",\"C\",\"C\",\"C\",\"C\",\"C\",\"C\",\"C\",\"C\",\"C\",\"C\",\"C\",\"C\",\"C\",\"C\",\"C\",\"C\",\"C\",\"C\",\"C\",\"C\",\"C\",\"C\",\"C\",\"C\",\"C\",\"C\"],\"value\":[0,0,1,1,1,1,1,2,2,2,2,2,2,2,2,2,2,2,4,4,5,5,5,5,5,5,5,6,8,8,8,9,9,9,10,11,11,11,11,13,13,13,15,16,18,18,21,25,29,30,31,38,40,41,41,42,43,48,50,52,55,60,63,64,70,74,82,82,86,87,97,105,114,120,139,155,169,185,198,205,219,229,239,252,266,286,306,314,323,335,344,347,365,380,389,397,412,444,465,493,512,539,557,558]},\"selected\":{\"id\":\"8133\",\"type\":\"Selection\"},\"selection_policy\":{\"id\":\"8161\",\"type\":\"UnionRenderers\"}},\"id\":\"8132\",\"type\":\"ColumnDataSource\"},{\"attributes\":{\"source\":{\"id\":\"8408\",\"type\":\"ColumnDataSource\"}},\"id\":\"8415\",\"type\":\"CDSView\"},{\"attributes\":{\"callback\":null,\"data\":{\"Created\":{\"__ndarray__\":\"AAAAAABmn0BVVVVVVWafQKuqqqqqZp9AAAAAAABnn0CrqqqqqmifQAAAAAAAaZ9AVVVVVVVpn0AAAAAAAGqfQFVVVVVVap9Aq6qqqqpqn0AAAAAAAGufQKuqqqqqa59AVVVVVVVsn0AAAAAAAG2fQAAAAAAAbp9AVVVVVVVxn0CrqqqqqnGfQFVVVVVVcp9Aq6qqqqpyn0AAAAAAAHOfQFVVVVVVc59Aq6qqqqpzn0AAAAAAAHSfQFVVVVVVdJ9Aq6qqqqp0n0AAAAAAAHWfQFVVVVVVdZ9Aq6qqqqp1n0AAAAAAAHafQFVVVVVVdp9Aq6qqqqp2n0AAAAAAAHefQFVVVVVVd59Aq6qqqqp3n0AAAAAAAHifQFVVVVVVeJ9Aq6qqqqp4n0AAAAAAAHmfQFVVVVVVeZ9Aq6qqqqp5n0AAAAAAAHqfQFVVVVVVep9Aq6qqqqp6n0AAAAAAAHufQFVVVVVVe59Aq6qqqqp7n0AAAAAAAHyfQFVVVVVVfJ9Aq6qqqqp8n0AAAAAAAH2fQFVVVVVVfZ9Aq6qqqqp9n0AAAAAAAH6fQFVVVVVVfp9Aq6qqqqp+n0AAAAAAAH+fQFVVVVVVf59Aq6qqqqp/n0AAAAAAAICfQFVVVVVVgJ9Aq6qqqqqAn0AAAAAAAIGfQFVVVVVVgZ9Aq6qqqqqBn0AAAAAAAIKfQFVVVVVVgp9Aq6qqqqqCn0AAAAAAAIOfQFVVVVVVg59Aq6qqqqqDn0AAAAAAAISfQFVVVVVVhJ9Aq6qqqqqEn0AAAAAAAIWfQFVVVVVVhZ9Aq6qqqqqFn0AAAAAAAIafQFVVVVVVhp9Aq6qqqqqGn0AAAAAAAIefQFVVVVVVh59Aq6qqqqqHn0AAAAAAAIifQFVVVVVViJ9Aq6qqqqqIn0AAAAAAAImfQFVVVVVViZ9Aq6qqqqqJn0AAAAAAAIqfQFVVVVVVip9Aq6qqqqqKn0AAAAAAAIufQFVVVVVVi59Aq6qqqqqLn0AAAAAAAIyfQFVVVVVVjJ9Aq6qqqqqMn0AAAAAAAI2fQFVVVVVVjZ9Aq6qqqqqNn0AAAAAAAI6fQFVVVVVVjp9Aq6qqqqqOn0AAAAAAAI+fQA==\",\"dtype\":\"float64\",\"shape\":[104]},\"Variable\":[\"Fortran\",\"Fortran\",\"Fortran\",\"Fortran\",\"Fortran\",\"Fortran\",\"Fortran\",\"Fortran\",\"Fortran\",\"Fortran\",\"Fortran\",\"Fortran\",\"Fortran\",\"Fortran\",\"Fortran\",\"Fortran\",\"Fortran\",\"Fortran\",\"Fortran\",\"Fortran\",\"Fortran\",\"Fortran\",\"Fortran\",\"Fortran\",\"Fortran\",\"Fortran\",\"Fortran\",\"Fortran\",\"Fortran\",\"Fortran\",\"Fortran\",\"Fortran\",\"Fortran\",\"Fortran\",\"Fortran\",\"Fortran\",\"Fortran\",\"Fortran\",\"Fortran\",\"Fortran\",\"Fortran\",\"Fortran\",\"Fortran\",\"Fortran\",\"Fortran\",\"Fortran\",\"Fortran\",\"Fortran\",\"Fortran\",\"Fortran\",\"Fortran\",\"Fortran\",\"Fortran\",\"Fortran\",\"Fortran\",\"Fortran\",\"Fortran\",\"Fortran\",\"Fortran\",\"Fortran\",\"Fortran\",\"Fortran\",\"Fortran\",\"Fortran\",\"Fortran\",\"Fortran\",\"Fortran\",\"Fortran\",\"Fortran\",\"Fortran\",\"Fortran\",\"Fortran\",\"Fortran\",\"Fortran\",\"Fortran\",\"Fortran\",\"Fortran\",\"Fortran\",\"Fortran\",\"Fortran\",\"Fortran\",\"Fortran\",\"Fortran\",\"Fortran\",\"Fortran\",\"Fortran\",\"Fortran\",\"Fortran\",\"Fortran\",\"Fortran\",\"Fortran\",\"Fortran\",\"Fortran\",\"Fortran\",\"Fortran\",\"Fortran\",\"Fortran\",\"Fortran\",\"Fortran\",\"Fortran\",\"Fortran\",\"Fortran\",\"Fortran\",\"Fortran\"],\"value\":[0,0,0,0,1,1,1,2,2,2,3,4,4,4,4,4,4,4,4,4,4,4,4,4,4,4,4,4,4,4,4,4,4,4,4,4,4,4,4,5,5,5,5,5,6,6,6,8,9,9,10,11,14,14,14,14,15,16,17,18,18,19,20,20,21,21,21,21,22,23,23,26,30,30,33,38,40,42,47,49,53,57,61,62,64,67,70,75,79,79,82,84,89,93,94,97,103,108,115,125,132,136,139,139]},\"selected\":{\"id\":\"8166\",\"type\":\"Selection\"},\"selection_policy\":{\"id\":\"8201\",\"type\":\"UnionRenderers\"}},\"id\":\"8165\",\"type\":\"ColumnDataSource\"},{\"attributes\":{},\"id\":\"8107\",\"type\":\"BasicTicker\"},{\"attributes\":{\"line_color\":\"#8c564b\",\"line_width\":2,\"x\":{\"field\":\"Created\"},\"y\":{\"field\":\"value\"}},\"id\":\"8231\",\"type\":\"Line\"},{\"attributes\":{\"line_color\":\"#17becf\",\"line_width\":2,\"x\":{\"field\":\"Created\"},\"y\":{\"field\":\"value\"}},\"id\":\"8343\",\"type\":\"Line\"},{\"attributes\":{},\"id\":\"8117\",\"type\":\"PanTool\"},{\"attributes\":{},\"id\":\"8180\",\"type\":\"UnionRenderers\"},{\"attributes\":{\"line_color\":\"#9467bd\",\"line_width\":2,\"x\":{\"field\":\"Created\"},\"y\":{\"field\":\"value\"}},\"id\":\"8208\",\"type\":\"Line\"},{\"attributes\":{\"num_minor_ticks\":10},\"id\":\"8112\",\"type\":\"LogTicker\"},{\"attributes\":{\"source\":{\"id\":\"8280\",\"type\":\"ColumnDataSource\"}},\"id\":\"8287\",\"type\":\"CDSView\"},{\"attributes\":{\"line_alpha\":0.2,\"line_color\":\"#1f77b4\",\"line_width\":2,\"x\":{\"field\":\"Created\"},\"y\":{\"field\":\"value\"}},\"id\":\"8137\",\"type\":\"Line\"},{\"attributes\":{\"line_alpha\":0.1,\"line_color\":\"#2ca02c\",\"line_width\":2,\"x\":{\"field\":\"Created\"},\"y\":{\"field\":\"value\"}},\"id\":\"8169\",\"type\":\"Line\"},{\"attributes\":{\"line_color\":\"#ff7f0e\",\"line_width\":2,\"x\":{\"field\":\"Created\"},\"y\":{\"field\":\"value\"}},\"id\":\"8411\",\"type\":\"Line\"},{\"attributes\":{\"overlay\":{\"id\":\"8145\",\"type\":\"BoxAnnotation\"}},\"id\":\"8119\",\"type\":\"BoxZoomTool\"},{\"attributes\":{},\"id\":\"8185\",\"type\":\"Selection\"},{\"attributes\":{\"axis_label\":\"\",\"bounds\":\"auto\",\"formatter\":{\"id\":\"8130\",\"type\":\"LogTickFormatter\"},\"major_label_orientation\":\"horizontal\",\"ticker\":{\"id\":\"8112\",\"type\":\"LogTicker\"}},\"id\":\"8111\",\"type\":\"LogAxis\"},{\"attributes\":{\"line_alpha\":0.1,\"line_color\":\"#1f77b4\",\"line_width\":2,\"x\":{\"field\":\"Created\"},\"y\":{\"field\":\"value\"}},\"id\":\"8377\",\"type\":\"Line\"},{\"attributes\":{\"data_source\":{\"id\":\"8205\",\"type\":\"ColumnDataSource\"},\"glyph\":{\"id\":\"8208\",\"type\":\"Line\"},\"hover_glyph\":null,\"muted_glyph\":{\"id\":\"8210\",\"type\":\"Line\"},\"nonselection_glyph\":{\"id\":\"8209\",\"type\":\"Line\"},\"selection_glyph\":null,\"view\":{\"id\":\"8212\",\"type\":\"CDSView\"}},\"id\":\"8211\",\"type\":\"GlyphRenderer\"},{\"attributes\":{\"source\":{\"id\":\"8340\",\"type\":\"ColumnDataSource\"}},\"id\":\"8347\",\"type\":\"CDSView\"},{\"attributes\":{},\"id\":\"8104\",\"type\":\"LogScale\"},{\"attributes\":{\"source\":{\"id\":\"8205\",\"type\":\"ColumnDataSource\"}},\"id\":\"8212\",\"type\":\"CDSView\"},{\"attributes\":{\"source\":{\"id\":\"8132\",\"type\":\"ColumnDataSource\"}},\"id\":\"8139\",\"type\":\"CDSView\"},{\"attributes\":{\"line_color\":\"#1f77b4\",\"line_width\":2,\"x\":{\"field\":\"Created\"},\"y\":{\"field\":\"value\"}},\"id\":\"8376\",\"type\":\"Line\"},{\"attributes\":{},\"id\":\"8166\",\"type\":\"Selection\"},{\"attributes\":{},\"id\":\"8120\",\"type\":\"ResetTool\"},{\"attributes\":{},\"id\":\"8341\",\"type\":\"Selection\"},{\"attributes\":{\"line_alpha\":0.2,\"line_color\":\"#1f77b4\",\"line_width\":2,\"x\":{\"field\":\"Created\"},\"y\":{\"field\":\"value\"}},\"id\":\"8378\",\"type\":\"Line\"},{\"attributes\":{\"data_source\":{\"id\":\"8373\",\"type\":\"ColumnDataSource\"},\"glyph\":{\"id\":\"8376\",\"type\":\"Line\"},\"hover_glyph\":null,\"muted_glyph\":{\"id\":\"8378\",\"type\":\"Line\"},\"nonselection_glyph\":{\"id\":\"8377\",\"type\":\"Line\"},\"selection_glyph\":null,\"view\":{\"id\":\"8380\",\"type\":\"CDSView\"}},\"id\":\"8379\",\"type\":\"GlyphRenderer\"},{\"attributes\":{\"line_alpha\":0.1,\"line_color\":\"#8c564b\",\"line_width\":2,\"x\":{\"field\":\"Created\"},\"y\":{\"field\":\"value\"}},\"id\":\"8232\",\"type\":\"Line\"},{\"attributes\":{\"data_source\":{\"id\":\"8280\",\"type\":\"ColumnDataSource\"},\"glyph\":{\"id\":\"8283\",\"type\":\"Line\"},\"hover_glyph\":null,\"muted_glyph\":{\"id\":\"8285\",\"type\":\"Line\"},\"nonselection_glyph\":{\"id\":\"8284\",\"type\":\"Line\"},\"selection_glyph\":null,\"view\":{\"id\":\"8287\",\"type\":\"CDSView\"}},\"id\":\"8286\",\"type\":\"GlyphRenderer\"},{\"attributes\":{\"line_color\":\"#ff7f0e\",\"line_width\":2,\"x\":{\"field\":\"Created\"},\"y\":{\"field\":\"value\"}},\"id\":\"8151\",\"type\":\"Line\"},{\"attributes\":{\"data_source\":{\"id\":\"8340\",\"type\":\"ColumnDataSource\"},\"glyph\":{\"id\":\"8343\",\"type\":\"Line\"},\"hover_glyph\":null,\"muted_glyph\":{\"id\":\"8345\",\"type\":\"Line\"},\"nonselection_glyph\":{\"id\":\"8344\",\"type\":\"Line\"},\"selection_glyph\":null,\"view\":{\"id\":\"8347\",\"type\":\"CDSView\"}},\"id\":\"8346\",\"type\":\"GlyphRenderer\"},{\"attributes\":{\"data_source\":{\"id\":\"8148\",\"type\":\"ColumnDataSource\"},\"glyph\":{\"id\":\"8151\",\"type\":\"Line\"},\"hover_glyph\":null,\"muted_glyph\":{\"id\":\"8153\",\"type\":\"Line\"},\"nonselection_glyph\":{\"id\":\"8152\",\"type\":\"Line\"},\"selection_glyph\":null,\"view\":{\"id\":\"8155\",\"type\":\"CDSView\"}},\"id\":\"8154\",\"type\":\"GlyphRenderer\"},{\"attributes\":{\"bottom_units\":\"screen\",\"fill_alpha\":{\"value\":0.5},\"fill_color\":{\"value\":\"lightgrey\"},\"left_units\":\"screen\",\"level\":\"overlay\",\"line_alpha\":{\"value\":1.0},\"line_color\":{\"value\":\"black\"},\"line_dash\":[4,4],\"line_width\":{\"value\":2},\"render_mode\":\"css\",\"right_units\":\"screen\",\"top_units\":\"screen\"},\"id\":\"8145\",\"type\":\"BoxAnnotation\"},{\"attributes\":{},\"id\":\"8149\",\"type\":\"Selection\"},{\"attributes\":{\"line_alpha\":0.1,\"line_color\":\"#ff7f0e\",\"line_width\":2,\"x\":{\"field\":\"Created\"},\"y\":{\"field\":\"value\"}},\"id\":\"8152\",\"type\":\"Line\"},{\"attributes\":{\"line_alpha\":0.1,\"line_color\":\"#17becf\",\"line_width\":2,\"x\":{\"field\":\"Created\"},\"y\":{\"field\":\"value\"}},\"id\":\"8344\",\"type\":\"Line\"},{\"attributes\":{},\"id\":\"8118\",\"type\":\"WheelZoomTool\"},{\"attributes\":{\"text\":\"\",\"text_color\":{\"value\":\"black\"},\"text_font_size\":{\"value\":\"12pt\"}},\"id\":\"8098\",\"type\":\"Title\"},{\"attributes\":{\"callback\":null,\"data\":{\"Created\":{\"__ndarray__\":\"AAAAAABmn0BVVVVVVWafQKuqqqqqZp9AAAAAAABnn0CrqqqqqmifQAAAAAAAaZ9AVVVVVVVpn0AAAAAAAGqfQFVVVVVVap9Aq6qqqqpqn0AAAAAAAGufQKuqqqqqa59AVVVVVVVsn0AAAAAAAG2fQAAAAAAAbp9AVVVVVVVxn0CrqqqqqnGfQFVVVVVVcp9Aq6qqqqpyn0AAAAAAAHOfQFVVVVVVc59Aq6qqqqpzn0AAAAAAAHSfQFVVVVVVdJ9Aq6qqqqp0n0AAAAAAAHWfQFVVVVVVdZ9Aq6qqqqp1n0AAAAAAAHafQFVVVVVVdp9Aq6qqqqp2n0AAAAAAAHefQFVVVVVVd59Aq6qqqqp3n0AAAAAAAHifQFVVVVVVeJ9Aq6qqqqp4n0AAAAAAAHmfQFVVVVVVeZ9Aq6qqqqp5n0AAAAAAAHqfQFVVVVVVep9Aq6qqqqp6n0AAAAAAAHufQFVVVVVVe59Aq6qqqqp7n0AAAAAAAHyfQFVVVVVVfJ9Aq6qqqqp8n0AAAAAAAH2fQFVVVVVVfZ9Aq6qqqqp9n0AAAAAAAH6fQFVVVVVVfp9Aq6qqqqp+n0AAAAAAAH+fQFVVVVVVf59Aq6qqqqp/n0AAAAAAAICfQFVVVVVVgJ9Aq6qqqqqAn0AAAAAAAIGfQFVVVVVVgZ9Aq6qqqqqBn0AAAAAAAIKfQFVVVVVVgp9Aq6qqqqqCn0AAAAAAAIOfQFVVVVVVg59Aq6qqqqqDn0AAAAAAAISfQFVVVVVVhJ9Aq6qqqqqEn0AAAAAAAIWfQFVVVVVVhZ9Aq6qqqqqFn0AAAAAAAIafQFVVVVVVhp9Aq6qqqqqGn0AAAAAAAIefQFVVVVVVh59Aq6qqqqqHn0AAAAAAAIifQFVVVVVViJ9Aq6qqqqqIn0AAAAAAAImfQFVVVVVViZ9Aq6qqqqqJn0AAAAAAAIqfQFVVVVVVip9Aq6qqqqqKn0AAAAAAAIufQFVVVVVVi59Aq6qqqqqLn0AAAAAAAIyfQFVVVVVVjJ9Aq6qqqqqMn0AAAAAAAI2fQFVVVVVVjZ9Aq6qqqqqNn0AAAAAAAI6fQFVVVVVVjp9Aq6qqqqqOn0AAAAAAAI+fQA==\",\"dtype\":\"float64\",\"shape\":[104]},\"Variable\":[\"Jupyter Notebook\",\"Jupyter Notebook\",\"Jupyter Notebook\",\"Jupyter Notebook\",\"Jupyter Notebook\",\"Jupyter Notebook\",\"Jupyter Notebook\",\"Jupyter Notebook\",\"Jupyter Notebook\",\"Jupyter Notebook\",\"Jupyter Notebook\",\"Jupyter Notebook\",\"Jupyter Notebook\",\"Jupyter Notebook\",\"Jupyter Notebook\",\"Jupyter Notebook\",\"Jupyter Notebook\",\"Jupyter Notebook\",\"Jupyter Notebook\",\"Jupyter Notebook\",\"Jupyter Notebook\",\"Jupyter Notebook\",\"Jupyter Notebook\",\"Jupyter Notebook\",\"Jupyter Notebook\",\"Jupyter Notebook\",\"Jupyter Notebook\",\"Jupyter Notebook\",\"Jupyter Notebook\",\"Jupyter Notebook\",\"Jupyter Notebook\",\"Jupyter Notebook\",\"Jupyter Notebook\",\"Jupyter Notebook\",\"Jupyter Notebook\",\"Jupyter Notebook\",\"Jupyter Notebook\",\"Jupyter Notebook\",\"Jupyter Notebook\",\"Jupyter Notebook\",\"Jupyter Notebook\",\"Jupyter Notebook\",\"Jupyter Notebook\",\"Jupyter Notebook\",\"Jupyter Notebook\",\"Jupyter Notebook\",\"Jupyter Notebook\",\"Jupyter Notebook\",\"Jupyter Notebook\",\"Jupyter Notebook\",\"Jupyter Notebook\",\"Jupyter Notebook\",\"Jupyter Notebook\",\"Jupyter Notebook\",\"Jupyter Notebook\",\"Jupyter Notebook\",\"Jupyter Notebook\",\"Jupyter Notebook\",\"Jupyter Notebook\",\"Jupyter Notebook\",\"Jupyter Notebook\",\"Jupyter Notebook\",\"Jupyter Notebook\",\"Jupyter Notebook\",\"Jupyter Notebook\",\"Jupyter Notebook\",\"Jupyter Notebook\",\"Jupyter Notebook\",\"Jupyter Notebook\",\"Jupyter Notebook\",\"Jupyter Notebook\",\"Jupyter Notebook\",\"Jupyter Notebook\",\"Jupyter Notebook\",\"Jupyter Notebook\",\"Jupyter Notebook\",\"Jupyter Notebook\",\"Jupyter Notebook\",\"Jupyter Notebook\",\"Jupyter Notebook\",\"Jupyter Notebook\",\"Jupyter Notebook\",\"Jupyter Notebook\",\"Jupyter Notebook\",\"Jupyter Notebook\",\"Jupyter Notebook\",\"Jupyter Notebook\",\"Jupyter Notebook\",\"Jupyter Notebook\",\"Jupyter Notebook\",\"Jupyter Notebook\",\"Jupyter Notebook\",\"Jupyter Notebook\",\"Jupyter Notebook\",\"Jupyter Notebook\",\"Jupyter Notebook\",\"Jupyter Notebook\",\"Jupyter Notebook\",\"Jupyter Notebook\",\"Jupyter Notebook\",\"Jupyter Notebook\",\"Jupyter Notebook\",\"Jupyter Notebook\",\"Jupyter Notebook\"],\"value\":[0,0,0,0,0,0,0,0,0,0,0,0,0,0,1,1,1,1,1,1,2,3,3,3,3,3,3,3,3,3,3,3,3,3,3,3,3,3,5,6,6,8,8,8,8,9,9,9,14,14,15,17,18,18,20,21,21,22,24,26,30,35,36,38,46,59,64,72,79,86,95,110,120,125,133,146,163,183,196,213,235,264,284,303,325,347,366,395,415,438,484,514,548,590,633,674,701,745,781,842,872,923,961,963]},\"selected\":{\"id\":\"8254\",\"type\":\"Selection\"},\"selection_policy\":{\"id\":\"8305\",\"type\":\"UnionRenderers\"}},\"id\":\"8253\",\"type\":\"ColumnDataSource\"},{\"attributes\":{\"data_source\":{\"id\":\"8165\",\"type\":\"ColumnDataSource\"},\"glyph\":{\"id\":\"8168\",\"type\":\"Line\"},\"hover_glyph\":null,\"muted_glyph\":{\"id\":\"8170\",\"type\":\"Line\"},\"nonselection_glyph\":{\"id\":\"8169\",\"type\":\"Line\"},\"selection_glyph\":null,\"view\":{\"id\":\"8172\",\"type\":\"CDSView\"}},\"id\":\"8171\",\"type\":\"GlyphRenderer\"},{\"attributes\":{\"label\":{\"value\":\"Python\"},\"renderers\":[{\"id\":\"8346\",\"type\":\"GlyphRenderer\"}]},\"id\":\"8372\",\"type\":\"LegendItem\"},{\"attributes\":{\"line_color\":\"#1f77b4\",\"line_width\":2,\"x\":{\"field\":\"Created\"},\"y\":{\"field\":\"value\"}},\"id\":\"8135\",\"type\":\"Line\"},{\"attributes\":{\"axis_label\":\"Created\",\"bounds\":\"auto\",\"formatter\":{\"id\":\"8128\",\"type\":\"BasicTickFormatter\"},\"major_label_orientation\":\"horizontal\",\"ticker\":{\"id\":\"8107\",\"type\":\"BasicTicker\"}},\"id\":\"8106\",\"type\":\"LinearAxis\"},{\"attributes\":{},\"id\":\"8374\",\"type\":\"Selection\"},{\"attributes\":{\"line_alpha\":0.2,\"line_color\":\"#ff7f0e\",\"line_width\":2,\"x\":{\"field\":\"Created\"},\"y\":{\"field\":\"value\"}},\"id\":\"8153\",\"type\":\"Line\"},{\"attributes\":{},\"id\":\"8409\",\"type\":\"Selection\"},{\"attributes\":{\"label\":{\"value\":\"C++\"},\"renderers\":[{\"id\":\"8154\",\"type\":\"GlyphRenderer\"}]},\"id\":\"8164\",\"type\":\"LegendItem\"},{\"attributes\":{\"source\":{\"id\":\"8228\",\"type\":\"ColumnDataSource\"}},\"id\":\"8235\",\"type\":\"CDSView\"},{\"attributes\":{},\"id\":\"8404\",\"type\":\"UnionRenderers\"},{\"attributes\":{\"label\":{\"value\":\"C\"},\"renderers\":[{\"id\":\"8138\",\"type\":\"GlyphRenderer\"}]},\"id\":\"8147\",\"type\":\"LegendItem\"},{\"attributes\":{\"label\":{\"value\":\"Fortran\"},\"renderers\":[{\"id\":\"8171\",\"type\":\"GlyphRenderer\"}]},\"id\":\"8183\",\"type\":\"LegendItem\"},{\"attributes\":{\"click_policy\":\"mute\",\"items\":[{\"id\":\"8147\",\"type\":\"LegendItem\"},{\"id\":\"8164\",\"type\":\"LegendItem\"},{\"id\":\"8183\",\"type\":\"LegendItem\"},{\"id\":\"8204\",\"type\":\"LegendItem\"},{\"id\":\"8227\",\"type\":\"LegendItem\"},{\"id\":\"8252\",\"type\":\"LegendItem\"},{\"id\":\"8279\",\"type\":\"LegendItem\"},{\"id\":\"8308\",\"type\":\"LegendItem\"},{\"id\":\"8339\",\"type\":\"LegendItem\"},{\"id\":\"8372\",\"type\":\"LegendItem\"},{\"id\":\"8407\",\"type\":\"LegendItem\"},{\"id\":\"8444\",\"type\":\"LegendItem\"}],\"location\":[0,0]},\"id\":\"8146\",\"type\":\"Legend\"},{\"attributes\":{\"dimension\":1,\"grid_line_color\":null,\"ticker\":{\"id\":\"8112\",\"type\":\"LogTicker\"}},\"id\":\"8115\",\"type\":\"Grid\"},{\"attributes\":{\"source\":{\"id\":\"8165\",\"type\":\"ColumnDataSource\"}},\"id\":\"8172\",\"type\":\"CDSView\"},{\"attributes\":{\"callback\":null,\"data\":{\"Created\":{\"__ndarray__\":\"AAAAAABmn0BVVVVVVWafQKuqqqqqZp9AAAAAAABnn0CrqqqqqmifQAAAAAAAaZ9AVVVVVVVpn0AAAAAAAGqfQFVVVVVVap9Aq6qqqqpqn0AAAAAAAGufQKuqqqqqa59AVVVVVVVsn0AAAAAAAG2fQAAAAAAAbp9AVVVVVVVxn0CrqqqqqnGfQFVVVVVVcp9Aq6qqqqpyn0AAAAAAAHOfQFVVVVVVc59Aq6qqqqpzn0AAAAAAAHSfQFVVVVVVdJ9Aq6qqqqp0n0AAAAAAAHWfQFVVVVVVdZ9Aq6qqqqp1n0AAAAAAAHafQFVVVVVVdp9Aq6qqqqp2n0AAAAAAAHefQFVVVVVVd59Aq6qqqqp3n0AAAAAAAHifQFVVVVVVeJ9Aq6qqqqp4n0AAAAAAAHmfQFVVVVVVeZ9Aq6qqqqp5n0AAAAAAAHqfQFVVVVVVep9Aq6qqqqp6n0AAAAAAAHufQFVVVVVVe59Aq6qqqqp7n0AAAAAAAHyfQFVVVVVVfJ9Aq6qqqqp8n0AAAAAAAH2fQFVVVVVVfZ9Aq6qqqqp9n0AAAAAAAH6fQFVVVVVVfp9Aq6qqqqp+n0AAAAAAAH+fQFVVVVVVf59Aq6qqqqp/n0AAAAAAAICfQFVVVVVVgJ9Aq6qqqqqAn0AAAAAAAIGfQFVVVVVVgZ9Aq6qqqqqBn0AAAAAAAIKfQFVVVVVVgp9Aq6qqqqqCn0AAAAAAAIOfQFVVVVVVg59Aq6qqqqqDn0AAAAAAAISfQFVVVVVVhJ9Aq6qqqqqEn0AAAAAAAIWfQFVVVVVVhZ9Aq6qqqqqFn0AAAAAAAIafQFVVVVVVhp9Aq6qqqqqGn0AAAAAAAIefQFVVVVVVh59Aq6qqqqqHn0AAAAAAAIifQFVVVVVViJ9Aq6qqqqqIn0AAAAAAAImfQFVVVVVViZ9Aq6qqqqqJn0AAAAAAAIqfQFVVVVVVip9Aq6qqqqqKn0AAAAAAAIufQFVVVVVVi59Aq6qqqqqLn0AAAAAAAIyfQFVVVVVVjJ9Aq6qqqqqMn0AAAAAAAI2fQFVVVVVVjZ9Aq6qqqqqNn0AAAAAAAI6fQFVVVVVVjp9Aq6qqqqqOn0AAAAAAAI+fQA==\",\"dtype\":\"float64\",\"shape\":[104]},\"Variable\":[\"C++\",\"C++\",\"C++\",\"C++\",\"C++\",\"C++\",\"C++\",\"C++\",\"C++\",\"C++\",\"C++\",\"C++\",\"C++\",\"C++\",\"C++\",\"C++\",\"C++\",\"C++\",\"C++\",\"C++\",\"C++\",\"C++\",\"C++\",\"C++\",\"C++\",\"C++\",\"C++\",\"C++\",\"C++\",\"C++\",\"C++\",\"C++\",\"C++\",\"C++\",\"C++\",\"C++\",\"C++\",\"C++\",\"C++\",\"C++\",\"C++\",\"C++\",\"C++\",\"C++\",\"C++\",\"C++\",\"C++\",\"C++\",\"C++\",\"C++\",\"C++\",\"C++\",\"C++\",\"C++\",\"C++\",\"C++\",\"C++\",\"C++\",\"C++\",\"C++\",\"C++\",\"C++\",\"C++\",\"C++\",\"C++\",\"C++\",\"C++\",\"C++\",\"C++\",\"C++\",\"C++\",\"C++\",\"C++\",\"C++\",\"C++\",\"C++\",\"C++\",\"C++\",\"C++\",\"C++\",\"C++\",\"C++\",\"C++\",\"C++\",\"C++\",\"C++\",\"C++\",\"C++\",\"C++\",\"C++\",\"C++\",\"C++\",\"C++\",\"C++\",\"C++\",\"C++\",\"C++\",\"C++\",\"C++\",\"C++\",\"C++\",\"C++\",\"C++\",\"C++\"],\"value\":[0,0,1,1,1,1,1,1,1,1,1,2,2,2,2,2,2,2,3,3,3,4,4,4,4,4,4,5,7,8,8,9,9,9,10,11,11,12,12,13,13,13,15,16,18,18,23,26,30,31,33,36,37,39,42,43,44,49,52,53,53,57,59,61,66,73,77,78,84,85,98,103,116,124,138,151,168,188,201,211,225,233,244,255,276,293,311,322,332,343,351,358,373,385,402,411,433,462,479,505,524,558,583,584]},\"selected\":{\"id\":\"8149\",\"type\":\"Selection\"},\"selection_policy\":{\"id\":\"8180\",\"type\":\"UnionRenderers\"}},\"id\":\"8148\",\"type\":\"ColumnDataSource\"}],\"root_ids\":[\"8097\"]},\"title\":\"Bokeh Application\",\"version\":\"1.2.0\"}};\n",
       "  var render_items = [{\"docid\":\"61f8629c-530a-4537-b3f2-17f3f40febc3\",\"roots\":{\"8097\":\"4f71fd33-9172-45cd-99e1-29fb132021f8\"}}];\n",
       "  root.Bokeh.embed.embed_items_notebook(docs_json, render_items);\n",
       "\n",
       "  }\n",
       "  if (root.Bokeh !== undefined) {\n",
       "    embed_document(root);\n",
       "  } else {\n",
       "    var attempts = 0;\n",
       "    var timer = setInterval(function(root) {\n",
       "      if (root.Bokeh !== undefined) {\n",
       "        embed_document(root);\n",
       "        clearInterval(timer);\n",
       "      }\n",
       "      attempts++;\n",
       "      if (attempts > 100) {\n",
       "        console.log(\"Bokeh: ERROR: Unable to run BokehJS code because BokehJS library is missing\");\n",
       "        clearInterval(timer);\n",
       "      }\n",
       "    }, 10, root)\n",
       "  }\n",
       "})(window);</script>"
      ],
      "text/plain": [
       ":NdOverlay   [Variable]\n",
       "   :Curve   [Created]   (value)"
      ]
     },
     "execution_count": 38,
     "metadata": {
      "application/vnd.holoviews_exec.v0+json": {
       "id": "8097"
      }
     },
     "output_type": "execute_result"
    }
   ],
   "source": [
    "piv = pd.pivot_table(top_trends.reset_index(),values='ChE GitHub Projects', index=['Created'],columns=['Language'], aggfunc=sum, fill_value=0).cumsum()\n",
    "\n",
    "piv.hvplot(width=600,height=300,xlim=(2014,2020),ylim=(10,3000),logy=True)"
   ]
  },
  {
   "cell_type": "code",
   "execution_count": null,
   "metadata": {},
   "outputs": [],
   "source": []
  },
  {
   "cell_type": "code",
   "execution_count": null,
   "metadata": {},
   "outputs": [],
   "source": []
  }
 ],
 "metadata": {
  "kernelspec": {
   "display_name": "Python 3",
   "language": "python",
   "name": "python3"
  },
  "language_info": {
   "codemirror_mode": {
    "name": "ipython",
    "version": 3
   },
   "file_extension": ".py",
   "mimetype": "text/x-python",
   "name": "python",
   "nbconvert_exporter": "python",
   "pygments_lexer": "ipython3",
   "version": "3.7.3"
  }
 },
 "nbformat": 4,
 "nbformat_minor": 4
}
